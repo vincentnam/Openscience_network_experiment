{
 "cells": [
  {
   "cell_type": "code",
   "execution_count": 44,
   "id": "initial_id",
   "metadata": {
    "collapsed": true,
    "ExecuteTime": {
     "end_time": "2023-09-18T14:47:07.554715362Z",
     "start_time": "2023-09-18T14:47:07.544919242Z"
    }
   },
   "outputs": [
    {
     "data": {
      "text/plain": "           lang langType\n0            af       af\n1         af-NA       af\n2         af-ZA       af\n3           agq      agq\n4        agq-CM      agq\n..          ...      ...\n785  zh-Hant-HK       zh\n786  zh-Hant-MO       zh\n787  zh-Hant-TW       zh\n788          zu       zu\n789       zu-ZA       zu\n\n[790 rows x 2 columns]",
      "text/html": "<div>\n<style scoped>\n    .dataframe tbody tr th:only-of-type {\n        vertical-align: middle;\n    }\n\n    .dataframe tbody tr th {\n        vertical-align: top;\n    }\n\n    .dataframe thead th {\n        text-align: right;\n    }\n</style>\n<table border=\"1\" class=\"dataframe\">\n  <thead>\n    <tr style=\"text-align: right;\">\n      <th></th>\n      <th>lang</th>\n      <th>langType</th>\n    </tr>\n  </thead>\n  <tbody>\n    <tr>\n      <th>0</th>\n      <td>af</td>\n      <td>af</td>\n    </tr>\n    <tr>\n      <th>1</th>\n      <td>af-NA</td>\n      <td>af</td>\n    </tr>\n    <tr>\n      <th>2</th>\n      <td>af-ZA</td>\n      <td>af</td>\n    </tr>\n    <tr>\n      <th>3</th>\n      <td>agq</td>\n      <td>agq</td>\n    </tr>\n    <tr>\n      <th>4</th>\n      <td>agq-CM</td>\n      <td>agq</td>\n    </tr>\n    <tr>\n      <th>...</th>\n      <td>...</td>\n      <td>...</td>\n    </tr>\n    <tr>\n      <th>785</th>\n      <td>zh-Hant-HK</td>\n      <td>zh</td>\n    </tr>\n    <tr>\n      <th>786</th>\n      <td>zh-Hant-MO</td>\n      <td>zh</td>\n    </tr>\n    <tr>\n      <th>787</th>\n      <td>zh-Hant-TW</td>\n      <td>zh</td>\n    </tr>\n    <tr>\n      <th>788</th>\n      <td>zu</td>\n      <td>zu</td>\n    </tr>\n    <tr>\n      <th>789</th>\n      <td>zu-ZA</td>\n      <td>zu</td>\n    </tr>\n  </tbody>\n</table>\n<p>790 rows × 2 columns</p>\n</div>"
     },
     "execution_count": 44,
     "metadata": {},
     "output_type": "execute_result"
    }
   ],
   "source": [
    "import pandas as pd\n",
    "\n",
    "IETF = pd.read_csv(\"ISO639-1,ISO639-2,IETFLanguageType/ietf-language-tags.csv\")[[\"lang\",\"langType\"]]\n",
    "IETF\n"
   ]
  },
  {
   "cell_type": "code",
   "execution_count": 45,
   "outputs": [
    {
     "data": {
      "text/plain": "    alpha2         English\n0       aa            Afar\n1       ab       Abkhazian\n2       ae         Avestan\n3       af       Afrikaans\n4       ak            Akan\n..     ...             ...\n179     yi         Yiddish\n180     yo          Yoruba\n181     za  Zhuang; Chuang\n182     zh         Chinese\n183     zu            Zulu\n\n[184 rows x 2 columns]",
      "text/html": "<div>\n<style scoped>\n    .dataframe tbody tr th:only-of-type {\n        vertical-align: middle;\n    }\n\n    .dataframe tbody tr th {\n        vertical-align: top;\n    }\n\n    .dataframe thead th {\n        text-align: right;\n    }\n</style>\n<table border=\"1\" class=\"dataframe\">\n  <thead>\n    <tr style=\"text-align: right;\">\n      <th></th>\n      <th>alpha2</th>\n      <th>English</th>\n    </tr>\n  </thead>\n  <tbody>\n    <tr>\n      <th>0</th>\n      <td>aa</td>\n      <td>Afar</td>\n    </tr>\n    <tr>\n      <th>1</th>\n      <td>ab</td>\n      <td>Abkhazian</td>\n    </tr>\n    <tr>\n      <th>2</th>\n      <td>ae</td>\n      <td>Avestan</td>\n    </tr>\n    <tr>\n      <th>3</th>\n      <td>af</td>\n      <td>Afrikaans</td>\n    </tr>\n    <tr>\n      <th>4</th>\n      <td>ak</td>\n      <td>Akan</td>\n    </tr>\n    <tr>\n      <th>...</th>\n      <td>...</td>\n      <td>...</td>\n    </tr>\n    <tr>\n      <th>179</th>\n      <td>yi</td>\n      <td>Yiddish</td>\n    </tr>\n    <tr>\n      <th>180</th>\n      <td>yo</td>\n      <td>Yoruba</td>\n    </tr>\n    <tr>\n      <th>181</th>\n      <td>za</td>\n      <td>Zhuang; Chuang</td>\n    </tr>\n    <tr>\n      <th>182</th>\n      <td>zh</td>\n      <td>Chinese</td>\n    </tr>\n    <tr>\n      <th>183</th>\n      <td>zu</td>\n      <td>Zulu</td>\n    </tr>\n  </tbody>\n</table>\n<p>184 rows × 2 columns</p>\n</div>"
     },
     "execution_count": 45,
     "metadata": {},
     "output_type": "execute_result"
    }
   ],
   "source": [
    "lang_code=pd.read_csv(\"ISO639-1,ISO639-2,IETFLanguageType/language-codes.csv\")\n",
    "lang_code"
   ],
   "metadata": {
    "collapsed": false,
    "ExecuteTime": {
     "end_time": "2023-09-18T14:47:08.676910932Z",
     "start_time": "2023-09-18T14:47:08.664846501Z"
    }
   },
   "id": "43712962ca9a1976"
  },
  {
   "cell_type": "code",
   "execution_count": 46,
   "outputs": [
    {
     "data": {
      "text/plain": "           lang alpha2    English\n0            af     af  Afrikaans\n1         af-NA     af  Afrikaans\n2         af-ZA     af  Afrikaans\n3            ak     ak       Akan\n4         ak-GH     ak       Akan\n..          ...    ...        ...\n605  zh-Hant-HK     zh    Chinese\n606  zh-Hant-MO     zh    Chinese\n607  zh-Hant-TW     zh    Chinese\n608          zu     zu       Zulu\n609       zu-ZA     zu       Zulu\n\n[610 rows x 3 columns]",
      "text/html": "<div>\n<style scoped>\n    .dataframe tbody tr th:only-of-type {\n        vertical-align: middle;\n    }\n\n    .dataframe tbody tr th {\n        vertical-align: top;\n    }\n\n    .dataframe thead th {\n        text-align: right;\n    }\n</style>\n<table border=\"1\" class=\"dataframe\">\n  <thead>\n    <tr style=\"text-align: right;\">\n      <th></th>\n      <th>lang</th>\n      <th>alpha2</th>\n      <th>English</th>\n    </tr>\n  </thead>\n  <tbody>\n    <tr>\n      <th>0</th>\n      <td>af</td>\n      <td>af</td>\n      <td>Afrikaans</td>\n    </tr>\n    <tr>\n      <th>1</th>\n      <td>af-NA</td>\n      <td>af</td>\n      <td>Afrikaans</td>\n    </tr>\n    <tr>\n      <th>2</th>\n      <td>af-ZA</td>\n      <td>af</td>\n      <td>Afrikaans</td>\n    </tr>\n    <tr>\n      <th>3</th>\n      <td>ak</td>\n      <td>ak</td>\n      <td>Akan</td>\n    </tr>\n    <tr>\n      <th>4</th>\n      <td>ak-GH</td>\n      <td>ak</td>\n      <td>Akan</td>\n    </tr>\n    <tr>\n      <th>...</th>\n      <td>...</td>\n      <td>...</td>\n      <td>...</td>\n    </tr>\n    <tr>\n      <th>605</th>\n      <td>zh-Hant-HK</td>\n      <td>zh</td>\n      <td>Chinese</td>\n    </tr>\n    <tr>\n      <th>606</th>\n      <td>zh-Hant-MO</td>\n      <td>zh</td>\n      <td>Chinese</td>\n    </tr>\n    <tr>\n      <th>607</th>\n      <td>zh-Hant-TW</td>\n      <td>zh</td>\n      <td>Chinese</td>\n    </tr>\n    <tr>\n      <th>608</th>\n      <td>zu</td>\n      <td>zu</td>\n      <td>Zulu</td>\n    </tr>\n    <tr>\n      <th>609</th>\n      <td>zu-ZA</td>\n      <td>zu</td>\n      <td>Zulu</td>\n    </tr>\n  </tbody>\n</table>\n<p>610 rows × 3 columns</p>\n</div>"
     },
     "execution_count": 46,
     "metadata": {},
     "output_type": "execute_result"
    }
   ],
   "source": [
    "merge = IETF.merge(lang_code,left_on=\"langType\",right_on=\"alpha2\")\n",
    "if (merge[\"langType\"] == merge[\"alpha2\"]).all() : \n",
    "    merge = merge.drop(\"langType\",axis=1)\n",
    "merge\n",
    "# pd.concat(IETF,lang_code)"
   ],
   "metadata": {
    "collapsed": false,
    "ExecuteTime": {
     "end_time": "2023-09-18T14:47:09.668957708Z",
     "start_time": "2023-09-18T14:47:09.652760194Z"
    }
   },
   "id": "ccd02836151bfd56"
  },
  {
   "cell_type": "code",
   "execution_count": 47,
   "outputs": [],
   "source": [
    "pd.read_csv(\"ISO639-1,ISO639-2,IETFLanguageType/language-codes-full.csv\").merge(merge,how=\"outer\").to_csv(\"../../language_sem_models.csv\", index=False)"
   ],
   "metadata": {
    "collapsed": false,
    "ExecuteTime": {
     "end_time": "2023-09-18T14:47:10.899283706Z",
     "start_time": "2023-09-18T14:47:10.887538461Z"
    }
   },
   "id": "104affabef3ca78e"
  }
 ],
 "metadata": {
  "kernelspec": {
   "display_name": "Python 3",
   "language": "python",
   "name": "python3"
  },
  "language_info": {
   "codemirror_mode": {
    "name": "ipython",
    "version": 2
   },
   "file_extension": ".py",
   "mimetype": "text/x-python",
   "name": "python",
   "nbconvert_exporter": "python",
   "pygments_lexer": "ipython2",
   "version": "2.7.6"
  }
 },
 "nbformat": 4,
 "nbformat_minor": 5
}
