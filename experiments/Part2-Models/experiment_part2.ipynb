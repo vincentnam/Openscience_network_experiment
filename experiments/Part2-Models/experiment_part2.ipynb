{
 "cells": [
  {
   "cell_type": "markdown",
   "source": [
    "# Scenario : \n",
    "\n",
    "All metadata are stored in the same database to simplify experiments (MongoDB database, after a file format transformation)\n",
    "- Title (contains : \"Summary\",\"Register\",\"Note\",\"Example\",\"Test\",\"Sample\")\n",
    "- spatialextents\n",
    "- Unit of measure\n",
    "- language (usage of vocabularies / semantics models)\n",
    "- Contact name"
   ],
   "metadata": {
    "collapsed": false
   },
   "id": "ea257f2dc3669406"
  },
  {
   "cell_type": "code",
   "execution_count": 206,
   "id": "initial_id",
   "metadata": {
    "collapsed": true,
    "ExecuteTime": {
     "end_time": "2023-09-18T15:47:58.823101325Z",
     "start_time": "2023-09-18T15:47:58.782098080Z"
    }
   },
   "outputs": [],
   "source": [
    "import pandas as pd\n",
    "import warnings\n",
    "from pprint import pprint\n",
    "from pymongo import MongoClient\n",
    "import ast \n",
    "import re\n",
    "warnings.filterwarnings('ignore')\n",
    "\n",
    "\n",
    "struct_matches = pd.read_csv(\"struct_matchings_list.csv\")\n",
    "\n"
   ]
  },
  {
   "cell_type": "markdown",
   "source": [
    "# Title"
   ],
   "metadata": {
    "collapsed": false
   },
   "id": "f9ecca43a752bd30"
  },
  {
   "cell_type": "code",
   "execution_count": 207,
   "outputs": [],
   "source": [
    "# Model used : AERIS -> key = \"resourceTitle.en\"\n",
    "# Request construction : \n",
    "\n",
    "model = \"AERIS\"\n",
    "key = \"resourceTitle.en\"\n",
    "# print(struct_matches[struct_matches[\"model_A\"].apply(lambda x : ast.literal_eval(x)[\"model_A\"][0]==\"AERIS\"  )    ])\n",
    "\n",
    "model_all_lines = (        struct_matches[(struct_matches[\"model_A\"].apply(lambda x : ast.literal_eval(x)[0] == model )) | (struct_matches[\"model_B\"].apply(lambda x : ast.literal_eval(x)[0] == model)) ]                            ) \n",
    "\n",
    "matches = (        struct_matches[(struct_matches[\"model_A\"].apply(lambda x : ast.literal_eval(x)[1] == key )) | (struct_matches[\"model_B\"].apply(lambda x : ast.literal_eval(x)[1] == key)) ]                            ) \n",
    "\n",
    "matches[\"model_A\"] = matches[\"model_A\"].apply(lambda x : ast.literal_eval(x))\n",
    "matches[\"model_B\"] = matches[\"model_B\"].apply(lambda x : ast.literal_eval(x))\n",
    "\n",
    "\n",
    "list_of_matches = set(  list(matches[\"model_A\"]) + list(matches[\"model_B\"]) )"
   ],
   "metadata": {
    "collapsed": false,
    "ExecuteTime": {
     "end_time": "2023-09-18T15:47:59.075236316Z",
     "start_time": "2023-09-18T15:47:59.070239498Z"
    }
   },
   "id": "6f14fd002a523330"
  },
  {
   "cell_type": "code",
   "execution_count": 208,
   "outputs": [
    {
     "name": "stdout",
     "output_type": "stream",
     "text": [
      "{'SDMX': [{'data': {'structures': [{'annotations': [{'title': 'Sample observation annotation title'}]}]}}, {'data': {'structures': [{'annotations': [{'title': 'Sample series annotation title'}]}]}}, {'data': {'structures': [{'annotations': [{'title': 'Sample series annotation title'}, {'title': 'Sample observation annotation title'}]}]}}], 'EngMeta': [{'dataset': {'title': {'@value': 'This Is An English Testtitle'}}}], 'FHIR': [{'meta': {'extension': [{'valueString': 'HL7East Example'}, {}]}}], 'SensorML': [{'SimpleProcess': {'name': {'@value': 'Sensor Model Test'}}}], 'C-CDA': [{'ClinicalDocument': {'title': {'@value': 'Consultation Note'}}}, {'ClinicalDocument': {'title': {'@value': 'Community Health and Hospitals: Health Summary'}}}], 'DDI': [], 'PREMIS': [], 'TEI': [], 'DublinCore': [], 'e-GMS': [], 'DataCite': [{'resource': {'titles': {'title': {'@value': ['Full DataCite XML Example', 'Demonstration of DataCite Properties.']}}}}], 'PDB': [], 'AERIS': [], 'DarwinCore': [{'datasetName': 'Royal Botanic Gardens Herbarium Specimen Register'}], 'OLAC': [], 'ISO19115': []}\n"
     ]
    }
   ],
   "source": [
    "\n",
    "\n",
    "\n",
    "# Request on title that contains one of the following words (\"Summary|Register|Note|Example|Test|Sample\")\n",
    "\n",
    "client = MongoClient(\"localhost:27017\")\n",
    "results = {}\n",
    "for i in list_of_matches :\n",
    "    model = i[0]\n",
    "    key = i[1]\n",
    "    results[model]= list(client[model].interop_metadata.find({key:{\"$regex\":\"Summary|Register|Note|Example|Test|Sample\"}},{key:1,\"_id\":0}))\n",
    "\n",
    "print(results)"
   ],
   "metadata": {
    "collapsed": false,
    "ExecuteTime": {
     "end_time": "2023-09-18T15:47:59.247141729Z",
     "start_time": "2023-09-18T15:47:59.205363479Z"
    }
   },
   "id": "6a889aff17dcc426"
  },
  {
   "cell_type": "markdown",
   "source": [
    "# Spatial extents"
   ],
   "metadata": {
    "collapsed": false
   },
   "id": "96d78c03587ab20e"
  },
  {
   "cell_type": "code",
   "execution_count": 209,
   "outputs": [
    {
     "name": "stdout",
     "output_type": "stream",
     "text": [
      "{'AERIS': [{'spatialExtents': [{'area': {'latitude': 43.6855}}]},\n",
      "           {'spatialExtents': [{'area': {'latitude': 14.394}}]},\n",
      "           {'spatialExtents': [{'area': {'latitude': 48.709}}]},\n",
      "           {'spatialExtents': [{'area': {'latitude': 48.709}}]},\n",
      "           {'spatialExtents': [{'area': {'latitude': 43.93}}]},\n",
      "           {'spatialExtents': [{'area': {}},\n",
      "                               {'area': {'latitude': 35.86}},\n",
      "                               {'area': {'latitude': 37.96}},\n",
      "                               {'area': {'latitude': 41.393}},\n",
      "                               {'area': {'latitude': 51.834999}},\n",
      "                               {'area': {'latitude': 38.5678}},\n",
      "                               {'area': {'latitude': 37.164}},\n",
      "                               {'area': {'latitude': 47.8019}},\n",
      "                               {'area': {'latitude': 44.348}},\n",
      "                               {'area': {'latitude': 62.7333}},\n",
      "                               {'area': {'latitude': 51.35}},\n",
      "                               {'area': {'latitude': 50.6117}},\n",
      "                               {'area': {'latitude': 40.6}},\n",
      "                               {'area': {'latitude': 45.761444}},\n",
      "                               {'area': {'latitude': 41.833}},\n",
      "                               {'area': {'latitude': 40.333}},\n",
      "                               {'area': {'latitude': 48.713}},\n",
      "                               {'area': {'latitude': 42.65}},\n",
      "                               {'area': {'latitude': 40.63}},\n",
      "                               {'area': {'latitude': 52.21}}]},\n",
      "           {'spatialExtents': [{'area': {'latitude': 43.13}}]},\n",
      "           {'spatialExtents': [{'area': {'latitude': 48.709}}]},\n",
      "           {'spatialExtents': [{'area': {'latitude': 48.709}}]}],\n",
      " 'CoverageJSON': [{'domain': {'axes': {'y': {'start': -89.5}}}}],\n",
      " 'DarwinCore': [{'decimalLatitude': -31.648426},\n",
      "                {'decimalLatitude': 18.357355},\n",
      "                {'decimalLatitude': 44.63077},\n",
      "                {'decimalLatitude': 45.05107},\n",
      "                {'decimalLatitude': 49.57273},\n",
      "                {'decimalLatitude': 18.448144},\n",
      "                {'decimalLatitude': 36.805031},\n",
      "                {'decimalLatitude': 46.301055},\n",
      "                {'decimalLatitude': 48.43717},\n",
      "                {'decimalLatitude': -37.05},\n",
      "                {'decimalLatitude': 18.44883},\n",
      "                {'decimalLatitude': 18.459359},\n",
      "                {'decimalLatitude': 45.00457}],\n",
      " 'DataCite': [],\n",
      " 'FHIR': [{'position': {'latitude': 42.373222}}]}\n"
     ]
    }
   ],
   "source": [
    "\n",
    "\n",
    "model = \"DarwinCore\"\n",
    "key = \"decimalLatitude\"\n",
    "# print(struct_matches[struct_matches[\"model_A\"].apply(lambda x : ast.literal_eval(x)[\"model_A\"][0]==\"AERIS\"  )    ])\n",
    "\n",
    "model_all_lines = (        struct_matches[(struct_matches[\"model_A\"].apply(lambda x : ast.literal_eval(x)[0] == model )) | (struct_matches[\"model_B\"].apply(lambda x : ast.literal_eval(x)[0] == model)) ]                            ) \n",
    "\n",
    "matches = (        struct_matches[(struct_matches[\"model_A\"].apply(lambda x : ast.literal_eval(x)[1] == key )) | (struct_matches[\"model_B\"].apply(lambda x : ast.literal_eval(x)[1] == key)) ]                            ) \n",
    "\n",
    "matches[\"model_A\"] = matches[\"model_A\"].apply(lambda x : ast.literal_eval(x))\n",
    "matches[\"model_B\"] = matches[\"model_B\"].apply(lambda x : ast.literal_eval(x))\n",
    "\n",
    "\n",
    "list_of_matches_lati = set(  list(matches[\"model_A\"]) + list(matches[\"model_B\"]) )\n",
    "# print(list_of_matches_lati)\n",
    "\n",
    "\n",
    "\n",
    "# Request on position (for the example, it returns everything possible) \n",
    "\n",
    "client = MongoClient(\"localhost:27017\")\n",
    "results = {}\n",
    "for i in list_of_matches_lati :\n",
    "    model = i[0]\n",
    "    key = i[1]\n",
    "    results[model]= list(client[model].interop_metadata.find({key:{\"$lte\":50}},{key:1,\"_id\":0}))\n",
    "\n",
    "pprint(results)"
   ],
   "metadata": {
    "collapsed": false,
    "ExecuteTime": {
     "end_time": "2023-09-18T15:47:59.514746698Z",
     "start_time": "2023-09-18T15:47:59.502845156Z"
    }
   },
   "id": "9982aab48f3ab213"
  },
  {
   "cell_type": "markdown",
   "source": [
    "# Unit of measure\n",
    "\n",
    "Research of temperature dataset"
   ],
   "metadata": {
    "collapsed": false
   },
   "id": "a0cff3b47c08d712"
  },
  {
   "cell_type": "code",
   "execution_count": 210,
   "outputs": [
    {
     "name": "stdout",
     "output_type": "stream",
     "text": [
      "{'AERIS': [{'parameterSet': [{'uom': 'meters per second'},\n",
      "                             {'uom': 'Degrees Celsius'},\n",
      "                             {'uom': 'grams per kilogram'},\n",
      "                             {'uom': 'millibars'},\n",
      "                             {'uom': 'degrees'}]},\n",
      "           {'parameterSet': [{'uom': 'meter per second'},\n",
      "                             {'uom': 'percent'},\n",
      "                             {'uom': 'meter per second'},\n",
      "                             {'uom': 'Watt per square meter'},\n",
      "                             {'uom': 'Watt per square meter'},\n",
      "                             {'uom': 'Watt per square meter'},\n",
      "                             {'uom': 'cubic meter per cubic meter'},\n",
      "                             {'uom': 'meter per second'},\n",
      "                             {'uom': ''},\n",
      "                             {'uom': 'Degrees Celsius'},\n",
      "                             {'uom': 'Degrees Celsius'},\n",
      "                             {'uom': 'meter per second'},\n",
      "                             {'uom': 'hecto Pascal'},\n",
      "                             {'uom': 'millimeter'},\n",
      "                             {'uom': 'Watt per square meter'},\n",
      "                             {'uom': 'meter per second'}]}],\n",
      " 'C-CDA': [],\n",
      " 'EngMeta': [{'dataset': {'measuredVariable': {'unit': {'@value': ['Celsius',\n",
      "                                                                   'm/s']}}}}],\n",
      " 'SensorML': []}\n"
     ]
    }
   ],
   "source": [
    "\n",
    "model = \"EngMeta\"\n",
    "key = \"dataset.measuredVariable.unit.@value\"\n",
    "# print(struct_matches[struct_matches[\"model_A\"].apply(lambda x : ast.literal_eval(x)[\"model_A\"][0]==\"AERIS\"  )    ])\n",
    "\n",
    "model_all_lines = (        struct_matches[(struct_matches[\"model_A\"].apply(lambda x : ast.literal_eval(x)[0] == model )) | (struct_matches[\"model_B\"].apply(lambda x : ast.literal_eval(x)[0] == model)) ]                            ) \n",
    "\n",
    "matches = (        struct_matches[(struct_matches[\"model_A\"].apply(lambda x : ast.literal_eval(x)[1] == key )) | (struct_matches[\"model_B\"].apply(lambda x : ast.literal_eval(x)[1] == key)) ]                            ) \n",
    "\n",
    "matches[\"model_A\"] = matches[\"model_A\"].apply(lambda x : ast.literal_eval(x))\n",
    "matches[\"model_B\"] = matches[\"model_B\"].apply(lambda x : ast.literal_eval(x))\n",
    "\n",
    "\n",
    "list_of_matches_lati = set(  list(matches[\"model_A\"]) + list(matches[\"model_B\"]) )\n",
    "# print(list_of_matches_lati)\n",
    "\n",
    "\n",
    "\n",
    "# Request on position (for the example, it returns everything possible) \n",
    "\n",
    "client = MongoClient(\"localhost:27017\")\n",
    "results = {}\n",
    "for i in list_of_matches_lati :\n",
    "    model = i[0]\n",
    "    key = i[1]\n",
    "    results[model]= list(client[model].interop_metadata.find({key:{\"$regex\":re.compile('Celsius', re.IGNORECASE)}},{key:1,\"_id\":0}))\n",
    "pprint(results)"
   ],
   "metadata": {
    "collapsed": false,
    "ExecuteTime": {
     "end_time": "2023-09-18T15:47:59.793082418Z",
     "start_time": "2023-09-18T15:47:59.779429425Z"
    }
   },
   "id": "2e1d37fc3fffdbb8"
  },
  {
   "cell_type": "markdown",
   "source": [
    "# Language\n",
    "\n",
    "2 language : english and french"
   ],
   "metadata": {
    "collapsed": false
   },
   "id": "248fcaf437365594"
  },
  {
   "cell_type": "code",
   "execution_count": 211,
   "outputs": [],
   "source": [
    "# Get semantic language values / language code from ISO and IETF standard\n",
    "\n",
    "language_codes = pd.read_csv(\"language_sem_models.csv\")\n",
    "\n"
   ],
   "metadata": {
    "collapsed": false,
    "ExecuteTime": {
     "end_time": "2023-09-18T15:48:00.244649388Z",
     "start_time": "2023-09-18T15:48:00.236051006Z"
    }
   },
   "id": "a68fafcbe8d94183"
  },
  {
   "cell_type": "code",
   "execution_count": 217,
   "outputs": [
    {
     "data": {
      "text/plain": "{'EngMeta': [],\n 'DublinCore': [{'metadata': {'description': {'lang': 'fr'}}}],\n 'ISO19115': [{'MD_Metadata': {'language': {'LanguageCode': {'codeListValue': 'fre'}}}}],\n 'OLAC': [],\n 'AERIS': [],\n 'e-GMS': [],\n 'C-CDA': [],\n 'DDI': [],\n 'DataCite': [],\n 'SDMX': [],\n 'DarwinCore': []}"
     },
     "execution_count": 217,
     "metadata": {},
     "output_type": "execute_result"
    }
   ],
   "source": [
    "\n",
    "\n",
    "model = \"ISO19115\"\n",
    "key = \"MD_Metadata.language.LanguageCode.codeListValue\"\n",
    "\n",
    "operand = language_codes.iloc[language_codes[(language_codes==\"en\")].dropna(axis=0, how=\"all\").index]\n",
    "\n",
    "\n",
    "\n",
    "model_all_lines = (        struct_matches[(struct_matches[\"model_A\"].apply(lambda x : ast.literal_eval(x)[0] == model )) | (struct_matches[\"model_B\"].apply(lambda x : ast.literal_eval(x)[0] == model)) ]                            ) \n",
    "\n",
    "matches = (        struct_matches[(struct_matches[\"model_A\"].apply(lambda x : ast.literal_eval(x)[1] == key )) | (struct_matches[\"model_B\"].apply(lambda x : ast.literal_eval(x)[1] == key)) ]                            ) \n",
    "\n",
    "matches[\"model_A\"] = matches[\"model_A\"].apply(lambda x : ast.literal_eval(x))\n",
    "matches[\"model_B\"] = matches[\"model_B\"].apply(lambda x : ast.literal_eval(x))\n",
    "\n",
    "\n",
    "list_of_matches_lati = set(  list(matches[\"model_A\"]) + list(matches[\"model_B\"]) )\n",
    "\n",
    "# Used english word for french language\n",
    "val=language_codes.iloc[language_codes[(language_codes==\"French\")].dropna(axis=0, how=\"all\").index]\n",
    "list_of_code = []\n",
    "for i in val :\n",
    "    list_of_code += list(val[i].unique())\n",
    "\n",
    "list_of_code = [x for x in list_of_code if not pd.isna(x)]\n",
    "operand = \"|\".join(list_of_code)\n",
    "\n",
    "\n",
    "client = MongoClient(\"localhost:27017\")\n",
    "results = {}\n",
    "for i in list_of_matches_lati :\n",
    "    model = i[0]\n",
    "    key = i[1]\n",
    "    results[model]= list(client[model].interop_metadata.find({key:{\"$in\":list_of_code}},{key:1,\"_id\":0}))\n",
    "\n",
    "results\n"
   ],
   "metadata": {
    "collapsed": false,
    "ExecuteTime": {
     "end_time": "2023-09-19T08:52:44.338872105Z",
     "start_time": "2023-09-19T08:52:44.296246710Z"
    }
   },
   "id": "247eea807f8a3be1"
  },
  {
   "cell_type": "code",
   "execution_count": 213,
   "outputs": [
    {
     "data": {
      "text/plain": "{'EngMeta': [{'dataset': {'description': {'lang': 'en'}}}],\n 'DublinCore': [],\n 'ISO19115': [],\n 'OLAC': [{'olac': {'language': {'code': 'en'}}}],\n 'AERIS': [{'language': 'en'},\n  {'language': 'en'},\n  {'language': 'en'},\n  {'language': 'en'},\n  {'language': 'en'},\n  {'language': 'en'},\n  {'language': 'en'},\n  {'language': 'en'},\n  {'language': 'en'},\n  {'language': 'en'},\n  {'language': 'en'},\n  {'language': 'en'},\n  {'language': 'en'},\n  {'language': 'en'},\n  {'language': 'en'},\n  {'language': 'en'},\n  {'language': 'en'},\n  {'language': 'en'},\n  {'language': 'en'},\n  {'language': 'en'}],\n 'e-GMS': [],\n 'C-CDA': [{'ClinicalDocument': {'languageCode': {'code': 'en-US'}}},\n  {'ClinicalDocument': {'languageCode': {'code': 'en-US'}}}],\n 'DDI': [{'FragmentInstance': {'Fragment': {'DataCollection': {'DataCollectionModuleName': {'String': {'lang': 'en-US'}}}}}}],\n 'DataCite': [{'resource': {'language': {'@value': 'en-US'}}}],\n 'SDMX': [{'meta': {'contentLanguages': ['en']}},\n  {'meta': {'contentLanguages': ['en', 'fr-fr']}},\n  {'meta': {'contentLanguages': ['en']}},\n  {'meta': {'contentLanguages': ['en', 'fr-fr']}},\n  {'meta': {'contentLanguages': ['en']}},\n  {'meta': {'contentLanguages': ['en']}},\n  {'meta': {'contentLanguages': ['en']}},\n  {'meta': {'contentLanguages': ['en']}},\n  {'meta': {'contentLanguages': ['en']}}],\n 'DarwinCore': [{'language': 'en'},\n  {'language': 'en'},\n  {'language': 'en'},\n  {'language': 'en'},\n  {'language': 'en'},\n  {'language': 'en'}]}"
     },
     "execution_count": 213,
     "metadata": {},
     "output_type": "execute_result"
    }
   ],
   "source": [
    "list_of_code\n",
    "\n",
    "model = \"SDMX\"\n",
    "key = \"meta.contentLanguages\"\n",
    "\n",
    "operand = language_codes.iloc[language_codes[(language_codes==\"en\")].dropna(axis=0, how=\"all\").index]\n",
    "\n",
    "\n",
    "\n",
    "model_all_lines = (        struct_matches[(struct_matches[\"model_A\"].apply(lambda x : ast.literal_eval(x)[0] == model )) | (struct_matches[\"model_B\"].apply(lambda x : ast.literal_eval(x)[0] == model)) ]                            ) \n",
    "\n",
    "matches = (        struct_matches[(struct_matches[\"model_A\"].apply(lambda x : ast.literal_eval(x)[1] == key )) | (struct_matches[\"model_B\"].apply(lambda x : ast.literal_eval(x)[1] == key)) ]                            ) \n",
    "\n",
    "matches[\"model_A\"] = matches[\"model_A\"].apply(lambda x : ast.literal_eval(x))\n",
    "matches[\"model_B\"] = matches[\"model_B\"].apply(lambda x : ast.literal_eval(x))\n",
    "\n",
    "\n",
    "list_of_matches_lati = set(  list(matches[\"model_A\"]) + list(matches[\"model_B\"]) )\n",
    "\n",
    "# Used french english word \"anglais\" for the research \n",
    "\n",
    "\n",
    "val=language_codes.iloc[language_codes[(language_codes==\"anglais\")].dropna(axis=0, how=\"all\").index]\n",
    "list_of_code = []\n",
    "for i in val :\n",
    "    list_of_code += list(val[i].unique())\n",
    "\n",
    "list_of_code = [x for x in list_of_code if not pd.isna(x)]\n",
    "operand = \"|\".join(list_of_code)\n",
    "\n",
    "\n",
    "client = MongoClient(\"localhost:27017\")\n",
    "results = {}\n",
    "for i in list_of_matches_lati :\n",
    "    model = i[0]\n",
    "    key = i[1]\n",
    "    results[model]= list(client[model].interop_metadata.find({key:{\"$in\":list_of_code}},{key:1,\"_id\":0}))\n",
    "\n",
    "results\n",
    "\n"
   ],
   "metadata": {
    "collapsed": false,
    "ExecuteTime": {
     "end_time": "2023-09-18T15:48:01.425082853Z",
     "start_time": "2023-09-18T15:48:01.388880626Z"
    }
   },
   "id": "1dc83d653e123ac4"
  },
  {
   "cell_type": "markdown",
   "source": [
    "# Contact name\n",
    "Search for \"François\" "
   ],
   "metadata": {
    "collapsed": false
   },
   "id": "6dc06892fe31faf7"
  },
  {
   "cell_type": "code",
   "execution_count": 216,
   "outputs": [
    {
     "name": "stdout",
     "output_type": "stream",
     "text": [
      "{'AERIS': [{'contacts': [{'name': 'Nicolas PASCAL'},\n",
      "                         {'name': 'AERIS/ICARE Helpdesk'},\n",
      "                         {'name': 'Jean Sciare'},\n",
      "                         {'name': 'Valerie Gros'},\n",
      "                         {'name': 'Francois Truong'}]},\n",
      "           {'contacts': [{'name': 'Nicolas PASCAL'},\n",
      "                         {'name': 'AERIS/ICARE Helpdesk'},\n",
      "                         {'name': 'Jean Sciare'},\n",
      "                         {'name': 'Valerie Gros'},\n",
      "                         {'name': 'Francois Truong'}]},\n",
      "           {'contacts': [{'name': 'François Gheusi\\xa0'},\n",
      "                         {'name': 'NDACC contact'}]},\n",
      "           {'contacts': [{'name': 'Nicolas PASCAL'},\n",
      "                         {'name': 'AERIS/ICARE Helpdesk'},\n",
      "                         {'name': 'Jean Sciare'},\n",
      "                         {'name': 'Valerie Gros'},\n",
      "                         {'name': 'Francois Truong'}]},\n",
      "           {'contacts': [{'name': 'Nicolas PASCAL'},\n",
      "                         {'name': 'AERIS/ICARE Helpdesk'},\n",
      "                         {'name': 'Jean Sciare'},\n",
      "                         {'name': 'Valerie Gros'},\n",
      "                         {'name': 'Francois Truong'}]}],\n",
      " 'DataCite': [],\n",
      " 'ISO19115': [{'MD_Metadata': {'identificationInfo': {'MD_DataIdentification': {'pointOfContact': {'CI_ResponsibleParty': {'individualName': {'CharacterString': {'@value': ['Ardhuin '\n",
      "                                                                                                                                                                             'Fanny',\n",
      "                                                                                                                                                                             'Piolle '\n",
      "                                                                                                                                                                             'Jean-Francois']}}}}}}}}],\n",
      " 'e-GMS': []}\n"
     ]
    }
   ],
   "source": [
    "\n",
    "model = \"e-GMS\"\n",
    "key = \"Creator\"\n",
    "\n",
    "model_all_lines = (        struct_matches[(struct_matches[\"model_A\"].apply(lambda x : ast.literal_eval(x)[0] == model )) | (struct_matches[\"model_B\"].apply(lambda x : ast.literal_eval(x)[0] == model)) ]                            ) \n",
    "\n",
    "matches = (        struct_matches[(struct_matches[\"model_A\"].apply(lambda x : ast.literal_eval(x)[1] == key )) | (struct_matches[\"model_B\"].apply(lambda x : ast.literal_eval(x)[1] == key)) ]                            ) \n",
    "\n",
    "matches[\"model_A\"] = matches[\"model_A\"].apply(lambda x : ast.literal_eval(x))\n",
    "matches[\"model_B\"] = matches[\"model_B\"].apply(lambda x : ast.literal_eval(x))\n",
    "\n",
    "\n",
    "list_of_matches_lati = set(  list(matches[\"model_A\"]) + list(matches[\"model_B\"]) )\n",
    "\n",
    "client = MongoClient(\"localhost:27017\")\n",
    "results = {}\n",
    "for i in list_of_matches_lati :\n",
    "    model = i[0]\n",
    "    key = i[1] \n",
    "    results[model]= list(client[model].interop_metadata.find({key:{\"$regex\":\"Francois|François\"}},{key:1,\"_id\":0}))\n",
    "\n",
    "pprint(results)"
   ],
   "metadata": {
    "collapsed": false,
    "ExecuteTime": {
     "end_time": "2023-09-18T15:48:10.853401957Z",
     "start_time": "2023-09-18T15:48:10.827951677Z"
    }
   },
   "id": "d11e9433b4909475"
  },
  {
   "cell_type": "code",
   "execution_count": null,
   "outputs": [],
   "source": [],
   "metadata": {
    "collapsed": false
   },
   "id": "b26aeb2ceab16110"
  }
 ],
 "metadata": {
  "kernelspec": {
   "display_name": "Python 3",
   "language": "python",
   "name": "python3"
  },
  "language_info": {
   "codemirror_mode": {
    "name": "ipython",
    "version": 2
   },
   "file_extension": ".py",
   "mimetype": "text/x-python",
   "name": "python",
   "nbconvert_exporter": "python",
   "pygments_lexer": "ipython2",
   "version": "2.7.6"
  }
 },
 "nbformat": 4,
 "nbformat_minor": 5
}
