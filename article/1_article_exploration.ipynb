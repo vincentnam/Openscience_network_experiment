{
 "cells": [
  {
   "cell_type": "markdown",
   "source": [
    "# From XML to CSV"
   ],
   "metadata": {
    "collapsed": false
   }
  },
  {
   "cell_type": "code",
   "execution_count": 2,
   "metadata": {
    "collapsed": true,
    "ExecuteTime": {
     "end_time": "2023-09-22T07:47:23.741464375Z",
     "start_time": "2023-09-22T07:45:25.532978328Z"
    }
   },
   "outputs": [],
   "source": [
    "import os\n",
    "import xmltodict\n",
    "import pandas as pd\n",
    "import matplotlib.pyplot as plt\n",
    "from community import community_louvain\n",
    "import networkx as nx\n",
    "from netgraph import Graph\n",
    "import numpy as np\n",
    "def flatten_json(y):\n",
    "    out = {}\n",
    "    def flatten(x, name=''):\n",
    "        if type(x) is dict:\n",
    "            for a in x:\n",
    "                flatten(x[a], name + a + '.')\n",
    "        elif type(x) is list:\n",
    "            i = 0\n",
    "            for a in x:\n",
    "                flatten(a, name + str(i) + '.')\n",
    "                i += 1\n",
    "        else:\n",
    "            out[name[:-1]] = x\n",
    "\n",
    "    flatten(y)\n",
    "    return out\n",
    "\n",
    "df_list = []\n",
    "for file in os.listdir(\"../re3data/repo_md/\"):\n",
    "    json_doc = xmltodict.parse(open(\"../re3data/repo_md/\"+file,\"r\").read())\n",
    "\n",
    "    # Driver code\n",
    "    dictio=flatten_json(json_doc)\n",
    "    # open(\"test.json\",\"w\").write(json.dumps(flatten_json(json_doc), indent=4))\n",
    "    df_list.append(pd.DataFrame.from_dict(dictio, orient=\"index\").transpose())\n",
    "\n",
    "\n",
    "\n",
    "data_df = pd.concat(df_list)\n",
    "data_df.to_csv(\"results_repository_MD.csv\", index=False)\n"
   ]
  },
  {
   "cell_type": "markdown",
   "source": [
    "# Data selection"
   ],
   "metadata": {
    "collapsed": false
   }
  },
  {
   "cell_type": "code",
   "execution_count": 3,
   "outputs": [],
   "source": [
    "data_selection = data_df.filter(regex=\"repositoryName.*text|repositoryIdentifier|subject.*text|apiType|keyword|metadataStandardName.*text\")\n",
    "data_selection.to_csv(\"data_selection.csv\", index=False)\n"
   ],
   "metadata": {
    "collapsed": false,
    "ExecuteTime": {
     "end_time": "2023-09-22T07:47:23.940186022Z",
     "start_time": "2023-09-22T07:47:23.702997968Z"
    }
   }
  },
  {
   "cell_type": "markdown",
   "source": [
    "# Data cleaning"
   ],
   "metadata": {
    "collapsed": false
   }
  },
  {
   "cell_type": "code",
   "execution_count": 4,
   "outputs": [],
   "source": [
    "keywords = data_selection.filter(regex=\"keyword\").transpose().apply(lambda x : '#'.join(x.dropna().astype(str)))\n",
    "subject = data_selection.filter(regex=\"subject.*text\").transpose().apply(lambda x : '#'.join(x.dropna().astype(str)))\n",
    "API = data_selection.filter(regex=\"apiType\").transpose().apply(lambda x : '#'.join(x.dropna().astype(str)))\n",
    "MD_standards = data_selection.filter(regex=\"metadataStandardName.*text\").transpose().apply(lambda x : '#'.join(x.dropna().astype(str)))\n",
    "id = data_selection.filter(regex=\"repositoryIdentifier\").transpose().apply(lambda x : '#'.join(x.dropna().astype(str)))\n",
    "name = data_selection.filter(regex=\"repositoryName.*text\")\n",
    "\n",
    "\n",
    "cleaned_df = pd.concat([name,id,subject,keywords,API, MD_standards],axis=1)\n",
    "column_name = [\"name\",\"id\",\"subject\",\"keywords\",\"API_type\",\"MD_standards\"]\n",
    "rename_dict = {}\n",
    "for old_name,new_name in zip(cleaned_df.columns,column_name):\n",
    "    rename_dict[old_name]=new_name\n",
    "# print(rename_dict)\n",
    "cleaned_df = cleaned_df.rename(rename_dict,axis=1)\n",
    "cleaned_df.to_csv(\"data_selection_cleaned.csv\", index=False)\n",
    "\n"
   ],
   "metadata": {
    "collapsed": false,
    "ExecuteTime": {
     "end_time": "2023-09-22T07:47:29.714831649Z",
     "start_time": "2023-09-22T07:47:23.924745154Z"
    }
   }
  },
  {
   "cell_type": "code",
   "execution_count": 4,
   "outputs": [],
   "source": [],
   "metadata": {
    "collapsed": false,
    "ExecuteTime": {
     "end_time": "2023-09-22T07:47:29.722594665Z",
     "start_time": "2023-09-22T07:47:29.711567945Z"
    }
   }
  },
  {
   "cell_type": "markdown",
   "source": [
    "# Edges creation"
   ],
   "metadata": {
    "collapsed": false
   }
  },
  {
   "cell_type": "code",
   "execution_count": 5,
   "outputs": [
    {
     "name": "stdout",
     "output_type": "stream",
     "text": [
      "SWORD\n",
      "other\n",
      "SPARQL\n",
      "FTP\n",
      "REST\n",
      "OpenDAP\n",
      "NetCDF\n",
      "SOAP\n",
      "OAI-PMH\n"
     ]
    }
   ],
   "source": [
    "repo_data = cleaned_df\n",
    "\n",
    "repo_no_na = repo_data.dropna(subset=[\"API_type\",\"MD_standards\"])\n",
    "\n",
    "# List of platform that implements API then MD_standards\n",
    "# Any platform in a same list is interoperable with other\n",
    "node_edges = {}\n",
    "\n",
    "\n",
    "unique_api_type = set(repo_no_na[\"API_type\"].map(lambda x : x.split(\"#\")).sum())\n",
    "unique_api_type.remove('')\n",
    "for API in unique_api_type:\n",
    "    print(API)\n",
    "    node_edges[API] = {}\n",
    "\n",
    "    unique_MD = set(repo_no_na[repo_no_na[\"API_type\"].map(lambda x : API in x)][\"MD_standards\"].map(lambda x : x.split(\"#\")).sum())\n",
    "    for MD in unique_MD:\n",
    "\n",
    "        node_edges[API][MD]=list(pd.merge(repo_no_na[repo_no_na[\"MD_standards\"].map(lambda x: x.split(\"#\")).map(lambda x : bool(len(set(x).intersection(set([MD])))>0 ))],repo_no_na[repo_no_na[\"API_type\"].map(lambda x : x.split(\"#\")).map(lambda x : bool(set(x) & set([API])) )])[\"name\"])\n"
   ],
   "metadata": {
    "collapsed": false,
    "ExecuteTime": {
     "end_time": "2023-09-22T07:47:34.262783128Z",
     "start_time": "2023-09-22T07:47:29.718268320Z"
    }
   }
  },
  {
   "cell_type": "code",
   "execution_count": 6,
   "outputs": [
    {
     "data": {
      "text/plain": "dict_keys(['SWORD', 'other', 'SPARQL', 'FTP', 'REST', 'OpenDAP', 'NetCDF', 'SOAP', 'OAI-PMH'])"
     },
     "execution_count": 6,
     "metadata": {},
     "output_type": "execute_result"
    }
   ],
   "source": [
    "node_edges.keys()"
   ],
   "metadata": {
    "collapsed": false,
    "ExecuteTime": {
     "end_time": "2023-09-22T07:47:34.307927104Z",
     "start_time": "2023-09-22T07:47:34.239589143Z"
    }
   }
  },
  {
   "cell_type": "markdown",
   "source": [
    "# Every edges - every nodes - every protocol : Interoperability of platforms"
   ],
   "metadata": {
    "collapsed": false
   }
  },
  {
   "cell_type": "code",
   "execution_count": 7,
   "outputs": [],
   "source": [
    "from itertools import combinations\n",
    "import random\n",
    "couple_node_data_analysis = []\n",
    "\n",
    "for API in node_edges:\n",
    "    for MD in node_edges[API]:\n",
    "        # if MD != \"Dublin Core\":\n",
    "            couple_node_data_analysis += list(set([tuple(sorted(x)) for x in combinations(node_edges[API][MD],2)]))\n",
    "        # for i in range(len(node_edges[API][MD])):\n",
    "        #     couple_node.append((node_edges[API][MD][i], node_edges[API][MD][(i+1)%len(node_edges[API][MD])]))\n",
    "        #     couple_node.append((node_edges[API][MD][i], node_edges[API][MD][(i+5)%len(node_edges[API][MD])] ))\n",
    "            # Exchange uncommented line with this one to get every edges\n",
    "            # couple_node.append((MD+\"-OAI-PMH\",node_edges[\"OAI-PMH\"][MD][i]))\n"
   ],
   "metadata": {
    "collapsed": false,
    "ExecuteTime": {
     "end_time": "2023-09-22T07:47:34.441278069Z",
     "start_time": "2023-09-22T07:47:34.268930663Z"
    }
   }
  },
  {
   "cell_type": "code",
   "execution_count": 8,
   "outputs": [
    {
     "data": {
      "text/plain": "156455"
     },
     "execution_count": 8,
     "metadata": {},
     "output_type": "execute_result"
    }
   ],
   "source": [
    "len(couple_node_data_analysis)"
   ],
   "metadata": {
    "collapsed": false,
    "ExecuteTime": {
     "end_time": "2023-09-22T07:47:34.448907545Z",
     "start_time": "2023-09-22T07:47:34.438652769Z"
    }
   }
  },
  {
   "cell_type": "code",
   "execution_count": 9,
   "outputs": [
    {
     "data": {
      "text/plain": "{'SWORD': {'': ['Columbia University Academic Commons',\n   'DOE Joint Genome Institute Genome  Portal',\n   'IDEALS',\n   'The Dataweb Dataverse'],\n  'PROV': ['TROLLing', 'DataverseNO'],\n  'ABCD - Access to Biological Collection Data': ['LibraData'],\n  'other': ['Abacus Data Network', 'Repository for Open Data (RepOD)'],\n  'DataCite Metadata Schema': [\"Queen's University Dataverse\",\n   'UCLA Dataverse',\n   'McGill University Dataverse',\n   'Concordia University Dataverse',\n   'Dados Abertos De Pesquisas',\n   'ASU Library Research Data Repository',\n   \"Dataverse de l'Institut national de la recherche scientifique\",\n   'RIN Data Repository',\n   'Université de Montréal – Dataverse',\n   'Mount Royal University Dataverse',\n   'McMaster University Dataverse',\n   'Prospered Project',\n   'Arca Dados',\n   'ARP Research Data Repository',\n   'e-cienciaDatos',\n   'Wilfrid Laurier University Dataverse',\n   'George Mason University Dataverse',\n   'University of Waterloo Dataverse',\n   'Social Data Repository (RDS)',\n   'DaRUS',\n   'University of Winnipeg Research Data Repository',\n   'LibraData',\n   'Trent University Dataverse',\n   \"Dataverse de l'Université TÉLUQ\",\n   'DataRepositoriUM',\n   'Dataverse de Polytechnique Montréal',\n   'Macromolecular Xtallography Raw Data Repository',\n   'Université du Québec à Trois-Rivières - Borealis',\n   'HEC Montréal Dataverse',\n   'MacEwan University Data Repository',\n   'DUnAs',\n   'Vancouver Island University Dataverse',\n   'University of Northern British Columbia Dataverse',\n   'UQAM - Dataverse',\n   'Western University Dataverse',\n   'eSHODHMANTHAN',\n   \"Dataverse de l'Université Laval\",\n   'Repository for Open Data (RepOD)',\n   'GRO.data',\n   'RODBUK Cracow Open Research Data Repository',\n   'Research Data Unipd',\n   'GlobeData',\n   'Borealis',\n   'CIFOR Harvested Dataverse',\n   'DataverseNO',\n   'Cape Breton University Dataverse',\n   'University of Windsor Dataverse',\n   'SISSA Open Data',\n   'UNB Libraries Dataverse Research Data Repository',\n   'University of Regina Dataverse',\n   \"Dataverse de l'Université du Québec à Chicoutimi\",\n   'PRISM Dataverse',\n   'University of Manitoba Dataverse',\n   \"Saint Mary's University Dataverse\",\n   'GEOROC Data Repository',\n   'University of Victoria Dataverse',\n   'Memorial University Dataverse',\n   'Data INRAE',\n   'University of Ottawa Dataverse',\n   'GEUS Dataverse',\n   'Redape',\n   'University of Alberta Dataverse'],\n  'Dublin Core': [\"Queen's University Dataverse\",\n   'UCLA Dataverse',\n   'McGill University Dataverse',\n   'Concordia University Dataverse',\n   'Dados Abertos De Pesquisas',\n   'ASU Library Research Data Repository',\n   \"Dataverse de l'Institut national de la recherche scientifique\",\n   'RIN Data Repository',\n   'International Food Policy Research Institute Dataverse',\n   'Université de Montréal – Dataverse',\n   'Mount Royal University Dataverse',\n   'McMaster University Dataverse',\n   'Brock University Dataverse',\n   'Society of American Archivists Dataverse',\n   'SAO/NASA Astrophysics Data System Dataverse',\n   'Prospered Project',\n   'Arca Dados',\n   'ARP Research Data Repository',\n   'e-cienciaDatos',\n   'KWTRP Research Data Repository Dataverse',\n   'Wilfrid Laurier University Dataverse',\n   'George Mason University Dataverse',\n   'University of Waterloo Dataverse',\n   'University of Guelph Research Data Repository  Dataverse',\n   'Social Data Repository (RDS)',\n   'DaRUS',\n   'University of Winnipeg Research Data Repository',\n   'Agri-Environmental Research Data Repository Dataverse',\n   'LibraData',\n   \"Dataverse de l'Université TÉLUQ\",\n   'Abacus Data Network',\n   'DataRepositoriUM',\n   'Dataverse de Polytechnique Montréal',\n   'Macromolecular Xtallography Raw Data Repository',\n   'Université du Québec à Trois-Rivières - Borealis',\n   'HEC Montréal Dataverse',\n   'MacEwan University Data Repository',\n   'DUnAs',\n   'Vancouver Island University Dataverse',\n   'University of Northern British Columbia Dataverse',\n   'UNC Dataverse',\n   'UQAM - Dataverse',\n   'Western University Dataverse',\n   'eSHODHMANTHAN',\n   'TROLLing',\n   'Repository for Open Data (RepOD)',\n   'RODBUK Cracow Open Research Data Repository',\n   'Research Data Unipd',\n   'GlobeData',\n   'Borealis',\n   'DataverseNL',\n   'Lakehead University Dataverse',\n   'DataverseNO',\n   'Cape Breton University Dataverse',\n   'Dalhousie University Dataverse @ Borealis',\n   'University of Windsor Dataverse',\n   'SISSA Open Data',\n   'UNB Libraries Dataverse Research Data Repository',\n   \"Dataverse de l'Université du Québec à Chicoutimi\",\n   'PRISM Dataverse',\n   'University of Manitoba Dataverse',\n   'Harvard Numeric Data Services Dataverse',\n   \"Saint Mary's University Dataverse\",\n   'GEOROC Data Repository',\n   'University of Victoria Dataverse',\n   'Memorial University Dataverse',\n   'Data INRAE',\n   'University of Ottawa Dataverse',\n   'GEUS Dataverse',\n   'Toronto Metropolitan University Dataverse',\n   'Redape',\n   'University of Alberta Dataverse',\n   'York University Dataverse'],\n  'International Virtual Observatory Alliance Technical Specifications': ['RIN Data Repository',\n   'DataverseNO',\n   'University of Alberta Dataverse'],\n  'CIF - Crystallographic Information Framework': ['Macromolecular Xtallography Raw Data Repository'],\n  'DIF - Directory Interchange Format': ['Redape'],\n  'ISO 19115': ['McGill University Dataverse'],\n  'DDI - Data Documentation Initiative': [\"Queen's University Dataverse\",\n   'UCLA Dataverse',\n   'McGill University Dataverse',\n   'Concordia University Dataverse',\n   'Dados Abertos De Pesquisas',\n   'ASU Library Research Data Repository',\n   \"Dataverse de l'Institut national de la recherche scientifique\",\n   'RIN Data Repository',\n   'International Food Policy Research Institute Dataverse',\n   'World Agroforestry Centre - ICRAF Dataverse',\n   'Université de Montréal – Dataverse',\n   'Mount Royal University Dataverse',\n   'McMaster University Dataverse',\n   'Brock University Dataverse',\n   'Society of American Archivists Dataverse',\n   'SAO/NASA Astrophysics Data System Dataverse',\n   'Prospered Project',\n   'Peking University Open Research Data',\n   'Arca Dados',\n   'ARP Research Data Repository',\n   'e-cienciaDatos',\n   'KWTRP Research Data Repository Dataverse',\n   'ICRISAT Dataverse',\n   'Harvard Dataverse',\n   'Wilfrid Laurier University Dataverse',\n   'George Mason University Dataverse',\n   'University of Waterloo Dataverse',\n   'University of Guelph Research Data Repository  Dataverse',\n   'Social Data Repository (RDS)',\n   'DaRUS',\n   'University of Winnipeg Research Data Repository',\n   'Mindboggle-101',\n   'Agri-Environmental Research Data Repository Dataverse',\n   'LibraData',\n   \"Dataverse de l'Université TÉLUQ\",\n   'Abacus Data Network',\n   'DataRepositoriUM',\n   'Dataverse de Polytechnique Montréal',\n   'Macromolecular Xtallography Raw Data Repository',\n   'Université du Québec à Trois-Rivières - Borealis',\n   'HEC Montréal Dataverse',\n   'MacEwan University Data Repository',\n   'DUnAs',\n   'Vancouver Island University Dataverse',\n   'University of Northern British Columbia Dataverse',\n   'UNC Dataverse',\n   'UQAM - Dataverse',\n   'Western University Dataverse',\n   'eSHODHMANTHAN',\n   'Population Services International Dataverse',\n   'TROLLing',\n   \"Dataverse de l'Université Laval\",\n   'CfA Dataverses',\n   'Repository for Open Data (RepOD)',\n   'COMPLETE Dataverse',\n   'RODBUK Cracow Open Research Data Repository',\n   'CIMMYT Research Data & Software Repository Network',\n   'GlobeData',\n   'Borealis',\n   'CIFOR Harvested Dataverse',\n   'DataverseNL',\n   'Lakehead University Dataverse',\n   'DataverseNO',\n   'Cape Breton University Dataverse',\n   'U.S. National Archives and Records Administration Dataverse',\n   'Dalhousie University Dataverse @ Borealis',\n   'University of Windsor Dataverse',\n   'The Abdul Latif Jameel Poverty Action Lab',\n   'SISSA Open Data',\n   'UNB Libraries Dataverse Research Data Repository',\n   'University of Regina Dataverse',\n   \"Dataverse de l'Université du Québec à Chicoutimi\",\n   'PRISM Dataverse',\n   'University of Manitoba Dataverse',\n   'Harvard Numeric Data Services Dataverse',\n   'SPT Galaxy Cluster Followup Dataverse',\n   \"Saint Mary's University Dataverse\",\n   'GEOROC Data Repository',\n   'University of Victoria Dataverse',\n   'Memorial University Dataverse',\n   'AfricaRice Dataverse',\n   'CIAT Dataverse',\n   'Data INRAE',\n   'University of Ottawa Dataverse',\n   'Washington State University Data Center Dataverse',\n   'UCLA Social Science Data Archive',\n   'The Polinsky Language Sciences Lab Dataverse',\n   'GEUS Dataverse',\n   'Toronto Metropolitan University Dataverse',\n   '1.2 Meter CO Survey Dataverse',\n   'University of Alberta Dataverse',\n   'York University Dataverse',\n   'IBICT Cariniana Dataverse Network'],\n  'ISA-Tab': ['RIN Data Repository',\n   'LibraData',\n   'DataverseNO',\n   'Data INRAE',\n   'University of Alberta Dataverse'],\n  'Repository-Developed Metadata Schemas': ['ASU Library Research Data Repository',\n   'DaRUS'],\n  'FGDC/CSDGM - Federal Geographic Data Committee Content Standard for Digital Geospatial Metadata': ['RIN Data Repository',\n   'Abacus Data Network',\n   'Borealis',\n   'Lakehead University Dataverse'],\n  'Darwin Core': ['RIN Data Repository'],\n  'OAI-ORE - Open Archives Initiative Object Reuse and Exchange': ['McGill University Dataverse',\n   'Concordia University Dataverse',\n   'Dados Abertos De Pesquisas',\n   \"Dataverse de l'Institut national de la recherche scientifique\",\n   'RIN Data Repository',\n   'Mount Royal University Dataverse',\n   'Society of American Archivists Dataverse',\n   'Prospered Project',\n   'Arca Dados',\n   'ARP Research Data Repository',\n   'George Mason University Dataverse',\n   'Social Data Repository (RDS)',\n   'DaRUS',\n   'University of Winnipeg Research Data Repository',\n   'Trent University Dataverse',\n   \"Dataverse de l'Université TÉLUQ\",\n   'DataRepositoriUM',\n   'Dataverse de Polytechnique Montréal',\n   'Macromolecular Xtallography Raw Data Repository',\n   'Université du Québec à Trois-Rivières - Borealis',\n   'HEC Montréal Dataverse',\n   'MacEwan University Data Repository',\n   'DUnAs',\n   'Vancouver Island University Dataverse',\n   'University of Northern British Columbia Dataverse',\n   'UQAM - Dataverse',\n   'eSHODHMANTHAN',\n   \"Dataverse de l'Université Laval\",\n   'Repository for Open Data (RepOD)',\n   'RODBUK Cracow Open Research Data Repository',\n   'GlobeData',\n   'SISSA Open Data',\n   'University of Regina Dataverse',\n   \"Dataverse de l'Université du Québec à Chicoutimi\",\n   'PRISM Dataverse',\n   \"Saint Mary's University Dataverse\",\n   'University of Victoria Dataverse',\n   'Memorial University Dataverse',\n   'Redape',\n   'University of Alberta Dataverse'],\n  'SDMX - Statistical Data and Metadata Exchange': ['RIN Data Repository']},\n 'other': {'': ['Jean Paul – Sämtliche Briefe digital',\n   'GLUES Geoportal',\n   'Southern California Earthquake Data Center',\n   'Saccharomyces Genome Database',\n   'IHEC Data Portal',\n   'Online Mendelian Inheritance in Man',\n   'CARMEN',\n   'SWISS-MODEL Repository',\n   'Allen Brain Atlas',\n   'Solar and Heliospheric Observatory',\n   'Das Deutsche Referenzkorpus',\n   'Mendeley Data',\n   'caArray',\n   'Citrination',\n   'FooDB',\n   'Worldwide Protein Data Bank',\n   'TROVE',\n   'National Agricultural Statistics Service',\n   'eKlima',\n   'PhysioBank',\n   'NCAR Climate Analysis Section Data Catalog',\n   'Edmonton Open Data',\n   'Madrigal Database',\n   'GAVO Data Centre',\n   'Moderate Resolution Imaging Spectroradiometer',\n   'EIDA',\n   'VirHostNet',\n   'CRAWDAD',\n   'Boola Boola Forest bird study',\n   'LinkedEarth Wiki',\n   'Database for Hydrological Time Series of Inland Waters',\n   'NASC',\n   'RADAM database portal',\n   'arrayMap',\n   \"City of Burlington's Open Data Catalogue\",\n   'EUROLAS Data Center',\n   'Center for Operational Oceanographic Products and Services',\n   'modENCODE',\n   'European Centre for Medium-Range Weather Forecasts',\n   'Malaria Atlas Project',\n   'United States Department of Agriculture, Economic Research Service, Data Products',\n   'Ensembl Metazoa',\n   'Niagara Open Data',\n   'The Adaptive Evolution Database',\n   'Open data and information Portal Canadian Space Agency',\n   'My Geo Hub',\n   'CDC WONDER',\n   'Junar',\n   'Image Data Resource',\n   'SIMBAD Astronomical Database',\n   'Ensembl Plants',\n   'Data.gov',\n   'Met office',\n   'BASS2000',\n   'IntAct',\n   'City of Toronto Open Data Portal',\n   'BioImage Archive',\n   'Canadian Watershed Information Network',\n   'DOE Data Explorer',\n   'Open Data Ottawa',\n   'Eumetsat',\n   'United States Census Bureau',\n   'Bacterial and Viral Bioinformatics Resource Center',\n   'HITRAN online',\n   'Avibase',\n   'Pitt Quantum Repository',\n   'Open Data Portal Russia',\n   'InnateDB',\n   'Open Science and Data Platform',\n   'Computational and Information Systems Laboratory Research Data Archive',\n   'The SuiteSparse Matrix Collection',\n   'Copernicus Space Component Data Access',\n   'NASA/IPAC InfraRed Science Archive',\n   'Emage',\n   'The Monarch Initiative',\n   'CosmoSim',\n   'HDAP',\n   'Ensembl Bacteria',\n   'Australian Urban Research Infrastructure Network',\n   'BrainMaps.org',\n   'Ensembl',\n   'Mouse Genome Informatics',\n   'ProteomicsDB',\n   'Software Heritage Archive',\n   'SeedMe',\n   'RADARSAT-1',\n   'Keck Observatory Archive',\n   'GNSS  - ISDC',\n   'Ensembl Fungi',\n   'Ensembl Protists',\n   'ClinVar',\n   'Ensembl Genomes',\n   'Facebook Data for Good',\n   'Genomic Data Commons',\n   'VIPERdb',\n   'Polar Geospatial Center',\n   'Kaggle',\n   'Progenetix',\n   'Registry of Open Data on AWS',\n   'Transparenzportal der Stadt Karlsruhe',\n   'Community Surface Dynamics Modeling System',\n   'Open Tree of Life',\n   'Systematic Review Data Repository',\n   'INTREPID bioinformatics',\n   'The Dataweb Dataverse',\n   'United States Health Information Knowledgebase',\n   'TheDataWeb',\n   'Canadian Astronomy Data Centre',\n   'Conserved Domain database',\n   'Alternative Fuels Data Center',\n   'US Department of Commerce, Bureau of Economic Analysis, Interactive Data',\n   'Internet Archive',\n   'TreeGenes',\n   'IDEAS',\n   'Access to Archival Databases',\n   'Regionaal Archief Tilburg',\n   'data.public.lu',\n   'NORPERM',\n   'National Data Repository',\n   'EarthChem Library',\n   'Toronto and Region Conservation Authority Open Data',\n   'NMDB',\n   'Remote Sensing Systems',\n   'TB Portals',\n   'Savannah',\n   'CATH',\n   'Center for Demography of Health and Aging',\n   \"Canada's Michael Smith Genome Sciences Centre\",\n   'SkyView',\n   'Regionaal Archief Alkmaar',\n   'ESTHER database',\n   'CancerData.org',\n   'HealthData.gov',\n   \"Concordia's Open Data\",\n   'AusGeochem',\n   'Biobanque québécoise de la COVID-19',\n   'City of Winnipeg Open Data Portal',\n   'BIRD',\n   'Virgo Millenium Database',\n   'Coronavirus Government Response Tracker',\n   'Weed Images',\n   'correspSearch - Search scholarly editions of letters',\n   'Open Data Portal - City of Kelowna',\n   \"Nasa's Data Portal\",\n   'eMaapõu',\n   'Phytozome',\n   'Old Bailey Proceedings Online',\n   'NASA Exoplanet Archive',\n   'iNaturalist.org',\n   'City of Barrie Data Portal',\n   'Deutsches Textarchiv',\n   'Plasma Physics Data Center',\n   'GERDA',\n   'TemplateFlow',\n   'National Geothermal Data System',\n   'The National Practitioner Data Bank',\n   'KIT Whole-Body Human Motion Database',\n   'Canadian Urban Data Repository',\n   'UNITE',\n   'DRA',\n   'Open Science Framework',\n   'The Lens',\n   'SinMin',\n   'GitHub',\n   'Historical hydrographic data from BSH'],\n  'ABCD - Access to Biological Collection Data': ['ZFMK Biodiversity Data Center',\n   'National Weather Service, National Centers for Environmental Prediction'],\n  'International Virtual Observatory Alliance Technical Specifications': ['RIN Data Repository',\n   'Paris Astronomical Data Centre',\n   'APPLAUSE',\n   'Barbara A. Mikulski Archive for Space Telescopes',\n   'Gaia@AIP',\n   'RAVE database',\n   'MUSE-Wide'],\n  'DIF - Directory Interchange Format': ['Global Change Master Directory',\n   'National Snow and Ice Data Center',\n   'GEOSS Portal',\n   'Research Data Archive at NCAR',\n   'Physical Oceanography Distributed Active Archive Center',\n   'NOAA National Centers for Environmental Information - World Data Service  for Oceanography'],\n  'CIF - Crystallographic Information Framework': ['Macromolecular Xtallography Raw Data Repository'],\n  'DDI - Data Documentation Initiative': ['European Election Database',\n   'IIT Dataverse',\n   'ASU Library Research Data Repository',\n   'RIN Data Repository',\n   'Research Compendia',\n   'Harvard Dataverse',\n   'Social Data Repository (RDS)',\n   'Agri-Environmental Research Data Repository Dataverse',\n   'St. Francis Xavier University Dataverse',\n   'Macromolecular Xtallography Raw Data Repository',\n   'CfA Dataverses',\n   'Repository for Open Data (RepOD)',\n   'PRISM Dataverse',\n   'B2FIND',\n   'UCD Digital Library',\n   'York University Dataverse',\n   'DadosIPB',\n   'IBICT Cariniana Dataverse Network'],\n  'DCAT - Data Catalog Vocabulary': ['European Union Open Data Portal',\n   'Data.gov.au',\n   'GOVDATA',\n   'Ag Data Commons',\n   'Health Data Research Innovation Gateway',\n   'Open Data by Socrata',\n   'Répertoire International des Sources Musicales (RISM)',\n   'depositar',\n   'Open Government Canada - Open Data',\n   'Marine Scotland Data',\n   'Arctic Permafrost Geospatial Centre'],\n  'other': ['ThermoML',\n   'MARGINS Data Portal',\n   'International Aid Transparency Initiative',\n   'German Federation for Biological Data',\n   'Leiden Open Variation Database',\n   'Repository for Open Data (RepOD)',\n   'CDAWeb',\n   'SHARE Geonetwork'],\n  'Dublin Core': ['Land Information New Zealand Data Service',\n   'Global Change Master Directory',\n   'IIT Dataverse',\n   'ASU Library Research Data Repository',\n   'RIN Data Repository',\n   'Europeana collections',\n   'Brown Digital Repository',\n   'Hamburger Zentrum für Sprachkorpora Korpus Repositorium',\n   'ISRIC - World Soil Information',\n   'Stanford Digital Repository',\n   'Social Data Repository (RDS)',\n   'Pacific and Regional Archive for Digital Sources in Endangered Cultures',\n   'IPK Gatersleben',\n   'National Library of the Netherlands  e-depot',\n   'Agri-Environmental Research Data Repository Dataverse',\n   'Land Resource Information Systems Portal',\n   'European Union Open Data Portal',\n   'TIB Digital Long-Term Archive',\n   'St. Francis Xavier University Dataverse',\n   'Macromolecular Xtallography Raw Data Repository',\n   'Digitale Sammlungen der GWLB Hannover',\n   'Kielipankki',\n   'Wilson Center Digital Archive',\n   'Plant Genomics and Phenomics Research Data Repository',\n   'SFB 882 Forschungsdatenzentrum',\n   'KNB Data Repository',\n   'ScienceData',\n   'Bavarian Archive for Speech Signals',\n   'INESC TEC Research Data Repository',\n   'Barbara A. Mikulski Archive for Space Telescopes',\n   'Research Computing and Data Services',\n   'PAC - Archiving Platform CINES',\n   'ARCHE',\n   'e!DAL - electronic Data Archive Library',\n   'Marine Data BC',\n   'Repository for Open Data (RepOD)',\n   'GEOSS Portal',\n   'PUB Data Publications',\n   'AHEAD',\n   'Materials Cloud Archive',\n   'Research Data Archive at NCAR',\n   'Collaborative Research Centre Transregio 32 Database',\n   'Environmental Information Data Centre',\n   'PHAIDRA - University of Padua',\n   'TreeBASE',\n   'DRYAD',\n   'Deep Carbon Observatory Data Portal',\n   'PRISM Dataverse',\n   'B2FIND',\n   'CLARIN.SI repository',\n   'DNBLab',\n   'UCD Digital Library',\n   'York University Dataverse',\n   'DadosIPB'],\n  'DataCite Metadata Schema': ['PetDB',\n   'OpenKIM',\n   'IIT Dataverse',\n   'Illinois Data Bank',\n   'ASU Library Research Data Repository',\n   'Astromaterials Data System',\n   'RIN Data Repository',\n   'Pandora',\n   'GIN',\n   'The Cambridge Structural Database',\n   'ZBW Journal Data Archive',\n   'Stanford Digital Repository',\n   'Social Data Repository (RDS)',\n   'University of Tasmania Research Data Portal',\n   'St. Francis Xavier University Dataverse',\n   'Macromolecular Xtallography Raw Data Repository',\n   'NREL Data Catalog',\n   'Plant Genomics and Phenomics Research Data Repository',\n   'INESC TEC Research Data Repository',\n   'GEOFON',\n   'IEDA',\n   'Ag Data Commons',\n   'Repository for Open Data (RepOD)',\n   'GigaDB',\n   'PUB Data Publications',\n   'AHEAD',\n   'Research Data Archive at NCAR',\n   'Collaborative Research Centre Transregio 32 Database',\n   'Résif Seismological Data Portal',\n   'Environmental Information Data Centre',\n   'DRYAD',\n   'ISRCTN Registry',\n   'PRISM Dataverse',\n   'FID move',\n   'Science Direct Repository Koszalin University of Technology',\n   'UCD Digital Library',\n   'Marine Scotland Data',\n   'DadosIPB',\n   'Oak Ridge Leadership Computing Facility Constellation Portal',\n   'MUSE-Wide'],\n  'ISO 19115': ['Land Information New Zealand Data Service',\n   'Global Change Master Directory',\n   'World Ozone and Ultraviolet Radiation Data Centre',\n   'NOAA National Centers for Environmental Information - formerly: National Oceanographic Data Center',\n   'Ocean Biodiversity Information System',\n   'coastMap',\n   'ISRIC - World Soil Information',\n   'Environmental data explorer',\n   'MARGINS Data Portal',\n   'Land Resource Information Systems Portal',\n   'The World Atlas of Language Structures',\n   'Data.gov.au',\n   'Environmental Change Network',\n   'National Snow and Ice Data Center',\n   'NERC Data Catalogue Service',\n   'Research Computing and Data Services',\n   'Marine Geoscience Data System',\n   'EarthWorks',\n   'Ag Data Commons',\n   'Marine Data BC',\n   'AHEAD',\n   'Research Data Archive at NCAR',\n   'Collaborative Research Centre Transregio 32 Database',\n   'Environmental Information Data Centre',\n   'ICES data portal',\n   'Sextant',\n   'Open Government Canada - Open Data',\n   'IOW Data Portal',\n   'B2FIND',\n   'SHARE Geonetwork',\n   'Index to Marine & Lacustrine Geological Samples',\n   'NOAA National Centers for Environmental Information - World Data Service  for Oceanography',\n   'Coastal Data Information Program',\n   'DEIMS-SDR',\n   'Marlin Metadata Catalogue',\n   'BAW-Datenrepository'],\n  'EML - Ecological Metadata Language': ['Ocean Biodiversity Information System',\n   'KNB Data Repository',\n   'German Federation for Biological Data',\n   'Research Computing and Data Services',\n   'Pôle National de Données de Biodiversité',\n   'Birdata',\n   'NOAA National Centers for Environmental Information - World Data Service  for Oceanography',\n   'DEIMS-SDR'],\n  'MIBBI - Minimum Information for Biological and Biomedical Investigations': ['FlowRepository'],\n  'CIM - Common Information Model': ['Earth System Grid Federation'],\n  'OAI-ORE - Open Archives Initiative Object Reuse and Exchange': ['IIT Dataverse',\n   'RIN Data Repository',\n   'Social Data Repository (RDS)',\n   'St. Francis Xavier University Dataverse',\n   'Macromolecular Xtallography Raw Data Repository',\n   'Repository for Open Data (RepOD)',\n   'DRYAD',\n   'PRISM Dataverse',\n   'CLARIN.SI repository'],\n  'FITS - Flexible Image Transport System': ['Solar Dynamics Observatory',\n   'Paris Astronomical Data Centre',\n   'APPLAUSE'],\n  'FGDC/CSDGM - Federal Geographic Data Committee Content Standard for Digital Geospatial Metadata': ['Land Information New Zealand Data Service',\n   'Global Change Master Directory',\n   'NOAA National Centers for Environmental Information - formerly: National Oceanographic Data Center',\n   'RIN Data Repository',\n   'Ocean Biodiversity Information System',\n   'ITIS',\n   'Land Resource Information Systems Portal',\n   'USGS Earthquake Hazards Program',\n   'National Snow and Ice Data Center',\n   'Research Computing and Data Services',\n   'Research Data Archive at NCAR',\n   'ICES data portal',\n   'VegBank',\n   'NOAA National Centers for Environmental Information - World Data Service  for Oceanography',\n   'Coastal Data Information Program',\n   'National Weather Service, National Centers for Environmental Prediction',\n   'Arctic Permafrost Geospatial Centre'],\n  'RDF Data Cube Vocabulary': ['UniProtKB',\n   'Carbohydrate Structure Database',\n   'ICES data portal',\n   'DRYAD',\n   'OpenWorm'],\n  'CF (Climate and Forecast) Metadata Conventions': ['coastMap',\n   'Ocean Observatories Initiative',\n   'GEOSS Portal',\n   'Physical Oceanography Distributed Active Archive Center',\n   'EBAS',\n   'Satellite Application Facility on Climate Monitoring',\n   'National Weather Service, National Centers for Environmental Prediction'],\n  'SDMX - Statistical Data and Metadata Exchange': ['RIN Data Repository',\n   'Knoema'],\n  'SPASE Data Model': ['Paris Astronomical Data Centre'],\n  'ISA-Tab': ['RIN Data Repository', 'GigaDB'],\n  'Repository-Developed Metadata Schemas': ['eBird',\n   'World Glacier Monitoring Service',\n   'PDX Finder',\n   'Illinois Data Bank',\n   'ASU Library Research Data Repository',\n   'Europeana collections',\n   'Carbohydrate Structure Database',\n   'OCTOPUS database',\n   'Medienarchiv der Zürcher Hochschule der Künste',\n   'NeuroMorpho.Org',\n   'MaizeGDB',\n   'PDS',\n   'GNPS: Global Natural Product Social Molecular Networking',\n   'The Universal Protein Resource',\n   'MetPetDB',\n   'VAMDC Portal',\n   'Clinical Research Metadata Repository',\n   'GeneWeaver.org',\n   'Chemical Effects in Biological Systems',\n   'CCCA Data Server',\n   'Million Song Dataset',\n   'Canadian Database of Geochemical Surveys',\n   'Global Health Observatory Data Repository',\n   'FILER: Functional genomics repository',\n   'PHAIDRA - University of Padua',\n   'IUCN Red List of Threatened Species',\n   'Deep Carbon Observatory Data Portal',\n   'IMGT/GENE-DB',\n   'Bioconductor',\n   'dbSNP'],\n  'Darwin Core': ['RIN Data Repository',\n   'Open Context',\n   'Ocean Biodiversity Information System',\n   'Atlas of Living Australia',\n   'VertNet',\n   'German Federation for Biological Data',\n   'Research Computing and Data Services',\n   'TreeBASE',\n   'Fishnet2',\n   'Marlin Metadata Catalogue'],\n  'AVM - Astronomy Visualization Metadata': ['Paris Astronomical Data Centre']},\n 'SPARQL': {'': ['ChEMBL',\n   'Chempound',\n   'BioModels',\n   'WikiPathways',\n   'Open Data Portal Russia',\n   'Linguistic Linked Open Data',\n   'DisGeNET',\n   'Rhea',\n   'Open Core Data',\n   'OpenEI',\n   'NetPath',\n   'AnimalGenome.ORG',\n   'FactGrid',\n   'BioPortal'],\n  'other': ['Geothermal Data Repository'],\n  'DataCite Metadata Schema': ['Archaeology Data Service', 'CoCoON'],\n  'Dublin Core': ['Archaeology Data Service',\n   'Europeana collections',\n   'Land Portal',\n   'International Food Policy Research Institute Dataverse',\n   'NAWI Water DAMS',\n   'CIARD Ring',\n   'European Union Open Data Portal',\n   'ISIDORE',\n   'ICOS Carbon Portal',\n   'MHKDR',\n   'OEDI',\n   'CoCoON',\n   'NAKALA',\n   'Geothermal Data Repository',\n   'mdw Repository'],\n  'DDI - Data Documentation Initiative': ['International Food Policy Research Institute Dataverse'],\n  'ISO 19115': ['NAWI Water DAMS',\n   'ICOS Carbon Portal',\n   'OpenTopography',\n   'MHKDR',\n   'OEDI',\n   'Geothermal Data Repository',\n   'TERN Data Discovery Portal',\n   'SITES Data Portal'],\n  'EML - Ecological Metadata Language': ['TERN Data Discovery Portal'],\n  'Repository-Developed Metadata Schemas': ['Gene Ontology',\n   'Archaeology Data Service',\n   'Europeana collections',\n   'The Universal Protein Resource',\n   'Rolling Deck to Repository'],\n  'FGDC/CSDGM - Federal Geographic Data Committee Content Standard for Digital Geospatial Metadata': ['NAWI Water DAMS',\n   'MHKDR',\n   'OEDI',\n   'Geothermal Data Repository'],\n  'DCAT - Data Catalog Vocabulary': ['European Data Portal',\n   'European Union Open Data Portal',\n   'ICOS Carbon Portal',\n   'GOVDATA',\n   'Répertoire International des Sources Musicales (RISM)',\n   'TERN Data Discovery Portal'],\n  'RDF Data Cube Vocabulary': ['UniProtKB',\n   'Land Portal',\n   'CIARD Ring',\n   'GlyTouCan',\n   'DURAARK datasets',\n   'DBpedia'],\n  'CF (Climate and Forecast) Metadata Conventions': ['ICOS Carbon Portal',\n   'TERN Data Discovery Portal'],\n  'Darwin Core': ['TERN Data Discovery Portal'],\n  'SDMX - Statistical Data and Metadata Exchange': ['Land Portal'],\n  'OAI-ORE - Open Archives Initiative Object Reuse and Exchange': ['Archaeology Data Service',\n   'mdw Repository']},\n 'FTP': {'': ['Goddard Earth Sciences Data and Information Services Center',\n   'UniSave',\n   'Cassavabase',\n   'ChEMBL',\n   'Climate Data Online',\n   'The Netlib',\n   'NCBI dbVar',\n   'Worldwide Protein Data Bank',\n   'Berkeley Drosophila Genome Project',\n   'SILVA',\n   'International Mouse Phenotyping Consortium',\n   'U.S. Census Bureau TIGER/Line Shapefiles and TIGER/Line® Files',\n   'Complex Portal',\n   'NAGRP Blast Center',\n   'Mass Spectrometry Interactive Virtual Environment',\n   'DataHub',\n   'BeetleBase',\n   'GDP Drifter Data',\n   'Evaluated Nuclear Data File',\n   'Gene Expression Omnibus',\n   '1000 Genomes',\n   'Global Precipitation Measurement',\n   'JPL OurOcean Portal',\n   'Expression Atlas',\n   'WormBase',\n   'Alberta Biodiversity Monitoring Institute Data & Analytics Portal',\n   'NERC Earth Observation Data Centre',\n   'NARSTO',\n   'iDog',\n   'PDBj',\n   'meereisportal.de',\n   \"Martha's Vineyard Coastal Observatory\",\n   'Astronomical Data Archives Center',\n   'International Satellite Cloud Climatology Project',\n   'HunCLARIN',\n   'National Center for Health Statistics',\n   'NASC',\n   'NCBI Gene',\n   'Information System and Data Center',\n   \"City of Burlington's Open Data Catalogue\",\n   'Earth Orientation Center',\n   'Canada-Nova Scotia Offshore Petroleum Board Data Management Centre',\n   'The Microbial Protein Interaction Database',\n   'The Taenia solium Genome Project',\n   'Cellosaurus',\n   'AmeriFlux',\n   'PRoteomics IDEntifications Database',\n   'National Center for Atmospheric Research',\n   'modENCODE',\n   'NCBI Third Party Annotation',\n   'BioModels',\n   'Bugwood Image Database System',\n   'AVISO+',\n   'WRMC-BSRN',\n   'World Data Centre for Precipitation Chemistry',\n   \"Physical mapping data at Canada's Michael Smith Genome Sciences Centre - Data\",\n   'Ensembl Metazoa',\n   'AlphaFold',\n   'SOL Genomics Network',\n   'NCBI Epigenomics',\n   'UniRef',\n   'DOE Joint Genome Institute Genome  Portal',\n   'Network for the Detection of Atmospheric Composition Change',\n   'International Laser Ranging Service',\n   'PhysioNet',\n   'Crustal Dynamics Data Information System',\n   'Aktuelle Wetter- und Klimawerte deutscher Stationen',\n   'NCEP/NCAR Reanalysis Project',\n   'NCBI Protein Clusters',\n   'ExPASy Bioinformatics Resource Portal',\n   'WHOI Ship Data-Grabber System',\n   'Immuno Polymorphism Database',\n   'Pfam Protein Families',\n   'GESDB',\n   'Bureau Central de Magnétisme Terrestre',\n   'Ensembl Plants',\n   'Berkeley Drosophila Genome Project insitu',\n   'Comprehensive R Archive Network',\n   'BigBrain Database',\n   'UniParc',\n   'GAPHYOR',\n   'UCSD Signaling gateway',\n   'Tropical Rainfall Measuring Mission',\n   'IntAct',\n   'GermOnline',\n   'BioImage Archive',\n   'Atlantic Oceanographic and Meteorological Laboratory',\n   'EMEP',\n   'GRACE ISDC',\n   'AceView',\n   'UCSC Genome Browser',\n   'UniProtKB/Swiss-Prot',\n   'IUBio-Archive',\n   'LEDAS',\n   'Plant Transcription Factor Database',\n   'The Arabidopsis Information Resource',\n   'SMOKA Science Archive',\n   'Jason Virtual Van',\n   'World Data Center for Cosmic Rays',\n   'World Data Center for Aerosols',\n   'United States Census Bureau',\n   'Bacterial and Viral Bioinformatics Resource Center',\n   'National Cryosphere Desert Data Center',\n   'HITRAN online',\n   'Comprehensive Large Array-data Stewardship System',\n   'Complete Genomics',\n   'European Nucleotide Archive',\n   'Chinese Astronomical Data Center',\n   'NCBI Probe',\n   'Geoscience Australia',\n   'database of Sequence Tagged Sites',\n   'Collaborative Research Centre 806 Database',\n   'EUREF Permanent Network',\n   'MEROPS',\n   'NCBI HomoloGene',\n   'Ensembl Bacteria',\n   'Ensembl',\n   'Rhea',\n   'Mouse Genome Informatics',\n   'Expressed Sequence Tags database',\n   'EMDataResource',\n   'ENCODE',\n   'Xenbase',\n   'Database of Genomic Variants',\n   'GNSS  - ISDC',\n   'Climate Hazards Center Data Archive',\n   'The Global Proteome Machine',\n   'Upper Ocean Processes Group',\n   'OAFlux',\n   'Ensembl Fungi',\n   'Ensembl Protists',\n   'MetaboLights',\n   'Bioinformatics.org',\n   'ClinVar',\n   'ESA Planetary Science Archive',\n   'Ensembl Genomes',\n   'NCBI PopSet',\n   'SIDER',\n   'NCBI Nucleotide',\n   'Genomic Expression Archive',\n   'NCBI Assembly',\n   'Protein Data Bank in Europe',\n   'Vienna Atomic Line Database',\n   'Russian-Ukrainian Geomagnetic Data Center',\n   'OMNIWeb',\n   'Coriolis',\n   'Comparative Mammalian Brain Collections',\n   'MERMeX',\n   'eartH2Observe',\n   'TOXNET',\n   'PubChem',\n   'Journal of applied econometrics Data Archive',\n   'EOL',\n   'FlyBase',\n   'RCSB Protein Data Bank',\n   'Nobeyama Radio Polarimeters',\n   'SoyBase',\n   'Japanese Genotype-phenotype Archive',\n   'RESID Database of Protein Modifications',\n   'REBASE',\n   'NCBI dbMHC',\n   'Peptidome',\n   'ALEXA',\n   'Tropical Cyclone Information System',\n   'NCBI dbGaP',\n   'Government of Alberta Open Datasets',\n   'NCBI Protein',\n   'UniGene',\n   'Pombase',\n   'IAU Minor Planet Center',\n   'Rat Genome Database',\n   'Woods Hole Oceanographic Institution Data Library and Archives',\n   'OASIS',\n   'Conserved Domain database',\n   'Mutopia Project',\n   'EMBL-EBI',\n   'Center for Remote Sensing of Ice Sheets',\n   'eHOMD',\n   'COSMIC Data Analysis and Archive Center',\n   'InterPro',\n   'TreeGenes',\n   'NCBI BioSystems Database',\n   'IDEAS',\n   'UCSD Metabolomics Workbench',\n   'Greenland Climate Network',\n   'NCBI GSS',\n   'Space Physics Data Facility',\n   'R. L. Kurucz atomic linelist',\n   'NCBI Trace Archive',\n   'Remote Sensing Systems',\n   'THEMIS',\n   'volare',\n   'Wellcome Trust Sanger Institute, Scientific resources',\n   'Savannah',\n   'CATH',\n   'SkyView',\n   'FANTOM',\n   'IMGT/HLA Database',\n   'ProteomeXchange',\n   'Center for Engineering Strong Motion Data',\n   'CancerData.org',\n   'Pediatric MRI Data Repository',\n   'Cellular Phenotype database',\n   'GeneDB',\n   'Incorporated Research Institutions for Seismology',\n   'NCBI Structure',\n   'NCBI Influenza Virus Resource',\n   'Mouse Tumor Biology Database',\n   'World Data Centre for Space Weather',\n   'SureChEMBL',\n   'Gramene',\n   'RENAG-DC',\n   'Barrow Atmospheric Baseline  Observatory',\n   'Integrated Relational Enzyme database',\n   'U.S. GLOBal Ocean ECosystems Dynamics',\n   'National Science Foundation Polar Programs UV Monitoring Network',\n   'Database of Genomic Variants Archive',\n   'Summit Station',\n   'DNA Data Bank of Japan',\n   'NCBI Reference Sequence Database',\n   'British Antarctic Survey',\n   'DTU Bioinformatics',\n   'Nucleic Acid Database',\n   'TwinsUK',\n   'Western Regional Climate Center',\n   'NCBI Taxonomy',\n   'GenBank',\n   'International GNSS Service',\n   'Greengenes',\n   'ExAC Browser',\n   'Biological Magnetic Resonance Data Bank',\n   'NCBI Clone DB',\n   'NCBI Genome',\n   'SURFRAD',\n   'NCBI Virus Variation',\n   'Historical hydrographic data from BSH'],\n  'ABCD - Access to Biological Collection Data': ['datacommons@psu',\n   'National Weather Service, National Centers for Environmental Prediction'],\n  'other': ['CDAWeb'],\n  'DataCite Metadata Schema': ['Global Precipitation Climatology Centre',\n   'SMU Research Data Repository',\n   'China National GeneBank DataBase',\n   'OPAL',\n   'Community Data Portal',\n   'datacommons@psu'],\n  'Dublin Core': ['SMU Research Data Repository',\n   'National Ecosystem Data Bank',\n   'Centre for Environmental Data Analysis',\n   'OPAL',\n   'Bavarian Archive for Speech Signals',\n   'Barbara A. Mikulski Archive for Space Telescopes',\n   'DNBLab',\n   'Strasbourg Astronomical Data Center'],\n  'International Virtual Observatory Alliance Technical Specifications': ['Barbara A. Mikulski Archive for Space Telescopes',\n   'Strasbourg Astronomical Data Center'],\n  'DIF - Directory Interchange Format': ['NOAA National Centers for Environmental Information -  Paleoclimatology Data',\n   'NOAA National Centers for Environmental Information - formerly: National Geophysical Data Center',\n   'ChArMEx database',\n   'National Snow and Ice Data Center',\n   'World Data Center for Meteorology, Asheville',\n   'World Data Center for Solar-Terrestrial Physics, Moscow',\n   'Antarctic Glaciological Data Center at NSIDC',\n   'NOAA National Centers for Environmental Information - World Data Service  for Oceanography'],\n  'CIF - Crystallographic Information Framework': ['Reciprocal Net'],\n  'ISO 19115': ['Global Precipitation Climatology Centre',\n   'World Ocean Database',\n   'CDC - Climate Data Center',\n   'National Geoscience Data Centre',\n   'NOAA National Centers for Environmental Information -  Paleoclimatology Data',\n   'UNAVCO',\n   'NOAA National Centers for Environmental Information - formerly: National Oceanographic Data Center',\n   'World Data Centre for Geomagnetism, Copenhagen',\n   'International Earth Rotation and Reference Systems Service',\n   'NOAA National Centers for Environmental Information - formerly: National Geophysical Data Center',\n   'ChArMEx database',\n   'World Data Centre for Geomagnetism, Edinburgh',\n   'Intermagnet',\n   'National Snow and Ice Data Center',\n   'World Data Center for Meteorology, Asheville',\n   'World Data Center for Solar-Terrestrial Physics, Moscow',\n   'Antarctic Glaciological Data Center at NSIDC',\n   'datacommons@psu',\n   'Norwegian Meteorological Institute, Free Meteorological Data',\n   'Integrated Marine Observing System Ocean Data Portal',\n   'The National Map',\n   'PSD Climate and Weather Data',\n   'NOAA National Centers for Environmental Information - World Data Service  for Oceanography'],\n  'FITS - Flexible Image Transport System': ['Solar Dynamics Observatory',\n   'The Infrared Space Observatory data archive',\n   'NASA Space Science Data Coordinated Archive',\n   'GOES Space Environment Monitor',\n   'Strasbourg Astronomical Data Center',\n   'High Energy Astrophysics Science Archive Research Center'],\n  'ISA-Tab': ['China National GeneBank DataBase'],\n  'MIBBI - Minimum Information for Biological and Biomedical Investigations': ['Database of Interacting Proteins'],\n  'Repository-Developed Metadata Schemas': ['Earth System Research Laboratory - Global Monitoring Division',\n   'BioSample',\n   'Brain Image Library',\n   'Open Archive for Miscellaneous Data',\n   'MaizeGDB',\n   'GNPS: Global Natural Product Social Molecular Networking',\n   'The Universal Protein Resource',\n   'BioProject',\n   'GENCODE',\n   'Tropospheric Emission Spectrometer',\n   'Genome Warehouse',\n   'IMGT/LIGM-DBI',\n   'Chemical Effects in Biological Systems',\n   'Kyoto Encyclopedia of Genes and Genomes',\n   'UCI Machine Learning Repository',\n   'Sequence Read Archive',\n   'Integrated Climate Data Center',\n   'ArrayExpress',\n   'PeptideAtlas',\n   'Genome Sequence Archive',\n   'VectorBase',\n   'The Electron Microscopy Data Bank',\n   'ChEBI',\n   'dbSNP'],\n  'FGDC/CSDGM - Federal Geographic Data Committee Content Standard for Digital Geospatial Metadata': ['Northern California Earthquake Data Center',\n   'NOAA National Centers for Environmental Information -  Paleoclimatology Data',\n   'NOAA National Centers for Environmental Information - formerly: National Oceanographic Data Center',\n   'PRISM Climate Data',\n   'NOAA National Centers for Environmental Information - formerly: National Geophysical Data Center',\n   'American FactFinder',\n   'National Snow and Ice Data Center',\n   'Barrow Area Information Database',\n   'Shuttle Radar Topography Mission',\n   'POES Space Environment Monitor',\n   'World Data Center for Meteorology, Asheville',\n   'Antarctic Glaciological Data Center at NSIDC',\n   'datacommons@psu',\n   'Global Land Cover Facility',\n   'The National Map',\n   'NOAA National Centers for Environmental Information - World Data Service  for Oceanography',\n   'National Weather Service, National Centers for Environmental Prediction'],\n  'EML - Ecological Metadata Language': ['NOAA National Centers for Environmental Information - formerly: National Geophysical Data Center',\n   'World Data Center for Meteorology, Asheville',\n   'NOAA National Centers for Environmental Information - World Data Service  for Oceanography'],\n  'Genome Metadata': ['Open Archive for Miscellaneous Data', 'PATRIC'],\n  'CF (Climate and Forecast) Metadata Conventions': ['World Ocean Database',\n   'GHRC',\n   'USGODAE Argo GDAC Data Browser',\n   'HyMeX',\n   'Centre for Environmental Data Analysis',\n   'International Argo Project',\n   'World Ocean Atlas',\n   'Copernicus Marine Environment Monitoring Service',\n   'OceanSITES',\n   'Satellite Application Facility on Climate Monitoring',\n   'The CEDA Archive',\n   'National Weather Service, National Centers for Environmental Prediction'],\n  'SPASE Data Model': ['Radiation Belt Storm Probes Ion Composition Experiment']},\n 'REST': {'': ['PSnpBind',\n   'Hazardous Substance Data Bank',\n   'Saccharomyces Genome Database',\n   'immuneACCESS',\n   'Allen Brain Atlas',\n   'UniSave',\n   'The World Bank Open Data',\n   'ChEMBL',\n   'Climate Data Online',\n   'InGeoCloudS',\n   'Haldimand County Open Data',\n   'Open Government Data Platform India',\n   'International Mouse Phenotyping Consortium',\n   'OECD iLibrary Statistics',\n   \"City of Abbotsford's Open Data Hub\",\n   'Open Government Data Portal of Odisha',\n   'Complex Portal',\n   'Whitby GeoHub',\n   'Edmonton Open Data',\n   'prometheus',\n   'Datanator',\n   'U.S. Department of Labor, Bureau of Labor Statistics',\n   'ZINC',\n   'Open Energy Platform',\n   'virus mentha',\n   'ABCD Data Repository',\n   'Expression Atlas',\n   'Harmonia Universalis',\n   'WormBase',\n   'PharmGKB',\n   'DrugBank',\n   'Thunder Bay Open Data Portal',\n   'NF Data Portal',\n   'Water Quality Portal',\n   'Global Forest Change',\n   'NASC',\n   'Maple Ridge Open Government Portal',\n   'Academic Torrents',\n   'D-PLACE',\n   'Conservation Halton Open Data Hub',\n   'Newfoundland and Labrador Fisheries, Forestry and Agriculture GeoHub',\n   'IndExs – Index of Exsiccatae',\n   'Climate Action Plan Explorer',\n   'Joint Genome Institute Data Portal',\n   'The Cancer Imaging Archive',\n   'SourceForge',\n   'OpenML',\n   'Federal Reserve Economic Data',\n   'Chempound',\n   \"Nova Scotia Government's Open Data Portal\",\n   'PRoteomics IDEntifications Database',\n   'modENCODE',\n   'BioModels',\n   'Portal Zarządzania Wiedzą UJ CM',\n   'data.world',\n   'Kitchener GeoHub',\n   'Altalis',\n   'Columbia University Academic Commons',\n   'BioSimulations',\n   'Curtin University Research Data Collection',\n   'Global Record of Stocks and Fisheries',\n   'Employment Ontario Geo Hub',\n   'Ensembl Metazoa',\n   'Toronto Police Service Public Safety Data Portal',\n   'HUGO Gene Nomenclature Committee',\n   'ibeetle',\n   'Junar',\n   'OpenStreetMap',\n   'Biosamples',\n   'BioSimulators',\n   'Pfam Protein Families',\n   'Barcode of Life Data Systems',\n   'Ensembl Plants',\n   'Språkbanken Text',\n   'EPPO Global Database',\n   'WikiPathways',\n   'BBMRI-ERIC Directory',\n   'City of Surrey Open Data',\n   'QTL Archive',\n   'MyTardis',\n   'Natural History Museum, Data Portal',\n   'HumanCyc',\n   'Open Data Region of Durham',\n   'GeoNB',\n   'MultiDark Database',\n   'Mouse Phenome Database',\n   'Repository of Psychological Instruments in Serbian',\n   'Prince Edward Island Government Open Data Portal',\n   'Launchpad',\n   'Encyclopedia of Life',\n   'The Paleobiology Database',\n   'myExperiment',\n   'OpenAltimetry',\n   'IMEx',\n   'SABIO-RK',\n   'MGnify',\n   'Fishbase',\n   'Regional District of North Okanagan GIS Open Data Site',\n   'Vega',\n   'mentha',\n   'Squamish Open Data',\n   'protocols.io',\n   'European Nucleotide Archive',\n   'DataBC',\n   'bio.tools',\n   'Computational and Information Systems Laboratory Research Data Archive',\n   'Northwest Territories Geological Survey Open Data',\n   'NCI Imaging Data Commons',\n   'BIGG Database',\n   'Monitor of Settlement and Open Space Development',\n   'Emage',\n   'Sandrart.net',\n   'National Biodiversity Network Atlas',\n   'BioGRID ORCS',\n   'City of Greater Sudbury Open Data Portal',\n   'Brainlife',\n   'MG-RAST',\n   'Ensembl Bacteria',\n   'DisGeNET',\n   'Ensembl',\n   'NIH 3D Print Exchange',\n   'Rhea',\n   'govinfo',\n   'Digitale Bibliothek Thüringen',\n   'Mutant Mouse Resource & Research Centers',\n   'EarthChem Library',\n   'PhenoGen Informatics',\n   'National Cancer Data Base',\n   'B2SHARE',\n   'TAMBORA',\n   'Movebank',\n   'EDINA',\n   'ArkDB',\n   'NIST Data Discovery',\n   'Open Government Data Portal of Sikkim',\n   'Pathway Commons',\n   'ENCODE',\n   'West Parry Sound Geography Network',\n   'The Global Proteome Machine',\n   'Ensembl Fungi',\n   'Ensembl Protists',\n   'BC Oil and Gas Commission Open Data Portal',\n   'Bitbucket',\n   'Town of Canmore Open Data',\n   'Ensembl Genomes',\n   'NeuroElectro',\n   'Cefas Data Hub',\n   'Genomic Data Commons',\n   'JASPAR',\n   'Region of Peel Data Portal',\n   'Protein Data Bank in Europe',\n   'Integrated Digitized Biocollections',\n   'County of Grande Prairie Open Data',\n   'Coquitlam Open Data',\n   'Fredericton Open Data',\n   'Chemical Carcinogenesis Research Information System',\n   'NoMaD Repository & Archive',\n   'EcoCyc Database',\n   'Saskatchewan GeoHub',\n   'The European Genome-phenome Archive',\n   'City of Vancouver Open Data Portal',\n   'Protected Planet',\n   'Animal QTLdb',\n   'White Rock Open Data Portal',\n   'domino',\n   'PubChem',\n   'The Dataweb Dataverse',\n   'Open Calgary',\n   'Open Penticton',\n   'Open Core Data',\n   'USGS National Water Information System',\n   'RCSB Protein Data Bank',\n   'OpenEI',\n   'South African Weather Service',\n   'BioCyc Genome Database Collection',\n   'Signaling Pathways Project',\n   'doRiNA',\n   'BioGRID',\n   'SwissLipids',\n   'TheDataWeb',\n   'BindingDB',\n   'Earth Engine Data Catalog',\n   'LIPID MAPS Lipidomics Gateway',\n   'Demographic and Health Surveys',\n   'Electron Microscopy Public Image Archive',\n   'Rat Genome Database',\n   'EBRAINS',\n   'CLARIN-ERIC',\n   'Kadi4Mat',\n   'OASIS',\n   'London Datastore',\n   'Prompt Assessment of Global Earthquakes for Response',\n   'ScholarWorks Boise State University',\n   'EMBL-EBI',\n   'Open Data New Brunswick',\n   'COSMIC Data Analysis and Archive Center',\n   'InterPro',\n   'City of Oshawa Open Data',\n   'Region of Waterloo - Open Data',\n   'BsubCyc',\n   'IRMA Portal',\n   'UCSD Metabolomics Workbench',\n   'The Data Hub',\n   'Loyalist Migrations',\n   'Agency for Healthcare Research and Quality, Data & Surveys',\n   'EarthChem Library',\n   'iReceptor',\n   'MetabolomeXchange',\n   'City of Victoria Open Data Portal',\n   'City of Mississauga Open Data Catalogue',\n   'ChemSpider',\n   'East Hants Open Data',\n   'B2SHARE Server Forschungszentrum Jülich',\n   'Network Data Exchange',\n   'City of Regina Open Data',\n   'Materials Project',\n   'LAADS DAAC',\n   'Center for Demography of Health and Aging',\n   'Arquivo.pt - the Portuguese web-archive',\n   'City of London Open Data',\n   'FaceBase',\n   'Argovis',\n   'Data MB',\n   'NASA Image and Video Library',\n   'MycoBank',\n   'Google Code Project Hosting',\n   'NeuroVault',\n   'Essex County Open Data',\n   'Swiss National Data and Service Center for the Humanities',\n   'GeoNames',\n   'Smithsonian Open Access',\n   'Basis Set Exchange',\n   'Ag-Analytics',\n   'AnimalGenome.ORG',\n   'NOAA National Centers  for Environmental Information - formerly: National Climatic Data Center',\n   'Language Archive Cologne',\n   'Centers for Disease Control and Prevention, Data & Statistics',\n   'National Archives',\n   'CITK',\n   'WBG Open Finances',\n   'City of Winnipeg Open Data Portal',\n   'GWAS Central',\n   'City of Cambridge GeoHub',\n   'Gemma',\n   'ScienceBase USGS',\n   'Inspire-HEP',\n   'U.S. Energy Information Administration',\n   'City of Brantford Open Data Catalogue',\n   'hPSCreg',\n   'NWT Centre for Geomatics',\n   'FAIRsharing',\n   'Open Data Moncton',\n   'Open Hamilton',\n   'Broad GDAC Firehose',\n   'Incorporated Research Institutions for Seismology',\n   'Store.Synchrotron Data Store',\n   'System for Earth Sample Registration',\n   'European Chemical Biology Database',\n   'brainlife',\n   'National Biomedical Imaging Archive',\n   'Open Data Portal - City of Kelowna',\n   'PSLC DataShop',\n   \"Nasa's Data Portal\",\n   'SureChEMBL',\n   'ATCC Genome Portal',\n   'European XFEL Data Portal',\n   'Gramene',\n   'RENAG-DC',\n   'City of Kamloops Open Data Catalog',\n   'Worldpop',\n   'DATA.GOV.UK',\n   'STITCH 4.0',\n   'Open Data Catalogue - City of Lethbridge',\n   'BioVel',\n   'Navigate Newmarket',\n   'BioGPS',\n   'Synapse',\n   'City of Grand Prairie Open Data Catalogue',\n   'National Institute of Mental Health Data Archive',\n   'DNA Data Bank of Japan',\n   'Ottawa Riverkeeper Open Data',\n   'Huron County Open Data',\n   'MoNA',\n   'LAUDATIO',\n   'COVID-19 Interactive Map',\n   'Conservation Ontario Open Data Hub',\n   'Open Government Data Portal of Tamil Nadu',\n   'enviPath',\n   'City of Pickering Open Data Portal',\n   'MetaCyc',\n   'Kenya Open Data',\n   'City of Peterborough Open Data Portal',\n   'Hydro-Québec Open Data',\n   'Reactome',\n   'ACEnano',\n   'Ontario GeoHub',\n   'IPGP Data Center',\n   'Tropicos®',\n   'COVID-19 Data Portal',\n   'Biological Magnetic Resonance Data Bank',\n   'City of Saskatoon Open Data Catalogue',\n   'SinMin',\n   'European MassBank',\n   'Space Physics Interactive Data Resource',\n   'WHOI Argo Program',\n   'Golm Metabolome Database',\n   'SASBDB',\n   'BioPortal'],\n  'PROV': ['Jülich DATA',\n   'DesignSafe-CI Data Depot Repository',\n   'NSF Arctic Data Center',\n   'MorphoSource',\n   'TROLLing',\n   'DANDI',\n   'DataverseNO'],\n  'ABCD - Access to Biological Collection Data': ['Sistema de Información de Biodiversidad de Ecuador SiB-Ec',\n   'Staatliche Naturwissenschaftliche Sammlungen Bayerns',\n   'LibraData',\n   'Global Biodiversity Information Facility',\n   'datacommons@psu'],\n  'International Virtual Observatory Alliance Technical Specifications': ['RIN Data Repository',\n   'DataverseNO',\n   'Strasbourg Astronomical Data Center',\n   'RAVE database',\n   'University of Alberta Dataverse'],\n  'DIF - Directory Interchange Format': ['Global Change Master Directory',\n   'Geoscience Data Exchange',\n   'NOAA National Centers for Environmental Information -  Paleoclimatology Data',\n   'NOAA National Centers for Environmental Information - formerly: National Coastal Data Development Center',\n   'INGV Open Data Registry',\n   'World Data Center for Climate',\n   'Atmospheric Science Data Center',\n   'UTM-CSIC Data Centre',\n   'Norwegian Polar Data Centre',\n   'Public Geodata Repository',\n   'GEOSS Portal',\n   'Research Data Archive at NCAR',\n   'U.S. Antarctic Program Data Center',\n   'NASA Distributed Active Archive Center at National Snow & Ice Data Center',\n   'Redape'],\n  'CIF - Crystallographic Information Framework': ['MPDS',\n   'Crystallography Open Database'],\n  'DDI - Data Documentation Initiative': [\"Queen's University Dataverse\",\n   'UCLA Dataverse',\n   'McGill University Dataverse',\n   'Concordia University Dataverse',\n   'Dados Abertos De Pesquisas',\n   'ASU Library Research Data Repository',\n   \"Dataverse de l'Institut national de la recherche scientifique\",\n   'RIN Data Repository',\n   'World Agroforestry Centre - ICRAF Dataverse',\n   'Université de Montréal – Dataverse',\n   'data.InDoRES',\n   'Mount Royal University Dataverse',\n   'McMaster University Dataverse',\n   'Brock University Dataverse',\n   'Society of American Archivists Dataverse',\n   'SAO/NASA Astrophysics Data System Dataverse',\n   'Prospered Project',\n   'Peking University Open Research Data',\n   'Arca Dados',\n   'ARP Research Data Repository',\n   'KWTRP Research Data Repository Dataverse',\n   'Jülich DATA',\n   'Wilfrid Laurier University Dataverse',\n   'George Mason University Dataverse',\n   'University of Waterloo Dataverse',\n   'University of Guelph Research Data Repository  Dataverse',\n   'DaRUS',\n   'University of Winnipeg Research Data Repository',\n   'Mindboggle-101',\n   'LibraData',\n   \"Dataverse de l'Université TÉLUQ\",\n   'Abacus Data Network',\n   'DesignSafe-CI Data Depot Repository',\n   'DataRepositoriUM',\n   'Dataverse de Polytechnique Montréal',\n   'Université du Québec à Trois-Rivières - Borealis',\n   'Open Forest Data',\n   'HEC Montréal Dataverse',\n   'MacEwan University Data Repository',\n   'DUnAs',\n   'Vancouver Island University Dataverse',\n   'University of Northern British Columbia Dataverse',\n   'UNC Dataverse',\n   'UQAM - Dataverse',\n   'Western University Dataverse',\n   'eSHODHMANTHAN',\n   'TROLLing',\n   \"Dataverse de l'Université Laval\",\n   'DOREL',\n   'CfA Dataverses',\n   'Better Access to Data for Global Interdisciplinary Research',\n   'RODBUK Cracow Open Research Data Repository',\n   'CIMMYT Research Data & Software Repository Network',\n   'CESSDA Data Catalogue',\n   'GlobeData',\n   'Borealis',\n   'Rigsarkivets surveydata',\n   'DataverseNL',\n   'Lakehead University Dataverse',\n   'DataverseNO',\n   'Cape Breton University Dataverse',\n   'U.S. National Archives and Records Administration Dataverse',\n   'Dalhousie University Dataverse @ Borealis',\n   'University of Windsor Dataverse',\n   'The Abdul Latif Jameel Poverty Action Lab',\n   'SISSA Open Data',\n   'UNB Libraries Dataverse Research Data Repository',\n   'University of Regina Dataverse',\n   'Addis Ababa University Research Data Repository',\n   \"Dataverse de l'Université du Québec à Chicoutimi\",\n   'PRISM Dataverse',\n   'University of Manitoba Dataverse',\n   'Harvard Numeric Data Services Dataverse',\n   'SPT Galaxy Cluster Followup Dataverse',\n   \"Saint Mary's University Dataverse\",\n   'University of Victoria Dataverse',\n   'Memorial University Dataverse',\n   'CIAT Dataverse',\n   'Data INRAE',\n   'University of Ottawa Dataverse',\n   'Washington State University Data Center Dataverse',\n   'SFU Radar',\n   'UCLA Social Science Data Archive',\n   'GEUS Dataverse',\n   '1.2 Meter CO Survey Dataverse',\n   'University of Alberta Dataverse',\n   'Repositorio de datos de investigación de la Universidad del Rosario',\n   'UCD Digital Library'],\n  'DCAT - Data Catalog Vocabulary': ['INGV Open Data Registry',\n   'European Data Portal',\n   'Open Data Kingston',\n   'Norwegian Polar Data Centre',\n   'Yukon Open Data',\n   'Open Data by Socrata',\n   'RDPCIDAT',\n   'Etsin Research Data Finder',\n   'Marine Scotland Data'],\n  'other': ['MARGINS Data Portal',\n   'Abacus Data Network',\n   'CDAWeb',\n   'Geothermal Data Repository'],\n  'DataCite Metadata Schema': [\"Queen's University Dataverse\",\n   'Sistema de Información de Biodiversidad de Ecuador SiB-Ec',\n   'OEDataRep',\n   'PetDB',\n   'UCLA Dataverse',\n   'McGill University Dataverse',\n   'Concordia University Dataverse',\n   'Dados Abertos De Pesquisas',\n   'ASU Library Research Data Repository',\n   \"Dataverse de l'Institut national de la recherche scientifique\",\n   'data_UMR',\n   'RIN Data Repository',\n   'Université de Montréal – Dataverse',\n   'data.InDoRES',\n   'Mount Royal University Dataverse',\n   'McMaster University Dataverse',\n   'INGV Open Data Registry',\n   'DABAR',\n   '<intR>²Dok[§]',\n   'Middlesex University Research Data Repository',\n   'Prospered Project',\n   'ScienceRepository',\n   'CaltechDATA',\n   'Arca Dados',\n   'ARP Research Data Repository',\n   'Jülich DATA',\n   \"New Zealand's Biological Heritage National Science Challenge Data Repository\",\n   'World Data Center for Climate',\n   'Wilfrid Laurier University Dataverse',\n   'George Mason University Dataverse',\n   'University of Waterloo Dataverse',\n   'RADAR4Chem',\n   'EnviDat',\n   'DaRUS',\n   'University of Winnipeg Research Data Repository',\n   'Most Wiedzy Open Research Data Catalog',\n   'OSF - Vrije Universiteit Amsterdam',\n   'LibraData',\n   'Trent University Dataverse',\n   'ETH Zürich Research Collection',\n   \"Dataverse de l'Université TÉLUQ\",\n   'DesignSafe-CI Data Depot Repository',\n   'DataRepositoriUM',\n   'Dataverse de Polytechnique Montréal',\n   'NSF Arctic Data Center',\n   'Université du Québec à Trois-Rivières - Borealis',\n   'HEC Montréal Dataverse',\n   'MacEwan University Data Repository',\n   'OPAL',\n   'DataHub Figshare',\n   'DUnAs',\n   'Yareta',\n   'TUdatalib',\n   'Vancouver Island University Dataverse',\n   'Project Tycho: Data for Health',\n   'TCCON Data Archive',\n   'OpenLandMap.org',\n   'University of Northern British Columbia Dataverse',\n   'Norwegian Polar Data Centre',\n   'GEOFON',\n   'UQAM - Dataverse',\n   'Western University Dataverse',\n   'eSHODHMANTHAN',\n   'IEDA',\n   'International Institute of Tropical Agriculture datasets',\n   \"Dataverse de l'Université Laval\",\n   'DOREL',\n   'Forschungsdaten-Repositorium der LUH',\n   'INPTDAT',\n   'datacommons@psu',\n   'GRO.data',\n   'SURF Data Repository',\n   'UK Polar Data Centre',\n   'AHEAD',\n   'RODBUK Cracow Open Research Data Repository',\n   'ROHub',\n   'GlobeData',\n   'Borealis',\n   'TU Graz Repository',\n   'Research Data Archive at NCAR',\n   'DANDI',\n   'DataverseNO',\n   'Cape Breton University Dataverse',\n   'RADAR4Culture',\n   'SciLifeLab Data Repository',\n   'DRYAD',\n   'Apollo',\n   'University of Windsor Dataverse',\n   'SISSA Open Data',\n   'UNB Libraries Dataverse Research Data Repository',\n   'University of Regina Dataverse',\n   'Addis Ababa University Research Data Repository',\n   \"Dataverse de l'Université du Québec à Chicoutimi\",\n   'PRISM Dataverse',\n   'mediaTUM',\n   'University of Manitoba Dataverse',\n   'RADAR',\n   \"Saint Mary's University Dataverse\",\n   'University of Victoria Dataverse',\n   'OLOS',\n   'Memorial University Dataverse',\n   'Data INRAE',\n   'Zenodo',\n   'University of Ottawa Dataverse',\n   'AIDA Data Hub',\n   'Open-source Scientific Software and Service Repository',\n   'GEUS Dataverse',\n   'Redape',\n   'BacDive',\n   'University of Alberta Dataverse',\n   'Repositorio de datos de investigación de la Universidad del Rosario',\n   'UCD Digital Library',\n   'Marine Scotland Data',\n   'Bicocca Open Archive Research Data',\n   'Datenrechercheportal UFZ'],\n  'Dublin Core': ['Données Québec',\n   \"Queen's University Dataverse\",\n   'DARIAH-DE Repository',\n   'Global Change Master Directory',\n   'Sistema de Información de Biodiversidad de Ecuador SiB-Ec',\n   'OEDataRep',\n   'UCLA Dataverse',\n   'Genomic Observatories MetaDatabase',\n   'McGill University Dataverse',\n   'Concordia University Dataverse',\n   'Dados Abertos De Pesquisas',\n   'ASU Library Research Data Repository',\n   \"Dataverse de l'Institut national de la recherche scientifique\",\n   'data_UMR',\n   'RIN Data Repository',\n   'Europeana collections',\n   'Université de Montréal – Dataverse',\n   'data.InDoRES',\n   'Mount Royal University Dataverse',\n   'McMaster University Dataverse',\n   'Brock University Dataverse',\n   'Society of American Archivists Dataverse',\n   'SAO/NASA Astrophysics Data System Dataverse',\n   'DABAR',\n   '<intR>²Dok[§]',\n   'Middlesex University Research Data Repository',\n   'Prospered Project',\n   'ScienceRepository',\n   'NAWI Water DAMS',\n   'Geo Big Data Open Platform',\n   'Arca Dados',\n   'ARP Research Data Repository',\n   'CIARD Ring',\n   'KWTRP Research Data Repository Dataverse',\n   'Jülich DATA',\n   'Portal de Datos Abiertos UNAM, Colecciones Universitarias',\n   'GNS Science Dataset Catalogue',\n   'Wilfrid Laurier University Dataverse',\n   'George Mason University Dataverse',\n   'University of Waterloo Dataverse',\n   'University of Guelph Research Data Repository  Dataverse',\n   'RADAR4Chem',\n   'DaRUS',\n   'University of Winnipeg Research Data Repository',\n   'Sicas Medical Image Repository',\n   'LibraData',\n   'National Ecosystem Data Bank',\n   'ETH Zürich Research Collection',\n   'ISIDORE',\n   'OpenAgrar',\n   \"Dataverse de l'Université TÉLUQ\",\n   'Abacus Data Network',\n   'DesignSafe-CI Data Depot Repository',\n   'DataRepositoriUM',\n   'Repository of the Faculty of Science',\n   'Dataverse de Polytechnique Montréal',\n   'TextGrid Repository',\n   'Université du Québec à Trois-Rivières - Borealis',\n   'MHKDR',\n   'Open Forest Data',\n   'ClinicalTrials.gov',\n   'HEC Montréal Dataverse',\n   'MacEwan University Data Repository',\n   'OEDI',\n   'OPAL',\n   'DataHub Figshare',\n   'DUnAs',\n   'ioChem-BD',\n   'KNB Data Repository',\n   'TUdatalib',\n   'Vancouver Island University Dataverse',\n   'ScienceData',\n   'UTM-CSIC Data Centre',\n   'University of Northern British Columbia Dataverse',\n   'PAC - Archiving Platform CINES',\n   'UNC Dataverse',\n   'MorphoSource',\n   'BLB Digitale Sammlungen',\n   'UQAM - Dataverse',\n   'Public Geodata Repository',\n   'Western University Dataverse',\n   'eSHODHMANTHAN',\n   'TROLLing',\n   'Repository CLARIN Centre Leipzig',\n   'DOREL',\n   'GEOSS Portal',\n   'SURF Data Repository',\n   'AHEAD',\n   'OSTI',\n   'RODBUK Cracow Open Research Data Repository',\n   'GlobeData',\n   'Borealis',\n   'San Raffaele Open Research Data Repository',\n   'Materials Cloud Archive',\n   'Research Data Archive at NCAR',\n   'DataverseNL',\n   'Lakehead University Dataverse',\n   'DataverseNO',\n   'Cape Breton University Dataverse',\n   'Digital Repository NM EPSCoR',\n   'PHAIDRA - University of Padua',\n   'TreeBASE',\n   'RADAR4Culture',\n   'World Register of Marine Species',\n   'SciLifeLab Data Repository',\n   'QsarDB',\n   'DRYAD',\n   'Dalhousie University Dataverse @ Borealis',\n   'NAKALA',\n   'Apollo',\n   'University of Windsor Dataverse',\n   'SISSA Open Data',\n   'UNB Libraries Dataverse Research Data Repository',\n   'data.bris Research Data Repository',\n   'ArkeoGIS',\n   'Addis Ababa University Research Data Repository',\n   \"Dataverse de l'Université du Québec à Chicoutimi\",\n   'PRISM Dataverse',\n   'Geothermal Data Repository',\n   'University of Manitoba Dataverse',\n   'RADAR',\n   'Harvard Numeric Data Services Dataverse',\n   \"Saint Mary's University Dataverse\",\n   'University of Victoria Dataverse',\n   'Memorial University Dataverse',\n   'Data INRAE',\n   'Thai National Research Repository',\n   'Zenodo',\n   'University of Ottawa Dataverse',\n   'Strasbourg Astronomical Data Center',\n   'eLaborate',\n   'GEUS Dataverse',\n   'ZBW Digital Long-Term Archive',\n   'Redape',\n   'University of Alberta Dataverse',\n   'Repositorio de datos de investigación de la Universidad del Rosario',\n   'UCD Digital Library',\n   'Etsin Research Data Finder',\n   'Bicocca Open Archive Research Data',\n   'Environmental Data Initiative Repository',\n   'Datenrechercheportal UFZ'],\n  'ISO 19115': ['Global Change Master Directory',\n   'Geoscience Data Exchange',\n   'Hakai Data',\n   'Global Multi-Resolution Topography Data Portal',\n   'National Geoscience Data Centre',\n   'McGill University Dataverse',\n   'NOAA National Centers for Environmental Information -  Paleoclimatology Data',\n   'GeoPlatform',\n   'Critical Zone Observatories data',\n   'NOAA National Centers for Environmental Information - formerly: National Coastal Data Development Center',\n   'UNAVCO',\n   'Jurisdictional Ocean Information Sharing System',\n   'TOAR Surface Observation Database',\n   'Swedish Meteorological and Hydrological Institute  open data',\n   'INGV Open Data Registry',\n   'MediaBank',\n   'NAWI Water DAMS',\n   'World Data Center for Climate',\n   'Environmental data explorer',\n   'GNS Science Dataset Catalogue',\n   'NDSF Data Portal',\n   'RADAR Luke',\n   'AIMS Data Repository',\n   'Geoscience Data Repository for Geophysical Data',\n   'Research Data Australia',\n   'MARGINS Data Portal',\n   'NCEI',\n   'SLAPIS',\n   'Environmental Dataset Gateway',\n   'ERDDAP',\n   'NSF Arctic Data Center',\n   'GeoPRISMS Data Portal',\n   'International Ocean Discovery Program',\n   'OpenTopography',\n   'HCDC datasearch',\n   'Antarctic & Southern Ocean Data Portal',\n   'MHKDR',\n   'Open Forest Data',\n   'OEDI',\n   'UTM-CSIC Data Centre',\n   'City of Airdrie Open Data',\n   'Marine Geoscience Data System',\n   'Open Data Markham',\n   'datacommons@psu',\n   'UK Polar Data Centre',\n   'AHEAD',\n   'Norwegian Meteorological Institute, Free Meteorological Data',\n   'Alaska Satellite Facility SAR Data Center',\n   'Research Data Archive at NCAR',\n   'Digital Repository NM EPSCoR',\n   'NWT Discovery Portal',\n   'Gulf of Mexico Research Initiative Information and Data Cooperative',\n   'Ridge 2000 Data Portal',\n   'The National Map',\n   'Geothermal Data Repository',\n   'ReefTEMPS',\n   'Copernicus',\n   'GeoCommons Archive',\n   'GAWSIS',\n   'Marlin Metadata Catalogue'],\n  'EML - Ecological Metadata Language': ['Sistema de Información de Biodiversidad de Ecuador SiB-Ec',\n   'Staatliche Naturwissenschaftliche Sammlungen Bayerns',\n   'NOAA National Centers for Environmental Information - formerly: National Coastal Data Development Center',\n   'Global Biodiversity Information Facility',\n   'NSF Arctic Data Center',\n   'KNB Data Repository',\n   'Digital Repository NM EPSCoR',\n   'World Register of Marine Species',\n   'National Ecological Observatory Network',\n   'Environmental Data Initiative Repository'],\n  'MIBBI - Minimum Information for Biological and Biomedical Investigations': ['MatrixDB'],\n  'CIM - Common Information Model': ['Earth System Grid Federation'],\n  'OAI-ORE - Open Archives Initiative Object Reuse and Exchange': ['McGill University Dataverse',\n   'Concordia University Dataverse',\n   'Dados Abertos De Pesquisas',\n   \"Dataverse de l'Institut national de la recherche scientifique\",\n   'RIN Data Repository',\n   'data.InDoRES',\n   'Mount Royal University Dataverse',\n   'Society of American Archivists Dataverse',\n   'Prospered Project',\n   'Arca Dados',\n   'ARP Research Data Repository',\n   'Jülich DATA',\n   'George Mason University Dataverse',\n   'DaRUS',\n   'University of Winnipeg Research Data Repository',\n   'Trent University Dataverse',\n   \"Dataverse de l'Université TÉLUQ\",\n   'DataRepositoriUM',\n   'Dataverse de Polytechnique Montréal',\n   'Université du Québec à Trois-Rivières - Borealis',\n   'Open Forest Data',\n   'HEC Montréal Dataverse',\n   'MacEwan University Data Repository',\n   'DUnAs',\n   'Vancouver Island University Dataverse',\n   'University of Northern British Columbia Dataverse',\n   'UQAM - Dataverse',\n   'eSHODHMANTHAN',\n   \"Dataverse de l'Université Laval\",\n   'RODBUK Cracow Open Research Data Repository',\n   'GlobeData',\n   'DRYAD',\n   'SISSA Open Data',\n   'University of Regina Dataverse',\n   'Addis Ababa University Research Data Repository',\n   \"Dataverse de l'Université du Québec à Chicoutimi\",\n   'PRISM Dataverse',\n   \"Saint Mary's University Dataverse\",\n   'University of Victoria Dataverse',\n   'Memorial University Dataverse',\n   'Redape',\n   'University of Alberta Dataverse',\n   'Environmental Data Initiative Repository'],\n  'FITS - Flexible Image Transport System': ['Solar Dynamics Observatory',\n   'MorphoSource',\n   'Strasbourg Astronomical Data Center'],\n  'FGDC/CSDGM - Federal Geographic Data Committee Content Standard for Digital Geospatial Metadata': ['Global Change Master Directory',\n   'Northern California Earthquake Data Center',\n   'Quinte West Open GIS Data Portal',\n   'York Region Open Data',\n   'NOAA National Centers for Environmental Information -  Paleoclimatology Data',\n   'NOAA National Centers for Environmental Information - formerly: National Coastal Data Development Center',\n   'RIN Data Repository',\n   'Sunshine Coast Regional District Open Data',\n   'Surveillance Epidemiology and End Results',\n   'ARM Data Center',\n   'NAWI Water DAMS',\n   'RADAR Luke',\n   \"Burnaby's Open Data Portal\",\n   'Geoscience Data Repository for Geophysical Data',\n   'NC OneMap',\n   'Environmental Dataset Gateway',\n   'ERDDAP',\n   'Abacus Data Network',\n   'NSF Arctic Data Center',\n   'MHKDR',\n   'OEDI',\n   'UTM-CSIC Data Centre',\n   'Public Geodata Repository',\n   'District of Peachland Open Data',\n   'datacommons@psu',\n   'Borealis',\n   'Alberta Geological Survey Open Data Portal',\n   'Town of Ajax Open Data',\n   'Research Data Archive at NCAR',\n   'Lakehead University Dataverse',\n   'Digital Repository NM EPSCoR',\n   'Gulf of Mexico Research Initiative Information and Data Cooperative',\n   'Town of Oakville Open Data',\n   'The National Map',\n   'Geothermal Data Repository',\n   'Finnish Biodiversity Information Facility',\n   'U.S. Geological Survey',\n   'The USA National Phenology Network',\n   'GeoCommons Archive',\n   'Westbank First Nation Open Data'],\n  'RDF Data Cube Vocabulary': ['UniProtKB',\n   'CIARD Ring',\n   'Ontology Lookup Service',\n   'OSTI',\n   'SciLifeLab Data Repository',\n   'DRYAD',\n   'GlyTouCan'],\n  'CF (Climate and Forecast) Metadata Conventions': ['GHRC',\n   'Ocean Observatories Initiative',\n   'ARM Data Center',\n   'NSF Arctic Data Center',\n   'HCDC datasearch',\n   'Copernicus Marine Environment Monitoring Service',\n   'GEOSS Portal',\n   'Alaska Satellite Facility SAR Data Center',\n   'World Register of Marine Species',\n   'NASA Distributed Active Archive Center at National Snow & Ice Data Center',\n   'ICTS SOCIB Data Repository'],\n  'SDMX - Statistical Data and Metadata Exchange': ['RIN Data Repository',\n   'Eurostat'],\n  'SPASE Data Model': ['Radiation Belt Storm Probes Ion Composition Experiment'],\n  'ISA-Tab': ['RIN Data Repository',\n   'LibraData',\n   'DataverseNO',\n   'Data INRAE',\n   'GnpIS',\n   'GeneLab',\n   'University of Alberta Dataverse'],\n  'Repository-Developed Metadata Schemas': ['Scripps Institute of Oceanography Explorer',\n   'data.enanomapper',\n   'DisProt',\n   'Gene Ontology',\n   'Blackfynn Discover',\n   'ASU Library Research Data Repository',\n   'Europeana collections',\n   'Humanitarian Data Exchange',\n   'DABAR',\n   'MediaBank',\n   'OrthoMCL',\n   'NeuroMorpho.Org',\n   'Digital Library for Earth System Education',\n   'EuPathDB',\n   'Jülich DATA',\n   'World Data Center for Climate',\n   'NatureServe',\n   'Research Data Australia',\n   'DaRUS',\n   'OSF - Vrije Universiteit Amsterdam',\n   'GiardiaDB',\n   'The Universal Protein Resource',\n   'TriTrypDB',\n   'MetPetDB',\n   'PiroplasmaDB',\n   'GENCODE',\n   'Town of Huntsville Open Data',\n   'European Variation Archive',\n   'AmoebaDB',\n   'FungiDB',\n   'Clinical Research Metadata Repository',\n   'STRING',\n   'Neuroscience Information Framework',\n   'RUresearch Data Portal',\n   'Neotoma Paleoecology Database',\n   'Kyoto Encyclopedia of Genes and Genomes',\n   'Rolling Deck to Repository',\n   'OpenAQ',\n   'CCCA Data Server',\n   'Rigsarkivets surveydata',\n   'SPARC.Science',\n   'DANDI',\n   'METIS',\n   'CryptoDB',\n   'PHAIDRA - University of Padua',\n   'Open Access Power-Grid Frequency Database',\n   'QsarDB',\n   'ToxoDB',\n   'Apollo',\n   'ArrayExpress',\n   'IUPHAR/BPS Guide to Pharmacology',\n   'ImmPort',\n   'PlasmoDB',\n   'NASA Distributed Active Archive Center at National Snow & Ice Data Center',\n   'VectorBase',\n   'The Electron Microscopy Data Bank',\n   'MicrosporidiaDB',\n   'XNAT CENTRAL'],\n  'Darwin Core': ['Sistema de Información de Biodiversidad de Ecuador SiB-Ec',\n   'Canadensys repository',\n   'Genomic Observatories MetaDatabase',\n   'RIN Data Repository',\n   'Taiwan Biodiversity Information Facility',\n   'Portal de Datos Abiertos UNAM, Colecciones Universitarias',\n   'Global Biodiversity Information Facility',\n   'Open Forest Data',\n   'MorphoSource',\n   'Catalogue of Life',\n   'TreeBASE',\n   'World Register of Marine Species',\n   'CSIRO Data Access Portal',\n   'Finnish Biodiversity Information Facility',\n   'National Ecological Observatory Network',\n   'Marlin Metadata Catalogue']},\n 'OpenDAP': {'': ['Goddard Earth Sciences Data and Information Services Center',\n   'Climate Data Online',\n   'IRI/LDEO Climate Data Library',\n   'Global Precipitation Measurement',\n   'Moderate Resolution Imaging Spectroradiometer',\n   'Center for Operational Oceanographic Products and Services',\n   'AVISO+',\n   'Ocean Science Information System',\n   'Land Processes Distributed Active Archive Center',\n   'Coriolis',\n   \"Clouds and the Earth's Radiant Energy System\",\n   'LAADS DAAC',\n   'NASA GEWEX Surface Radiation Budget',\n   'US JGOFS Data System',\n   'JPL Multi-angle Imaging SpectroRadiometer',\n   'Historical hydrographic data from BSH'],\n  'other': ['Precipitation Processing System'],\n  'ABCD - Access to Biological Collection Data': ['National Weather Service, National Centers for Environmental Prediction'],\n  'Dublin Core': ['HydroShare',\n   'Centre for Environmental Data Analysis',\n   'MISTRALS database',\n   '4TU.ResearchData | science.engineering.design'],\n  'DataCite Metadata Schema': ['Community Data Portal',\n   '4TU.ResearchData | science.engineering.design'],\n  'DIF - Directory Interchange Format': ['Earthdata powered by EOSDIS',\n   'ChArMEx database',\n   'Atmospheric Science Data Center',\n   'National Snow and Ice Data Center',\n   'MISTRALS database',\n   'Physical Oceanography Distributed Active Archive Center',\n   'NASA Distributed Active Archive Center at National Snow & Ice Data Center',\n   'Atmospheric Infrared Sounder'],\n  'ISO 19115': ['Precipitation Processing System',\n   'Earthdata powered by EOSDIS',\n   'NCI Data Portal',\n   'ChArMEx database',\n   'Temperate Reef Base',\n   'ERDDAP',\n   'National Snow and Ice Data Center',\n   'OceanColor web',\n   'MISTRALS database',\n   'Norwegian Meteorological Institute, Free Meteorological Data',\n   'Integrated Marine Observing System Ocean Data Portal',\n   'Australian Ocean Data Network Portal',\n   'TERN Data Discovery Portal',\n   'ReefTEMPS',\n   'Atmospheric Infrared Sounder',\n   'PSD Climate and Weather Data',\n   'Coastal Data Information Program'],\n  'EML - Ecological Metadata Language': ['TERN Data Discovery Portal'],\n  'Repository-Developed Metadata Schemas': ['Earthdata powered by EOSDIS',\n   'NASA Distributed Active Archive Center at National Snow & Ice Data Center'],\n  'FGDC/CSDGM - Federal Geographic Data Committee Content Standard for Digital Geospatial Metadata': ['ERDDAP',\n   'National Snow and Ice Data Center',\n   'VENUS in the Salish Sea',\n   'Coastal Data Information Program',\n   'National Weather Service, National Centers for Environmental Prediction'],\n  'DCAT - Data Catalog Vocabulary': ['TERN Data Discovery Portal'],\n  'RDF Data Cube Vocabulary': ['Oak Ridge National Laboratory Distributed Active Archive Center for Biogeochemical Dynamics'],\n  'CF (Climate and Forecast) Metadata Conventions': ['climate4impact',\n   'GHRC',\n   'Oak Ridge National Laboratory Distributed Active Archive Center for Biogeochemical Dynamics',\n   'Earthdata powered by EOSDIS',\n   'The International Research Institute for Climate and Society',\n   'Centre for Environmental Data Analysis',\n   'OceanColor web',\n   'Copernicus Marine Environment Monitoring Service',\n   'Physical Oceanography Distributed Active Archive Center',\n   '4TU.ResearchData | science.engineering.design',\n   'TERN Data Discovery Portal',\n   'NASA Distributed Active Archive Center at National Snow & Ice Data Center',\n   'SAMD',\n   'The CEDA Archive',\n   'National Weather Service, National Centers for Environmental Prediction'],\n  'CIM - Common Information Model': ['climate4impact'],\n  'Darwin Core': ['TERN Data Discovery Portal']},\n 'NetCDF': {'': ['Goddard Earth Sciences Data and Information Services Center',\n   'Pacific Climate Impacts Consortium Data Portal',\n   'World Data Centre for Greenhouse Gases',\n   'IRI/LDEO Climate Data Library',\n   'NCAR Climate Analysis Section Data Catalog',\n   'Madrigal Database',\n   'NCAR UCAR Climate Data Guide',\n   'OzFlux',\n   'EURO-CORDEX 1989-2018 using TerrSysMP',\n   'AVISO+',\n   'DARECLIMED',\n   'NCEP/NCAR Reanalysis Project',\n   'WATCH',\n   'Atmospheric Chemistry Experiment',\n   'EMEP',\n   'TerMEx',\n   'MIPAS/Envisat Observations of Polar Stratospheric Clouds',\n   'Bolin Centre Database',\n   'EOS-EarthData',\n   'Coriolis',\n   'MERMeX',\n   'eartH2Observe',\n   'EOL',\n   'KNMI Climate Explorer',\n   'COSMIC Data Analysis and Archive Center',\n   'Remote Sensing Systems',\n   'AIRS/Aqua Observations of Gravity Waves',\n   'JPL Multi-angle Imaging SpectroRadiometer',\n   'TropFlux',\n   'EarthStat',\n   'Metlin'],\n  'other': ['Precipitation Processing System', 'Geothermal Data Repository'],\n  'Dublin Core': ['NAWI Water DAMS',\n   'British Oceanographic Data Centre',\n   'Biological and Chemical Oceanography Data Management Office',\n   'HydroShare',\n   'Centre for Environmental Data Analysis',\n   'MHKDR',\n   'OEDI',\n   'KNB Data Repository',\n   'MISTRALS database',\n   '4TU.ResearchData | science.engineering.design',\n   'Geothermal Data Repository'],\n  'DataCite Metadata Schema': ['TCCON Data Archive',\n   'Community Data Portal',\n   '4TU.ResearchData | science.engineering.design',\n   'IFREMER-SISMER Portail de données marines',\n   'Climate Models'],\n  'DIF - Directory Interchange Format': ['Earthdata powered by EOSDIS',\n   'British Oceanographic Data Centre',\n   'Biological and Chemical Oceanography Data Management Office',\n   'ChArMEx database',\n   'MISTRALS database'],\n  'ISO 19115': ['World Ocean Database',\n   'NOAA National Centers for Environmental Information - formerly: National Oceanographic Data Center',\n   'Precipitation Processing System',\n   'Earthdata powered by EOSDIS',\n   'NCI Data Portal',\n   'NAWI Water DAMS',\n   'Biological and Chemical Oceanography Data Management Office',\n   'IOWDB',\n   'ChArMEx database',\n   'Temperate Reef Base',\n   'SeaDataNet',\n   'MHKDR',\n   'e-Atlas',\n   'Global Terrestrial Network for Permafrost',\n   'OEDI',\n   'KNMI Data Platform',\n   'MISTRALS database',\n   'Australian Ocean Data Network Portal',\n   'Geothermal Data Repository',\n   'TERN Data Discovery Portal',\n   'ReefTEMPS',\n   'IFREMER-SISMER Portail de données marines',\n   'IOW Data Portal',\n   'PSD Climate and Weather Data',\n   'Coastal Data Information Program'],\n  'EML - Ecological Metadata Language': ['KNB Data Repository',\n   'TERN Data Discovery Portal'],\n  'Repository-Developed Metadata Schemas': ['Earthdata powered by EOSDIS',\n   'Global Terrestrial Network for Permafrost',\n   'Cloud-Aerosol Lidar and Infrared Pathfinder Satellite Observations',\n   'CCHDO'],\n  'FGDC/CSDGM - Federal Geographic Data Committee Content Standard for Digital Geospatial Metadata': ['NOAA National Centers for Environmental Information - formerly: National Oceanographic Data Center',\n   'ARM Data Center',\n   'NAWI Water DAMS',\n   'British Oceanographic Data Centre',\n   'CUAHSI',\n   'MHKDR',\n   'OEDI',\n   'Tropical Atmosphere Ocean Project',\n   'Geothermal Data Repository',\n   'Coastal Data Information Program'],\n  'DCAT - Data Catalog Vocabulary': ['Biological and Chemical Oceanography Data Management Office',\n   'TERN Data Discovery Portal'],\n  'RDF Data Cube Vocabulary': ['Oak Ridge National Laboratory Distributed Active Archive Center for Biogeochemical Dynamics'],\n  'CF (Climate and Forecast) Metadata Conventions': ['climate4impact',\n   'World Ocean Database',\n   'ECCAD - the GEIA database',\n   'GHRC',\n   'Oak Ridge National Laboratory Distributed Active Archive Center for Biogeochemical Dynamics',\n   'USGODAE Argo GDAC Data Browser',\n   'Earthdata powered by EOSDIS',\n   'The International Research Institute for Climate and Society',\n   'Ocean Observatories Initiative',\n   'ARM Data Center',\n   'HyMeX',\n   'Centre for Environmental Data Analysis',\n   'CESM Experiments',\n   'Boundary Layer Late Afternoon and Sunset Turbulence',\n   \"NOAA's climate data record program\",\n   'World Ocean Atlas',\n   'Copernicus Marine Environment Monitoring Service',\n   'Coupled Model Intercomparison Project',\n   'EBAS',\n   'OceanSITES',\n   '4TU.ResearchData | science.engineering.design',\n   'TERN Data Discovery Portal',\n   'IFREMER-SISMER Portail de données marines',\n   'SAMD',\n   'HALO database',\n   'ICTS SOCIB Data Repository',\n   'The CEDA Archive'],\n  'CIM - Common Information Model': ['climate4impact'],\n  'Darwin Core': ['TERN Data Discovery Portal']},\n 'SOAP': {'': ['eKlima',\n   'FlyReactome',\n   'Expression Atlas',\n   'NASC',\n   'IndExs – Index of Exsiccatae',\n   'Center for Operational Oceanographic Products and Services',\n   'BioModels',\n   'Cell Centered Database',\n   'IPB MassBank',\n   'Junar',\n   'SIMBAD Astronomical Database',\n   'BRENDA',\n   'IntAct',\n   'The ACE Science Center',\n   'ConsensusPathDB',\n   'Autism Chromosome Rearrangement Database',\n   'PubChem',\n   'EMBL-EBI',\n   'Spanish CLARIN K-Centre',\n   'IRMA Portal',\n   'City of Regina Open Data',\n   'LAADS DAAC',\n   'NITRC',\n   'RDP',\n   'AnimalGenome.ORG',\n   'NOAA National Centers  for Environmental Information - formerly: National Climatic Data Center',\n   'Electron-Impact Excitation of Multicharged Ions using MEIBEL',\n   'European Chemical Biology Database',\n   'bii',\n   'BioVel',\n   'DNA Data Bank of Japan',\n   'DataFed',\n   'Electron-Impact Ionization of Multicharged Ions at ORNL',\n   'Space Physics Interactive Data Resource',\n   'UNdata',\n   'Golm Metabolome Database'],\n  'other': ['CDAWeb'],\n  'Dublin Core': ['TextGrid Repository',\n   'ClinicalTrials.gov',\n   'Barbara A. Mikulski Archive for Space Telescopes',\n   'World Register of Marine Species'],\n  'International Virtual Observatory Alliance Technical Specifications': ['Barbara A. Mikulski Archive for Space Telescopes'],\n  'FITS - Flexible Image Transport System': ['Solar Dynamics Observatory'],\n  'ISO 19115': ['Environmental data explorer',\n   'International Earth Rotation and Reference Systems Service',\n   'SeaDataNet',\n   'ICES data portal',\n   'ReefTEMPS',\n   'Index to Marine & Lacustrine Geological Samples'],\n  'MIBBI - Minimum Information for Biological and Biomedical Investigations': ['MatrixDB'],\n  'Repository-Developed Metadata Schemas': ['NatureServe',\n   'Johns Hopkins Turbulence Databases',\n   'Biodiversity Exploratories Information System',\n   'ChEBI'],\n  'FGDC/CSDGM - Federal Geographic Data Committee Content Standard for Digital Geospatial Metadata': ['CUAHSI',\n   'ICES data portal'],\n  'EML - Ecological Metadata Language': ['World Register of Marine Species',\n   'Biodiversity Exploratories Information System'],\n  'RDF Data Cube Vocabulary': ['Plant and Fungal Carbohydrate Structure Database',\n   'ICES data portal'],\n  'CF (Climate and Forecast) Metadata Conventions': ['World Register of Marine Species'],\n  'Darwin Core': ['World Register of Marine Species',\n   'Biodiversity Exploratories Information System'],\n  'SDMX - Statistical Data and Metadata Exchange': ['Eurostat']},\n 'OAI-PMH': {'': ['Das Deutsche Referenzkorpus',\n   'National Science Digital Library',\n   'GAVO Data Centre',\n   'UWE Research Data Repository',\n   'Spectrum Research Repository',\n   'PORTULAN CLARIN repository',\n   'Griffith University Research Data Repository',\n   'Portal Zarządzania Wiedzą UJ CM',\n   'UPF Digital Repository',\n   'CLARIN INT Portal',\n   'Columbia University Academic Commons',\n   'Curtin University Research Data Collection',\n   'Wolfenbütteler Digital Library',\n   'MyTardis',\n   'OceanRep GEOMAR Repository',\n   'Catena',\n   'CLARINO Bergen  Center repository',\n   'ScholarWorks@UMassAmherst',\n   'Kinsources.net',\n   'Computational and Information Systems Laboratory Research Data Archive',\n   'MADATA - Mannheim research data repository',\n   'Oxford Brookes University: RADAR',\n   'eCrystals',\n   'LINDAT/CLARIAH-CZ repository',\n   'Digitale Bibliothek Thüringen',\n   'B2SHARE',\n   'IDEALS',\n   'Kujawsko-Pomorska Digital Library',\n   'PSI Open Data Provider',\n   'Social Scientific Research Documentation Centre Repository',\n   'University of Liverpool Research Data Catalogue',\n   'KU ScholarWorks',\n   'Digitale Historische Bibliothek Erfurt/Gotha',\n   'IIASA DARE',\n   'PUBLISSO-Fachrepositorium Lebenswissenschaften',\n   'Lincoln repository',\n   'CiteSeerX',\n   'CLARIN-ERIC',\n   'Chapman University Digital Commons Datasets',\n   'citaREA',\n   'ScholarWorks Boise State University',\n   'ROSA P',\n   'Spanish CLARIN K-Centre',\n   'IDEAS',\n   'ARACHNE IDAI.objects',\n   'B2SHARE Server Forschungszentrum Jülich',\n   'UQ eSpace, Research Data Collections',\n   'Regionaal Archief Alkmaar',\n   'CancerData.org',\n   'SPECTRa Project',\n   'Store.Synchrotron Data Store',\n   'PolMine',\n   'Deutsches Textarchiv'],\n  'PROV': ['TROLLing', 'DataverseNO'],\n  'International Virtual Observatory Alliance Technical Specifications': ['Paris Astronomical Data Centre',\n   'APPLAUSE',\n   'DataverseNO',\n   'Gaia@AIP',\n   'RAVE database',\n   'MUSE-Wide'],\n  'DIF - Directory Interchange Format': ['Geoscience Data Exchange',\n   'World Data Center for Climate',\n   'GEOSS Portal',\n   'GFZ Data Services',\n   'Research Data Archive at NCAR',\n   'ADS',\n   'PANGAEA',\n   'NOAA National Centers for Environmental Information - World Data Service  for Oceanography',\n   'World Stress Map'],\n  'CIF - Crystallographic Information Framework': ['MIDAS',\n   'Macromolecular Xtallography Raw Data Repository'],\n  'DDI - Data Documentation Initiative': ['Monash University Research Repository',\n   'International Food Policy Research Institute Dataverse',\n   'LiDA',\n   'osnaData',\n   'UK Data Service',\n   'e-cienciaDatos',\n   'Social Data Repository (RDS)',\n   'heiDATA',\n   'Macromolecular Xtallography Raw Data Repository',\n   'Open Forest Data',\n   'Research Data at Essex',\n   'CIRAD Dataverse',\n   'University of Southampton Institutional Research Repository',\n   'UK Data Archive',\n   'Debreceni Egyetem Adattár',\n   'Finnish Social Science Data Archive',\n   'Repositorio de Datos Académicos Universidad Nacional de Rosario',\n   'Project on Human Development in Chicago Neighborhoods',\n   'TROLLing',\n   'Repository for Open Data (RepOD)',\n   'EASY',\n   'Better Access to Data for Global Interdisciplinary Research',\n   'Collaborative Psychiatric Epidemiology Surveys 2001 - 2003',\n   'IISH Dataverse',\n   'CESSDA Data Catalogue',\n   'DataverseNL',\n   'UA Campus Repository',\n   'DataverseNO',\n   'LSE Research Online',\n   'GESIS Data Archive',\n   'CORA. Repositori de Dades de Recerca',\n   'B2FIND',\n   'Data INRAE',\n   'SFU Radar',\n   'UCD Digital Library'],\n  'DCAT - Data Catalog Vocabulary': ['TERN Data Discovery Portal'],\n  'QuDEx - Qualitative Data Exchange Format': ['UK Data Service'],\n  'other': ['Multimodal Learning Corpus Exchange',\n   'Repository for Open Data (RepOD)',\n   'The Language Archive'],\n  'DataCite Metadata Schema': ['DTU Data',\n   'Open Data LMU',\n   'OEDataRep',\n   'opendata@uni-kiel',\n   'Archaeology Data Service',\n   'CU Scholar',\n   'Oxford University Research Archive',\n   'melbourne.figshare.com',\n   'data_UMR',\n   'WRAP',\n   'LiDA',\n   'UP Research Data Repository',\n   'DABAR',\n   '<intR>²Dok[§]',\n   'osnaData',\n   'Data@Lincoln',\n   'ScienceRepository',\n   'CaltechDATA',\n   'UK Data Service',\n   'e-cienciaDatos',\n   'Smithsonian figshare',\n   'World Data Center for Climate',\n   'CERIC Data Portal',\n   'Monash Bridges',\n   'Social Data Repository (RDS)',\n   'RosDok',\n   'RADAR4Chem',\n   'Dipòsit Digital de Documents de la UAB',\n   'Stockholm University Figshare Repository',\n   'heiDATA',\n   'Brunel figshare',\n   'ETH Zürich Research Collection',\n   'RODARE',\n   'Macromolecular Xtallography Raw Data Repository',\n   'Research Data Repository FDAT',\n   'Research Data at Essex',\n   'CIRAD Dataverse',\n   'DataHub Figshare',\n   'Yareta',\n   'University of Southampton Institutional Research Repository',\n   'TUdatalib',\n   'University of Adelaide figshare',\n   'FULIR Data',\n   'University of Bath Research Data Archive',\n   \"St. Edward's University  institutional repository\",\n   'Debreceni Egyetem Adattár',\n   'UPCommons - Research Data',\n   'Community Data Portal',\n   'Repositorio de Datos Académicos Universidad Nacional de Rosario',\n   'Project on Human Development in Chicago Neighborhoods',\n   'Loughborough Data Repository',\n   'CoCoON',\n   'Repository for Open Data (RepOD)',\n   'Open Data LMU - Physics',\n   'GRO.data',\n   'SURF Data Repository',\n   'PUB Data Publications',\n   'Research Data Unipd',\n   'Maenduar',\n   'GFZ Data Services',\n   'TU Graz Repository',\n   'Tethys',\n   'Research Data Archive at NCAR',\n   'DataverseNO',\n   'GESIS Data Archive',\n   'RADAR4Culture',\n   'DRYAD',\n   'Open Research Data Online',\n   'Apollo',\n   'CORA. Repositori de Dades de Recerca',\n   'chemotion',\n   'Aperta TÜBİTAK Open Archive',\n   '4TU.ResearchData | science.engineering.design',\n   'PTB-OAR',\n   'Yoda',\n   'mediaTUM',\n   'RiuNet',\n   'UCL Discovery',\n   'RADAR',\n   'OLOS',\n   'Data INRAE',\n   'Research Data Leeds Repository',\n   'Zenodo',\n   'UEL Research Repository',\n   'figshare',\n   'University of Reading Research Data Archive',\n   'UCD Digital Library',\n   'Bicocca Open Archive Research Data',\n   'World Stress Map',\n   'MUSE-Wide'],\n  'Dublin Core': ['DTU Data',\n   'IZTECH GCRIS',\n   'UdS Fedora Commons Repository',\n   'DARIAH-DE Repository',\n   'Repositorio Abierto',\n   'Monash University Research Repository',\n   'SLUB Sammlungen',\n   'OEDataRep',\n   'opendata@uni-kiel',\n   'Archaeology Data Service',\n   'CU Scholar',\n   'Bibliothèques Virtuelles Humanistes',\n   'Oxford University Research Archive',\n   'CLARIN service center of the Zentrum Sprache at the BBAW',\n   'melbourne.figshare.com',\n   'data_UMR',\n   'UvaDOC - Fonda Antiguo',\n   'Europeana collections',\n   'Mediateca INAH',\n   'International Food Policy Research Institute Dataverse',\n   'DataDOI',\n   'WRAP',\n   'USU Institutional Repository',\n   'LiDA',\n   'UP Research Data Repository',\n   'Hamburger Zentrum für Sprachkorpora Korpus Repositorium',\n   'DABAR',\n   '<intR>²Dok[§]',\n   'osnaData',\n   'Producción Académica UCC',\n   'Data@Lincoln',\n   'ScienceRepository',\n   'Worldviews',\n   'UK Data Service',\n   'e-cienciaDatos',\n   'Smithsonian figshare',\n   'CIARD Ring',\n   'CERIC Data Portal',\n   'Polish Platform of Medical Research',\n   'ZVDD',\n   'Monash Bridges',\n   'Social Data Repository (RDS)',\n   'Digital Collections ULB Düsseldorf',\n   'CURATOR',\n   'Pacific and Regional Archive for Digital Sources in Endangered Cultures',\n   'RosDok',\n   'UBIRA eData',\n   'RADAR4Chem',\n   'Dipòsit Digital de Documents de la UAB',\n   'WorldWideMolecularMatrix',\n   'National Library of Norway | Språkbanken',\n   'National Library of the Netherlands  e-depot',\n   'IDS Repository',\n   'Stockholm University Figshare Repository',\n   'Digital Archive of the Archaeological Map of the Czech Republic',\n   'heiDATA',\n   'UdG Digital Repository',\n   'Brunel figshare',\n   'UCREA',\n   'Repositorio Institucional Universidad Nacional de Colombia',\n   'ETH Zürich Research Collection',\n   'OpenAgrar',\n   'MIDAS',\n   'Eurac Research CLARIN Centre',\n   'Repository of the Faculty of Science',\n   'Multimodal Learning Corpus Exchange',\n   'ISTA Research Explorer',\n   'RODARE',\n   'Repositorio Institucional de la Universidad de Burgos',\n   'Woods Hole Open Access Server',\n   'RADaR - Digital Repository of Archived Publications of the Institute for Biological Research “Siniša Stanković”',\n   'Macromolecular Xtallography Raw Data Repository',\n   'Digitale Sammlungen der GWLB Hannover',\n   'Open Forest Data',\n   'Bilkent University Institutional Repository',\n   'Kielipankki',\n   'CIRAD Dataverse',\n   'Repositorio Institucional UCASAL',\n   'BORIS Portal',\n   'Angewandte Repository',\n   'edoc-Server  - Forschungsdaten',\n   'DataHub Figshare',\n   'Unisa Institutional Repository',\n   'ioChem-BD',\n   'Humadoc repositorio',\n   'University of Southampton Institutional Research Repository',\n   'FHSTP Phaidra',\n   'KNB Data Repository',\n   'TUdatalib',\n   'Bavarian Archive for Speech Signals',\n   'Cranfield Online Research Data',\n   'DIGITAL.CSIC',\n   'University of Adelaide figshare',\n   'FULIR Data',\n   'University of Bath Research Data Archive',\n   'LeoPARD - TU Braunschweig Publications And Research Data',\n   \"St. Edward's University  institutional repository\",\n   'Debreceni Egyetem Adattár',\n   'Finnish Social Science Data Archive',\n   'UPCommons - Research Data',\n   'ARCHE',\n   'Repositori de la Universitat Jaume I',\n   'South African Centre for Digital Language Resources',\n   'IMS Universität Stuttgart Repository',\n   'Repository CLARIN-D Centre CEDIFOR',\n   'Repositorio de Datos Académicos Universidad Nacional de Rosario',\n   'Enlighten',\n   'Phaidra Universität Wien',\n   'Project on Human Development in Chicago Neighborhoods',\n   'TROLLing',\n   'Repositorio de Acceso Abierto BUAP',\n   'Repository CLARIN Centre Leipzig',\n   'Loughborough Data Repository',\n   'CLARIN-PL',\n   'CoCoON',\n   'Repository for Open Data (RepOD)',\n   'EASY',\n   'GEOSS Portal',\n   'SURF Data Repository',\n   'Collaborative Psychiatric Epidemiology Surveys 2001 - 2003',\n   'PUB Data Publications',\n   'Repositorio Institucional-Universidad Autónoma de Manizales',\n   'University of Auckland Data Repository',\n   'Repositorio Institucional del ITESO',\n   'Research Data Unipd',\n   'Koç University Digital Collections',\n   'ELRA Catalogue of Language Resources',\n   'Purdue University Research Repository',\n   'Maenduar',\n   'GFZ Data Services',\n   'Tethys',\n   'Repositorio Digital UTB',\n   'San Raffaele Open Research Data Repository',\n   'DHS Data Access',\n   'Materials Cloud Archive',\n   'Research Data Archive at NCAR',\n   'DataverseNL',\n   'UA Campus Repository',\n   'intellectum',\n   'DataverseNO',\n   'CLARIN repository at the University of Tübingen',\n   'LSE Research Online',\n   'PHAIDRA - University of Padua',\n   'Repositori Institucional de la URV',\n   'TreeBASE',\n   'Repositorio Institucional Universidad Santo Tomás',\n   'GESIS Data Archive',\n   'RADAR4Culture',\n   'DRYAD',\n   'edoc server der Berlin-Brandenburgischen Akademie der Wissenschaften',\n   'eData: the STFC Research Data Repository',\n   'Open Research Data Online',\n   'NAKALA',\n   'Apollo',\n   'University of Salford Data Repository',\n   'CORA. Repositori de Dades de Recerca',\n   'CEU Institutional Repository',\n   'Mountain Scholar',\n   'CLARIN-LT',\n   'eBiltegia',\n   'Aperta TÜBİTAK Open Archive',\n   '4TU.ResearchData | science.engineering.design',\n   'AMS Acta',\n   'Yoda',\n   'SEDICI',\n   'RiuNet',\n   'UCL Discovery',\n   'RADAR',\n   'The University of Oxford Text Archive',\n   'B2FIND',\n   'ORDA - The University of Sheffield Research Data Catalogue and Repository',\n   'CLARIN.SI repository',\n   'Repositorio Institucional de la Universidad Distrital Francisco José de Caldas',\n   'OLAC',\n   'RU-IIEc',\n   'Data INRAE',\n   'PANGAEA',\n   'DNBLab',\n   'Research Data Leeds Repository',\n   'mdw Repository',\n   'Zenodo',\n   'CLARIN-IS',\n   'GAMS',\n   'Base de Dados  Científicos da Universidade Federal do Paraná',\n   'eLaborate',\n   'UEL Research Repository',\n   'figshare',\n   'University of Reading Research Data Archive',\n   'DepositOnce',\n   'ZBW Digital Long-Term Archive',\n   'Sheffield Hallam University Research Data Archive',\n   'UCD Digital Library',\n   'Huygens ING',\n   'Bicocca Open Archive Research Data',\n   'e-codices',\n   'Meertens Instituut Collecties'],\n  'ISO 19115': ['Geoscience Data Exchange',\n   'World Data Center for Climate',\n   'Research Data Australia',\n   'Temperate Reef Base',\n   'The World Atlas of Language Structures',\n   'International Ocean Discovery Program',\n   'Open Forest Data',\n   'GFZ Data Services',\n   'Research Data Archive at NCAR',\n   'ADS',\n   'TERN Data Discovery Portal',\n   'B2FIND',\n   'PANGAEA',\n   'NOAA National Centers for Environmental Information - World Data Service  for Oceanography',\n   'DEIMS-SDR',\n   'World Stress Map'],\n  'EML - Ecological Metadata Language': ['Australian SuperSite Network Data Portal',\n   'KNB Data Repository',\n   'UA Campus Repository',\n   'TERN Data Discovery Portal',\n   'NOAA National Centers for Environmental Information - World Data Service  for Oceanography',\n   'DEIMS-SDR'],\n  'OAI-ORE - Open Archives Initiative Object Reuse and Exchange': ['Archaeology Data Service',\n   'LiDA',\n   'osnaData',\n   'Social Data Repository (RDS)',\n   'Repositorio Institucional de la Universidad de Burgos',\n   'Woods Hole Open Access Server',\n   'Macromolecular Xtallography Raw Data Repository',\n   'Open Forest Data',\n   'CIRAD Dataverse',\n   'Repositorio de Datos Académicos Universidad Nacional de Rosario',\n   'CLARIN-PL',\n   'Repository for Open Data (RepOD)',\n   'Repositorio Institucional del ITESO',\n   'DRYAD',\n   'RiuNet',\n   'CLARIN.SI repository',\n   'OLAC',\n   'mdw Repository'],\n  'FITS - Flexible Image Transport System': ['Paris Astronomical Data Centre',\n   'APPLAUSE'],\n  'FGDC/CSDGM - Federal Geographic Data Committee Content Standard for Digital Geospatial Metadata': ['Research Data Archive at NCAR',\n   'NOAA National Centers for Environmental Information - World Data Service  for Oceanography'],\n  'RDF Data Cube Vocabulary': ['CIARD Ring',\n   'University of Adelaide figshare',\n   'Enlighten',\n   'DRYAD'],\n  'CF (Climate and Forecast) Metadata Conventions': ['GEOSS Portal',\n   '4TU.ResearchData | science.engineering.design',\n   'TERN Data Discovery Portal',\n   'The CEDA Archive'],\n  'SPASE Data Model': ['Paris Astronomical Data Centre'],\n  'CSMD-CCLRC Core Scientific Metadata Model': ['Monash University Research Repository'],\n  'ISA-Tab': ['heiDATA', 'DataverseNO', 'Data INRAE'],\n  'Repository-Developed Metadata Schemas': ['Archaeology Data Service',\n   'Europeana collections',\n   'DABAR',\n   'Digital Library for Earth System Education',\n   'World Data Center for Climate',\n   'CLARIN-DK-UCPH Repository',\n   'Research Data Australia',\n   'Digital Archive of the Archaeological Map of the Czech Republic',\n   'Research Data at Essex',\n   'RUresearch Data Portal',\n   'METIS',\n   'PHAIDRA - University of Padua',\n   'GESIS Data Archive',\n   'Apollo',\n   'ADS'],\n  'Darwin Core': ['Open Forest Data',\n   'UA Campus Repository',\n   'TreeBASE',\n   'TERN Data Discovery Portal',\n   'PANGAEA'],\n  'AVM - Astronomy Visualization Metadata': ['Paris Astronomical Data Centre',\n   'UA Campus Repository']}}"
     },
     "execution_count": 9,
     "metadata": {},
     "output_type": "execute_result"
    }
   ],
   "source": [
    "node_edges"
   ],
   "metadata": {
    "collapsed": false,
    "ExecuteTime": {
     "end_time": "2023-09-22T07:47:34.596241047Z",
     "start_time": "2023-09-22T07:47:34.449402762Z"
    }
   }
  },
  {
   "cell_type": "code",
   "execution_count": 10,
   "outputs": [],
   "source": [
    "\n",
    "G = nx.Graph()\n",
    "\n",
    "# import igraph as ig\n",
    "G.add_nodes_from(list(repo_data[\"name\"].values))\n",
    "for i in [MD for MD in node_edges[\"OAI-PMH\"]]:\n",
    "    G.add_node(i, color=\"green\")\n",
    "G.add_edges_from(couple_node_data_analysis)"
   ],
   "metadata": {
    "collapsed": false,
    "ExecuteTime": {
     "end_time": "2023-09-22T07:47:34.869629356Z",
     "start_time": "2023-09-22T07:47:34.558336014Z"
    }
   }
  },
  {
   "cell_type": "code",
   "execution_count": 11,
   "outputs": [
    {
     "name": "stdout",
     "output_type": "stream",
     "text": [
      "3140 nodes / 133654 edges\n",
      "Duplicate edges are merged in an unique edge\n"
     ]
    }
   ],
   "source": [
    "print(str(len(G.nodes)) + \" nodes / \" + str(len(G.edges)) + \" edges\")\n",
    "print(\"Duplicate edges are merged in an unique edge\")"
   ],
   "metadata": {
    "collapsed": false,
    "ExecuteTime": {
     "end_time": "2023-09-22T07:47:34.904510715Z",
     "start_time": "2023-09-22T07:47:34.876396859Z"
    }
   }
  },
  {
   "cell_type": "markdown",
   "source": [
    "## Density of the graph : all nodes all edges"
   ],
   "metadata": {
    "collapsed": false
   }
  },
  {
   "cell_type": "code",
   "execution_count": 12,
   "outputs": [
    {
     "data": {
      "text/plain": "0.027120081652033286"
     },
     "execution_count": 12,
     "metadata": {},
     "output_type": "execute_result"
    }
   ],
   "source": [
    "nx.density(G)"
   ],
   "metadata": {
    "collapsed": false,
    "ExecuteTime": {
     "end_time": "2023-09-22T07:47:34.972874704Z",
     "start_time": "2023-09-22T07:47:34.882045771Z"
    }
   }
  },
  {
   "cell_type": "markdown",
   "source": [
    "## Mean degree in the graph : all nodes all edges"
   ],
   "metadata": {
    "collapsed": false
   }
  },
  {
   "cell_type": "code",
   "execution_count": 13,
   "outputs": [
    {
     "data": {
      "text/plain": "85.12993630573249"
     },
     "execution_count": 13,
     "metadata": {},
     "output_type": "execute_result"
    }
   ],
   "source": [
    "np.mean([d for _, d in G.degree()])"
   ],
   "metadata": {
    "collapsed": false,
    "ExecuteTime": {
     "end_time": "2023-09-22T07:47:35.049264799Z",
     "start_time": "2023-09-22T07:47:34.905228348Z"
    }
   }
  },
  {
   "cell_type": "code",
   "execution_count": 14,
   "outputs": [
    {
     "data": {
      "text/plain": "<Axes: ylabel='Frequency'>"
     },
     "execution_count": 14,
     "metadata": {},
     "output_type": "execute_result"
    },
    {
     "data": {
      "text/plain": "<Figure size 640x480 with 1 Axes>",
      "image/png": "[encoded data removed]"
     },
     "metadata": {},
     "output_type": "display_data"
    }
   ],
   "source": [
    "import matplotlib.pyplot as plt\n",
    "\n",
    "# plt.hist(pd.Series([d for _, d in G.degree()]), log=True)\n",
    "\n",
    "pd.Series([d for _, d in G.degree()]).plot(kind=\"hist\", logx=True, logy=True)\n"
   ],
   "metadata": {
    "collapsed": false,
    "ExecuteTime": {
     "end_time": "2023-09-22T07:47:36.189601918Z",
     "start_time": "2023-09-22T07:47:34.954970867Z"
    }
   }
  },
  {
   "cell_type": "markdown",
   "source": [
    "## Removing unconnected nodes"
   ],
   "metadata": {
    "collapsed": false
   }
  },
  {
   "cell_type": "code",
   "execution_count": 15,
   "outputs": [
    {
     "name": "stdout",
     "output_type": "stream",
     "text": [
      "1731\n"
     ]
    }
   ],
   "source": [
    "isolated_nodes = list(nx.isolates(G))\n",
    "print(len(isolated_nodes))"
   ],
   "metadata": {
    "collapsed": false,
    "ExecuteTime": {
     "end_time": "2023-09-22T07:47:36.190076519Z",
     "start_time": "2023-09-22T07:47:36.175196030Z"
    }
   }
  },
  {
   "cell_type": "code",
   "execution_count": 16,
   "outputs": [],
   "source": [
    "G.remove_nodes_from(isolated_nodes)\n"
   ],
   "metadata": {
    "collapsed": false,
    "ExecuteTime": {
     "end_time": "2023-09-22T07:47:36.243832800Z",
     "start_time": "2023-09-22T07:47:36.195329882Z"
    }
   }
  },
  {
   "cell_type": "code",
   "execution_count": 17,
   "outputs": [
    {
     "name": "stdout",
     "output_type": "stream",
     "text": [
      "1409 nodes / 133654 edges\n"
     ]
    }
   ],
   "source": [
    "print(str(len(G.nodes)) + \" nodes / \" + str(len(G.edges)) + \" edges\")\n"
   ],
   "metadata": {
    "collapsed": false,
    "ExecuteTime": {
     "end_time": "2023-09-22T07:47:36.454022506Z",
     "start_time": "2023-09-22T07:47:36.201577448Z"
    }
   }
  },
  {
   "cell_type": "markdown",
   "source": [
    "# Density without isolated nodes"
   ],
   "metadata": {
    "collapsed": false
   }
  },
  {
   "cell_type": "code",
   "execution_count": 18,
   "outputs": [
    {
     "data": {
      "text/plain": "0.13474054777727595"
     },
     "execution_count": 18,
     "metadata": {},
     "output_type": "execute_result"
    }
   ],
   "source": [
    "nx.density(G)"
   ],
   "metadata": {
    "collapsed": false,
    "ExecuteTime": {
     "end_time": "2023-09-22T07:47:36.536731850Z",
     "start_time": "2023-09-22T07:47:36.219670522Z"
    }
   }
  },
  {
   "cell_type": "markdown",
   "source": [
    "# Mean degree without isolated nodes"
   ],
   "metadata": {
    "collapsed": false
   }
  },
  {
   "cell_type": "code",
   "execution_count": 19,
   "outputs": [
    {
     "data": {
      "text/plain": "189.71469127040453"
     },
     "execution_count": 19,
     "metadata": {},
     "output_type": "execute_result"
    }
   ],
   "source": [
    "np.mean([d for _, d in G.degree()])"
   ],
   "metadata": {
    "collapsed": false,
    "ExecuteTime": {
     "end_time": "2023-09-22T07:47:36.537567649Z",
     "start_time": "2023-09-22T07:47:36.267024556Z"
    }
   }
  },
  {
   "cell_type": "markdown",
   "source": [
    "# Selecting data only on OAI-PMH : Knowledge sharing in Open Science"
   ],
   "metadata": {
    "collapsed": false
   }
  },
  {
   "cell_type": "code",
   "execution_count": 20,
   "outputs": [],
   "source": [
    "from itertools import combinations\n",
    "import random\n",
    "couple_node = []\n",
    "\n",
    "# for API in node_edges:\n",
    "for MD in node_edges[\"OAI-PMH\"]:\n",
    "    # if MD != \"Dublin Core\":\n",
    "        couple_node += list(set([tuple(sorted(x)) for x in combinations(node_edges[\"OAI-PMH\"][MD],2)]))\n",
    "    # for i in range(len(node_edges[\"OAI-PMH\"][MD])):\n",
    "        # couple_node.append((node_edges[\"OAI-PMH\"][MD][i], node_edges[\"OAI-PMH\"][MD][(i+1)%len(node_edges[\"OAI-PMH\"][MD])]))\n",
    "        # couple_node.append((node_edges[\"OAI-PMH\"][MD][i], node_edges[\"OAI-PMH\"][MD][(i+5)%len(node_edges[\"OAI-PMH\"][MD])] ))\n",
    "        # Exchange uncommented line with this one to get every edges\n",
    "        # couple_node.append((MD+\"-OAI-PMH\",node_edges[\"OAI-PMH\"][MD][i]))\n"
   ],
   "metadata": {
    "collapsed": false,
    "ExecuteTime": {
     "end_time": "2023-09-22T07:47:36.538214291Z",
     "start_time": "2023-09-22T07:47:36.267213169Z"
    }
   }
  },
  {
   "cell_type": "markdown",
   "source": [
    "# Graph creation : only on OAI-PMH"
   ],
   "metadata": {
    "collapsed": false
   }
  },
  {
   "cell_type": "code",
   "execution_count": 36,
   "outputs": [],
   "source": [
    "\n",
    "G_OAI = nx.Graph()\n",
    "\n",
    "# import igraph as ig\n",
    "G_OAI.add_nodes_from(list(repo_data[\"name\"].values))\n",
    "# Change color of node for OAI-PMH\n",
    "for i in [MD+\"-OAI-PMH\" for MD in node_edges[\"OAI-PMH\"]]:\n",
    "    G_OAI.add_node(i, color=\"green\")\n",
    "G_OAI.add_edges_from(couple_node)"
   ],
   "metadata": {
    "collapsed": false,
    "ExecuteTime": {
     "end_time": "2023-09-22T08:28:34.470070494Z",
     "start_time": "2023-09-22T08:28:34.423849868Z"
    }
   }
  },
  {
   "cell_type": "code",
   "execution_count": 37,
   "outputs": [
    {
     "name": "stdout",
     "output_type": "stream",
     "text": [
      "3140 nodes / 22179 edges\n"
     ]
    }
   ],
   "source": [
    "print(str(len(G_OAI.nodes)) + \" nodes / \" + str(len(G_OAI.edges)) + \" edges\")\n"
   ],
   "metadata": {
    "collapsed": false,
    "ExecuteTime": {
     "end_time": "2023-09-22T08:28:34.994441017Z",
     "start_time": "2023-09-22T08:28:34.982434797Z"
    }
   }
  },
  {
   "cell_type": "markdown",
   "source": [
    "# Graph density : only on OAI-PMH (knowledge sharing)"
   ],
   "metadata": {
    "collapsed": false
   }
  },
  {
   "cell_type": "code",
   "execution_count": 38,
   "outputs": [
    {
     "data": {
      "text/plain": "0.004500398723273873"
     },
     "execution_count": 38,
     "metadata": {},
     "output_type": "execute_result"
    }
   ],
   "source": [
    "nx.density(G_OAI)"
   ],
   "metadata": {
    "collapsed": false,
    "ExecuteTime": {
     "end_time": "2023-09-22T08:28:35.968445210Z",
     "start_time": "2023-09-22T08:28:35.954625253Z"
    }
   }
  },
  {
   "cell_type": "markdown",
   "source": [
    "# Mean degree :  only on OAI-PMH (knowledge sharing)\n",
    "Used in section 3.3 to get the probability to have the researched information (14.23 + 1)"
   ],
   "metadata": {
    "collapsed": false
   }
  },
  {
   "cell_type": "code",
   "execution_count": 39,
   "outputs": [
    {
     "data": {
      "text/plain": "14.126751592356689"
     },
     "execution_count": 39,
     "metadata": {},
     "output_type": "execute_result"
    }
   ],
   "source": [
    "np.mean([d for _, d in G_OAI.degree()])"
   ],
   "metadata": {
    "collapsed": false,
    "ExecuteTime": {
     "end_time": "2023-09-22T08:28:37.506445720Z",
     "start_time": "2023-09-22T08:28:37.470230726Z"
    }
   }
  },
  {
   "cell_type": "markdown",
   "source": [
    "# Community clustering : Louvain method"
   ],
   "metadata": {
    "collapsed": false
   }
  },
  {
   "cell_type": "code",
   "execution_count": 40,
   "outputs": [],
   "source": [
    "node_to_community = community_louvain.best_partition(G_OAI)\n"
   ],
   "metadata": {
    "collapsed": false,
    "ExecuteTime": {
     "end_time": "2023-09-22T08:28:38.778257600Z",
     "start_time": "2023-09-22T08:28:38.487582033Z"
    }
   }
  },
  {
   "cell_type": "markdown",
   "source": [
    "# Plotting graph"
   ],
   "metadata": {
    "collapsed": false
   }
  },
  {
   "cell_type": "code",
   "execution_count": null,
   "outputs": [
    {
     "name": "stdout",
     "output_type": "stream",
     "text": [
      "0.0001720698912185511\n",
      "{'World Data Center for Geomagnetism, Kyoto': 0, 'Maharashtra State Data Bank': 0, 'DTU Data': 1, 'Biological Collection Access Service for Europe': 0, 'mzCloud': 0, 'AgroSpace': 0, 'IZTECH GCRIS': 1, 'climate4impact': 0, 'National Center for Ecological Analysis and Synthesis Data Repository': 0, 'PSnpBind': 0, 'Goddard Earth Sciences Data and Information Services Center': 0, 'Données Québec': 0, 'Hazardous Substance Data Bank': 0, 'Life Science Database Archive': 0, 'FAIRDOMHub': 0, 'Pacific Climate Impacts Consortium Data Portal': 0, 'Jean Paul – Sämtliche Briefe digital': 0, 'RESA': 0, 'UdS Fedora Commons Repository': 1, 'Ontario Reptile and Amphibian Atlas': 0, \"Queen's University Dataverse\": 0, 'European Election Database': 0, 'Canadian Disaster Database': 0, 'GLUES Geoportal': 0, 'Scripps Institute of Oceanography Explorer': 0, 'GabiPD': 0, 'Netherlands Trial Register': 0, 'Forschungsdatenzentrum der Bundesagentur für Arbeit im Institut für Arbeitsmarkt und Berufsforschung': 0, 'ACSS Dataverse': 0, 'Global Precipitation Climatology Centre': 0, 'Nordicana D': 0, 'Southern California Earthquake Data Center': 0, 'Fungal Genetics Stock Center': 0, 'Saccharomyces Genome Database': 0, 'megx.net': 0, 'NIRD Research Data Archive': 0, 'GeneMANIA': 0, 'Land Information New Zealand Data Service': 0, 'COSYNA Data web portal': 0, 'Research Data On Gender Relations In Academia': 0, 'Surveillance Epidemiology of Coronavirus (COVID19) Under Research Exclusion': 0, 'META-SHARE': 0, 'immuneACCESS': 0, 'IHEC Data Portal': 0, 'DARIAH-DE Repository': 1, 'Online Mendelian Inheritance in Man': 0, 'CARMEN': 0, 'Cancer GenomeAtlas Data Portal': 0, 'SWISS-MODEL Repository': 0, 'DataFirst': 0, 'Global Change Master Directory': 0, 'HELIX DATA': 0, 'Indian Space Science Data Center': 0, 'eBird': 0, 'Project Data Sphere': 0, 'GePaRD': 0, 'MPDS': 0, 'Academic Seismic Portal at LDEO': 0, 'Growing Up Today Study': 0, 'Alaska Climate Research Center': 0, 'St Andrews Research portal - Research Data': 0, 'data.enanomapper': 0, 'Allen Brain Atlas': 0, 'UniSave': 0, 'Selected constants energy levels and atomic spectra of actinides': 0, 'ASTER j-spacesystems': 0, 'DIAMM': 0, 'Solar and Heliospheric Observatory': 0, 'EnvBase': 0, 'ChIP-Seq Transcription Factor Data': 0, 'EM-DAT': 0, 'National Eye Institute Data Commons': 0, 'The World Bank Open Data': 0, 'Wittliff Collections - Digital Collections': 0, 'Cassavabase': 0, 'Materials Data Repository': 0, 'Portable X-Ray fluorescence analysis of Late Bronze Age glass from Amarna': 0, 'Canadian Centre for Energy Information': 0, 'Das Deutsche Referenzkorpus': 2, 'National Data': 0, 'ChEMBL': 0, 'Canadia Blood Services Data4Research Program': 0, 'Mendeley Data': 0, 'Climate Data Online': 0, 'CERN Open Data': 0, 'Riga Stradins University  dataverse': 0, 'tDAR': 0, 'World Data Centre for Greenhouse Gases': 0, 'TRY': 0, 'DisProt': 0, 'DEPOD': 0, 'University of Prince Edward Island Data (Beta)': 0, 'caArray': 0, 'Analysis of the Interstellar Medium of Isolated Galaxies': 0, 'Nottingham Research Data Management Repository': 0, 'The Netlib': 0, 'Database of Interacting Proteins': 0, 'World Glacier Monitoring Service': 0, 'Conservation Genome Resource Bank for Korean Wildlife': 0, 'Citrination': 0, 'Antarctic Marine Geology Research Facility': 0, 'InGeoCloudS': 0, 'Geoscience Data Exchange': 3, 'Repositorio Abierto': 1, 'Addgene': 0, 'Bjerknes Climate Data Centre': 0, 'India Environment Portal': 0, 'FooDB': 0, 'Flytrap': 0, 'IRI/LDEO Climate Data Library': 0, 'NCBI dbVar': 0, 'Research Data Center PIAAC at GESIS': 0, 'Worldwide Protein Data Bank': 0, 'ZEW Forschungsdatenzentrum': 0, 'DNAmod': 0, 'International Network of Nuclear Reaction Data Centres': 0, 'National Science Digital Library': 2, 'SilkDB 3.0': 0, 'National Center for Forestry and Grassland Genetic Resources': 0, 'BeeBase': 0, 'World Ocean Database': 0, 'Human Metabolome Database': 0, 'Berkeley Drosophila Genome Project': 0, 'Mappa': 0, 'TROVE': 0, 'Roman Villa of Capo di Sorrento': 0, 'PlasmID': 0, 'Sistema de Información de Biodiversidad de Ecuador SiB-Ec': 0, 'Survey of India': 0, 'Monash University Research Repository': 1, 'Open Data LMU': 3, 'WHOI Seafloor Data and Observation Visualization Environment': 0, 'National Pollutant Release Inventory': 0, 'Export Import Data Bank': 0, 'CDC - Climate Data Center': 0, 'Autophagy Database': 0, 'Chickpea Transcriptome Database': 0, 'Survey Research Data Archive': 0, 'Haldimand County Open Data': 0, 'Open Government Data Platform India': 0, 'Organic Synthesis Search': 0, 'SILVA': 0, 'International Mouse Phenotyping Consortium': 0, 'EUR Data Repository': 0, 'Earth System Research Laboratory - Global Monitoring Division': 0, 'OECD iLibrary Statistics': 0, 'U.S. Census Bureau TIGER/Line Shapefiles and TIGER/Line® Files': 0, 'University of Toronto Dataverse': 0, 'Regionaal Archief Zutphen (part of Gemeente Zutphen)': 0, 'Northern California Earthquake Data Center': 0, \"City of Abbotsford's Open Data Hub\": 0, 'SiB Colombia Portal de Datos': 0, 'UrMEL': 0, 'National Agricultural Statistics Service': 0, 'Berlin Waterclock Project': 0, 'Open Government Data Portal of Odisha': 0, 'Complex Portal': 0, 'AmphibiaWeb': 0, 'OceanDataPortal': 0, 'MorpheusML model repository': 0, 'SOFIA': 0, 'GIS Maps Portal at AWI': 0, 'Clinical Trials Registry - India': 0, 'Gene Ontology': 0, 'National Data Archive on Child Abuse and Neglect': 0, 'Environmental Monitoring System': 0, 'National Stem Cell Resource Bank': 0, 'Unidata Internet Data Distribution': 0, 'DASSH - The Archive for Marine Species and Habitats Data': 0, 'eKlima': 0, 'PhysioBank': 0, 'MetaCrop': 0, 'Whitby GeoHub': 0, 'NCAR Climate Analysis Section Data Catalog': 0, 'Quinte West Open GIS Data Portal': 0, 'UC San Diego Library Digital Collections': 0, 'SLUB Sammlungen': 1, 'National Infrastructure of Cell line Resources BMCR; NICR': 0, 'CLARIN-LV repository': 0, 'HIstome': 0, 'National Sharing Platform for Reference Materials': 0, 'Buildings Data Platform': 0, 'University of Manchester figshare': 0, 'Cancer Models Database': 0, 'Australian Waterbird Surveys': 0, 'Human Intermediate Filament Database': 0, 'Pyramids of the Steppe / Kazakhstan, Land of Seven Rivers': 0, 'Edmonton Open Data': 0, 'Canadensys repository': 0, 'OEDataRep': 1, \"Mansfeld's World Database of Agriculture and Horticultural Crops\": 0, 'Madrigal Database': 0, 'Digital South Asia Library': 0, 'Databrary': 0, 'Cotton Database': 0, 'NAGRP Blast Center': 0, 'NanoTox Knowledge Base': 0, 'Mass Spectrometry Interactive Virtual Environment': 0, 'FORS Data Service': 0, 'Global Trade Analysis Project': 0, 'Staatliche Naturwissenschaftliche Sammlungen Bayerns': 0, 'PetDB': 0, 'Wand- und Deckenmalerei in Lübecker Häusern 1300 bis 1800': 0, 'The National Archives': 0, 'Emporion': 0, 'Informatics Research Data Repository': 0, 'Bundeszentrale für Gesundheitliche Aufklärung Studien': 0, 'NIST FLYCHK': 0, 'Population Data BC': 0, 'HYDAT': 0, 'Animal Genome Size Database': 0, 'International Space Environment Service': 0, 'Universal PBM Resource for Oligonucleotide Binding Evaluation': 0, 'Parkinson Disease Mutation Database': 0, 'DataHub': 0, 'UniProtKB': 0, 'GAVO Data Centre': 2, 'Wellcome Collections - Images': 0, 'opendata@uni-kiel': 1, 'CyberCell Database': 0, 'Worldwide Governance Indicators Project': 0, 'prometheus': 0, 'The Atomic Line List': 0, 'NCAR UCAR Climate Data Guide': 0, 'UsefulChem': 0, 'HyperLeda': 0, 'BeetleBase': 0, 'GeoConnections - Discovery Portal': 0, 'UNESP Institutional Repository': 0, 'EPIC study': 0, 'Federated Research Data Repository': 0, 'Datanator': 0, 'OpenKIM': 0, 'Hakai Data': 0, 'National Earth Observational Data Center': 0, 'U.S. Department of Labor, Bureau of Labor Statistics': 0, 'UWE Research Data Repository': 2, \"Strathcona County's Open Data\": 0, 'Global Multi-Resolution Topography Data Portal': 0, 'Freshwater Research and Environmental Database': 0, 'ECCAD - the GEIA database': 0, 'GDP Drifter Data': 0, 'BioImages - Virtual Field-Guide': 0, 'Palynological Database': 0, 'Evaluated Nuclear Data File': 0, 'Constituency-Level Elections Archive': 0, 'National Tibetan Plateau/Third Pole Environment Data Center': 0, 'TUHH Open Research - Research Data TUHH': 0, 'Open IFC Model Repository': 0, 'SEANOE': 0, 'REasons for Geographic and Racial Differences in Stroke Study': 0, 'Royal Roads University Dataverse': 0, 'Canadas National Aquatic Biological Specimen Bank and Database': 0, 'ODIN': 0, 'Spectrum Research Repository': 2, 'IIT Dataverse': 0, 'Gene Expression Omnibus': 0, 'ILL Data Portal': 0, 'Blackfynn Discover': 0, 'National Coronial Information System': 0, 'PDX Finder': 0, 'Das Kristallstrukturdepot': 0, 'Gene Expression Nervous System Atlas': 0, 'Chesapeake Bay Data Hub': 0, 'ZINC': 0, 'National Geoscience Data Centre': 0, '1000 Genomes': 0, 'Pairfam': 0, 'Hydra': 0, 'UCLA Dataverse': 0, 'Archaeology Data Service': 3, 'Open Energy Platform': 0, 'York Region Open Data': 0, 'Der Bildbestand der Deutschen Kolonialgesellschaft in der Universitätsbibliothek Frankfurt am Main': 0, 'Speech and Language Data Repository': 0, 'Illinois Data Bank': 0, 'CU Scholar': 1, 'FlyReactome': 0, 'British Geological Survey': 0, 'Global Precipitation Measurement': 0, 'Rock Paintings in Indonesia': 0, 'Repositório de Dados Científicos': 0, 'Handbook of Basic Atomic Spectroscopic Data': 0, 'Gateway to Global Aging Data': 0, 'Genomic Observatories MetaDatabase': 0, 'DSpace@MIT': 0, 'Moderate Resolution Imaging Spectroradiometer': 0, 'Roman Water Law': 0, 'National Human Disease Animal Model Resource Center': 0, 'virus mentha': 0, 'ABCD Data Repository': 0, 'University of Minnesota Biocatalysis/Biodegradation Database': 0, 'McGill University Dataverse': 0, 'Satellog': 0, 'OzFlux': 0, 'Thermochemical Database': 0, 'CCF': 0, 'JPL OurOcean Portal': 0, 'Concordia University Dataverse': 0, 'Centre National de Ressources Textuelles et Lexicales': 0, 'PORTULAN CLARIN repository': 2, 'Pathogen Portal': 0, 'IMGT/PRIMER-DB': 0, 'Bibliothèques Virtuelles Humanistes': 1, 'ComBase': 0, 'Expression Atlas': 0, 'GHRC': 0, 'GeoPortal.rlp': 0, 'ScholarsArchive@OSU': 0, 'Harmonia Universalis': 0, 'NOAA National Centers for Environmental Information -  Paleoclimatology Data': 0, 'National Aquatic Biological Resource Center': 0, 'WormBase': 0, 'GeoPlatform': 0, 'Alberta Biodiversity Monitoring Institute Data & Analytics Portal': 0, 'Oxford University Research Archive': 1, 'ALSoD': 0, 'Penn World Table': 0, 'Irish Social Science Data Archive': 0, 'DataSpace': 0, 'CLARIN service center of the Zentrum Sprache at the BBAW': 1, 'International Plant Names Index': 0, 'Dados Abertos De Pesquisas': 0, 'NERC Earth Observation Data Centre': 0, 'Carleton University Dataverse Collection': 0, 'Ontario Open Government Data': 0, 'NARSTO': 0, 'plankton*net': 0, 'EIDA': 0, 'Chorotree': 0, 'Critical Zone Observatories data': 0, 'NOAA National Centers for Environmental Information - formerly: National Coastal Data Development Center': 0, 'UNAVCO': 0, 'PharmGKB': 0, 'melbourne.figshare.com': 1, 'National Stem Cell Translational Resource Center': 0, 'VirHostNet': 0, 'ASU Library Research Data Repository': 0, 'CRAWDAD': 0, 'Atomic Data for Astrophysics': 0, 'Oak Ridge National Laboratory Distributed Active Archive Center for Biogeochemical Dynamics': 0, 'YODA Project': 0, 'KonDATA': 0, \"Dataverse de l'Institut national de la recherche scientifique\": 0, 'Veterinar - Electronic Repository of Research and Scientific Papers': 0, 'Virtual Liver Network': 0, 'Portal de Datos Genómicos del SNDG': 0, 'National Non-Human Primate Laboratory Animal Resource Bank': 0, 'TARKI Data Archive': 0, 'GallusReactome': 0, \"NOAA's Integrated Coral Observing Network\": 0, 'data_UMR': 1, 'Ligand-Gated Ion Channel Database': 0, 'Astromaterials Data System': 0, 'Boola Boola Forest bird study': 0, 'DrugBank': 0, 'UvaDOC - Fonda Antiguo': 1, 'DataSuds': 0, 'World Ozone and Ultraviolet Radiation Data Centre': 0, 'LinkedEarth Wiki': 0, 'Codex Sinaiticus': 0, 'iDog': 0, 'PHI-base': 0, 'Thunder Bay Open Data Portal': 0, 'Phonogrammarchiv': 0, 'ClinicalCodes.org': 0, 'NF Data Portal': 0, 'OGSEarth': 0, 'PDBj': 0, 'NOAA National Centers for Environmental Information - formerly: National Oceanographic Data Center': 0, 'RIN Data Repository': 0, 'ITER Database': 0, 'BioSample': 0, '45 and Up Study': 0, 'International Service for the Geoid': 0, 'Precipitation Processing System': 0, 'Europeana collections': 1, 'UK-AIR': 0, 'meereisportal.de': 0, 'Griffith University Research Data Repository': 2, 'Missouri Geological Survey Program': 0, 'Merritt': 0, 'Mediateca INAH': 1, 'Freshwater Biodiversity Data Portal': 0, 'Jurisdictional Ocean Information Sharing System': 0, 'Humanitarian Data Exchange': 0, 'Physical Sciences Data-Science Service': 0, 'South Australian Resources Information Geoserver': 0, \"Martha's Vineyard Coastal Observatory\": 0, 'HJ Andrews Experimental Forest': 0, 'Discuss Data': 0, 'Land Portal': 0, 'Water Quality Portal': 0, 'Insect Images': 0, 'idUS': 0, 'Database for Hydrological Time Series of Inland Waters': 0, 'Pandora': 0, 'Banque de données du CDSP': 0, 'International Food Policy Research Institute Dataverse': 1, 'Astronomical Data Archives Center': 0, 'Open Context': 0, 'International Satellite Cloud Climatology Project': 0, 'Global Forest Change': 0, 'Pakistan Petroleum Exploration & Production Data Repository': 0, 'Brown Digital Repository': 0, 'Coherent X-ray Imaging Data Bank': 0, 'HunCLARIN': 0, 'DEWA/GRID-Geneva': 0, 'CloudFlame': 0, 'Service Centre of the Federal Government for Geo-Information and Geodesy - Open Data': 0, 'Digitale Sammlungen der Württembergischen Landesbibliothek': 0, 'Halifax Open Data': 0, 'CASRdb': 0, 'CMO Editionen und Quellen-Katalog': 0, 'OrtholugeDB': 0, 'Reciprocal Net': 0, 'National Center for Health Statistics': 0, 'PRISM Climate Data': 0, 'Carbohydrate Structure Database': 0, 'NASC': 0, 'European Centre for Disease Prevention and Control': 0, 'Estonian Biocentre Free Data': 0, 'Maya Image Archive': 0, 'ORegAnno': 0, 'Romani Morpho-Syntax Database': 0, 'Taiwan Biodiversity Information Facility': 0, 'World Agroforestry Centre - ICRAF Dataverse': 0, 'cisRED': 0, 'Maple Ridge Open Government Portal': 0, 'District of North Vancouver’s Open Data portal': 0, 'RADAM database portal': 0, \"eCommons - Cornell's digital repository\": 0, 'Atomic & Molecular Database': 0, 'Forschungsdatenzentrum des SOEP': 0, 'Open Data Commons for Traumatic Brain Injury': 0, 'Open Health Data Dataverse': 0, 'Academic Torrents': 0, 'D-PLACE': 0, 'Conservation Halton Open Data Hub': 0, 'World Radiation Data Centre': 0, 'USGODAE Argo GDAC Data Browser': 0, 'NCBI Gene': 0, 'Newfoundland and Labrador Fisheries, Forestry and Agriculture GeoHub': 0, 'DOOR': 0, 'diversitydata.org': 0, 'American Mineralogist Crystal Structure Database': 0, 'DataDOI': 1, 'ONSchallenge': 0, 'RRUFF Project': 0, 'ECHO – Cultural Heritage Online': 0, 'Earthdata powered by EOSDIS': 0, 'IndExs – Index of Exsiccatae': 0, 'R.L.Kelly atomic and ionic linelist': 0, 'arrayMap': 0, 'Information System and Data Center': 0, 'Wetter, Wolken, Klima': 0, 'Invasive.org': 0, 'Climate Action Plan Explorer': 0, 'WRAP': 1, 'Constrained Local UniversE Simulations': 0, 'Institute of Museum and Library Services Data Collection': 0, 'Work With Data': 0, 'TESS': 0, 'Université de Montréal – Dataverse': 0, \"City of Burlington's Open Data Catalogue\": 0, 'Allele Frequency Net Database': 0, 'IMGT/mAb-DB': 0, 'Canadian Poisonous Plants Information System': 0, 'Statistics New Zealand': 0, 'burckhardtsource.org': 0, 'CLARIN-UK': 0, 'German Central Health Study Hub COVID-19': 0, 'National Archive of Criminal Justice Data': 0, 'DEEMY': 0, 'Earth Orientation Center': 0, 'International Mouse Strain Resource': 0, 'Joint Genome Institute Data Portal': 0, 'ACTRIS Data Centre': 0, 'Ocean Biodiversity Information System': 0, 'EBiSC catalogue': 0, 'Canada-Nova Scotia Offshore Petroleum Board Data Management Centre': 0, 'The Cancer Imaging Archive': 0, 'Water Isotope System for Data Analysis, Visualization and Electronic Retrieval': 0, 'Pig Expression Data Explorer': 0, 'EURO-CORDEX 1989-2018 using TerrSysMP': 0, 'SourceForge': 0, 'OpenML': 0, 'USU Institutional Repository': 1, 'Australian National Corpus': 0, 'The Microbial Protein Interaction Database': 0, 'LiDA': 3, 'Marine Environmental Data Section': 0, 'The Taenia solium Genome Project': 0, 'SCRIPDB': 0, 'data.InDoRES': 0, 'Sunshine Coast Regional District Open Data': 0, 'NIE Data Repository': 0, 'Federal Reserve Economic Data': 0, 'Mouse Atlas of Gene Expression': 0, 'JKU Magnetic Oxides Data Repository': 0, 'UP Research Data Repository': 1, 'Mount Royal University Dataverse': 0, 'Qualitative Data Repository': 0, 'KTISIS': 0, 'FLOSSmole': 0, 'ResearchDataGov.org': 0, 'Social Sciences and Digital Humanities Archive': 0, 'coastMap': 0, 'New York Brain Bank': 0, 'Brain Image Library': 0, 'Animal Genome Tracks on GBrowse': 0, \"Maison méditerranéenne des sciences de l'homme, Phonothèque\": 0, 'Chempound': 0, 'EarthScope': 0, 'TOAR Surface Observation Database': 0, 'EUROLAS Data Center': 0, 'Indian Genetic Disease Database': 0, 'Canadian Tides and Water Levels Data Archive': 0, 'clarin:el inventory of language resources and services': 0, \"Nova Scotia Government's Open Data Portal\": 0, 'DataSpace@HKUST': 0, 'Cellosaurus': 0, 'AmeriFlux': 0, 'Center for Operational Oceanographic Products and Services': 0, 'PRoteomics IDEntifications Database': 0, 'European Mouse Mutant Cell Repository': 0, 'Canadian Coast Guard Data Catalogue': 0, 'arthistoricum.net': 0, 'Laboratory of Neuroimaging Image & Data Archive': 0, \"Alzheimer's Disease Neuroimaging Initiative Image and Data Archive\": 0, 'National Center for Atmospheric Research': 0, 'WURM Project': 0, 'The International Research Institute for Climate and Society': 0, 'Australian SuperSite Network Data Portal': 3, 'Swedish Meteorological and Hydrological Institute  open data': 0, 'McMaster University Dataverse': 0, 'modENCODE': 0, 'ThermoML': 0, 'Forschungsdatenzentrum des Deutschen Zentrum für Altersfragen': 0, 'NCBI Third Party Annotation': 0, 'BioModels': 0, 'Alzforum': 0, 'National Microbiome Data Collaborative': 0, 'European Centre for Medium-Range Weather Forecasts': 0, 'Brock University Dataverse': 0, 'Exploration and Production Data Bank': 0, 'Cell Centered Database': 0, 'RAMEDIS': 0, 'Child Care & Early Education Research Connections': 0, 'ARS': 0, 'DNASU plasmid repository': 0, 'Society of American Archivists Dataverse': 0, 'Portal Zarządzania Wiedzą UJ CM': 2, 'Global Genome Biodiversity Network': 0, 'Hamburger Zentrum für Sprachkorpora Korpus Repositorium': 1, 'UPF Digital Repository': 2, 'SAO/NASA Astrophysics Data System Dataverse': 0, 'GIN': 0, 'INGV Open Data Registry': 0, 'IPB MassBank': 0, 'Water use data': 0, 'IDEADB': 0, 'data.world': 0, 'Bugwood Image Database System': 0, 'AVISO+': 0, 'Polar Rock Repository Database': 0, 'American Type Culture Collection': 0, 'InCHIANTI': 0, 'WRMC-BSRN': 0, 'DARECLIMED': 0, 'NIST Atomic Spectra Database': 0, 'The National Soil DataBase': 0, 'Terrestrial Ecosystem Research Network': 0, 'Drosophila Genetic Reference Panel 2': 0, 'DABAR': 3, 'IMAS Data Portal': 0, '<intR>²Dok[§]': 1, 'Nationale Kohorte': 0, 'Malaria Atlas Project': 0, 'CaPSURE': 0, 'TanDEM-X ISDC': 0, 'World Data Centre for Geomagnetism, Copenhagen': 0, 'Atmosphere to Electrons, Data Archive and Portal': 0, 'OCTOPUS database': 0, 'National Genomic Resources Repository': 0, 'osnaData': 3, 'Swiss HIV Cohort Study & Swiss Mother and Child HIV Cohort Study': 0, 'Middlesex University Research Data Repository': 0, 'cropPAL': 0, 'The Cambridge Structural Database': 0, 'Southeast Asian Climate Assessment & Dataset': 0, 'B.C. Conservation Data Centre': 0, 'Morphbank': 0, 'World Data Centre for Precipitation Chemistry': 0, 'Xanthobase': 0, 'The NIST Reference on Constants, Units, and Uncertainty': 0, 'Yeast Resource Center Public Image Repository': 0, 'IndiaVotes': 0, 'Open Science OVGU': 0, 'Ocean Observatories Initiative': 0, 'Kitchener GeoHub': 0, 'Altalis': 0, 'KORDS': 0, 'CLARIN INT Portal': 2, 'Space Science and Engineering Center Satellite Data Services': 0, \"Physical mapping data at Canada's Michael Smith Genome Sciences Centre - Data\": 0, 'Producción Académica UCC': 1, 'FlowRepository': 0, 'UniSA Research Data Access Portal': 0, 'Wordbank': 0, 'Columbia University Academic Commons': 2, 'Kiezdeutschkorpus KiDKo': 0, 'Prospered Project': 0, 'Data@Lincoln': 1, 'State of the Salmon': 0, 'MediaBank': 0, 'NCI Data Portal': 0, 'Construction Drawings': 0, 'Surveillance Epidemiology and End Results': 0, 'Zentrum für Klinische Studien der Universität zu Köln': 0, 'Medical Expenditure Panel Survey': 0, 'Host - Pathogen Interaction Database': 0, 'SAHFOS': 0, 'BioSimulations': 0, 'OrthoMCL': 0, 'Taiwan Forestry Research Institute Data Catalog': 0, 'Rhodes University Research Data': 0, 'NWT Species Infobase': 0, 'MINDS@UW': 0, 'Panel Study on Income Dynamics': 0, 'Geospatial Data': 0, 'World Values Survey': 0, 'Curtin University Research Data Collection': 2, 'ZBW Journal Data Archive': 0, 'Guelph Open Data Portal': 0, 'Global Record of Stocks and Fisheries': 0, 'Employment Ontario Geo Hub': 0, 'United States Department of Agriculture, Economic Research Service, Data Products': 0, 'ScienceRepository': 1, 'Ensembl Metazoa': 0, 'Portal of Medical Data Models': 0, 'Correlates of War Project': 0, 'Toronto Police Service Public Safety Data Portal': 0, 'AlphaFold': 0, 'National Sleep Research Resource': 0, 'Spec Patterns': 0, 'SOL Genomics Network': 0, 'Panel on household finances': 0, 'ISRIC - World Soil Information': 0, 'arthistoricum.net@heiDATA': 0, 'NCBI Epigenomics': 0, 'ARM Data Center': 0, 'CosmoHub': 0, 'Data Sharing for Demographic Research': 0, 'HUGO Gene Nomenclature Committee': 0, 'Digitale Sammlungen, Goethe-Universität Frankfurt am Main': 0, 'ISER Centres and Surveys': 0, 'UniRef': 0, 'AgBase': 0, 'ESA Earth Online': 0, 'The Health Improvement Network': 0, 'European Environment Agency, Datasets': 0, 'Niagara Open Data': 0, 'Atlas of Living Australia': 0, 'Alberta Geological Survey': 0, 'JOAD Dataverse': 0, 'Alzheimer Disease & Frontotemporal Dementia Mutation Database': 0, 'GSA Data Repository': 0, 'ChemBio Hub': 0, 'CMU Graphics Lab Motion Capture Database': 0, 'DOE Joint Genome Institute Genome  Portal': 0, 'neuGRID': 0, 'Worldviews': 1, 'APID': 0, 'Network for the Detection of Atmospheric Composition Change': 0, 'Medienarchiv der Zürcher Hochschule der Künste': 0, 'Genomes OnLine Database': 0, 'International Laser Ranging Service': 0, 'CaltechDATA': 3, 'CHILDdb': 0, 'ibeetle': 0, 'ETH Travel Data Archive': 0, 'RDC at ZPID': 0, 'York Digital Library': 0, 'The Adaptive Evolution Database': 0, 'Forenames_histHub': 0, 'MorphoBank': 0, 'Open data and information Portal Canadian Space Agency': 0, 'Sikt – Norwegian Agency for Shared Services in Education and Research': 0, 'FactSage': 0, 'HEPData': 0, 'Tilburg University Dataverse': 0, 'CLARIN Knowledge Centre for the Languages of Sweden': 0, 'Diabetes Study of Northern California': 0, 'Repositorio de Activos Digitales': 0, 'National Archive of Criminal Justice Data, Terrorism and Preparedness Data Resource Center': 0, 'NAWI Water DAMS': 0, 'DigiMorph': 0, 'Peking University Open Research Data': 0, 'Grouplens Datasets': 0, 'PhysioNet': 0, 'UK Data Service': 3, 'Measurements Of Pollution In The Troposphere': 0, 'Open Archive for Miscellaneous Data': 0, 'Digitale Sammlungen': 0, 'Biosearch': 0, 'My Geo Hub': 0, 'CDC WONDER': 0, '<odesi>': 0, 'NeuroMorpho.Org': 0, 'Crustal Dynamics Data Information System': 0, 'Junar': 0, 'PLEXdb': 0, 'Aktuelle Wetter- und Klimawerte deutscher Stationen': 0, 'Androgen Receptor Mutations Database': 0, 'Harvard Medical School, Library of Integrated Network-Based Cellular Signatures\\xa0Database': 0, 'Data and Specimen Hub': 0, 'CGIAR Research Program on Forests, Trees and Agroforestry Dataverse': 0, 'National Forestry Database': 0, 'Geo Big Data Open Platform': 0, 'NCEP/NCAR Reanalysis Project': 0, 'WATCH': 0, 'Arca Dados': 0, 'Journal of Cell Biology - JCB DataViewer': 0, 'HyMeX': 0, 'Coronavirus Antiviral Research Database': 0, \"Copernicus' Heliograph\": 0, 'NCBI Protein Clusters': 0, 'ExPASy Bioinformatics Resource Portal': 0, 'ARP Research Data Repository': 0, 'Image Data Resource': 0, 'Permafrost Information Network': 0, 'OpenStreetMap': 0, 'AmericasBarometer': 0, 'Cancer Genome Anatomy Project': 0, 'NCBI SARS-CoV': 0, 'Scholar@UC': 0, 'Mousebytes': 0, 'Biosamples': 0, 'Atmospheric Chemistry Experiment': 0, 'Wolfenbütteler Digital Library': 2, 'WHOI Ship Data-Grabber System': 0, 'The Lafora Progressive Myoclonus Epilepsy Mutation and Polymorphism Database': 0, 'Sciflection': 0, 'Immuno Polymorphism Database': 0, 'Digital Library for Earth System Education': 3, 'BioSimulators': 0, 'UniMES': 0, 'Pfam Protein Families': 0, 'AMODS': 0, 'Solar Dynamics Observatory': 0, 'SIP-Archiv': 0, 'International Geodynamics and Earth Tide Service': 0, 'GRIN-CA Taxonomy': 0, 'Vivli': 0, 'EuPathDB': 0, 'J. Craig Venter Institute': 0, 'Paris Astronomical Data Centre': 3, 'China Meteorological Data Service Center': 0, 'Historic Environment Scotland': 0, 'e-cienciaDatos': 3, 'British Oceanographic Data Centre': 0, 'Scholarly Database at Indiana University': 0, 'GESDB': 0, 'Canadian Ice Service Archive': 0, 'Canadian Epigenetics, Environment and Health Research Consortium Network': 0, 'Barcode of Life Data Systems': 0, 'SIMBAD Astronomical Database': 0, 'Smithsonian figshare': 1, 'Toxics Release Inventory': 0, 'Dallas Heart Study': 0, 'Advanced Cooperative Arctic Data and Information Service': 0, 'RAM Legacy Stock Assessment Database': 0, 'MaizeGDB': 0, 'Bureau Central de Magnétisme Terrestre': 0, 'Ensembl Plants': 0, 'MatDB': 0, 'PDS': 0, 'circbase': 0, 'Berkeley Drosophila Genome Project insitu': 0, 'ASAP': 0, 'Språkbanken Text': 0, 'National Air Pollution Surveillance': 0, 'Small Molecule Pathway Database': 0, 'EPPO Global Database': 0, 'WikiPathways': 0, 'CIARD Ring': 1, 'Biological and Chemical Oceanography Data Management Office': 0, 'SIOR': 0, 'KWTRP Research Data Repository Dataverse': 0, 'Jülich DATA': 0, 'PPBio Data Repository': 0, 'nanoHUB': 0, 'INTEGRAL data archives': 0, 'BBMRI-ERIC Directory': 0, \"New Zealand's Biological Heritage National Science Challenge Data Repository\": 0, 'Ortolang': 0, 'Open Exoplanet Catalogue': 0, 'City of Surrey Open Data': 0, 'NASA/IPAC Extragalactic Database': 0, 'World Data Center for Climate': 3, 'Behavioral Risk Factor Surveillance System': 0, 'Study of Health in Pomerania': 0, 'Washington University Research Data': 0, 'Department of Statistical Sciences Data Repository - Unipd': 0, 'QTL Archive': 0, 'MyTardis': 2, 'OceanRep GEOMAR Repository': 2, 'Comprehensive R Archive Network': 0, 'Earth Resources Observation and Science Center': 0, 'RIT Digital Media Library Repository': 0, 'BigBrain Database': 0, 'SMU Research Data Repository': 0, 'Protein Circular Dichroism Data Bank': 0, 'Secondary Analysis to Generate Evidence (SAGE) Dataverse': 0, 'Natural History Museum, Data Portal': 0, 'Environmental data explorer': 0, 'CERIC Data Portal': 1, 'NGEE Tropics': 0, 'National Vegetation Survey Databank': 0, 'Vitis International Variety Catalogue': 0, 'HubbleSite': 0, 'BRENDA': 0, 'vegetweb': 0, 'ICRISAT Dataverse': 0, 'Kinetic models of biological systems': 0, 'Stanford Digital Repository': 0, 'Environmental Information Platform': 0, 'Research Compendia': 0, 'National Materials Corrosion and Protection Data Center': 0, 'Polish Platform of Medical Research': 1, 'Marine Microbial Database of India': 0, 'Geoscientific Data & Discovery Publishing Center': 0, 'Sprachatlas Baden-Württemberg': 0, 'HumanCyc': 0, 'Open Data Region of Durham': 0, 'GENIE': 0, 'International Music Score Library Project': 0, 'Portal de Datos Abiertos UNAM, Colecciones Universitarias': 0, 'MIRAGE': 0, 'Harvard Dataverse': 0, 'Population Health Data Archive': 0, 'Cancer in Young People in Canada': 0, 'Biogrid Australia': 0, 'Pacific Northwest National Laboratory DataHub: Scientific Data Repository': 0, 'Federal Interagency Traumatic Brain Injury Research Informatics System': 0, 'GNS Science Dataset Catalogue': 0, 'GeoNB': 0, 'MultiDark Database': 0, 'Wilfrid Laurier University Dataverse': 0, 'UniParc': 0, 'BGS GeoScenic': 0, 'HHU ResearchData': 0, 'VRP-REP': 0, 'Cultural Policy and the Arts National Data Archive': 0, 'Open PHACTS': 0, 'Sammlungsportal Georg-August-Universität Göttingen': 0, 'Atlantic Canada Conservation Data Centre': 0, 'Mouse Phenome Database': 0, 'George Mason University Dataverse': 0, 'ForestPlots.net': 0, 'Studie zur Gesundheit von Kindern und Jugendlichen in Deutschland': 0, 'Plants of TAIWAN': 0, 'Catena': 2, 'Communication Portal for Accessing Social Statistics': 0, 'CLARIN-DK-UCPH Repository': 3, 'GeoReM': 0, 'NDSF Data Portal': 0, 'Data.gov': 0, 'CLARINO Bergen  Center repository': 2, 'RADAR Luke': 0, 'Australian Antarctic Data Centre': 0, 'Artstor': 0, 'Naval Oceanography Portal': 0, 'ZVDD': 1, 'NIST Energy Levels of Hydrogen and Deuterium': 0, 'BAOBAB': 0, 'Genome-Scale Metabolic Network DataBase': 0, 'NetSlim': 0, 'GAPHYOR': 0, 'EUDAT': 0, 'UCSD Signaling gateway': 0, 'University of Waterloo Dataverse': 0, \"Burnaby's Open Data Portal\": 0, 'The Chemical Probes Portal': 0, 'Monash Bridges': 1, 'Clinical Genomic Database': 0, 'Claremont Colleges Digital Library': 0, 'University of Guelph Research Data Repository  Dataverse': 0, 'IOWDB': 0, 'KBase': 0, 'NatureServe': 0, 'Repository of Psychological Instruments in Serbian': 0, 'DWB BioCASe Data Publication pipeline and RDF service': 0, 'Met office': 0, 'Social Data Repository (RDS)': 3, 'Ocean Science Information System': 0, 'DSPR': 0, 'VMF Data Server': 0, 'US Virtual Astronomical Observatory': 0, 'European Data Portal': 0, 'ERIC/open': 0, 'OFA Records': 0, 'Tropical Rainfall Measuring Mission': 0, 'BASS2000': 0, 'Infevers': 0, 'ScholarWorks@UMassAmherst': 2, 'Geothermal Information System': 0, 'PubData': 0, 'AIMS Data Repository': 0, 'Risklayer Explorer': 0, 'Partnership for Interdisciplinary Studies of Coastal Oceans': 0, 'OsteoArthritis Initiative': 0, 'IntAct': 0, 'City of Toronto Open Data Portal': 0, 'SuperTarget': 0, 'Centre for Astronomical Data of the Institute of Astronomy of the Russian Academy of Sciences': 0, 'GermOnline': 0, 'GTS AI Data Collection': 0, 'Integrated Resource for Reproducibility in Macromolecular Crystallography': 0, 'RESPECT': 0, 'Geoscience Data Repository for Geophysical Data': 0, 'Varieties of Democracy': 0, 'Prince Edward Island Government Open Data Portal': 0, 'Robert L. Kurucz': 0, 'Geoportal del Sistema Nacional de Información sobre la Biodiversidad': 0, 'Recode': 0, 'International Earth Rotation and Reference Systems Service': 0, 'Scientific Drilling Database': 0, \"Scholars' Mine\": 0, 'Tekstlaboratoriet': 0, 'Launchpad': 0, 'Encyclopedia of Life': 0, 'Living Atlas of the World': 0, 'City of Sydney - Historians and archivists': 0, 'Research Data Australia': 3, 'Socio Cognitive Processes Lab data': 0, 'Historical Climate Data Canada': 0, 'Geochron': 0, 'C. Elegans Gene Expression': 0, 'BioImage Archive': 0, 'Atlantic Oceanographic and Meteorological Laboratory': 0, 'EMEP': 0, 'National River Flow Archive': 0, 'Canadian Watershed Information Network': 0, 'Loeb Music Library': 0, 'INTEGRALL': 0, 'Arch': 0, 'Digital Collections ULB Düsseldorf': 1, 'REPOSIT': 0, 'Experimental Nuclear Reaction Data': 0, 'LOAR': 0, 'NIST Saha Plasma Population Kinetics Modeling Database': 0, 'MARGINS Data Portal': 0, 'Chinese Virtual Herbarium': 0, 'European mirror of Kurucz CD-ROM 23 database': 0, 'Phaidra Vetmeduni Vienna': 0, 'Research Data Oxford': 0, 'LOGKOW': 0, 'CURATOR': 1, 'HCUPnet': 0, 'NER Databank': 0, 'Collaborative Climate Community Data and Processing Grid': 0, 'Pacific and Regional Archive for Digital Sources in Endangered Cultures': 1, 'GRACE ISDC': 0, 'West African Plants': 0, 'Australian Data Archive': 0, 'GNPS: Global Natural Product Social Molecular Networking': 0, 'Resource Center for Minority Data': 0, 'UK Government Web Archive': 0, 'International Data Service Center of the Institute of Labor Economics': 0, 'Edmond': 0, 'TerMEx': 0, 'GISAID': 0, 'AceView': 0, 'Digital Pantheon': 0, 'Illinois State Water Survey': 0, 'Collaborative Research Centre Transregio 228 Database': 0, 'International Aid Transparency Initiative': 0, 'DOE Data Explorer': 0, 'Data Publication Server Forschungszentrum Jülich': 0, 'Duanaire': 0, 'Bedford Institute of Oceanography - Oceanographic Databases': 0, 'iRefWeb': 0, 'UCSC Genome Browser': 0, 'RosDok': 1, 'UBIRA eData': 1, \"Quality of Government Institute's Data\": 0, 'DataShare: the Open Data Repository of Iowa State University': 0, 'Census of Agriculture': 0, 'Comparative Political Data Set': 0, 'The Paleobiology Database': 0, 'Architectural Fragments from Magnesia on the Maeander': 0, 'Canine Inherited Disorders Database': 0, 'Legacy Archive for Microwave Background Data Analysis': 0, 'Pennington/Louisiana NORC Biorepository': 0, 'RADAR4Chem': 1, 'myExperiment': 0, 'OpenAltimetry': 0, 'Biologic Specimen and Data Repository Information Coordinating Center': 0, 'EnviDat': 0, 'B2SAFE': 0, 'UniProtKB/Swiss-Prot': 0, 'Dipòsit Digital de Documents de la UAB': 1, 'National Institute  of Polar Research Science Database': 0, 'IUBio-Archive': 0, 'DaRUS': 0, 'CCC Data Base': 0, 'University of Winnipeg Research Data Repository': 0, 'Open Data Ottawa': 0, 'Kinder Institute Urban Data Platform': 0, 'English Lexicon Project': 0, 'Sicas Medical Image Repository': 0, \"Follicular Lymphoma Genome Data at Canada's Michael Smith Genome Sciences Centre (BCGSC)\": 0, 'MIPAS/Envisat Observations of Polar Stratospheric Clouds': 0, 'LEDAS': 0, 'Plant Transcription Factor Database': 0, 'Stark Broadening Parameters for Neutral and Singly Charged Ions': 0, 'Virus Pathogen Resource': 0, 'IMK/IAA generated MIPAS/Envisat data': 0, 'Cardiovascular Research Grid': 0, 'National Infrastructure of Mineral Rock and Fossil Resources for Science and Technology': 0, 'IANUS Datenportal': 0, 'NASA Socioeconomic Data and Applications Center': 0, 'ResearchWorks Archive University of Washington': 0, 'Most Wiedzy Open Research Data Catalog': 0, 'Alvin Frame-Grabber System': 0, 'Landsat Missions': 0, 'Mindboggle-101': 0, 'BAliBASE': 0, 'CUAHSI': 0, 'IPK Gatersleben': 0, 'Kinsources.net': 2, 'RTU research data repository': 0, 'Plant and Fungal Carbohydrate Structure Database': 0, 'Johns Hopkins Turbulence Databases': 0, 'WorldWideMolecularMatrix': 1, 'National Library of Norway | Språkbanken': 1, 'SeaBASS': 0, 'HILDA Survey': 0, 'IMEx': 0, 'The Arabidopsis Information Resource': 0, 'Agricultural and Environmental Data Archive': 0, 'SABIO-RK': 0, 'National Library of the Netherlands  e-depot': 1, 'SMOKA Science Archive': 0, 'MGnify': 0, 'NOAA National Centers for Environmental Information - formerly: National Geophysical Data Center': 0, 'Bolin Centre Database': 0, 'Italian Centre for Astronomical Archive': 0, 'Agri-Environmental Research Data Repository Dataverse': 0, 'Eumetsat': 0, 'Cotton EST database': 0, 'IDS Repository': 1, 'Stockholm University Figshare Repository': 1, 'MatrixDB': 0, 'ICAC World Cotton Database': 0, 'Jason Virtual Van': 0, 'Edition Topoi  Repository': 0, 'Open Rotterdam Glaucoma Imaging Data Sets': 0, 'World Data Center for Cosmic Rays': 0, 'NCEI': 0, 'EDGAR': 0, 'Fishbase': 0, 'ITIS': 0, 'Digital Archive of the Archaeological Map of the Czech Republic': 1, 'ROAR Isolate Database': 0, 'Canadian Climate Data and Scenarios': 0, 'OSF - Vrije Universiteit Amsterdam': 0, 'Netherlands Polar Data Center': 0, 'The Global Agricultural Trial Repository and Database': 0, 'University of Tasmania Research Data Portal': 0, 'heiDATA': 3, 'JenAge Ageing Factor Database': 0, 'LibraData': 0, 'MORPHYLL': 0, 'EOS-EarthData': 0, 'Verbund Forschungsdaten Bildung': 0, 'University of Southern Queensland research data collection': 0, 'World Data Center for Aerosols': 0, 'Open Data Commons for Spinal Cord Injury': 0, 'GiardiaDB': 0, 'MozAtlas': 0, 'BowPed TRPS Data': 0, 'JGI MycoCosm': 0, 'The Universal Protein Resource': 0, 'Regional District of North Okanagan GIS Open Data Site': 0, 'TriTrypDB': 0, 'United States Census Bureau': 0, 'ChArMEx database': 0, 'Bacterial and Viral Bioinformatics Resource Center': 0, 'Vega': 0, 'mentha': 0, 'National Cryosphere Desert Data Center': 0, 'NASA Heliophysics Data Portal': 0, 'HITRAN online': 0, 'Archiving BASIS': 0, 'Born in Bradford': 0, 'Comprehensive Large Array-data Stewardship System': 0, 'Visual Arts Data Service': 0, 'Avibase': 0, 'CHERRY': 0, 'SUNScholarData': 0, 'NC OneMap': 0, 'Texas Data Repository': 0, 'Research Domain Criteria Database': 0, 'MatDat.com': 0, 'Squamish Open Data': 0, 'SLAPIS': 0, 'Land Resource Information Systems Portal': 0, 'Temperate Reef Base': 3, 'ORDaR': 0, 'Phenol-Explorer': 0, 'protocols.io': 0, 'HydroShare': 0, 'UdG Digital Repository': 1, 'Primate Cell Type Database': 0, 'eyeMoviePedia': 0, 'J-Global': 0, 'Crystallography Open Database': 0, 'Canadian Integrated Ocean Observing System Data Catalogue': 0, 'Complete Genomics': 0, 'MetPetDB': 0, 'Candida Genome Database': 0, 'Data Univ Gustave Eiffel': 0, 'Brunel figshare': 1, 'DeZIM Research Data Center': 0, 'National Human Brain Bank for Development and Function': 0, 'Atmospheric Science Data Center': 0, 'Pune Datastore': 0, 'European Nucleotide Archive': 0, 'UCREA': 1, 'ESO Science Archive Facility': 0, 'Repositorio Institucional Universidad Nacional de Colombia': 1, 'STRENDA DB': 0, 'Aston Data Explorer': 0, 'Trent University Dataverse': 0, 'University Information System RUSSIA': 0, 'National Addiction & HIV Data Archive Program': 0, 'GeneCards': 0, 'DR-NTU (Data)': 0, 'XSEDE': 0, 'Pitt Quantum Repository': 0, 'European Union Open Data Portal': 0, 'BORN Ontario': 0, 'Chinese Astronomical Data Center': 0, 'NCBI Probe': 0, 'Map collection Charles University Faculty of Science': 0, 'Geoscience Australia': 0, 'UK Solar System Data Centre': 0, 'Open Data Portal Russia': 0, 'ICES Data Repository': 0, 'World Data Centre for Geomagnetism, Edinburgh': 0, 'Hustedt Diatom Collection Database': 0, 'InnateDB': 0, 'PhytoPath': 0, 'SENSOR': 0, 'Nuclear Receptor Signaling Atlas': 0, 'The Infrared Space Observatory data archive': 0, 'The Cell Map': 0, 'National Ecosystem Data Bank': 0, 'Forschungsdatenzentren der Statistischen Ämter des Bundes und der Länder': 0, 'Open Science and Data Platform': 0, 'PiroplasmaDB': 0, 'Great Lakes Precipitation Network': 0, 'BioProject': 0, 'LacCore': 0, 'ETH Zürich Research Collection': 1, 'DataBC': 0, 'TIB Digital Long-Term Archive': 0, 'Database of Religious History': 0, 'bio.tools': 0, 'Computational and Information Systems Laboratory Research Data Archive': 2, 'ISIDORE': 0, 'Codex': 0, 'GISTEMP': 0, 'Infectious Diseases Data Observatory': 0, 'Manitoba Collaborative Data Portal': 0, 'Shared Platform for Antibiotic Research and Knowledge': 0, 'data.sciencespo': 0, 'Strong Motion Virtual Data Center': 0, 'IsoArcH': 0, 'Stanford Network Analysis Project': 0, 'Environmental Dataset Gateway': 0, 'The SuiteSparse Matrix Collection': 0, 'IAGOS Data Centre': 0, 'Cylinder Seals': 0, 'ERDDAP': 0, 'FDZ German Microdata Lab': 0, 'Northwest Territories Geological Survey Open Data': 0, 'database of Sequence Tagged Sites': 0, 'ScholarBank@NUS': 0, 'CeR – Central Repository ICTM': 0, 'OpenAgrar': 1, 'Analysis and Policy Observatory': 0, 'Pacific Islands Families Study': 0, 'NCI Imaging Data Commons': 0, 'Pseudobase': 0, 'Brandeis ScholarWorks': 0, 'MIDAS': 1, 'Deutsches BioBanken-Register': 0, 'China National GeneBank DataBase': 0, 'University of the Arts London Data Repository': 0, 'Protein Lysine Modification Database': 0, 'National Microbial Resource Platform': 0, 'Copernicus Space Component Data Access': 0, 'ViralZone': 0, 'World Christian Database': 0, 'Comparative Study of Electoral Systems': 0, 'DASS-BiH': 0, 'National Cotton Database': 0, 'SedDB': 0, 'LiVES Collection of Osteological Anthropometry Digest': 0, 'PeanutBase': 0, 'Centre for Environmental Data Analysis': 0, \"Dataverse de l'Université TÉLUQ\": 0, 'Der Karlsruher Wolkenatlas': 0, 'REFOLDdb': 0, 'Edinburgh DataShare': 0, 'Eurac Research CLARIN Centre': 1, 'Abacus Data Network': 0, 'DataSTORRE': 0, 'National Earthquake DataBase': 0, 'The World Atlas of Language Structures': 3, 'DesignSafe-CI Data Depot Repository': 0, 'Nuclear Data Services': 0, 'Social Science Japan Data Archive': 0, 'Collaborative Research Centre 806 Database': 0, 'DataRepositoriUM': 0, 'Repository of the Faculty of Science': 1, 'Data.gov.au': 0, 'Dataverse de Polytechnique Montréal': 0, 'NASA/IPAC InfraRed Science Archive': 0, 'ICOS Carbon Portal': 0, 'NREL Geospatial Data Science': 0, 'Mexican Health and Aging Study': 0, 'cIRcle': 0, 'TextGrid Repository': 0, 'Faces Of Fungi database': 0, 'National Marine Mammal Data Portal': 0, 'EUREF Permanent Network': 0, 'Multimodal Learning Corpus Exchange': 1, 'Survey of Health, Ageing and Retirement in Europe': 0, 'Open Government Data Portal of Surat City': 0, 'Experimental Lakes Area': 0, 'Geoportal der BFG': 0, 'Repositorio Institucional USIL': 0, 'MEROPS': 0, 'GGSP - ISDC': 0, 'Global Biodiversity Information Facility': 0, 'Nanomaterial Registry': 0, 'MADATA - Mannheim research data repository': 2, 'ISTA Research Explorer': 1, 'GENCODE': 0, 'Open Data Kingston': 0, 'SOAP': 0, 'RODARE': 1, \"Queen's Research Data Centre\": 0, 'Australian Bureau of Meteorology data catalogue': 0, 'BIGG Database': 0, 'Brain Analysis Library of Spatial maps and Atlases': 0, 'Database of Zeolite Structures': 0, 'North American Breeding Bird Survey': 0, 'Canue Data Portal': 0, 'Monitor of Settlement and Open Space Development': 0, 'Town of Huntsville Open Data': 0, 'Emage': 0, 'Sandrart.net': 0, 'AspGD': 0, 'National Biodiversity Network Atlas': 0, 'The Antibody Registry': 0, 'Stemformatics': 0, 'NCBI HomoloGene': 0, 'Radiation Belt Storm Probes Ion Composition Experiment': 0, 'Panel Data Research Center at Keio University Data': 0, 'The Monarch Initiative': 0, 'BioGRID ORCS': 0, 'JACQ - Virtual Herbaria': 0, 'Comprehensive Epidemiological Data Resource': 0, 'The Cell Vision': 0, 'The Uruk-Warka Survey': 0, 'NSF Arctic Data Center': 0, 'GeoPRISMS Data Portal': 0, 'CosmoSim': 0, 'Tropospheric Emission Spectrometer': 0, 'HDAP': 0, 'Carbohydrate-Active enZYmes Database': 0, 'St. Francis Xavier University Dataverse': 0, 'CUHK Research Data Repository': 0, 'Motion Capture Database HDM05': 0, 'Clinical data repository': 0, 'City of Greater Sudbury Open Data Portal': 0, 'Unified-District Information System for Education': 0, 'Smithsonian National Museum of Natural History': 0, 'Repositorio Institucional de la Universidad de Burgos': 1, 'Linguistic Linked Open Data': 0, 'LIVIVO': 0, 'International Long Term Ecological Research': 0, 'American FactFinder': 0, 'DEG': 0, 'Brainlife': 0, 'Forschungsdaten- und Servicezentrum der Bundesbank': 0, 'Rothamsted Long-term Experiments Electronic Archive': 0, 'Health Canada Drug Product Database': 0, 'USGS Earthquake Hazards Program': 0, 'National Center for Education Statistics': 0, 'MG-RAST': 0, 'Wildlife Management Information System': 0, 'Digital Averroes Research Environment': 0, \"Institut d'Astronomie et d'Astrophysique Databases\": 0, 'KONECT': 0, 'Eesti Sotsiaalteaduslik  Andmearhiiv': 0, 'Forschungsdatenzentrum des Bundesamtes für Migration und Flüchtlinge': 0, 'Oxford Brookes University: RADAR': 2, 'Ensembl Bacteria': 0, 'NASA Life Sciences Portal': 0, 'DisGeNET': 0, 'Woods Hole Open Access Server': 1, 'RADaR - Digital Repository of Archived Publications of the Institute for Biological Research “Siniša Stanković”': 1, 'Macromolecular Xtallography Raw Data Repository': 3, 'ShareGeo open': 0, 'Fudan University Social Science Data Repository': 0, 'Melanoma Molecular Map Project': 0, 'Morph·D·Base': 0, 'World Data Center for Human Interactions in the Environments': 0, 'NCBI': 0, 'Australian Urban Research Infrastructure Network': 0, 'Roper Center Public Opinion Archives': 0, 'Université du Québec à Trois-Rivières - Borealis': 0, 'International Ocean Discovery Program': 3, 'OpenTopography': 0, 'Liverpool John Moores University Research Data Repository': 0, 'eCrystals': 2, 'BrainMaps.org': 0, 'Ensembl': 0, 'HCDC datasearch': 0, 'NIH 3D Print Exchange': 0, 'Forest Change Data Catalogue': 0, 'Antarctic & Southern Ocean Data Portal': 0, 'USDA Economics, Statistics and Market Information System': 0, 'Rhea': 0, 'GOBASE': 0, 'Central Lake Ontario Conservation Open Data Portal': 0, 'SeaDataNet': 0, 'LINDAT/CLARIAH-CZ repository': 2, 'West African Vegetation': 0, 'CAIDA Data': 0, 'MHKDR': 0, 'Mouse Genome Informatics': 0, 'National Canine Laboratory Animal Resource Center': 0, 'European Variation Archive': 0, 'Oral Cancer Gene Database': 0, 'The ACE Science Center': 0, 'World Data Centre for Meteorology, Obninsk': 0, 'Digitale Sammlungen der GWLB Hannover': 1, 'Interface to Los Alamos Atomic Physics Codes': 0, 'Open Forest Data': 3, 'Dartmouth Flood Observatory': 0, 'GPS-PDR ISDC': 0, 'ClinicalTrials.gov': 0, 'Bilkent University Institutional Repository': 1, 'govinfo': 0, 'Roper Center for Public Opinion Research: Elections and Presidents': 0, 'HEC Montréal Dataverse': 0, 'Ontology Lookup Service': 0, 'Digital Lunar Orbiter Photographic Atlas of the Moon': 0, 'Open Data Areas Alberta': 0, 'Epidat': 0, 'Protist EST Program Database': 0, 'Kielipankki': 1, 'Quetelet-Progedo-Diffusion': 0, 'NIST Ultraviolet Spectrum of Platinum Lamp': 0, 'NODC Italian Oceanographic Data Centre': 0, 'NIST Physical reference data': 0, 'CESM Experiments': 0, 'e-Atlas': 0, 'MacEwan University Data Repository': 0, 'Digitale Bibliothek Thüringen': 2, 'Environmental Change Network': 0, 'CLARIN Centre Vienna': 0, 'LIAS': 0, 'Mutant Mouse Resource & Research Centers': 0, 'Ozone Mapping and Profiler Suite': 0, 'MEMENTO': 0, 'World Data Center of Microorganisms': 0, 'LiceBase': 0, 'EarthChem Library': 0, 'DataBox': 0, 'Migrant Integration Policy Index': 0, 'PhenoGen Informatics': 0, 'ProteomicsDB': 0, 'National Historical Geographic Information System': 0, 'NEW GIST Data Repository': 0, 'Psi Open Data': 0, 'STOREDB': 0, 'National Cancer Data Base': 0, 'Research Data Repository FDAT': 3, 'Macquarie University Research Data Repository': 0, 'Fungal Mitochondrial Genome Project': 0, 'Research Data at Essex': 3, 'CIRAD Dataverse': 3, 'e-Depot of the National Archives of the Netherlands': 0, 'B2SHARE': 2, 'Statistics Canada Data Tables': 0, 'DFG Senatskommission für Ozeanographie - METEOR- und MARIA S. MERIAN-Berichte': 0, 'Expressed Sequence Tags database': 0, 'Data Center for Aurora in NIPR': 0, 'Repositorio Institucional UCASAL': 1, 'OMICtools': 0, 'TAMBORA': 0, 'Minnesota Population Center': 0, 'Intermagnet': 0, 'BORIS Portal': 1, 'Ningaloo Atlas': 0, 'Angewandte Repository': 1, 'Niagara Falls Open Data': 0, 'INDEPTH Data Repository': 0, 'Global Terrestrial Network for Permafrost': 0, 'Genome Warehouse': 0, 'ZivaHub': 0, 'National Snow and Ice Data Center': 0, 'CorrDB': 0, 'Flora von Bayern: Wiki and Data Portal': 0, 'Wilson Center Digital Archive': 0, 'OEDI': 0, 'Movebank': 0, 'edoc-Server  - Forschungsdaten': 1, 'Repositorio Institucional Universidad de Antioquia': 0, 'Boundary Layer Late Afternoon and Sunset Turbulence': 0, 'DataONE': 0, 'Software Heritage Archive': 0, 'Woods Hole Oceanographic Institution - Data & Repositories': 0, 'Astrophysics Source Code Library': 0, 'Natural Resources Canada Earth Sciences Data': 0, 'HISTAT': 0, 'Endangered Languages Archive': 0, 'Barrow Area Information Database': 0, 'IPM Images': 0, 'County-level measure of social capital': 0, 'Biobank of blood donors': 0, 'Academic Seismic Portal at UTIG': 0, 'NREL Data Catalog': 0, 'SWATHAtlas': 0, 'Rotterdam Ophthalmic Data Repository': 0, 'The Plastics-Active Enzymes Database': 0, 'Danish National Birth Cohort': 0, 'Environment Climate Data Sweden': 0, 'Dash': 0, 'Portal de Datos del Mar - SNDM': 0, 'The World Data Center for Remote Sensing of the Atmosphere': 0, 'OPAL': 0, 'DataHub Figshare': 1, 'APPLAUSE': 3, 'Future Network & Communication Repository': 0, 'Shuttle Radar Topography Mission': 0, 'ERG-Science Center': 0, 'EDINA': 0, 'Tropical Ecology Assessment and Monitoring Network': 0, 'B-Clear': 0, 'DataON Repository': 0, 'Lund University Humanities Lab Archive': 0, 'Adult Blood Lead Epidemiology and Surveillance Interactive Database': 0, 'Collaborative Research Centre 1211 Database': 0, 'Unisa Institutional Repository': 1, 'ArkDB': 0, 'DUnAs': 0, 'FDZ-BO': 0, 'ioChem-BD': 1, 'studyforrest': 0, 'Continental Scientific Drilling Facility': 0, 'Humadoc repositorio': 1, 'National Harvest Survey': 0, 'Yareta': 3, 'IHEM Fungi Collection: Human & Animal Health': 0, 'ALSGENE': 0, 'IODP Bremen Core Repository': 0, 'Peek': 0, 'China Tropical Crop Germplasm Resources Information Network': 0, 'Potsdam Carte du Ciel Plates': 0, 'BACTIBASE': 0, 'EMDataResource': 0, 'Kikapu': 0, 'The University of Pittsburgh English Language Institute Corpus': 0, 'LMU-ifo Economics & Business Data Center': 0, 'ISIS DataGateway': 0, 'Plant Genomics and Phenomics Research Data Repository': 0, 'Southern California Earthquake Center': 0, 'Carcinogenic Potency Database': 0, 'OceanColor web': 0, 'Recherche Data Gouv France': 0, 'NIST Data Discovery': 0, 'University of Southampton Institutional Research Repository': 3, 'Open Government Data Portal of Sikkim': 0, 'BOSCORF': 0, 'National Marine Aquatic Germplasm Resource Bank': 0, 'SFB 882 Forschungsdatenzentrum': 0, 'IOS Regensburg Research Data Respository': 0, 'Pathway Commons': 0, 'International Arctic Systems for Observing the Atmosphere': 0, 'AUSSDA Dataverse': 0, 'DANS: Data Station Archaeology': 0, 'Data Portal German Marine Research': 0, 'ENCODE': 0, 'FHSTP Phaidra': 1, 'KNB Data Repository': 1, 'VAMDC Portal': 0, 'TUdatalib': 1, 'Research Data JCU': 0, 'SeedMe': 0, 'Alcohol and Gaming Commission of Ontario Data Inventory': 0, 'Vancouver Island University Dataverse': 0, 'POES Space Environment Monitor': 0, 'National Weather Service, Alaska Region Headquarters': 0, 'CEDAP Research Data Repository - research data': 0, 'OHSU Digital Commons': 0, 'ScienceData': 0, 'Marine Data Archive': 0, 'National Library of Scotland': 0, 'RADAR4KIT': 0, 'Xenbase': 0, 'Freedom on the Move': 0, 'History of Marine Animal Populations': 0, 'KNMI Data Platform': 0, 'Common Cold Project Data Sets': 0, 'AmoebaDB': 0, 'National Omics Data Encyclopedia': 0, 'Informationssystem Graffiti in Deutschland (INGRID)': 0, 'Signature Bank': 0, 'Database of Genomic Variants': 0, 'Health and Retirement Study': 0, 'J-STAGE Data': 0, 'NASA Space Science Data Coordinated Archive': 0, 'ConsensusPathDB': 0, 'Movebank Data Repository': 0, 'Project Tycho: Data for Health': 0, 'Pediatric Surgery @ Brown': 0, 'UTM-CSIC Data Centre': 0, 'RADARSAT-1': 0, 'West Parry Sound Geography Network': 0, 'GIGA Research Data': 0, 'FungiDB': 0, 'Canadian Institute for Health Information Repository': 0, 'The Chandra Data Archive': 0, 'Bavarian Archive for Speech Signals': 1, 'Keck Observatory Archive': 0, 'LISER': 0, 'Fachinformationssystem Geophysik': 0, 'VertNet': 0, 'GNSS  - ISDC': 0, 'INESC TEC Research Data Repository': 0, 'ASEP Repository': 0, 'Universitat Oberta de Catalunya O2 Dades': 0, 'German Federation for Biological Data': 0, 'Land Processes Distributed Active Archive Center': 0, 'GOES Space Environment Monitor': 0, 'NIST Atomic Transition Probability Bibliographic Database': 0, 'Cranfield Online Research Data': 1, 'Top Down Proteomics Repository': 0, 'Seamount Catalog': 0, 'International Argo Project': 0, 'Reality Commons': 0, 'DIGITAL.CSIC': 1, 'Climate Hazards Center Data Archive': 0, 'The ROSAT Mission': 0, 'University of Adelaide figshare': 1, 'The Global Proteome Machine': 0, 'Database on Indian Economy': 0, 'IDEALS': 2, 'FULIR Data': 1, 'University of Bath Research Data Archive': 1, 'Upper Ocean Processes Group': 0, 'Permanent Service for Mean Sea Level': 0, 'OAFlux': 0, 'Global Health Data Exchange': 0, 'LDbase': 0, 'Ensembl Fungi': 0, 'LeoPARD - TU Braunschweig Publications And Research Data': 1, 'Dataverse UNIMI': 0, 'Ensembl Protists': 0, 'MedEffect Canada - Adverse Reaction Database': 0, 'MetaboLights': 0, 'Bioinformatics.org': 0, 'Primate Life Histories database': 0, 'CLAPOP': 0, 'Global carbon atlas': 0, 'TCCON Data Archive': 0, 'ELI ERIC Open Data Repository': 0, 'OpenLandMap.org': 0, 'NERC Data Catalogue Service': 0, 'Research data repository of the Universität Innsbruck': 0, 'European-Mediterranean Seismological Centre': 0, 'data.eaufrance.fr': 0, 'University of Northern British Columbia Dataverse': 0, 'The City of Saint John Open Data': 0, 'PhenoCam': 0, 'Trinity River Restoration Program Online Data Portal': 0, 'World Data System': 0, 'Norwegian Polar Data Centre': 0, 'Forschungsdatenzentrum im Kraftfahrt-Bundesamt': 0, 'Tropical Atmosphere Ocean Project': 0, 'TopFIND': 0, 'Science3D': 0, 'BC Oil and Gas Commission Open Data Portal': 0, 'Digital Repository of Ireland': 0, 'University of Hertfordshire Research Archive': 0, 'The Perovskite Database Project': 0, 'Ocean Networks Canada': 0, 'Smithsonian Tropical Research Institute Logo - Panama': 0, 'Barbara A. Mikulski Archive for Space Telescopes': 0, 'UK Data Archive': 3, 'IMGT/3Dstructure-DB and IMGT/2Dstructure-DB': 0, 'UNIDATA - Bicocca Data Archive': 0, 'Netherlands Cancer Registry': 0, 'ClinVar': 0, 'AidData': 0, 'Bitbucket': 0, 'Clinical Research Metadata Repository': 0, 'Ecological Archives': 0, \"St. Edward's University  institutional repository\": 1, 'ESA Planetary Science Archive': 0, 'Hardin.MD': 0, 'Nuclear Data Portal': 0, '1000 Functional Connectomes Project': 0, 'GEOFON': 0, 'Wiki-Pi': 0, 'Debreceni Egyetem Adattár': 3, 'Indian National Centre for Ocean Information  Services': 0, 'JaLTER MetaCat Service': 0, 'Leiden Open Variation Database': 0, 'Town of Canmore Open Data': 0, 'GeneWeaver.org': 0, 'Ensembl Genomes': 0, 'Repositorio de Datos de Investigación de la Universidad de Chile': 0, 'WorldClim - Global Climate Data': 0, 'Facebook Data for Good': 0, 'NeuroElectro': 0, 'Cefas Data Hub': 0, 'GOVDATA': 0, 'Research Computing and Data Services': 0, 'KASCADE Cosmic Ray Data Centre': 0, 'NCBI PopSet': 0, 'Flanders Marine Institute': 0, 'PAC - Archiving Platform CINES': 0, 'SIDER': 0, 'Avian Knowledge Network': 0, 'Japan Space Systems': 0, 'Finnish Social Science Data Archive': 1, 'Chinese Clinical Trial Register': 0, 'Kujawsko-Pomorska Digital Library': 2, 'York Research Database': 0, 'PSI Open Data Provider': 2, 'kilthub figshare': 0, 'World Contraceptive Use': 0, 'UNC Dataverse': 0, 'General Social Survey': 0, 'Genomic Data Commons': 0, 'Berman Jewish Data Bank': 0, 'Virtual Fly Brain': 0, 'Social Scientific Research Documentation Centre Repository': 2, 'The Cell Image Library': 0, 'ACEpepDB: Peptide Database': 0, 'MorphoSource': 0, 'VIPERdb': 0, 'Macaulay Library': 0, 'NCBI Nucleotide': 0, 'EchoBase': 0, 'Genomic Expression Archive': 0, 'FACHPORTALpädagogik.DE': 0, 'Wolfram Data Repository': 0, 'JASPAR': 0, 'Research Institute for Sustainable Humanosphere databases': 0, 'Immigration, Refugees and Citizenship Canada Research and Statistics': 0, 'TerraSAR-X TOR': 0, 'Publicdata.eu': 0, 'Polar Geospatial Center': 0, 'Region of Peel Data Portal': 0, 'UPCommons - Research Data': 1, 'Flora von Frankfurt am Main': 0, 'NCBI Assembly': 0, 'UNESCO Institute for Statistics, Data Centre': 0, 'ICARUS': 0, 'World Data Center for Meteorology, Asheville': 0, 'World Data Center for Geography': 0, 'National Genomics Data Center': 0, 'City of Airdrie Open Data': 0, 'Protein Data Bank in Europe': 0, 'ARCHE': 1, 'University of Liverpool Research Data Catalogue': 2, 'National Wild Seed Resource Center': 0, 'PLANTS Database': 0, 'Integrated Digitized Biocollections': 0, 'CardiacAI Data Repository': 0, 'Depository Trust & Clearing Corporation Data Services': 0, 'e!DAL - electronic Data Archive Library': 0, 'The Zebrafish Information Network': 0, 'Banco de Información para la Investigación Aplicada en Ciencias Sociales, Repositorio Institucional': 0, 'STRING': 0, 'EyeGENE': 0, 'Repositori de la Universitat Jaume I': 1, 'County of Grande Prairie Open Data': 0, 'KU ScholarWorks': 2, 'Repositorio Universidad Autónoma de Bucaramanga': 0, 'Marine Geoscience Data System': 0, 'Neuroscience Information Framework': 0, 'Canadian Opinion Research Archive': 0, 'Bach digital': 0, 'RUresearch Data Portal': 3, 'CLAE': 0, 'Earth-prints Repository': 0, 'South African Centre for Digital Language Resources': 1, 'West of Scotland Twenty-07 Study': 0, 'Open Research Data': 0, 'HSRC Research Data Service': 0, 'IMS Universität Stuttgart Repository': 1, 'Repository CLARIN-D Centre CEDIFOR': 1, 'LSHTM Data Compass': 0, 'NEA Data Bank Computer Program Services': 0, 'Coquitlam Open Data': 0, 'Community Data Portal': 3, 'Vienna Atomic Line Database': 0, 'NREL Transforming energy - grid modernization': 0, 'Lamont-Doherty Core Repository': 0, 'Share_it': 0, 'BLB Digitale Sammlungen': 0, 'Public Health Ontario Open Data': 0, 'UQAM - Dataverse': 0, 'Repositorio de Datos Académicos Universidad Nacional de Rosario': 3, 'Open Data Markham': 0, 'CoRIS': 0, 'Public Geodata Repository': 0, 'GEOROC': 0, 'Yukon Open Data': 0, 'Fredericton Open Data': 0, 'Chemical Carcinogenesis Research Information System': 0, 'World Data Center for Solar-Terrestrial Physics, Moscow': 0, 'MISTRALS database': 0, 'Enlighten': 1, 'GerManC project': 0, 'NoMaD Repository & Archive': 0, 'OAGR': 0, 'Neotoma Paleoecology Database': 0, 'EcoCyc Database': 0, 'FlyCircuit': 0, \"NOAA's climate data record program\": 0, 'Canadian Open Genetics Repository': 0, 'CR-EST': 0, 'Saskatchewan GeoHub': 0, 'The European Genome-phenome Archive': 0, 'GlycomeDB': 0, 'Canadian VirusSeq Data Portal': 0, 'City of Vancouver Open Data Portal': 0, 'Jülich ObservatorY for Cloud Evolution - Core Facility': 0, 'Phaidra Universität Wien': 1, 'UN Data Catalog': 0, 'Cloud-Aerosol Lidar and Infrared Pathfinder Satellite Observations': 0, 'Forestry Images': 0, 'RIKEN Bioresource Research Center': 0, 'SUITS Data Repository': 0, 'openLandscapes': 0, 'Protected Planet': 0, 'Western University Dataverse': 0, 'IMGT/LIGM-DBI': 0, 'Mammalian Transcriptomic Database': 0, 'eSHODHMANTHAN': 0, \"Port Moody's Open Data Portal\": 0, 'IEDA': 0, 'RES³T': 0, 'Kaggle': 0, 'MolTable': 0, 'Interologous Interaction Database': 0, 'Khazar University Institutional Repository': 0, 'Sound and Vision': 0, 'World Religion Database': 0, 'Centro de Investigaciones Sociologicas Data Bank y Estudios': 0, 'Animal QTLdb': 0, 'Nothobranchius furzeri Information Network': 0, 'Population Services International Dataverse': 0, 'LidarBC': 0, 'International Clinical Trials Registry Platform': 0, 'Chemical Effects in Biological Systems': 0, 'Foundation for Child Development Resources': 0, 'QMU eData Repository': 0, 'EarthWorks': 0, 'ATOMDB': 0, 'Project on Human Development in Chicago Neighborhoods': 3, 'Kyoto Encyclopedia of Genes and Genomes': 0, 'Ag Data Commons': 0, 'UCI Machine Learning Repository': 0, 'TROLLing': 1, 'Russian-Ukrainian Geomagnetic Data Center': 0, 'National Virtual Observatory': 0, 'Progenetix': 0, 'Repositorio de Acceso Abierto BUAP': 1, 'Alaska Science Center': 0, 'BEI Resource': 0, 'USC Research Bank research data': 0, 'Czech National Corpus': 0, 'AEKOS Data Portal': 0, 'Registry of Open Data on AWS': 0, 'Repository CLARIN Centre Leipzig': 1, 'World Ocean Atlas': 0, 'International Institute of Tropical Agriculture datasets': 0, 'ReDATA': 0, 'eSango': 0, 'Loughborough Data Repository': 1, 'Rolling Deck to Repository': 0, \"Dataverse de l'Université Laval\": 0, 'District of Peachland Open Data': 0, 'OpenAQ': 0, 'BonaRes Repository': 0, 'MRC National Survey of Health and Development': 0, 'ROCEEH Out of Africa Database': 0, 'Archives of programs and data for physics': 0, 'OMNIWeb': 0, 'Transparenzportal der Stadt Karlsruhe': 0, 'Digitale Historische Bibliothek Erfurt/Gotha': 2, 'Litterbase': 0, 'National Weather Service, Climate Prediction Center': 0, 'Community Surface Dynamics Modeling System': 0, 'HeRBi': 0, 'Gateway to Astronaut Photography of earth': 0, 'UBC Dataverse Collection': 0, 'Antarctic Glaciological Data Center at NSIDC': 0, 'Korea Polar Data Center': 0, 'Stockholm University Library Dataverse': 0, 'THEREDA': 0, 'National Marine Data and Information Service': 0, 'CCCA Data Server': 0, 'Autism Chromosome Rearrangement Database': 0, 'World Data Centre for Geomagnetism, Mumbai': 0, 'IIASA DARE': 2, 'Media Repository Humboldt-Universität zu Berlin': 0, 'LMG Bacteria Collection': 0, 'ACU Research Bank': 0, 'Integrated Fertility Survey Series': 0, 'Datenbank Gesprochenes Deutsch': 0, 'UK Hydrographic Office': 0, 'Coriolis': 0, 'India Energy Portal': 0, 'PathCards': 0, 'DOREL': 0, 'White Rock Open Data Portal': 0, 'XMM-Newton Science Archive': 0, 'Open Tree of Life': 0, 'Smithsonian Research Online': 0, \"Clouds and the Earth's Radiant Energy System\": 0, 'Comparative Mammalian Brain Collections': 0, 'Wildtrax': 0, 'Marine Data BC': 0, 'Copernicus Marine Environment Monitoring Service': 0, 'Data Center - SAFE': 0, 'MERMeX': 0, 'Systematic Review Data Repository': 0, 'CLARIN-PL': 1, 'Biomedical Informatics Research Network': 0, 'PMN': 0, 'MalaCards': 0, 'WASCAL Data Discovery Portal': 0, 'Discover': 0, 'Humanities Commons': 0, 'Inter-university Consortium for Political and Social Research': 0, 'National Archive of Computerized Data on Aging': 0, 'biodiversity.aq': 0, 'eartH2Observe': 0, 'National Parasite Resource Center': 0, 'domino': 0, 'NIST Standard Reference Data': 0, 'Eurobarometer': 0, 'Million Song Dataset': 0, 'TOXNET': 0, 'Censusindia': 0, 'CanGEM': 0, 'CoCoON': 1, 'AMBDAS Bibliographic Database': 0, 'Tecnológico de Monterrey Data Hub': 0, 'City of Brandon Open Data': 0, 'PubChem': 0, 'Sammlung Schweizerischer Rechtsquellen online': 0, 'Journal of applied econometrics Data Archive': 0, 'Forschungsdatenzentrum  am Robert Koch Institut': 0, 'Surrey Research Insight': 0, 'Forschungsdaten-Repositorium der LUH': 0, 'PUBLISSO-Fachrepositorium Lebenswissenschaften': 2, 'INTREPID bioinformatics': 0, 'CfA Dataverses': 0, 'Sequence Read Archive': 0, 'Dipòsit Digital de la Universitat de Barcelona Dades': 0, 'INPTDAT': 0, 'Environment and Climate Change Canada Data Catalogue': 0, 'Repository for Open Data (RepOD)': 3, 'The Dataweb Dataverse': 0, 'Biofilms Structural Database': 0, 'National Earthquake Information Center': 0, 'Open Calgary': 0, 'NORMAN Substance Database': 0, 'Beta Cell Biology Consortium Reagent and Data Resources': 0, 'EASY': 1, 'Health and Medical Care Archive': 0, 'EOL': 0, 'Birdbase': 0, 'Open Penticton': 0, 'Italian National Biodiversity Network': 0, 'CCHDO': 0, 'Open Data LMU - Physics': 3, 'Natural Heritage Information Centre': 0, 'KITopen': 0, 'IDOC-DATA': 0, 'DART Data': 0, 'datacommons@psu': 0, 'Alaska Native Language Archive': 0, 'Radiocarbon Palaeolithic Europe Database': 0, 'Project Achilles': 0, 'GRO.data': 3, 'California Water CyberInfrastructure': 0, 'FlyBase': 0, 'World Data Center for Solid Earth Physics': 0, 'RNA Abundance Database': 0, 'The USH1C mutations database': 0, 'GEOSS Portal': 1, 'GigaDB': 0, 'Viral Bioinformatics Resource Center': 0, 'Better Access to Data for Global Interdisciplinary Research': 3, 'Digital Rocks Portal': 0, 'OpARA': 0, 'eFish': 0, 'World Data Centre for Glaciology, Cambridge': 0, 'MIT GeoWeb': 0, 'Integrated Risk Information System': 0, 'Open Core Data': 0, 'Environment Canada Data Catalogue': 0, 'Johns Hopkins Research Data Repository': 0, 'Atomic and Molecular Data Research Center': 0, 'USGS National Water Information System': 0, 'RCSB Protein Data Bank': 0, 'SimTK': 0, 'SURF Data Repository': 1, 'OpenEI': 0, 'Nobeyama Radio Polarimeters': 0, 'UK Polar Data Centre': 0, 'South African Weather Service': 0, 'Collaborative Psychiatric Epidemiology Surveys 2001 - 2003': 1, 'Cognitive Function and Ageing Study': 0, 'Model Animal Resource Information Platform': 0, 'Chinese Crop Germplasm Resources Information System': 0, 'PUB Data Publications': 1, 'IISH Dataverse': 3, 'HAGR': 0, 'Spatial Data Repository': 0, 'Lexique': 0, 'Paths through Rome': 0, 'Aberdeen Birth Cohorts': 0, 'Ancient Columns': 0, 'Integrated Interactions Database': 0, 'COMPLETE Dataverse': 0, 'Lincoln repository': 2, 'Fluxnet - Fluxdata': 0, 'SoyBase': 0, 'ALLBUS': 0, 'BioCyc Genome Database Collection': 0, 'AHEAD': 0, 'Federal Land Manager Environmental database': 0, 'T3DB': 0, 'Open Research Exeter': 0, 'Global Pesticides Release Data': 0, 'Repositorio Institucional-Universidad Autónoma de Manizales': 1, 'PermaSense High-Alpine Permafrost Data': 0, 'Cary Institute of Ecosystem Studies figshare': 0, 'AUBScholarWorks': 0, 'CanPath Portal': 0, 'CEPDB': 0, 'OSTI': 0, 'Japanese Genotype-phenotype Archive': 0, 'TreeSource': 0, 'Screening Unit Berlin-Buch': 0, 'University of Auckland Data Repository': 1, 'VinaR - Repository of the Vinča Nuclear Institute': 0, 'NetPath': 0, 'Spiral': 0, 'SDAC': 0, 'Signaling Pathways Project': 0, 'BenchSCI': 0, 'The MaxQuant DataBase': 0, 'National Nuclear Data Center': 0, 'RODBUK Cracow Open Research Data Repository': 0, 'doRiNA': 0, 'Canadian Environmental Sustainability Indicators': 0, 'Repositorio Institucional del ITESO': 1, 'MCHF/MCDHF Database': 0, 'Biofilm-active AMPs database': 0, 'DDE Data Publisher & Repository': 0, 'Cotton Functional Genomics Database': 0, 'Research Data Unipd': 1, 'VecNet': 0, 'Gran Telescopio CANARIAS Public Archive': 0, 'BioGRID': 0, 'Systema Dipterorum': 0, 'Koç University Digital Collections': 1, 'National Health and Disease Human Brain Tissue Resource Center': 0, 'eLibrary of Microbial Systematics and Genomics': 0, 'CIMMYT Research Data & Software Repository Network': 0, 'Water Survey of Canada': 0, 'Canadian Research Data Centre Network': 0, 'RESID Database of Protein Modifications': 0, 'Donders Repository': 0, 'NMRshiftDB': 0, 'AfDB Statistical Data Portal': 0, 'National Atmospheric Deposition Program': 0, 'REBASE': 0, 'ROHub': 0, 'Canadian Database of Geochemical Surveys': 0, 'ELRA Catalogue of Language Resources': 1, 'NCBI dbMHC': 0, 'Peptidome': 0, 'Newfoundland and Labrador Open Data': 0, 'Metropolitan Travel Survey Archive': 0, 'Purdue University Research Repository': 1, 'SwissLipids': 0, 'Diamond data catalogue': 0, 'Vectorborne Disease Surveillance System': 0, 'TeachingWithData.org': 0, 'Telangana Open Data Portal': 0, 'Digitales Deutsches Frauenarchiv': 0, 'World Data Center for Oceanography, Obninsk': 0, 'CISER Data & Reproduction Archive': 0, 'Health Data Research Innovation Gateway': 0, 'Forschungsdatenzentrum des Deutschen Jugendinstituts': 0, 'CESSDA Data Catalogue': 3, 'GlobeData': 0, 'Joint Evaluated Fission and Fusion File': 0, 'ICGEM': 0, 'Norwegian Meteorological Institute, Free Meteorological Data': 0, 'Coupled Model Intercomparison Project': 0, 'Forschungsdatenzentrum der Rentenversicherung': 0, 'International HapMap Project': 0, 'RefractiveIndex.INFO': 0, 'IonomicHub': 0, \"PRISM: University of Calgary's Digital Repository\": 0, 'The European Database of Seismogenic Faults': 0, 'ALEXA': 0, 'Influenza Research Database': 0, 'The Global Heat Flow Database of the International Heat Flow Commission': 0, 'Borealis': 0, 'Comparative Welfare Entitlements Dataset': 0, 'The Canadian National Atmospheric Chemistry Database': 0, 'Tropical Cyclone Information System': 0, 'X-Ray Database': 0, 'Integrated Marine Observing System Ocean Data Portal': 0, 'Measures of Effective Teaching - Longitudinal Database': 0, 'NCBI dbGaP': 0, 'City of Brampton Open Data': 0, 'Child Language Data Exchange System': 0, 'United States Health Information Knowledgebase': 0, 'Government of Alberta Open Datasets': 0, 'European Social Survey': 0, 'Human Proteinpedia': 0, 'TheDataWeb': 0, 'Maenduar': 1, 'BindingDB': 0, 'Czech Social Science Data Archive': 0, \"Unidata's RAMADDA\": 0, 'GFZ Data Services': 3, 'Global Land Cover Facility': 0, 'Magnetics Information Consortium': 0, 'KRISHI - Knowledge based Resources Information Systems Hub for Innovations in Agriculture': 0, 'Earth Engine Data Catalog': 0, 'NIDDK Central Repository': 0, 'Database for Bacterial Group II Introns': 0, 'LIPID MAPS Lipidomics Gateway': 0, 'Australian Breast Cancer Tissue Bank': 0, 'ESS-DIVE': 0, 'Global Health Observatory Data Repository': 0, 'Mechanism and Catalytic Site Atlas': 0, 'CHAMP': 0, 'Triticeae Toolbox': 0, 'NCBI Protein': 0, 'KNMI Climate Explorer': 0, 'Data Access Support Hub': 0, 'TU Graz Repository': 3, 'Tethys': 1, 'Demographic and Health Surveys': 0, 'cranach.net': 0, 'Canadian Astronomy Data Centre': 0, 'UniGene': 0, 'GeoGratis': 0, 'JRC Data Catalogue': 0, 'Alberta Geological Survey Open Data Portal': 0, 'SeSam': 0, 'Repositorio Digital UTB': 1, 'SWE-CLARIN': 0, 'CSISA Data Repository': 0, 'Open Data by Socrata': 0, 'Pombase': 0, 'National Trauma Data Bank': 0, 'San Raffaele Open Research Data Repository': 1, 'dictybase': 0, 'FILER: Functional genomics repository': 0, 'CrystalEye (beta)': 0, 'Town of Ajax Open Data': 0, 'WorldData.AI': 0, 'Spectral Database for Organic Compounds': 0, 'HilData': 0, 'VENUS in the Salish Sea': 0, 'DHS Data Access': 1, 'Rigsarkivets surveydata': 0, 'Deep Blue Data': 0, 'Materials Cloud Archive': 1, 'Electron Microscopy Public Image Archive': 0, 'Catalogue of Life': 0, 'IAU Minor Planet Center': 0, 'HIV & AIDS Costs & Use': 0, 'NDAR': 0, 'Rat Genome Database': 0, 'euHCVdb': 0, 'Fordatis': 0, 'EBRAINS': 0, 'Landesarchiv Baden-Württemberg': 0, 'Woods Hole Oceanographic Institution Data Library and Archives': 0, 'CiteSeerX': 2, 'Forschungsdatenzentrum Wissenschaftsstatistik': 0, 'California Digital Library': 0, 'Scientific Registry of Transplant Recipients': 0, 'CLARIN-ERIC': 2, 'Slovenian Social Science Data Archives': 0, 'CIFOR Harvested Dataverse': 0, 'Global Catalogue of Microorganisms': 0, 'Kadi4Mat': 0, 'UWA Profiles and Research Repository': 0, 'OASIS': 0, 'NONCODE': 0, 'China Earthquake Data Center': 0, 'Conserved Domain database': 0, 'SciELO Data': 0, 'DATICE': 0, 'Chapman University Digital Commons Datasets': 2, 'Alaska Satellite Facility SAR Data Center': 0, 'Landmap': 0, 'Nationales Bildungspanel': 0, 'Alternative Fuels Data Center': 0, 'Research Data Archive at NCAR': 3, 'DataverseNL': 1, 'Deutsches Dokumentationszentrum für Kunstgeschichte, Bildarchiv Foto Marburg': 0, 'US Department of Commerce, Bureau of Economic Analysis, Interactive Data': 0, 'CHIANTI': 0, 'London Datastore': 0, 'CRYSTMET': 0, 'SuperDARN': 0, 'Eurostat': 0, 'ZFMK Biodiversity Data Center': 0, 'USN Research Data Archive': 0, 'Collaborative Research Centre Transregio 32 Database': 0, 'Forschungsdatenrepositorium der Otto-Friedrich-Universität Bamberg': 0, 'Digitale Mozart-Edition': 0, 'World Data Centre for Rockets, Satellite and Rotation of the Earth': 0, 'Prompt Assessment of Global Earthquakes for Response': 0, 'Tierstimmenarchiv - Museum für Naturkunde Berlin': 0, 'Hardwood Genomics Project': 0, 'citaREA': 2, 'caNanoLab': 0, 'Wissenschaftliche Sammlungen': 0, 'GESIS Suche': 0, 'Physical Oceanography Distributed Active Archive Center': 0, 'UA Campus Repository': 1, 'Mutopia Project': 0, 'GGOS ICGEM': 0, 'Internet Archive': 0, 'ErythronDB': 0, 'Stanford Microarray Database': 0, 'Brain Biodiversity Bank': 0, 'Karlsruhe Astrophysical Database of Nucleosynthesis in Stars': 0, 'ScholarWorks Boise State University': 2, 'intellectum': 1, 'TalkBank': 0, 'ASTER Volcano Archive': 0, 'IOOS®': 0, 'SupraBank': 0, 'Norwegian Marine Data Center': 0, 'EMBL-EBI': 0, 'ROSA P': 2, 'Résif Seismological Data Portal': 0, 'WOVOdat': 0, 'New Westminster Open Data': 0, 'SPARC.Science': 0, 'Environmental Information Data Centre': 0, 'Center for Remote Sensing of Ice Sheets': 0, 'eHOMD': 0, 'Open Data New Brunswick': 0, 'DANDI': 0, 'Data Sharing Infrastructure of Earth System Science': 0, 'Spanish CLARIN K-Centre': 2, 'Energy Data eXchange': 0, 'EBAS': 0, 'HepSim': 0, 'TERENO Data Discovery Portal': 0, 'European VLBI Network Data Archive': 0, 'The Comprehensive Resource of Mammalian protein complexes': 0, 'Migration data portal': 0, \"Luleå University of Technology research data in the university's publication database DiVA\": 0, 'COSMIC Data Analysis and Archive Center': 0, 'METIS': 3, 'Climate Change Knowledge Portal': 0, 'Lakehead University Dataverse': 0, 'EcoGene': 0, 'ICSSR Data Service: Social Science Data Repository': 0, 'DataverseNO': 3, 'UCLanData': 0, 'China Forestry Scientific Data Center': 0, 'CDAWeb': 0, 'Australian New Zealand Clinical Trials Registry': 0, 'TRR170-DB': 0, 'Cape Breton University Dataverse': 0, 'CLARIN repository at the University of Tübingen': 1, 'ILO Microdata Repository': 0, 'NYCU Dataverse': 0, 'INFRA-ART Spectral Database': 0, 'Whitehall II Study': 0, 'InterPro': 0, 'City of Oshawa Open Data': 0, 'Maddison Project': 0, 'Visible Human Project': 0, 'E. coli Genetic Resources at Yale': 0, 'Region of Waterloo - Open Data': 0, 'Science Photo Library': 0, 'PRO-ACT': 0, 'TreeGenes': 0, 'Babylonian Diaries': 0, 'NCBI BioSystems Database': 0, 'BsubCyc': 0, 'World Data Center for Renewable Resources and Environment': 0, 'AERONET': 0, 'IRMA Portal': 0, 'RDPCIDAT': 0, 'CryptoDB': 0, 'ScholarSphere': 0, 'U.S. National Archives and Records Administration Dataverse': 0, 'Digital Repository NM EPSCoR': 0, 'TOXMAP': 0, 'The Yeast Metabolome Database': 0, 'History Data Service': 0, 'Research Centre of the Bundesbank': 0, 'SPECTR-W3': 0, 'Deakin Research Online': 0, 'DataStream': 0, 'IDEAS': 2, 'Birkbeck Research Data': 0, 'National Freshwater Genetic Resource Center': 0, 'eLabour': 0, 'Australian Ocean Data Network Portal': 0, 'Work Histories Italian Panel': 0, 'Access to Archival Databases': 0, 'NGEE Arctic': 0, 'Integrated Climate Data Center': 0, 'LSE Research Online': 1, 'Huntingtin Interaction Network': 0, 'NWT Discovery Portal': 0, 'Online Mendelian Inheritance in Animals': 0, 'ICES data portal': 0, 'Michigan Corpus of Academic Spoken English': 0, 'Cross-national Equivalent File': 0, 'Buckeye Speech Corpus': 0, 'PHAIDRA - University of Padua': 1, 'UCSD Metabolomics Workbench': 0, 'Regionaal Archief Tilburg': 0, 'Lok Dhaba': 0, 'Repositori Institucional de la URV': 1, 'Northern Ontario Plant Database': 0, 'ASTM International': 0, 'TreeBASE': 1, 'SciCat': 0, 'National Contaminants Information System': 0, 'The Data Hub': 0, 'SumsDB': 0, 'data.public.lu': 0, 'AlgaeBase': 0, 'Humanities Data Centre': 0, 'SBGrid Data Bank': 0, 'Repositorio Institucional Universidad Santo Tomás': 1, 'Greenland Climate Network': 0, 'Loyalist Migrations': 0, 'GESIS Data Archive': 3, 'NCBI GSS': 0, 'SowiDataNet': 0, 'Open Access Power-Grid Frequency Database': 0, 'Precipitation Measurement Missions': 0, 'ANPERSANA': 0, 'Agency for Healthcare Research and Quality, Data & Surveys': 0, 'Network Repository': 0, 'RADAR4Culture': 1, 'MiCroKitS': 0, 'Canadian Open Neuroscience Platform Portal': 0, 'ESRF Portal': 0, 'Space Physics Data Facility': 0, 'Gulf of Mexico Research Initiative Information and Data Cooperative': 0, 'World Register of Marine Species': 0, 'Town of Oakville Open Data': 0, 'R. L. Kurucz atomic linelist': 0, 'National COVID Cohort Collaborative': 0, 'JEDI': 0, 'St. Jude Cloud': 0, 'NORPERM': 0, 'SciLifeLab Data Repository': 0, 'QsarDB': 0, 'National Data Repository': 0, 'National Center for Earth-Surface Dynamics Data Repository': 0, 'Herschel Science Archive': 0, 'ARACHNE IDAI.objects': 2, 'UCLA Phonetics Lab Archive': 0, 'DRYAD': 1, 'BioChem database': 0, 'edoc server der Berlin-Brandenburgischen Akademie der Wissenschaften': 1, 'iReceptor': 0, 'Dalhousie University Dataverse @ Borealis': 0, 'eData: the STFC Research Data Repository': 1, 'NCBI Trace Archive': 0, 'Open Research Data Online': 1, 'ASTER JPL': 0, 'MetabolomeXchange': 0, 'Toronto and Region Conservation Authority Open Data': 0, 'Perdigao Field Experiment': 0, 'Blue Obelisk Data Repository': 0, 'Science Data Centre Leibniz-Institute for Solarphysics': 0, 'DMITRE Petroleum': 0, 'National Database for Clinical Trials Related to Mental Illness': 0, 'BRC': 0, 'City of Victoria Open Data Portal': 0, 'National Weather Service, Fairbanks, Alaska Region': 0, 'Chemical Database Service': 0, 'National Microbiology Data Center': 0, 'Qualiservice': 0, 'NMDB': 0, 'NAKALA': 1, 'Collaborative Research in Computational Neuroscience': 0, 'Remote Sensing Systems': 0, 'ToxoDB': 0, 'BioDare2': 0, 'City of Mississauga Open Data Catalogue': 0, 'THEMIS': 0, 'volare': 0, 'ChemSpider': 0, 'IUCN Red List of Threatened Species': 0, 'RETOPEA': 0, 'TInnGO Open Data Repository': 0, 'TB Portals': 0, 'The Neolithic in the Nile Delta': 0, 'ANU Data Commons': 0, 'Apollo': 3, 'Adjusted and Homogenized Canadian Climate Data': 0, 'ICTWSS database': 0, 'Duke Research Data Repository': 0, 'East Hants Open Data': 0, 'Wellcome Trust Sanger Institute, Scientific resources': 0, 'University of Windsor Dataverse': 0, 'The Abdul Latif Jameel Poverty Action Lab': 0, 'B2SHARE Server Forschungszentrum Jülich': 2, 'Répertoire International des Sources Musicales (RISM)': 0, 'Site Survey Data Bank': 0, 'Databank of Official Statistics on Quebec': 0, 'Community Coordinated Modeling Center': 0, 'GloPAD': 0, 'National Avian Laboratory Animal Resource Bank': 0, 'Forschungsdatenzentrum Bildung': 0, 'University Hospital Medical Information Network Individual Case Data Repository': 0, 'Manitoba Population Research Data Repository': 0, 'Scientific Data Repository': 0, 'UNSWorks': 0, 'Network Data Exchange': 0, 'BCCM/ITM Mycobacteria Collection': 0, 'Savannah': 0, \"Egypt's Information Portal\": 0, 'STARK-B': 0, 'SISSA Open Data': 0, 'SilkPathDB': 0, 'Meteoritical bulletin database': 0, 'Liverpool COVID-19 Drug Interactions': 0, 'Pain Genes Database': 0, 'Molecular INTeraction Database': 0, 'Canadian Space Science Data Portal': 0, 'CATH': 0, 'UNB Libraries Dataverse Research Data Repository': 0, 'Open Data Prince George': 0, 'University of Strathclyde KnowledgeBase Datasets': 0, 'Brain-CODE': 0, 'City of Regina Open Data': 0, 'Sextant': 0, 'Grey County Open Data': 0, 'The Tree Atlas Project': 0, 'BCCDC Data': 0, 'Seafloor Sediments Data Collection': 0, 'KU Leuven RDR': 0, 'Landcare Research Data Repository': 0, 'Open Data DK': 0, 'Portal de Datos Abiertos de la Pontificia Universidad Católica del Perú': 0, 'HomoMINT': 0, 'GrainGenes': 0, 'LabKey Open Research Portal': 0, 'Center of Estonian Language Resources': 0, 'Antimicrobial Peptide Database': 0, 'ISRCTN Registry': 0, 'Square Kilometre Array': 0, 'Materials Project': 0, 'University of Salford Data Repository': 1, 'National Biodiversity Data Centre - Biodiversity Maps': 0, 'Forschungsdatenzentrum Wahlen': 0, 'CORA. Repositori de Dades de Recerca': 3, 'LXcat': 0, 'TU Wien Research Data': 0, 'LAADS DAAC': 0, 'Ridge 2000 Data Portal': 0, 'CEU Institutional Repository': 1, 'The Book of Caverns in Theban Tomb 33: Arbeitsphotos': 0, 'Center for Demography of Health and Aging': 0, 'St. Lawrence Global Observatory Data Catalogue': 0, 'ArrayExpress': 0, \"Canada's Michael Smith Genome Sciences Centre\": 0, 'University of Regina Dataverse': 0, 'Reanalysis Tropopause Data Repository': 0, 'OpenNeuro': 0, 'The National Map': 0, 'City of Sydney - Research and statistics': 0, 'Encyclopedia of Astronomy and Astrophysics': 0, 'Deep Carbon Observatory Data Portal': 0, 'U.S. Antarctic Program Data Center': 0, 'SkyView': 0, 'Chesapeake Bay Environmental Observatory': 0, 'National Arctic and Antarctic Data Center': 0, 'Arquivo.pt - the Portuguese web-archive': 0, 'CSIRO Data Access Portal': 0, 'European Mouse Mutant Archive': 0, 'Germania Sacra Online': 0, 'Comparative Toxicogenomics Database': 0, 'City of London Open Data': 0, 'China Seismic Array Data Management Center': 0, 'Code Ocean': 0, 'Europäische Geschichte Online': 0, 'openICPSR': 0, 'FaceBase': 0, 'BCCM/DCG Diatoms Collection': 0, 'Amsterdam Cohort Studies on HIV infection and AIDS': 0, 'data.bris Research Data Repository': 0, 'Association of Religion Data Archives': 0, 'Mountain Scholar': 1, 'The Centre for Applied Genomics Databases': 0, 'GEON': 0, 'Fisheries and Oceans Canada  Pacific Region Data Archive': 0, 'Alberta Food Composition Database': 0, 'IUPHAR/BPS Guide to Pharmacology': 0, 'Bacteriome.org': 0, 'Medieval Diagrams': 0, 'South African Data Archive': 0, 'Argovis': 0, 'Propylaeum@heiDATA': 0, 'ISRIC Soil Metadata Catalogue': 0, 'APIS': 0, 'FANTOM': 0, 'Bath Spa University figshare': 0, 'AIRS/Aqua Observations of Gravity Waves': 0, 'Fox Insight Date Exploration Network': 0, 'NPS Gaseous Pollutant and Meteorological Data Access Page': 0, 'ArkeoGIS': 0, 'CLARIN-LT': 1, 'American National Election Studies': 0, 'NIST Atomic Spectral Line Broadening Bibliographic Database': 0, 'OceanSITES': 0, 'WDC for Ionosphere and Space Weather': 0, 'Data MB': 0, 'NASA Image and Video Library': 0, 'NAVDAT': 0, 'MycoBank': 0, 'eBiltegia': 1, 'IMGT/HLA Database': 0, 'ArachnoServer': 0, 'Addis Ababa University Research Data Repository': 0, 'chemotion': 3, 'Biogeographic Information and Observation System': 0, 'Alaska Ocean Observing System': 0, 'WDC Sunspot Index and Long-term Solar Observations': 0, 'European Vitis Database': 0, \"Dataverse de l'Université du Québec à Chicoutimi\": 0, 'GEISHA': 0, 'Google Code Project Hosting': 0, 'BIH / Charité Virtual Research Environment': 0, 'Statistics Greenland': 0, 'International Neuroimaging Data-sharing Initiative': 0, 'M-TROPICS': 0, 'Inscriptiones Christianae Graecae': 0, 'Tools for Second Language Speech Research and Teaching': 0, 'Aperta TÜBİTAK Open Archive': 1, 'ADS': 3, 'NeuroVault': 0, '4TU.ResearchData | science.engineering.design': 3, 'Novartis Clinical Trial Results Database': 0, '4DGenome': 0, 'NITRC': 0, 'Rutgers/New Jersey Geological and Water Survey Core Repository': 0, 'Essex County Open Data': 0, 'Swiss National Data and Service Center for the Humanities': 0, 'RDP': 0, 'UQ eSpace, Research Data Collections': 2, 'Linguistic Data Consortium': 0, 'South African Environmental Observation Network Data Portal': 0, 'Groundwater Information Network': 0, 'UiT Open Research Data Dataverse': 0, 'Exposome-Explorer': 0, 'DARTS': 0, 'AMS Acta': 1, 'Bloomberg': 0, 'GeoNames': 0, 'PeptideAtlas': 0, 'Smithsonian Open Access': 0, 'PTB-OAR': 3, 'PRISM Dataverse': 0, 'KORD Repository': 0, 'Romanian Social Data Archive': 0, \"Élections Québec's Open Data\": 0, 'Basis Set Exchange': 0, 'Comparative RNA Web': 0, 'ISPS Data Archive': 0, 'depositar': 0, 'Yoda': 1, 'VegBank': 0, 'SEDICI': 1, 'Global Earth Observation Grid': 0, 'ImmPort': 0, 'ProteomeXchange': 0, 'Center for Engineering Strong Motion Data': 0, 'National Collection of Authenticated Cell Cultures': 0, 'Laurentian University Dataverse': 0, 'ResearchGate Data': 0, 'Human Mortality Database': 0, 'Open Government Canada - Open Data': 0, 'Geothermal Data Repository': 0, 'RELMIN': 0, 'Ag-Analytics': 0, 'Integrated Public Use Microdata Series - International': 0, 'Finnish Biodiversity Information Facility': 0, 'Portal to Los Alamos Opacity Codes': 0, 'Regionaal Archief Alkmaar': 2, 'Fragile Families and Child Wellbeing Study': 0, 'mediaTUM': 3, 'RiuNet': 1, 'Atlas of Innovations': 0, 'Grand Challenge Data Collection': 0, 'University of Manitoba Dataverse': 0, 'ESTHER database': 0, 'Montréal Portail Donnees Ouvertes': 0, 'AnimalGenome.ORG': 0, 'PlasmoDB': 0, 'UCL Discovery': 1, 'CancerData.org': 2, 'LegionellaDB': 0, 'TERN Data Discovery Portal': 3, 'Refubium': 0, 'DaKS': 0, 'Zentrale Biomaterialbank der Charité': 0, 'HealthData.gov': 0, 'ReefTEMPS': 0, 'Open Heritage 3D': 0, 'MODES': 0, 'RADAR': 1, 'Forschungsdatenzentrum im Bundesinstitut für Berufsbildung': 0, 'Ancient Sundials': 0, 'Gambling Research Exchange Dataverse': 0, 'New Mexico Bureau of Geology & Mineral Resources Data Repository': 0, 'India Biodiversity Portal': 0, 'PsychArchives': 0, 'RIULL': 0, 'ETH Data Archive': 0, 'Copernicus': 0, 'Health Atlas': 0, 'Virginia Tech Data Repository': 0, 'GlyTouCan': 0, 'Deutsche Genbank Reben': 0, 'Saskatchewan Conservation Data Centre': 0, 'NOAA National Centers  for Environmental Information - formerly: National Climatic Data Center': 0, 'ULC Cyanobacteria Collection': 0, 'Language Archive Cologne': 0, 'GUDMAP': 0, 'Galaxy Zoo': 0, 'WDC for geophysics, Beijing': 0, 'Open Power System Data': 0, 'Centers for Disease Control and Prevention, Data & Statistics': 0, 'National Archives': 0, 'University of Amsterdam / Amsterdam University of Applied Sciences figshare': 0, 'IFREMER-SISMER Portail de données marines': 0, 'NEEShub': 0, 'Datatang': 0, 'Community Data Program': 0, \"Concordia's Open Data\": 0, 'Forschungsdatenzentrum am IQB': 0, 'OpenWorm': 0, 'CottonGen': 0, 'CITK': 0, 'AusGeochem': 0, 'Clinical Proteomic Tumor Analysis Consortium Data Portal': 0, 'U.S. Geological Survey': 0, 'Cystic Fibrosis Mutation Database': 0, 'Biobanque québécoise de la COVID-19': 0, 'Frozen Zoo®': 0, 'Natural Resources Conservation Service Soils': 0, 'Benchmark Energy & Geometry Database': 0, 'SPECTRa Project': 2, 'The University of Oxford Text Archive': 1, 'WBG Open Finances': 0, 'Pediatric MRI Data Repository': 0, 'IOW Data Portal': 0, 'Harvard Numeric Data Services Dataverse': 0, 'City of Winnipeg Open Data Portal': 0, 'GWAS Central': 0, 'National Data Archive: An Online Microdata Library': 0, 'NBIS DOI repository': 0, 'Pseudomonas Genome DB': 0, 'GeoBase': 0, 'Regionaal Archief Nijmegen (Gemeente Nijmegen)': 0, 'B2FIND': 3, 'National Mine Map Repository': 0, 'IMPACT': 0, 'SPT Galaxy Cluster Followup Dataverse': 0, 'Imperial College Research Computing Service Data Repository': 0, \"Saint Mary's University Dataverse\": 0, 'Virtuelles Skriptorium St. Matthias': 0, 'International VLBI Service for Geodesy and Astrometry of NASA': 0, 'Cellular Phenotype database': 0, 'GO-GEO': 0, 'Statistics Canada Biobank': 0, 'GEOROC Data Repository': 0, 'DIAS': 0, 'ORDA - The University of Sheffield Research Data Catalogue and Repository': 1, 'Prognostics Center of Excellence Data Set Repository': 0, 'DMU Figshare': 0, 'BIRD': 0, 'Health Data Nova Scotia': 0, 'Historical Atlas of Sydney': 0, 'Electron-Impact Excitation of Multicharged Ions using MEIBEL': 0, 'Mitelman Database of Chromosome Aberrations and Gene Fusions in Cancer': 0, 'City of Cambridge GeoHub': 0, 'Pôle National de Données de Biodiversité': 0, 'CLARIN.SI repository': 1, 'National Space Science Data Center': 0, 'Gemma': 0, 'Climate Data Gateway at NCAR': 0, 'ScienceBase USGS': 0, 'University of Victoria Dataverse': 0, 'National 3D Data Repository': 0, 'Cold and Arid Regions Science Data Center at Lanzhou': 0, 'FAPESP COVID-19 Data Sharing/BR': 0, 'Inspire-HEP': 0, 'OLOS': 3, 'MicroScope': 0, 'Repositorio Institucional de la Universidad Distrital Francisco José de Caldas': 1, 'BioStudies': 0, 'U.S. Energy Information Administration': 0, 'NASA Distributed Active Archive Center at National Snow & Ice Data Center': 0, 'Virgo Millenium Database': 0, 'City of Brantford Open Data Catalogue': 0, 'Chemical composition of ancient ceramics': 0, 'Canadian Wildland Fire Information System': 0, 'Memorial University Dataverse': 0, 'Gazel': 0, 'LISS Panel': 0, 'PAIN repository': 0, 'Biodiversity Exploratories Information System': 0, 'Birdata': 0, 'dharmae': 0, 'IMGT/GENE-DB': 0, 'AfricaRice Dataverse': 0, 'hPSCreg': 0, 'Ukrainian Geospatial Data Center': 0, 'NWT Centre for Geomatics': 0, 'OLAC': 1, 'freeBIRD': 0, 'FAIRsharing': 0, 'Satellite Application Facility on Climate Monitoring': 0, 'World Data Center for Geoinformatics and Sustainable Development': 0, 'Bigelow National Center for Algae and Microbiota': 0, 'Human Autophagy Database': 0, 'Open Data Moncton': 0, 'RU-IIEc': 1, 'CIAT Dataverse': 0, 'Data INRAE': 3, 'GeneDB': 0, 'The Human Protein Atlas': 0, 'Bureau Central Sismologique Français - Réseau National de Surveillance Sismique': 0, 'Bioconductor': 0, 'Consortium of Pacific Herbaria': 0, 'Coronavirus Government Response Tracker': 0, 'International Service of Geomagnetic Indices': 0, 'Avon Longitudinal Study of Parents and Children': 0, 'AHRI Data Repository': 0, 'Weed Images': 0, 'Bacterial Carbohydrate Structure DataBase': 0, 'correspSearch - Search scholarly editions of letters': 0, 'heidICON': 0, 'NASA GEWEX Surface Radiation Budget': 0, 'WestNile.ca.gov': 0, 'Open Hamilton': 0, 'PANGAEA': 1, 'The USA National Phenology Network': 0, 'The Kreisgraben-Phenomenon': 0, 'Data Repository for the University of Minnesota': 0, 'EUROCAT': 0, 'DNBLab': 1, 'Senckenberg (meta) data portal': 0, 'HilReDa': 0, 'Broad GDAC Firehose': 0, 'COEMS Open Data': 0, 'Incorporated Research Institutions for Seismology': 0, 'TrichDB': 0, 'Store.Synchrotron Data Store': 2, 'NCBI Structure': 0, 'EarthEnv': 0, 'Genome Sequence Archive': 0, 'SHARE Geonetwork': 0, 'Yale-NUS Dataverse': 0, 'System for Earth Sample Registration': 0, 'PhenoM': 0, 'MUCL Agro-food & Environmental Fungal Collection': 0, 'Digibug: Repositorio Institucional de la Universidad de Granada': 0, 'Digital Case': 0, 'MD-SOAR': 0, 'Discovery': 0, 'Polar Data Catalogue': 0, 'Index to Marine & Lacustrine Geological Samples': 0, 'Research Data Leeds Repository': 1, 'Australian Drosophila Ecology and Evolution Resource': 0, 'Supreme Court Database': 0, 'Comprehensive Antibiotic Resistance Database': 0, 'FID move': 0, 'BacMap': 0, 'GnpIS': 0, 'mdw Repository': 1, 'European Chemical Biology Database': 0, 'VectorBase': 0, 'Thai National Research Repository': 0, 'Zenodo': 1, 'Korean Labor & Income Panel Study': 0, 'German Centre for Cancer Registry Data': 0, 'NCBI Influenza Virus Resource': 0, 'brainlife': 0, 'PANDIT': 0, 'European Soil Data Centre': 0, 'The Language Archive': 3, 'Deutsches Register Klinischer Studien': 0, 'The Electron Microscopy Data Bank': 0, 'University of Ottawa Dataverse': 0, 'Mouse Tumor Biology Database': 0, 'National Biomedical Imaging Archive': 0, 'Forschungsdatenzentrum für audio-visuelle Daten der qualitativen Sozialforschung': 0, 'pSILAC': 0, 'Phenylalanine Hydroxylase Locus Knowledgebase': 0, 'PolMine': 2, 'FORSbase': 0, 'Atmospheric Infrared Sounder': 0, 'Washington State University Data Center Dataverse': 0, 'Open Data Portal - City of Kelowna': 0, 'World Data Centre for Space Weather': 0, 'CLARIN-IS': 1, 'PSLC DataShop': 0, 'NEMAR': 0, 'Cross-National Time-Series Data Archive': 0, 'GAMS': 1, 'LifeMap Discovery': 0, 'TERRA': 0, 'Fishnet2': 0, \"Nasa's Data Portal\": 0, 'Strasbourg Astronomical Data Center': 0, 'Henry A. Murray Research Archive at IQSS, Harvard University': 0, 'eMaapõu': 0, 'Phytozome': 0, 'Inorganic Crystal Structure Database': 0, 'Ancient Steelyards': 0, 'SureChEMBL': 0, 'ATCC Genome Portal': 0, 'ScienceDB': 0, 'Base de Dados  Científicos da Universidade Federal do Paraná': 1, 'Social Computing Data Repository': 0, 'Global Change Research Data Publishing and Repository': 0, 'Old Bailey Proceedings Online': 0, 'WorldWide Antimalarial Resistance Network': 0, 'eLaborate': 1, 'UEL Research Repository': 1, 'European XFEL Data Portal': 0, 'Gramene': 0, 'SFU Radar': 3, 'Maine Dataverse Network': 0, 'OPEN-ADAS': 0, 'CfA Library Datasets Dataverse': 0, 'Greenland Environmental Observatory at Summit Station': 0, 'The Chromosome 7 Annotation Project': 0, 'Combined QTL Map of Dairy Cattle Traits': 0, 'RENAG-DC': 0, 'ClimateData.ca': 0, 'SAMD': 0, 'City of Kamloops Open Data Catalog': 0, 'Worldpop': 0, 'Barrow Atmospheric Baseline  Observatory': 0, 'DURAARK datasets': 0, 'DSMZ': 0, 'DATA.GOV.UK': 0, 'Gaia@AIP': 3, 'NCAA Student-Athlete Experiences Data Archive': 0, 'Office for National Statistics': 0, 'CARIBIC': 0, 'Human Genetic Variation Repository': 0, 'bii': 0, 'Canadian Biodiversity Information Facility': 0, 'The Content Name Collection': 0, 'Substance Abuse and Mental Health Data Archive': 0, 'NASA Exoplanet Archive': 0, 'NIST XCOM': 0, 'NCL Data': 0, 'STITCH 4.0': 0, 'Antimicrobial Combination Networks': 0, 'Integrated Relational Enzyme database': 0, 'Web Soil Survey': 0, 'Materials Data Facility': 0, 'Wharton Research Data Services': 0, 'US JGOFS Data System': 0, 'The Cancer Immunome Atlas': 0, 'WSI-Datenzentrum': 0, 'U.S. GLOBal Ocean ECosystems Dynamics': 0, 'LEPR - Library of Experimental Phase Relations': 0, 'iNaturalist.org': 0, 'NCCOR': 0, 'TBNet India': 0, 'HALO database': 0, 'Kochi Core Center': 0, 'City of Barrie Data Portal': 0, 'Social Data Network': 0, 'REDU - Unicamp Institutional Research Data Repository': 0, 'ICTS SOCIB Data Repository': 0, 'Swedish National Data Service': 0, 'National Science Foundation Polar Programs UV Monitoring Network': 0, 'ICET': 0, 'Deutsches Textarchiv': 2, 'CaltechLabNotes': 0, 'The Neuro C-BIG Repository Data Portal (Beta)': 0, 'figshare': 1, 'Open Data Catalogue - City of Lethbridge': 0, 'Forschungsdatenzentrum Ruhr am RWI': 0, 'Gulf Coast Repository': 0, 'Human Protein Reference Database': 0, 'EELS Data Base': 0, 'Plasma Physics Data Center': 0, 'DAIS': 0, 'GenomeRNAi': 0, 'PSD Climate and Weather Data': 0, 'BioVel': 0, 'CEACS Data Library': 0, 'Canadian Laboratory Initiative on Pediatric Reference Intervals': 0, 'GeoCommons Archive': 0, 'TB Database': 0, 'UCLA Social Science Data Archive': 0, 'Breast Cancer Surveillance Consortium': 0, 'National Ecological Observatory Network': 0, 'GERDA': 0, 'GAWSIS': 0, 'RunMyCode': 0, 'EarthByte': 0, 'ATNF Pulsar Catalogue': 0, 'Navigate Newmarket': 0, 'The CEDA Archive': 3, 'BioGPS': 0, 'JPL Multi-angle Imaging SpectroRadiometer': 0, 'Westbank First Nation Open Data': 0, 'UCL Research Data Repository': 0, 'The Polinsky Language Sciences Lab Dataverse': 0, 'Synapse': 0, 'AIDA Data Hub': 0, 'Database of Individual Seismogenic Sources': 0, 'Database of Genomic Variants Archive': 0, 'International Forestry Resources and Institutions': 0, \"Scholar's Bank\": 0, 'University of Reading Research Data Archive': 1, 'Visible earth': 0, 'Open-source Scientific Software and Service Repository': 0, 'TemplateFlow': 0, 'Forest Global Earth Observatory': 0, 'Summit Station': 0, 'Sloan Digital Sky Survey': 0, 'City of Grand Prairie Open Data Catalogue': 0, 'GeneCorner Plasmid Collection': 0, 'fossilworks': 0, 'National Institute of Mental Health Data Archive': 0, 'Geological Data Center at Scripps Institution of Oceanography': 0, 'TropFlux': 0, 'GeneLab': 0, 'NOAA National Centers for Environmental Information - World Data Service  for Oceanography': 3, 'International Soil Carbon Network': 0, 'GIS Data Depot': 0, 'SITES Data Portal': 0, 'DepositOnce': 1, 'DNA Data Bank of Japan': 0, 'Radboud Data Repository': 0, 'FishSounds': 0, 'Ottawa Riverkeeper Open Data': 0, 'NCBI Reference Sequence Database': 0, 'The whole brain Atlas': 0, 'Huron County Open Data': 0, 'Portal de datos de Biodiversidad': 0, 'PROFILES Registry': 0, 'British Antarctic Survey': 0, 'Center for International Earth Science Information Network': 0, 'Coastal Data Information Program': 0, 'MoNA': 0, 'LAUDATIO': 0, 'GEOMIND': 0, 'GEUS Dataverse': 0, 'Cornell University Geospatial Information Repository': 0, 'HONmedia': 0, 'jPOSTrepo': 0, 'CKAN @ IoT Lab': 0, 'European Zebrafish Resource Center': 0, 'COVID-19 Interactive Map': 0, 'DTU Bioinformatics': 0, 'TurtleSAT': 0, 'ZACAT': 0, 'Brain Transcriptome Database': 0, 'Longitudinal Aging Study Amsterdam': 0, 'Microstructure Database': 0, 'SWISSUbase': 0, 'eagle-i': 0, 'European Xenopus Resource Center': 0, 'ZBW Digital Long-Term Archive': 1, 'COViMS': 0, 'Open Research Data @PUC-Rio': 0, 'Conservation Ontario Open Data Hub': 0, 'National Geothermal Data System': 0, 'Toronto Metropolitan University Dataverse': 0, 'RAVE database': 3, 'Redape': 0, 'DEIMS-SDR': 3, 'Human protein-protein interaction network database search': 0, 'Nucleic Acid Database': 0, '1.2 Meter CO Survey Dataverse': 0, 'Open Government Data Portal of Tamil Nadu': 0, 'NIDDK Information Network': 0, 'enviPath': 0, 'City of Pickering Open Data Portal': 0, 'MetaCyc': 0, 'UMCG Research Data Catalogue': 0, 'BacDive': 0, 'LINCS Data Portal': 0, 'Repositorio de datos del Ministerio de Educación del Perú': 0, 'India Water Portal': 0, 'Openresearchdata,  Platform Switzerland': 0, 'ILC-CNR for CLARIN-IT repository': 0, 'FAOSTAT': 0, 'HI HOPES': 0, 'Atomic and Molecular Data Information System': 0, 'EarthStat': 0, 'MyTARDIS @ ANSTO': 0, 'Sheffield Hallam University Research Data Archive': 1, 'Canadian Centre for Climate Modelling and Analysis': 0, 'Kenya Open Data': 0, 'WebGIS Universität Münster': 0, 'The National Practitioner Data Bank': 0, 'TwinsUK': 0, 'KIT Whole-Body Human Motion Database': 0, 'University of Alberta Dataverse': 0, 'Theater und Musik in Weimar 1754 - 1990': 0, 'MOSES Data Discovery Portal': 0, 'East China Normal University Social Data Sharing Platform': 0, 'Science Direct Repository Koszalin University of Technology': 0, 'digital Upper Austrian Regional Library': 0, 'Climate Models': 0, 'International Classification of Diseases': 0, \"Canada's National Forest Inventory\": 0, 'Canadian Urban Data Repository': 0, 'UNITE': 0, 'Repositorio de datos de investigación de la Universidad del Rosario': 0, 'CMCC Data Portal': 0, 'UCD Digital Library': 3, 'NASA Earth Exchange': 0, 'IEEE DataPort': 0, 'City of Peterborough Open Data Portal': 0, 'Huygens ING': 1, 'ChEBI': 0, 'Broad-Novartis Cancer Cell Line Encyclopedia': 0, 'PATRIC': 0, 'Etsin Research Data Finder': 0, 'Forschungsdatenzentrum IWH': 0, 'Nord-Trondelag Health Study': 0, 'RWTH Publications Research Data': 0, 'COVID-19 Research Collaborations': 0, 'Lancaster University Research Directory': 0, 'Hydro-Québec Open Data': 0, 'SAFER-Data': 0, 'Cancer Genomics Hub': 0, 'European Climate Assessment & Dataset project': 0, 'Reactome': 0, 'ZFDM repository': 0, 'Immune Epitope Database': 0, 'Yeast Resource Center': 0, 'Western Regional Climate Center': 0, 'Data Buoy Cooperation Panel': 0, 'Hagia Sophia 3D': 0, 'ACEnano': 0, 'FactGrid': 0, 'UK Reading Experience Database': 0, 'NCBI Taxonomy': 0, 'National Park Service Geographic Information Systems': 0, 'Brabants Historisch Informatie Centrum': 0, 'Ontario GeoHub': 0, 'EU Clinical Trial Register': 0, 'IPGP Data Center': 0, 'DRA': 0, 'GenBank': 0, 'ALADDIN': 0, 'Data Portal of the Alfred Wegener Institute': 0, 'Pedestrian Dynamics Data Archive': 0, 'York University Dataverse': 0, 'ChemSynthesis': 0, 'International GNSS Service': 0, 'Comparative Agendas Project': 0, 'Marine Scotland Data': 0, 'The Textile Revolution': 0, 'Cornell Activity Datasets: CAD-60 & CAD-120': 0, 'Open Science Framework': 0, 'The Lens': 0, 'Global Terrorism Database': 0, 'CIS-BP': 0, 'Tropicos®': 0, 'GLOBE': 0, 'Greengenes': 0, 'DataFed': 0, 'The Earthbound Planet Search': 0, 'Forest Service Research Data Archive': 0, 'National Weather Service, National Centers for Environmental Prediction': 0, 'Bicocca Open Archive Research Data': 1, 'ExAC Browser': 0, 'Organelle Genome Megasequencing Program': 0, 'The USGS Land Cover Institute': 0, 'Plant Organelles Database  3': 0, 'Earth System Grid Federation': 0, 'COVID-19 Data Portal': 0, 'Environmental Data Initiative Repository': 0, 'Tree of Life Web Project': 0, 'ModelDB': 0, 'TRAILS': 0, 'Datenrechercheportal UFZ': 0, 'HPDE.io': 0, 'Biological Magnetic Resonance Data Bank': 0, 'e-codices': 1, 'MindBigData': 0, 'DadosIPB': 0, 'High Energy Astrophysics Science Archive Research Center': 0, 'Electron-Impact Ionization of Multicharged Ions at ORNL': 0, 'DataBank, Bodleian Libraries, University of Oxford': 0, 'MicrosporidiaDB': 0, 'NCBI Clone DB': 0, 'NCBI Genome': 0, 'DEMel': 0, 'SURFRAD': 0, 'dbSNP': 0, 'World Stress Map': 3, 'CANJEM': 0, 'QUT Research Data Finder': 0, 'NB Institute for Research, Data and Training': 0, 'City of Saskatoon Open Data Catalogue': 0, 'National Rodent Laboratory Animal Resource Bank': 0, 'VentDB': 0, 'EVIA Digital Archive Project': 0, 'SinMin': 0, 'Odum Institute Archive Dataverse': 0, 'Nanaimo Data Catalogue': 0, 'Marlin Metadata Catalogue': 0, 'XNAT CENTRAL': 0, 'Controlled Fusion Atomic Data Center': 0, 'European MassBank': 0, 'Ocean Tracking Network': 0, 'Oak Ridge Leadership Computing Facility Constellation Portal': 0, 'Metlin': 0, 'Digital Repository at the University of Maryland': 0, 'The Population Research in Sexual Minority Health Data Archive': 0, 'Spitzer Heritage Archive': 0, 'Knoema': 0, 'Fly-FISH': 0, 'Ecosounds': 0, 'The Fish Database of Taiwan': 0, 'Halocarbons in the Ocean and Atmosphere database project': 0, 'Architectural Fragments of Myus': 0, 'Space Physics Interactive Data Resource': 0, 'California Coastal Atlas': 0, 'WHOI Argo Program': 0, 'Forschungsdaten\\xadzentrum der Bundesanstalt für Arbeitsschutz und Arbeitsmedizin': 0, 'United States Transuranium & Uranium Registries': 0, 'ALlele FREquency Database': 0, 'UNdata': 0, 'FDZ-DZHW': 0, 'DataBasin': 0, 'Golm Metabolome Database': 0, 'Fairdata IDA Research Data Storage Service': 0, 'BAW-Datenrepository': 0, 'NCBI Virus Variation': 0, 'Meertens Instituut Collecties': 1, 'DBpedia': 0, 'Nucastrodata.org': 0, 'Historical Data Centre Saxony-Anhalt': 0, 'Township of Langley Open Data Portal': 0, 'Research Catalogue -  Society for Artistic Research': 0, 'Canadian Longitudinal Study on Aging': 0, 'Maelstrom Catalogue': 0, 'Forschungsdatenzentrum Internationale Umfrageprogramme': 0, 'IBICT Cariniana Dataverse Network': 0, 'SASBDB': 0, 'coastDat': 0, 'miRBase': 0, 'GitHub': 0, 'BioPortal': 0, 'THREDDS Data Server': 0, 'Historical hydrographic data from BSH': 0, 'European Research Community on Flow, Turbulence and Combustion Database - Classic Collection': 0, 'NEPTUNE Canada': 0, 'Research Data Exchange Platform - Johanna Mestorf Academy': 0, 'Dementias Platform UK Data Portal': 0, 'Arctic Permafrost Geospatial Centre': 0, 'MUSE-Wide': 3, '-OAI-PMH': 0, 'PROV-OAI-PMH': 0, 'International Virtual Observatory Alliance Technical Specifications-OAI-PMH': 0, 'DIF - Directory Interchange Format-OAI-PMH': 0, 'CIF - Crystallographic Information Framework-OAI-PMH': 0, 'DDI - Data Documentation Initiative-OAI-PMH': 0, 'DCAT - Data Catalog Vocabulary-OAI-PMH': 0, 'QuDEx - Qualitative Data Exchange Format-OAI-PMH': 0, 'other-OAI-PMH': 0, 'DataCite Metadata Schema-OAI-PMH': 0, 'Dublin Core-OAI-PMH': 0, 'ISO 19115-OAI-PMH': 0, 'EML - Ecological Metadata Language-OAI-PMH': 0, 'OAI-ORE - Open Archives Initiative Object Reuse and Exchange-OAI-PMH': 0, 'FITS - Flexible Image Transport System-OAI-PMH': 0, 'FGDC/CSDGM - Federal Geographic Data Committee Content Standard for Digital Geospatial Metadata-OAI-PMH': 0, 'RDF Data Cube Vocabulary-OAI-PMH': 0, 'CF (Climate and Forecast) Metadata Conventions-OAI-PMH': 0, 'SPASE Data Model-OAI-PMH': 0, 'CSMD-CCLRC Core Scientific Metadata Model-OAI-PMH': 0, 'ISA-Tab-OAI-PMH': 0, 'Repository-Developed Metadata Schemas-OAI-PMH': 0, 'Darwin Core-OAI-PMH': 0, 'AVM - Astronomy Visualization Metadata-OAI-PMH': 0}\n",
      "{0: 2850, 1: 170, 2: 53, 3: 67}\n",
      "[0, 1, 2, 3]\n",
      "0\n",
      "1\n",
      "2\n",
      "3\n"
     ]
    },
    {
     "name": "stderr",
     "output_type": "stream",
     "text": [
      "/home/vdang/PycharmProjects/EDBT_paper/venv/lib/python3.8/site-packages/netgraph/_node_layout.py:1549: UserWarning: Graph contains a single community. Unable to compute a community layout. Computing spring layout instead.\n",
      "  warnings.warn(\"Graph contains a single community. Unable to compute a community layout. Computing spring layout instead.\")\n",
      "/home/vdang/PycharmProjects/EDBT_paper/venv/lib/python3.8/site-packages/netgraph/_node_layout.py:1023: RuntimeWarning: invalid value encountered in divide\n",
      "  directions = deltas / magnitudes[:, np.newaxis]\n"
     ]
    }
   ],
   "source": [
    "\n",
    "\n",
    "couple_node = []\n",
    "\n",
    "# Reducing number of edge for plotting ; communities already computed\n",
    "for MD in node_edges[\"OAI-PMH\"]:\n",
    "    # if MD != \"Dublin Core\":\n",
    "    #     couple_node += list(set([tuple(sorted(x)) for x in combinations(node_edges[\"OAI-PMH\"][MD],2)]))\n",
    "    for i in range(len(node_edges[\"OAI-PMH\"][MD])):\n",
    "        couple_node.append((node_edges[\"OAI-PMH\"][MD][i], node_edges[\"OAI-PMH\"][MD][(i+1)%len(node_edges[\"OAI-PMH\"][MD])]))\n",
    "        if len(node_edges[\"OAI-PMH\"][MD]) > 1:\n",
    "            couple_node.append((node_edges[\"OAI-PMH\"][MD][i], node_edges[\"OAI-PMH\"][MD][(i+5)%len(node_edges[\"OAI-PMH\"][MD])] ))\n",
    "        # Exchange uncommented line with this one to get every edges\n",
    "        # couple_node.append((MD+\"-OAI-PMH\",node_edges[\"OAI-PMH\"][MD][i]))\n",
    "\n",
    "G_OAI = nx.Graph()\n",
    "\n",
    "# import igraph as ig\n",
    "G_OAI.add_nodes_from(list(repo_data[\"name\"].values))\n",
    "# Change color of node for OAI-PMH\n",
    "for i in [MD+\"-OAI-PMH\" for MD in node_edges[\"OAI-PMH\"]]:\n",
    "    G_OAI.add_node(i)\n",
    "G_OAI.add_edges_from(couple_node)\n",
    "\n",
    "# import igraph as ig\n",
    "# G.add_nodes_from(list(repo_data[\"name\"].values))\n",
    "# for i in [MD+\"-OAI-PMH\" for MD in node_edges[\"OAI-PMH\"]]:\n",
    "#     G.add_node(i, color=\"green\")\n",
    "# G.add_edges_from(couple_node)\n",
    "# result_df = pd.read_csv(\"data_selection.csv\")\n",
    "# for repo in result_df.iloc:\n",
    "#     g_2.add_vertex(repo[\"name\"], color=\"blue\")\n",
    "# g_3.add_vertices(list(repo_data[\"name\"].values))\n",
    "# for i in [MD+\"-OAI-PMH\" for MD in node_edges[\"OAI-PMH\"]]:\n",
    "#     g_3.add_vertex(i)\n",
    "# g_3.add_edges(couple_node)\n",
    "\n",
    "print(nx.density(G_OAI))\n",
    "# installation easiest via pip:\n",
    "# pip install netgraph\n",
    "fig = plt.figure(figsize=(18,18))\n",
    "# create a modular graph\n",
    "partition_sizes = [10, 20, 30, 40]\n",
    "# g = nx.random_partition_graph(partition_sizes, 0.5, 0.1)\n",
    "g=G_OAI\n",
    "# since we created the graph, we know the best partition:\n",
    "# node_to_community = dict()\n",
    "# node = 0\n",
    "# for community_id, size in enumerate(partition_sizes):\n",
    "#     for _ in range(size):\n",
    "#         node_to_community[node] = community_id\n",
    "#         node += 1\n",
    "# node_to_community = community_louvain.best_partition(G)\n",
    "\n",
    "# # alternatively, we can infer the best partition using Louvain:\n",
    "# from community import community_louvain\n",
    "# node_to_community = community_louvain.best_partition(g)\n",
    "res = {}\n",
    "for i in node_to_community:\n",
    "    if node_to_community[i] in res :\n",
    "        res[node_to_community[i]] += 1\n",
    "    else:\n",
    "        res[node_to_community[i]] = 1\n",
    "print(node_to_community)\n",
    "print(res)\n",
    "communities_unique = []\n",
    "for key in res :\n",
    "    if res[key]!=1:\n",
    "        communities_unique.append(key)\n",
    "\n",
    "print(communities_unique)\n",
    "# \n",
    "change = {}\n",
    "commu_aux_change_number = 0\n",
    "for i in communities_unique:\n",
    "    print(i)\n",
    "    change[i] = commu_aux_change_number\n",
    "    commu_aux_change_number+=1\n",
    "\n",
    "for i in node_to_community:\n",
    "    if node_to_community[i] not in communities_unique:\n",
    "        node_to_community[i]=7\n",
    "    else :\n",
    "        node_to_community[i]=change[node_to_community[i]]\n",
    "#\n",
    "# node_to_community\n",
    "# print(communities_unique)\n",
    "\n",
    "community_to_color = {\n",
    "    0 : 'tab:blue',\n",
    "    1 : 'tab:orange',\n",
    "    2 : 'tab:green',\n",
    "    3 : 'tab:red',\n",
    "    4 : 'tab:purple',\n",
    "    5 : 'tab:brown',\n",
    "    6 : 'tab:pink',\n",
    "    7 : 'tab:gray',\n",
    "    8 : 'tab:olive',\n",
    "    9 : 'tab:cyan'\n",
    "}\n",
    "aux = {key : index for index,key in enumerate(communities_unique) }\n",
    "node_color = { node :(community_to_color[aux[community_id]] if community_id in communities_unique else community_to_color[7]) for node, community_id in node_to_community.items() }\n",
    "# # node_color = {node:    }\n",
    "# \n",
    "# #\n",
    "Graph(g,\n",
    "      node_color=node_color, node_edge_width=0.1, edge_width=0.01,\n",
    "        node_layout=\"community\", node_layout_kwargs=dict(node_to_community=node_to_community),\n",
    "      edge_layout='bundled', node_size=0.3\n",
    ")\n",
    "plt.savefig(\"community_OAI_PMH_allnode.pdf\")\n",
    "plt.show()"
   ],
   "metadata": {
    "collapsed": false,
    "is_executing": true,
    "ExecuteTime": {
     "start_time": "2023-09-22T09:43:56.267525697Z"
    }
   }
  },
  {
   "cell_type": "markdown",
   "source": [
    "## Removing isolated nodes : only on OAI-PMH (knowledge sharing)"
   ],
   "metadata": {
    "collapsed": false
   }
  },
  {
   "cell_type": "code",
   "execution_count": 29,
   "outputs": [
    {
     "name": "stdout",
     "output_type": "stream",
     "text": [
      "2826\n"
     ]
    }
   ],
   "source": [
    "isolated_nodes = list(nx.isolates(G_OAI))\n",
    "print(len(isolated_nodes))"
   ],
   "metadata": {
    "collapsed": false,
    "ExecuteTime": {
     "end_time": "2023-09-22T07:48:44.845097173Z",
     "start_time": "2023-09-22T07:48:44.832545887Z"
    }
   }
  },
  {
   "cell_type": "code",
   "execution_count": 110,
   "outputs": [
    {
     "name": "stdout",
     "output_type": "stream",
     "text": [
      "290 nodes / 22179 edges\n"
     ]
    }
   ],
   "source": [
    "G_OAI.remove_nodes_from(isolated_nodes)\n",
    "print(str(len(G_OAI.nodes)) + \" nodes / \" + str(len(G_OAI.edges)) + \" edges\")\n"
   ],
   "metadata": {
    "collapsed": false,
    "ExecuteTime": {
     "end_time": "2023-08-02T12:46:48.037833902Z",
     "start_time": "2023-08-02T12:46:48.034838792Z"
    }
   }
  },
  {
   "cell_type": "markdown",
   "source": [
    "# Graph density without isolated nodes"
   ],
   "metadata": {
    "collapsed": false
   }
  },
  {
   "cell_type": "code",
   "execution_count": 113,
   "outputs": [
    {
     "data": {
      "text/plain": "0.529268583701229"
     },
     "execution_count": 113,
     "metadata": {},
     "output_type": "execute_result"
    }
   ],
   "source": [
    "nx.density(G_OAI)"
   ],
   "metadata": {
    "collapsed": false,
    "ExecuteTime": {
     "end_time": "2023-08-02T13:18:02.784339960Z",
     "start_time": "2023-08-02T13:18:02.742422784Z"
    }
   }
  },
  {
   "cell_type": "markdown",
   "source": [
    "# Mean degree without isolated nodes"
   ],
   "metadata": {
    "collapsed": false
   }
  },
  {
   "cell_type": "code",
   "execution_count": 121,
   "outputs": [
    {
     "data": {
      "text/plain": "152.95862068965516"
     },
     "execution_count": 121,
     "metadata": {},
     "output_type": "execute_result"
    }
   ],
   "source": [
    "np.mean([d for _, d in G_OAI.degree()])"
   ],
   "metadata": {
    "collapsed": false,
    "ExecuteTime": {
     "end_time": "2023-08-02T13:19:42.337491763Z",
     "start_time": "2023-08-02T13:19:42.334262711Z"
    }
   }
  },
  {
   "cell_type": "markdown",
   "source": [
    "# Data viz\n",
    "## Keeping only 2 "
   ],
   "metadata": {
    "collapsed": false
   }
  },
  {
   "cell_type": "code",
   "execution_count": 1,
   "outputs": [
    {
     "ename": "NameError",
     "evalue": "name 'node_edges' is not defined",
     "output_type": "error",
     "traceback": [
      "\u001B[0;31m---------------------------------------------------------------------------\u001B[0m",
      "\u001B[0;31mNameError\u001B[0m                                 Traceback (most recent call last)",
      "Cell \u001B[0;32mIn[1], line 5\u001B[0m\n\u001B[1;32m      2\u001B[0m \u001B[38;5;28;01mimport\u001B[39;00m \u001B[38;5;21;01mrandom\u001B[39;00m\n\u001B[1;32m      3\u001B[0m couple_node \u001B[38;5;241m=\u001B[39m []\n\u001B[0;32m----> 5\u001B[0m \u001B[38;5;28;01mfor\u001B[39;00m API \u001B[38;5;129;01min\u001B[39;00m \u001B[43mnode_edges\u001B[49m:\n\u001B[1;32m      6\u001B[0m     \u001B[38;5;28;01mfor\u001B[39;00m MD \u001B[38;5;129;01min\u001B[39;00m node_edges[API]:\n\u001B[1;32m      7\u001B[0m         \u001B[38;5;66;03m# if MD != \"Dublin Core\":\u001B[39;00m\n\u001B[1;32m      8\u001B[0m         \u001B[38;5;66;03m#     couple_node += list(set([tuple(sorted(x)) for x in combinations(node_edges[API][MD],2)]))\u001B[39;00m\n\u001B[1;32m      9\u001B[0m         \u001B[38;5;28;01mfor\u001B[39;00m i \u001B[38;5;129;01min\u001B[39;00m \u001B[38;5;28mrange\u001B[39m(\u001B[38;5;28mlen\u001B[39m(node_edges[API][MD])):\n",
      "\u001B[0;31mNameError\u001B[0m: name 'node_edges' is not defined"
     ]
    }
   ],
   "source": [
    "from itertools import combinations\n",
    "import random\n",
    "couple_node = []\n",
    "\n",
    "for API in node_edges:\n",
    "    for MD in node_edges[API]:\n",
    "        # if MD != \"Dublin Core\":\n",
    "        #     couple_node += list(set([tuple(sorted(x)) for x in combinations(node_edges[API][MD],2)]))\n",
    "        for i in range(len(node_edges[API][MD])):\n",
    "            couple_node.append((node_edges[API][MD][i], node_edges[API][MD][(i+1)%len(node_edges[API][MD])]))\n",
    "            couple_node.append((node_edges[API][MD][i], node_edges[API][MD][(i+5)%len(node_edges[API][MD])] ))\n",
    "            # Exchange uncommented line with this one to get every edges\n",
    "            # couple_node.append((MD+\"-OAI-PMH\",node_edges[\"OAI-PMH\"][MD][i]))\n"
   ],
   "metadata": {
    "collapsed": false,
    "ExecuteTime": {
     "end_time": "2023-09-22T07:45:20.686240431Z",
     "start_time": "2023-09-22T07:45:20.542781469Z"
    }
   }
  },
  {
   "cell_type": "markdown",
   "source": [
    "## Plotting"
   ],
   "metadata": {
    "collapsed": false
   }
  },
  {
   "cell_type": "code",
   "execution_count": 110,
   "outputs": [],
   "source": [
    "\n",
    "G = nx.Graph()\n",
    "\n",
    "# import igraph as ig\n",
    "G.add_nodes_from(list(repo_data[\"name\"].values))\n",
    "for i in [MD+\"-OAI-PMH\" for MD in node_edges[\"OAI-PMH\"]]:\n",
    "    G.add_node(i, color=\"green\")\n",
    "G.add_edges_from(couple_node)\n",
    "# result_df = pd.read_csv(\"data_selection.csv\")\n",
    "# for repo in result_df.iloc:\n",
    "#     g_2.add_vertex(repo[\"name\"], color=\"blue\")\n",
    "# g_3.add_vertices(list(repo_data[\"name\"].values))\n",
    "# for i in [MD+\"-OAI-PMH\" for MD in node_edges[\"OAI-PMH\"]]:\n",
    "#     g_3.add_vertex(i)\n",
    "# g_3.add_edges(couple_node)\n",
    "\n",
    "print(nx.density(G))\n",
    "# installation easiest via pip:\n",
    "# pip install netgraph\n",
    "fig = plt.figure(figsize=(18,18))\n",
    "# create a modular graph\n",
    "partition_sizes = [10, 20, 30, 40]\n",
    "# g = nx.random_partition_graph(partition_sizes, 0.5, 0.1)\n",
    "g=G\n",
    "# since we created the graph, we know the best partition:\n",
    "# node_to_community = dict()\n",
    "# node = 0\n",
    "# for community_id, size in enumerate(partition_sizes):\n",
    "#     for _ in range(size):\n",
    "#         node_to_community[node] = community_id\n",
    "#         node += 1\n",
    "node_to_community = community_louvain.best_partition(G)\n",
    "\n",
    "# # alternatively, we can infer the best partition using Louvain:\n",
    "# from community import community_louvain\n",
    "# node_to_community = community_louvain.best_partition(g)\n",
    "res = {}\n",
    "for i in node_to_community:\n",
    "    if node_to_community[i] in res :\n",
    "        res[node_to_community[i]] += 1\n",
    "    else:\n",
    "        res[node_to_community[i]] = 1\n",
    "\n",
    "communities_unique = []\n",
    "for key in res :\n",
    "    if res[key]!=1:\n",
    "        communities_unique.append(key)\n",
    "\n",
    "\n",
    "for i in node_to_community:\n",
    "    if node_to_community[i] not in communities_unique:\n",
    "        node_to_community[i]=7\n",
    "\n",
    "# node_to_community\n",
    "# print(communities_unique)\n",
    "\n",
    "community_to_color = {\n",
    "    0 : 'tab:blue',\n",
    "    1 : 'tab:orange',\n",
    "    2 : 'tab:green',\n",
    "    3 : 'tab:red',\n",
    "    4 : 'tab:purple',\n",
    "    5 : 'tab:brown',\n",
    "    6 : 'tab:pink',\n",
    "    7 : 'tab:gray',\n",
    "    8 : 'tab:olive',\n",
    "    9 : 'tab:cyan'\n",
    "}\n",
    "aux = {key : index for index,key in enumerate(communities_unique) }\n",
    "node_color = { node :(community_to_color[aux[community_id]] if community_id in communities_unique else community_to_color[7]) for node, community_id in node_to_community.items() }\n",
    "# node_color = {node:    }\n",
    "\n",
    "#\n",
    "Graph(g,\n",
    "      node_color=node_color, node_edge_width=0, edge_alpha=0.1,\n",
    "        node_layout=\"community\", node_layout_kwargs=dict(node_to_community=node_to_community),\n",
    "      edge_layout='bundled', node_size=0.3\n",
    ")\n",
    "plt.savefig(\"community_allnode.pdf\")\n",
    "plt.show()"
   ],
   "metadata": {
    "collapsed": false,
    "ExecuteTime": {
     "end_time": "2023-08-02T12:20:30.735669466Z",
     "start_time": "2023-08-02T12:20:30.733203952Z"
    }
   }
  },
  {
   "cell_type": "code",
   "execution_count": 262,
   "outputs": [
    {
     "data": {
      "text/plain": "2                               641 results; 509 datasets\n6                                              3 datasets\n10                                         1.428 datasets\n11                                         1.246 datasets\n20               19 dataverses; 146 datasets: 4.512 files\n                              ...                        \n3063                        13 dataverses; 3.050 datasets\n3072                                          65 datasets\n3089    32.167 datasets; 15.142 maps; 1.146 galleries;...\n3098                           4.217 results; 55 datasets\n3115                                         217 datasets\nName: r3d:re3data.r3d:repository.r3d:size.#text, Length: 454, dtype: object"
     },
     "execution_count": 262,
     "metadata": {},
     "output_type": "execute_result"
    }
   ],
   "source": [
    "df_vol = pd.read_csv(\"results_repository_MD.csv\",header=0, low_memory=False)[\"r3d:re3data.r3d:repository.r3d:size.#text\"].dropna()\n",
    "\n",
    "df_vol[df_vol.map(lambda x : \"dataset\" in x )]"
   ],
   "metadata": {
    "collapsed": false,
    "ExecuteTime": {
     "end_time": "2023-08-18T10:29:23.779144116Z",
     "start_time": "2023-08-18T10:29:23.378838219Z"
    }
   }
  },
  {
   "cell_type": "code",
   "execution_count": 259,
   "outputs": [
    {
     "data": {
      "text/plain": "34      1.832 rokaryotic genomes; 996.747 16S/18S rRNA...\n42      9.641 human samples; 900 mouse samples; 828.35...\n100     over 20.000 meters of deep-sea core sediment a...\n252                             52000 samples, 50 species\n267     sample of more than 12,000 persons of the thre...\n347     8 Germplasm; 13 biological sample; 8 animal mo...\n361                                         2.155 samples\n448     8.534 Unoriented High Resolution Raman Spectra...\n676     33.543 studies; 53.160 biosamples; 235.292 seq...\n751                     1.250 samples; 2.418 measurements\n794     515 biobanks with over 60 million biological s...\n1046     3.692 studies; 215.970 samples; 280.606 analyses\n1121    69 standard, non-diseased samples as well as t...\n1201    4.901 projects; 735.895 samples submitted by 4...\n1439                               over 3 million samples\n1674                             more than 30.000 samples\n1730    2.183.180 analyses; 614.620 samples; 20.430 pa...\n1968    331.359 adult participant volunteers; 1.000.00...\n1997                        390 human whole brain samples\n2387    more than 14,000 archived marine geological sa...\n2472         2.599 samples; 908 reactions; 8.185 analyses\n2710    582.889 projects;  582.889 samples; 19.320.674...\n2802               1.208 samples of exome sequencing data\nName: r3d:re3data.r3d:repository.r3d:size.#text, dtype: object"
     },
     "execution_count": 259,
     "metadata": {},
     "output_type": "execute_result"
    }
   ],
   "source": [
    "\n",
    "df_vol[df_vol.map(lambda x : \"sample\" in x )]"
   ],
   "metadata": {
    "collapsed": false,
    "ExecuteTime": {
     "end_time": "2023-08-18T10:29:13.913178137Z",
     "start_time": "2023-08-18T10:29:13.867011635Z"
    }
   }
  },
  {
   "cell_type": "code",
   "execution_count": null,
   "outputs": [],
   "source": [],
   "metadata": {
    "collapsed": false
   }
  }
 ],
 "metadata": {
  "kernelspec": {
   "display_name": "Python 3",
   "language": "python",
   "name": "python3"
  },
  "language_info": {
   "codemirror_mode": {
    "name": "ipython",
    "version": 2
   },
   "file_extension": ".py",
   "mimetype": "text/x-python",
   "name": "python",
   "nbconvert_exporter": "python",
   "pygments_lexer": "ipython2",
   "version": "2.7.6"
  }
 },
 "nbformat": 4,
 "nbformat_minor": 0
}
