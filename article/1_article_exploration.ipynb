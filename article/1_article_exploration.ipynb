{
 "cells": [
  {
   "cell_type": "markdown",
   "source": [
    "# From XML to CSV"
   ],
   "metadata": {
    "collapsed": false
   }
  },
  {
   "cell_type": "code",
   "execution_count": 129,
   "metadata": {
    "collapsed": true,
    "ExecuteTime": {
     "end_time": "2023-08-18T09:29:11.816776424Z",
     "start_time": "2023-08-18T09:26:30.627035553Z"
    }
   },
   "outputs": [],
   "source": [
    "import os\n",
    "import xmltodict\n",
    "import pandas as pd\n",
    "import matplotlib.pyplot as plt\n",
    "from community import community_louvain\n",
    "import networkx as nx\n",
    "from netgraph import Graph\n",
    "import numpy as np\n",
    "def flatten_json(y):\n",
    "    out = {}\n",
    "    def flatten(x, name=''):\n",
    "        if type(x) is dict:\n",
    "            for a in x:\n",
    "                flatten(x[a], name + a + '.')\n",
    "        elif type(x) is list:\n",
    "            i = 0\n",
    "            for a in x:\n",
    "                flatten(a, name + str(i) + '.')\n",
    "                i += 1\n",
    "        else:\n",
    "            out[name[:-1]] = x\n",
    "\n",
    "    flatten(y)\n",
    "    return out\n",
    "\n",
    "df_list = []\n",
    "for file in os.listdir(\"../re3data/repo_md/\"):\n",
    "    json_doc = xmltodict.parse(open(\"../re3data/repo_md/\"+file,\"r\").read())\n",
    "\n",
    "    # Driver code\n",
    "    dictio=flatten_json(json_doc)\n",
    "    # open(\"test.json\",\"w\").write(json.dumps(flatten_json(json_doc), indent=4))\n",
    "    df_list.append(pd.DataFrame.from_dict(dictio, orient=\"index\").transpose())\n",
    "\n",
    "\n",
    "\n",
    "data_df = pd.concat(df_list)\n",
    "data_df.to_csv(\"results_repository_MD.csv\", index=False)\n"
   ]
  },
  {
   "cell_type": "markdown",
   "source": [
    "# Data selection"
   ],
   "metadata": {
    "collapsed": false
   }
  },
  {
   "cell_type": "code",
   "execution_count": 130,
   "outputs": [],
   "source": [
    "data_selection = data_df.filter(regex=\"repositoryName.*text|repositoryIdentifier|subject.*text|apiType|keyword|metadataStandardName.*text\")\n",
    "data_selection.to_csv(\"data_selection.csv\", index=False)\n"
   ],
   "metadata": {
    "collapsed": false,
    "ExecuteTime": {
     "end_time": "2023-08-18T09:29:11.817578336Z",
     "start_time": "2023-08-18T09:28:25.535989252Z"
    }
   }
  },
  {
   "cell_type": "markdown",
   "source": [
    "# Data cleaning"
   ],
   "metadata": {
    "collapsed": false
   }
  },
  {
   "cell_type": "code",
   "execution_count": 131,
   "outputs": [],
   "source": [
    "keywords = data_selection.filter(regex=\"keyword\").transpose().apply(lambda x : '#'.join(x.dropna().astype(str)))\n",
    "subject = data_selection.filter(regex=\"subject.*text\").transpose().apply(lambda x : '#'.join(x.dropna().astype(str)))\n",
    "API = data_selection.filter(regex=\"apiType\").transpose().apply(lambda x : '#'.join(x.dropna().astype(str)))\n",
    "MD_standards = data_selection.filter(regex=\"metadataStandardName.*text\").transpose().apply(lambda x : '#'.join(x.dropna().astype(str)))\n",
    "id = data_selection.filter(regex=\"repositoryIdentifier\").transpose().apply(lambda x : '#'.join(x.dropna().astype(str)))\n",
    "name = data_selection.filter(regex=\"repositoryName.*text\")\n",
    "\n",
    "\n",
    "cleaned_df = pd.concat([name,id,subject,keywords,API, MD_standards],axis=1)\n",
    "column_name = [\"name\",\"id\",\"subject\",\"keywords\",\"API_type\",\"MD_standards\"]\n",
    "rename_dict = {}\n",
    "for old_name,new_name in zip(cleaned_df.columns,column_name):\n",
    "    rename_dict[old_name]=new_name\n",
    "# print(rename_dict)\n",
    "cleaned_df = cleaned_df.rename(rename_dict,axis=1)\n",
    "cleaned_df.to_csv(\"data_selection_cleaned.csv\", index=False)\n",
    "\n"
   ],
   "metadata": {
    "collapsed": false,
    "ExecuteTime": {
     "end_time": "2023-08-18T09:29:11.817745228Z",
     "start_time": "2023-08-18T09:28:25.627168Z"
    }
   }
  },
  {
   "cell_type": "code",
   "execution_count": 131,
   "outputs": [],
   "source": [],
   "metadata": {
    "collapsed": false,
    "ExecuteTime": {
     "end_time": "2023-08-18T09:29:11.817853226Z",
     "start_time": "2023-08-18T09:28:27.113000644Z"
    }
   }
  },
  {
   "cell_type": "markdown",
   "source": [
    "# Edges creation"
   ],
   "metadata": {
    "collapsed": false
   }
  },
  {
   "cell_type": "code",
   "execution_count": 132,
   "outputs": [
    {
     "name": "stdout",
     "output_type": "stream",
     "text": [
      "REST\n",
      "FTP\n",
      "OpenDAP\n",
      "SPARQL\n",
      "SWORD\n",
      "OAI-PMH\n",
      "NetCDF\n",
      "other\n",
      "SOAP\n"
     ]
    }
   ],
   "source": [
    "repo_data = cleaned_df\n",
    "\n",
    "repo_no_na = repo_data.dropna(subset=[\"API_type\",\"MD_standards\"])\n",
    "\n",
    "# List of platform that implements API then MD_standards\n",
    "# Any platform in a same list is interoperable with other\n",
    "node_edges = {}\n",
    "\n",
    "\n",
    "unique_api_type = set(repo_no_na[\"API_type\"].map(lambda x : x.split(\"#\")).sum())\n",
    "unique_api_type.remove('')\n",
    "for API in unique_api_type:\n",
    "    print(API)\n",
    "    node_edges[API] = {}\n",
    "\n",
    "    unique_MD = set(repo_no_na[repo_no_na[\"API_type\"].map(lambda x : API in x)][\"MD_standards\"].map(lambda x : x.split(\"#\")).sum())\n",
    "    for MD in unique_MD:\n",
    "\n",
    "        node_edges[API][MD]=list(pd.merge(repo_no_na[repo_no_na[\"MD_standards\"].map(lambda x: x.split(\"#\")).map(lambda x : bool(len(set(x).intersection(set([MD])))>0 ))],repo_no_na[repo_no_na[\"API_type\"].map(lambda x : x.split(\"#\")).map(lambda x : bool(set(x) & set([API])) )])[\"name\"])\n"
   ],
   "metadata": {
    "collapsed": false,
    "ExecuteTime": {
     "end_time": "2023-08-18T09:29:11.818170665Z",
     "start_time": "2023-08-18T09:28:27.146277692Z"
    }
   }
  },
  {
   "cell_type": "code",
   "execution_count": 133,
   "outputs": [
    {
     "data": {
      "text/plain": "dict_keys(['REST', 'FTP', 'OpenDAP', 'SPARQL', 'SWORD', 'OAI-PMH', 'NetCDF', 'other', 'SOAP'])"
     },
     "execution_count": 133,
     "metadata": {},
     "output_type": "execute_result"
    }
   ],
   "source": [
    "node_edges.keys()"
   ],
   "metadata": {
    "collapsed": false,
    "ExecuteTime": {
     "end_time": "2023-08-18T09:29:11.818378233Z",
     "start_time": "2023-08-18T09:28:28.156681462Z"
    }
   }
  },
  {
   "cell_type": "markdown",
   "source": [
    "# Every edges - every nodes - every protocol : Interoperability of platforms"
   ],
   "metadata": {
    "collapsed": false
   }
  },
  {
   "cell_type": "code",
   "execution_count": 134,
   "outputs": [],
   "source": [
    "from itertools import combinations\n",
    "import random\n",
    "couple_node_data_analysis = []\n",
    "\n",
    "for API in node_edges:\n",
    "    for MD in node_edges[API]:\n",
    "        # if MD != \"Dublin Core\":\n",
    "            couple_node_data_analysis += list(set([tuple(sorted(x)) for x in combinations(node_edges[API][MD],2)]))\n",
    "        # for i in range(len(node_edges[API][MD])):\n",
    "        #     couple_node.append((node_edges[API][MD][i], node_edges[API][MD][(i+1)%len(node_edges[API][MD])]))\n",
    "        #     couple_node.append((node_edges[API][MD][i], node_edges[API][MD][(i+5)%len(node_edges[API][MD])] ))\n",
    "            # Exchange uncommented line with this one to get every edges\n",
    "            # couple_node.append((MD+\"-OAI-PMH\",node_edges[\"OAI-PMH\"][MD][i]))\n"
   ],
   "metadata": {
    "collapsed": false,
    "ExecuteTime": {
     "end_time": "2023-08-18T09:29:11.818472530Z",
     "start_time": "2023-08-18T09:28:28.182923138Z"
    }
   }
  },
  {
   "cell_type": "code",
   "execution_count": 135,
   "outputs": [
    {
     "data": {
      "text/plain": "156455"
     },
     "execution_count": 135,
     "metadata": {},
     "output_type": "execute_result"
    }
   ],
   "source": [
    "len(couple_node_data_analysis)"
   ],
   "metadata": {
    "collapsed": false,
    "ExecuteTime": {
     "end_time": "2023-08-18T09:29:11.818635742Z",
     "start_time": "2023-08-18T09:28:28.212800178Z"
    }
   }
  },
  {
   "cell_type": "code",
   "execution_count": 136,
   "outputs": [
    {
     "data": {
      "text/plain": "{'REST': {'': ['PSnpBind',\n   'Hazardous Substance Data Bank',\n   'Saccharomyces Genome Database',\n   'immuneACCESS',\n   'Allen Brain Atlas',\n   'UniSave',\n   'The World Bank Open Data',\n   'ChEMBL',\n   'Climate Data Online',\n   'InGeoCloudS',\n   'Haldimand County Open Data',\n   'Open Government Data Platform India',\n   'International Mouse Phenotyping Consortium',\n   'OECD iLibrary Statistics',\n   \"City of Abbotsford's Open Data Hub\",\n   'Open Government Data Portal of Odisha',\n   'Complex Portal',\n   'Whitby GeoHub',\n   'Edmonton Open Data',\n   'prometheus',\n   'Datanator',\n   'U.S. Department of Labor, Bureau of Labor Statistics',\n   'ZINC',\n   'Open Energy Platform',\n   'virus mentha',\n   'ABCD Data Repository',\n   'Expression Atlas',\n   'Harmonia Universalis',\n   'WormBase',\n   'PharmGKB',\n   'DrugBank',\n   'Thunder Bay Open Data Portal',\n   'NF Data Portal',\n   'Water Quality Portal',\n   'Global Forest Change',\n   'NASC',\n   'Maple Ridge Open Government Portal',\n   'Academic Torrents',\n   'D-PLACE',\n   'Conservation Halton Open Data Hub',\n   'Newfoundland and Labrador Fisheries, Forestry and Agriculture GeoHub',\n   'IndExs – Index of Exsiccatae',\n   'Climate Action Plan Explorer',\n   'Joint Genome Institute Data Portal',\n   'The Cancer Imaging Archive',\n   'SourceForge',\n   'OpenML',\n   'Federal Reserve Economic Data',\n   'Chempound',\n   \"Nova Scotia Government's Open Data Portal\",\n   'PRoteomics IDEntifications Database',\n   'modENCODE',\n   'BioModels',\n   'Portal Zarządzania Wiedzą UJ CM',\n   'data.world',\n   'Kitchener GeoHub',\n   'Altalis',\n   'Columbia University Academic Commons',\n   'BioSimulations',\n   'Curtin University Research Data Collection',\n   'Global Record of Stocks and Fisheries',\n   'Employment Ontario Geo Hub',\n   'Ensembl Metazoa',\n   'Toronto Police Service Public Safety Data Portal',\n   'HUGO Gene Nomenclature Committee',\n   'ibeetle',\n   'Junar',\n   'OpenStreetMap',\n   'Biosamples',\n   'BioSimulators',\n   'Pfam Protein Families',\n   'Barcode of Life Data Systems',\n   'Ensembl Plants',\n   'Språkbanken Text',\n   'EPPO Global Database',\n   'WikiPathways',\n   'BBMRI-ERIC Directory',\n   'City of Surrey Open Data',\n   'QTL Archive',\n   'MyTardis',\n   'Natural History Museum, Data Portal',\n   'HumanCyc',\n   'Open Data Region of Durham',\n   'GeoNB',\n   'MultiDark Database',\n   'Mouse Phenome Database',\n   'Repository of Psychological Instruments in Serbian',\n   'Prince Edward Island Government Open Data Portal',\n   'Launchpad',\n   'Encyclopedia of Life',\n   'The Paleobiology Database',\n   'myExperiment',\n   'OpenAltimetry',\n   'IMEx',\n   'SABIO-RK',\n   'MGnify',\n   'Fishbase',\n   'Regional District of North Okanagan GIS Open Data Site',\n   'Vega',\n   'mentha',\n   'Squamish Open Data',\n   'protocols.io',\n   'European Nucleotide Archive',\n   'DataBC',\n   'bio.tools',\n   'Computational and Information Systems Laboratory Research Data Archive',\n   'Northwest Territories Geological Survey Open Data',\n   'NCI Imaging Data Commons',\n   'BIGG Database',\n   'Monitor of Settlement and Open Space Development',\n   'Emage',\n   'Sandrart.net',\n   'National Biodiversity Network Atlas',\n   'BioGRID ORCS',\n   'City of Greater Sudbury Open Data Portal',\n   'Brainlife',\n   'MG-RAST',\n   'Ensembl Bacteria',\n   'DisGeNET',\n   'Ensembl',\n   'NIH 3D Print Exchange',\n   'Rhea',\n   'govinfo',\n   'Digitale Bibliothek Thüringen',\n   'Mutant Mouse Resource & Research Centers',\n   'EarthChem Library',\n   'PhenoGen Informatics',\n   'National Cancer Data Base',\n   'B2SHARE',\n   'TAMBORA',\n   'Movebank',\n   'EDINA',\n   'ArkDB',\n   'NIST Data Discovery',\n   'Open Government Data Portal of Sikkim',\n   'Pathway Commons',\n   'ENCODE',\n   'West Parry Sound Geography Network',\n   'The Global Proteome Machine',\n   'Ensembl Fungi',\n   'Ensembl Protists',\n   'BC Oil and Gas Commission Open Data Portal',\n   'Bitbucket',\n   'Town of Canmore Open Data',\n   'Ensembl Genomes',\n   'NeuroElectro',\n   'Cefas Data Hub',\n   'Genomic Data Commons',\n   'JASPAR',\n   'Region of Peel Data Portal',\n   'Protein Data Bank in Europe',\n   'Integrated Digitized Biocollections',\n   'County of Grande Prairie Open Data',\n   'Coquitlam Open Data',\n   'Fredericton Open Data',\n   'Chemical Carcinogenesis Research Information System',\n   'NoMaD Repository & Archive',\n   'EcoCyc Database',\n   'Saskatchewan GeoHub',\n   'The European Genome-phenome Archive',\n   'City of Vancouver Open Data Portal',\n   'Protected Planet',\n   'Animal QTLdb',\n   'White Rock Open Data Portal',\n   'domino',\n   'PubChem',\n   'The Dataweb Dataverse',\n   'Open Calgary',\n   'Open Penticton',\n   'Open Core Data',\n   'USGS National Water Information System',\n   'RCSB Protein Data Bank',\n   'OpenEI',\n   'South African Weather Service',\n   'BioCyc Genome Database Collection',\n   'Signaling Pathways Project',\n   'doRiNA',\n   'BioGRID',\n   'SwissLipids',\n   'TheDataWeb',\n   'BindingDB',\n   'Earth Engine Data Catalog',\n   'LIPID MAPS Lipidomics Gateway',\n   'Demographic and Health Surveys',\n   'Electron Microscopy Public Image Archive',\n   'Rat Genome Database',\n   'EBRAINS',\n   'CLARIN-ERIC',\n   'Kadi4Mat',\n   'OASIS',\n   'London Datastore',\n   'Prompt Assessment of Global Earthquakes for Response',\n   'ScholarWorks Boise State University',\n   'EMBL-EBI',\n   'Open Data New Brunswick',\n   'COSMIC Data Analysis and Archive Center',\n   'InterPro',\n   'City of Oshawa Open Data',\n   'Region of Waterloo - Open Data',\n   'BsubCyc',\n   'IRMA Portal',\n   'UCSD Metabolomics Workbench',\n   'The Data Hub',\n   'Loyalist Migrations',\n   'Agency for Healthcare Research and Quality, Data & Surveys',\n   'EarthChem Library',\n   'iReceptor',\n   'MetabolomeXchange',\n   'City of Victoria Open Data Portal',\n   'City of Mississauga Open Data Catalogue',\n   'ChemSpider',\n   'East Hants Open Data',\n   'B2SHARE Server Forschungszentrum Jülich',\n   'Network Data Exchange',\n   'City of Regina Open Data',\n   'Materials Project',\n   'LAADS DAAC',\n   'Center for Demography of Health and Aging',\n   'Arquivo.pt - the Portuguese web-archive',\n   'City of London Open Data',\n   'FaceBase',\n   'Argovis',\n   'Data MB',\n   'NASA Image and Video Library',\n   'MycoBank',\n   'Google Code Project Hosting',\n   'NeuroVault',\n   'Essex County Open Data',\n   'Swiss National Data and Service Center for the Humanities',\n   'GeoNames',\n   'Smithsonian Open Access',\n   'Basis Set Exchange',\n   'Ag-Analytics',\n   'AnimalGenome.ORG',\n   'NOAA National Centers  for Environmental Information - formerly: National Climatic Data Center',\n   'Language Archive Cologne',\n   'Centers for Disease Control and Prevention, Data & Statistics',\n   'National Archives',\n   'CITK',\n   'WBG Open Finances',\n   'City of Winnipeg Open Data Portal',\n   'GWAS Central',\n   'City of Cambridge GeoHub',\n   'Gemma',\n   'ScienceBase USGS',\n   'Inspire-HEP',\n   'U.S. Energy Information Administration',\n   'City of Brantford Open Data Catalogue',\n   'hPSCreg',\n   'NWT Centre for Geomatics',\n   'FAIRsharing',\n   'Open Data Moncton',\n   'Open Hamilton',\n   'Broad GDAC Firehose',\n   'Incorporated Research Institutions for Seismology',\n   'Store.Synchrotron Data Store',\n   'System for Earth Sample Registration',\n   'European Chemical Biology Database',\n   'brainlife',\n   'National Biomedical Imaging Archive',\n   'Open Data Portal - City of Kelowna',\n   'PSLC DataShop',\n   \"Nasa's Data Portal\",\n   'SureChEMBL',\n   'ATCC Genome Portal',\n   'European XFEL Data Portal',\n   'Gramene',\n   'RENAG-DC',\n   'City of Kamloops Open Data Catalog',\n   'Worldpop',\n   'DATA.GOV.UK',\n   'STITCH 4.0',\n   'Open Data Catalogue - City of Lethbridge',\n   'BioVel',\n   'Navigate Newmarket',\n   'BioGPS',\n   'Synapse',\n   'City of Grand Prairie Open Data Catalogue',\n   'National Institute of Mental Health Data Archive',\n   'DNA Data Bank of Japan',\n   'Ottawa Riverkeeper Open Data',\n   'Huron County Open Data',\n   'MoNA',\n   'LAUDATIO',\n   'COVID-19 Interactive Map',\n   'Conservation Ontario Open Data Hub',\n   'Open Government Data Portal of Tamil Nadu',\n   'enviPath',\n   'City of Pickering Open Data Portal',\n   'MetaCyc',\n   'Kenya Open Data',\n   'City of Peterborough Open Data Portal',\n   'Hydro-Québec Open Data',\n   'Reactome',\n   'ACEnano',\n   'Ontario GeoHub',\n   'IPGP Data Center',\n   'Tropicos®',\n   'COVID-19 Data Portal',\n   'Biological Magnetic Resonance Data Bank',\n   'City of Saskatoon Open Data Catalogue',\n   'SinMin',\n   'European MassBank',\n   'Space Physics Interactive Data Resource',\n   'WHOI Argo Program',\n   'Golm Metabolome Database',\n   'SASBDB',\n   'BioPortal'],\n  'MIBBI - Minimum Information for Biological and Biomedical Investigations': ['MatrixDB'],\n  'SPASE Data Model': ['Radiation Belt Storm Probes Ion Composition Experiment'],\n  'ABCD - Access to Biological Collection Data': ['Sistema de Información de Biodiversidad de Ecuador SiB-Ec',\n   'Staatliche Naturwissenschaftliche Sammlungen Bayerns',\n   'LibraData',\n   'Global Biodiversity Information Facility',\n   'datacommons@psu'],\n  'ISA-Tab': ['RIN Data Repository',\n   'LibraData',\n   'DataverseNO',\n   'Data INRAE',\n   'GnpIS',\n   'GeneLab',\n   'University of Alberta Dataverse'],\n  'CIF - Crystallographic Information Framework': ['MPDS',\n   'Crystallography Open Database'],\n  'ISO 19115': ['Global Change Master Directory',\n   'Geoscience Data Exchange',\n   'Hakai Data',\n   'Global Multi-Resolution Topography Data Portal',\n   'National Geoscience Data Centre',\n   'McGill University Dataverse',\n   'NOAA National Centers for Environmental Information -  Paleoclimatology Data',\n   'GeoPlatform',\n   'Critical Zone Observatories data',\n   'NOAA National Centers for Environmental Information - formerly: National Coastal Data Development Center',\n   'UNAVCO',\n   'Jurisdictional Ocean Information Sharing System',\n   'TOAR Surface Observation Database',\n   'Swedish Meteorological and Hydrological Institute  open data',\n   'INGV Open Data Registry',\n   'MediaBank',\n   'NAWI Water DAMS',\n   'World Data Center for Climate',\n   'Environmental data explorer',\n   'GNS Science Dataset Catalogue',\n   'NDSF Data Portal',\n   'RADAR Luke',\n   'AIMS Data Repository',\n   'Geoscience Data Repository for Geophysical Data',\n   'Research Data Australia',\n   'MARGINS Data Portal',\n   'NCEI',\n   'SLAPIS',\n   'Environmental Dataset Gateway',\n   'ERDDAP',\n   'NSF Arctic Data Center',\n   'GeoPRISMS Data Portal',\n   'International Ocean Discovery Program',\n   'OpenTopography',\n   'HCDC datasearch',\n   'Antarctic & Southern Ocean Data Portal',\n   'MHKDR',\n   'Open Forest Data',\n   'OEDI',\n   'UTM-CSIC Data Centre',\n   'City of Airdrie Open Data',\n   'Marine Geoscience Data System',\n   'Open Data Markham',\n   'datacommons@psu',\n   'UK Polar Data Centre',\n   'AHEAD',\n   'Norwegian Meteorological Institute, Free Meteorological Data',\n   'Alaska Satellite Facility SAR Data Center',\n   'Research Data Archive at NCAR',\n   'Digital Repository NM EPSCoR',\n   'NWT Discovery Portal',\n   'Gulf of Mexico Research Initiative Information and Data Cooperative',\n   'Ridge 2000 Data Portal',\n   'The National Map',\n   'Geothermal Data Repository',\n   'ReefTEMPS',\n   'Copernicus',\n   'GeoCommons Archive',\n   'GAWSIS',\n   'Marlin Metadata Catalogue'],\n  'SDMX - Statistical Data and Metadata Exchange': ['RIN Data Repository',\n   'Eurostat'],\n  'DataCite Metadata Schema': [\"Queen's University Dataverse\",\n   'Sistema de Información de Biodiversidad de Ecuador SiB-Ec',\n   'OEDataRep',\n   'PetDB',\n   'UCLA Dataverse',\n   'McGill University Dataverse',\n   'Concordia University Dataverse',\n   'Dados Abertos De Pesquisas',\n   'ASU Library Research Data Repository',\n   \"Dataverse de l'Institut national de la recherche scientifique\",\n   'data_UMR',\n   'RIN Data Repository',\n   'Université de Montréal – Dataverse',\n   'data.InDoRES',\n   'Mount Royal University Dataverse',\n   'McMaster University Dataverse',\n   'INGV Open Data Registry',\n   'DABAR',\n   '<intR>²Dok[§]',\n   'Middlesex University Research Data Repository',\n   'Prospered Project',\n   'ScienceRepository',\n   'CaltechDATA',\n   'Arca Dados',\n   'ARP Research Data Repository',\n   'Jülich DATA',\n   \"New Zealand's Biological Heritage National Science Challenge Data Repository\",\n   'World Data Center for Climate',\n   'Wilfrid Laurier University Dataverse',\n   'George Mason University Dataverse',\n   'University of Waterloo Dataverse',\n   'RADAR4Chem',\n   'EnviDat',\n   'DaRUS',\n   'University of Winnipeg Research Data Repository',\n   'Most Wiedzy Open Research Data Catalog',\n   'OSF - Vrije Universiteit Amsterdam',\n   'LibraData',\n   'Trent University Dataverse',\n   'ETH Zürich Research Collection',\n   \"Dataverse de l'Université TÉLUQ\",\n   'DesignSafe-CI Data Depot Repository',\n   'DataRepositoriUM',\n   'Dataverse de Polytechnique Montréal',\n   'NSF Arctic Data Center',\n   'Université du Québec à Trois-Rivières - Borealis',\n   'HEC Montréal Dataverse',\n   'MacEwan University Data Repository',\n   'OPAL',\n   'DataHub Figshare',\n   'DUnAs',\n   'Yareta',\n   'TUdatalib',\n   'Vancouver Island University Dataverse',\n   'Project Tycho: Data for Health',\n   'TCCON Data Archive',\n   'OpenLandMap.org',\n   'University of Northern British Columbia Dataverse',\n   'Norwegian Polar Data Centre',\n   'GEOFON',\n   'UQAM - Dataverse',\n   'Western University Dataverse',\n   'eSHODHMANTHAN',\n   'IEDA',\n   'International Institute of Tropical Agriculture datasets',\n   \"Dataverse de l'Université Laval\",\n   'DOREL',\n   'Forschungsdaten-Repositorium der LUH',\n   'INPTDAT',\n   'datacommons@psu',\n   'GRO.data',\n   'SURF Data Repository',\n   'UK Polar Data Centre',\n   'AHEAD',\n   'RODBUK Cracow Open Research Data Repository',\n   'ROHub',\n   'GlobeData',\n   'Borealis',\n   'TU Graz Repository',\n   'Research Data Archive at NCAR',\n   'DANDI',\n   'DataverseNO',\n   'Cape Breton University Dataverse',\n   'RADAR4Culture',\n   'SciLifeLab Data Repository',\n   'DRYAD',\n   'Apollo',\n   'University of Windsor Dataverse',\n   'SISSA Open Data',\n   'UNB Libraries Dataverse Research Data Repository',\n   'University of Regina Dataverse',\n   'Addis Ababa University Research Data Repository',\n   \"Dataverse de l'Université du Québec à Chicoutimi\",\n   'PRISM Dataverse',\n   'mediaTUM',\n   'University of Manitoba Dataverse',\n   'RADAR',\n   \"Saint Mary's University Dataverse\",\n   'University of Victoria Dataverse',\n   'OLOS',\n   'Memorial University Dataverse',\n   'Data INRAE',\n   'Zenodo',\n   'University of Ottawa Dataverse',\n   'AIDA Data Hub',\n   'Open-source Scientific Software and Service Repository',\n   'GEUS Dataverse',\n   'Redape',\n   'BacDive',\n   'University of Alberta Dataverse',\n   'Repositorio de datos de investigación de la Universidad del Rosario',\n   'UCD Digital Library',\n   'Marine Scotland Data',\n   'Bicocca Open Archive Research Data',\n   'Datenrechercheportal UFZ'],\n  'other': ['MARGINS Data Portal',\n   'Abacus Data Network',\n   'CDAWeb',\n   'Geothermal Data Repository'],\n  'DCAT - Data Catalog Vocabulary': ['INGV Open Data Registry',\n   'European Data Portal',\n   'Open Data Kingston',\n   'Norwegian Polar Data Centre',\n   'Yukon Open Data',\n   'Open Data by Socrata',\n   'RDPCIDAT',\n   'Etsin Research Data Finder',\n   'Marine Scotland Data'],\n  'Repository-Developed Metadata Schemas': ['Scripps Institute of Oceanography Explorer',\n   'data.enanomapper',\n   'DisProt',\n   'Gene Ontology',\n   'Blackfynn Discover',\n   'ASU Library Research Data Repository',\n   'Europeana collections',\n   'Humanitarian Data Exchange',\n   'DABAR',\n   'MediaBank',\n   'OrthoMCL',\n   'NeuroMorpho.Org',\n   'Digital Library for Earth System Education',\n   'EuPathDB',\n   'Jülich DATA',\n   'World Data Center for Climate',\n   'NatureServe',\n   'Research Data Australia',\n   'DaRUS',\n   'OSF - Vrije Universiteit Amsterdam',\n   'GiardiaDB',\n   'The Universal Protein Resource',\n   'TriTrypDB',\n   'MetPetDB',\n   'PiroplasmaDB',\n   'GENCODE',\n   'Town of Huntsville Open Data',\n   'European Variation Archive',\n   'AmoebaDB',\n   'FungiDB',\n   'Clinical Research Metadata Repository',\n   'STRING',\n   'Neuroscience Information Framework',\n   'RUresearch Data Portal',\n   'Neotoma Paleoecology Database',\n   'Kyoto Encyclopedia of Genes and Genomes',\n   'Rolling Deck to Repository',\n   'OpenAQ',\n   'CCCA Data Server',\n   'Rigsarkivets surveydata',\n   'SPARC.Science',\n   'DANDI',\n   'METIS',\n   'CryptoDB',\n   'PHAIDRA - University of Padua',\n   'Open Access Power-Grid Frequency Database',\n   'QsarDB',\n   'ToxoDB',\n   'Apollo',\n   'ArrayExpress',\n   'IUPHAR/BPS Guide to Pharmacology',\n   'ImmPort',\n   'PlasmoDB',\n   'NASA Distributed Active Archive Center at National Snow & Ice Data Center',\n   'VectorBase',\n   'The Electron Microscopy Data Bank',\n   'MicrosporidiaDB',\n   'XNAT CENTRAL'],\n  'EML - Ecological Metadata Language': ['Sistema de Información de Biodiversidad de Ecuador SiB-Ec',\n   'Staatliche Naturwissenschaftliche Sammlungen Bayerns',\n   'NOAA National Centers for Environmental Information - formerly: National Coastal Data Development Center',\n   'Global Biodiversity Information Facility',\n   'NSF Arctic Data Center',\n   'KNB Data Repository',\n   'Digital Repository NM EPSCoR',\n   'World Register of Marine Species',\n   'National Ecological Observatory Network',\n   'Environmental Data Initiative Repository'],\n  'Dublin Core': ['Données Québec',\n   \"Queen's University Dataverse\",\n   'DARIAH-DE Repository',\n   'Global Change Master Directory',\n   'Sistema de Información de Biodiversidad de Ecuador SiB-Ec',\n   'OEDataRep',\n   'UCLA Dataverse',\n   'Genomic Observatories MetaDatabase',\n   'McGill University Dataverse',\n   'Concordia University Dataverse',\n   'Dados Abertos De Pesquisas',\n   'ASU Library Research Data Repository',\n   \"Dataverse de l'Institut national de la recherche scientifique\",\n   'data_UMR',\n   'RIN Data Repository',\n   'Europeana collections',\n   'Université de Montréal – Dataverse',\n   'data.InDoRES',\n   'Mount Royal University Dataverse',\n   'McMaster University Dataverse',\n   'Brock University Dataverse',\n   'Society of American Archivists Dataverse',\n   'SAO/NASA Astrophysics Data System Dataverse',\n   'DABAR',\n   '<intR>²Dok[§]',\n   'Middlesex University Research Data Repository',\n   'Prospered Project',\n   'ScienceRepository',\n   'NAWI Water DAMS',\n   'Geo Big Data Open Platform',\n   'Arca Dados',\n   'ARP Research Data Repository',\n   'CIARD Ring',\n   'KWTRP Research Data Repository Dataverse',\n   'Jülich DATA',\n   'Portal de Datos Abiertos UNAM, Colecciones Universitarias',\n   'GNS Science Dataset Catalogue',\n   'Wilfrid Laurier University Dataverse',\n   'George Mason University Dataverse',\n   'University of Waterloo Dataverse',\n   'University of Guelph Research Data Repository  Dataverse',\n   'RADAR4Chem',\n   'DaRUS',\n   'University of Winnipeg Research Data Repository',\n   'Sicas Medical Image Repository',\n   'LibraData',\n   'National Ecosystem Data Bank',\n   'ETH Zürich Research Collection',\n   'ISIDORE',\n   'OpenAgrar',\n   \"Dataverse de l'Université TÉLUQ\",\n   'Abacus Data Network',\n   'DesignSafe-CI Data Depot Repository',\n   'DataRepositoriUM',\n   'Repository of the Faculty of Science',\n   'Dataverse de Polytechnique Montréal',\n   'TextGrid Repository',\n   'Université du Québec à Trois-Rivières - Borealis',\n   'MHKDR',\n   'Open Forest Data',\n   'ClinicalTrials.gov',\n   'HEC Montréal Dataverse',\n   'MacEwan University Data Repository',\n   'OEDI',\n   'OPAL',\n   'DataHub Figshare',\n   'DUnAs',\n   'ioChem-BD',\n   'KNB Data Repository',\n   'TUdatalib',\n   'Vancouver Island University Dataverse',\n   'ScienceData',\n   'UTM-CSIC Data Centre',\n   'University of Northern British Columbia Dataverse',\n   'PAC - Archiving Platform CINES',\n   'UNC Dataverse',\n   'MorphoSource',\n   'BLB Digitale Sammlungen',\n   'UQAM - Dataverse',\n   'Public Geodata Repository',\n   'Western University Dataverse',\n   'eSHODHMANTHAN',\n   'TROLLing',\n   'Repository CLARIN Centre Leipzig',\n   'DOREL',\n   'GEOSS Portal',\n   'SURF Data Repository',\n   'AHEAD',\n   'OSTI',\n   'RODBUK Cracow Open Research Data Repository',\n   'GlobeData',\n   'Borealis',\n   'San Raffaele Open Research Data Repository',\n   'Materials Cloud Archive',\n   'Research Data Archive at NCAR',\n   'DataverseNL',\n   'Lakehead University Dataverse',\n   'DataverseNO',\n   'Cape Breton University Dataverse',\n   'Digital Repository NM EPSCoR',\n   'PHAIDRA - University of Padua',\n   'TreeBASE',\n   'RADAR4Culture',\n   'World Register of Marine Species',\n   'SciLifeLab Data Repository',\n   'QsarDB',\n   'DRYAD',\n   'Dalhousie University Dataverse @ Borealis',\n   'NAKALA',\n   'Apollo',\n   'University of Windsor Dataverse',\n   'SISSA Open Data',\n   'UNB Libraries Dataverse Research Data Repository',\n   'data.bris Research Data Repository',\n   'ArkeoGIS',\n   'Addis Ababa University Research Data Repository',\n   \"Dataverse de l'Université du Québec à Chicoutimi\",\n   'PRISM Dataverse',\n   'Geothermal Data Repository',\n   'University of Manitoba Dataverse',\n   'RADAR',\n   'Harvard Numeric Data Services Dataverse',\n   \"Saint Mary's University Dataverse\",\n   'University of Victoria Dataverse',\n   'Memorial University Dataverse',\n   'Data INRAE',\n   'Thai National Research Repository',\n   'Zenodo',\n   'University of Ottawa Dataverse',\n   'Strasbourg Astronomical Data Center',\n   'eLaborate',\n   'GEUS Dataverse',\n   'ZBW Digital Long-Term Archive',\n   'Redape',\n   'University of Alberta Dataverse',\n   'Repositorio de datos de investigación de la Universidad del Rosario',\n   'UCD Digital Library',\n   'Etsin Research Data Finder',\n   'Bicocca Open Archive Research Data',\n   'Environmental Data Initiative Repository',\n   'Datenrechercheportal UFZ'],\n  'RDF Data Cube Vocabulary': ['UniProtKB',\n   'CIARD Ring',\n   'Ontology Lookup Service',\n   'OSTI',\n   'SciLifeLab Data Repository',\n   'DRYAD',\n   'GlyTouCan'],\n  'CF (Climate and Forecast) Metadata Conventions': ['GHRC',\n   'Ocean Observatories Initiative',\n   'ARM Data Center',\n   'NSF Arctic Data Center',\n   'HCDC datasearch',\n   'Copernicus Marine Environment Monitoring Service',\n   'GEOSS Portal',\n   'Alaska Satellite Facility SAR Data Center',\n   'World Register of Marine Species',\n   'NASA Distributed Active Archive Center at National Snow & Ice Data Center',\n   'ICTS SOCIB Data Repository'],\n  'Darwin Core': ['Sistema de Información de Biodiversidad de Ecuador SiB-Ec',\n   'Canadensys repository',\n   'Genomic Observatories MetaDatabase',\n   'RIN Data Repository',\n   'Taiwan Biodiversity Information Facility',\n   'Portal de Datos Abiertos UNAM, Colecciones Universitarias',\n   'Global Biodiversity Information Facility',\n   'Open Forest Data',\n   'MorphoSource',\n   'Catalogue of Life',\n   'TreeBASE',\n   'World Register of Marine Species',\n   'CSIRO Data Access Portal',\n   'Finnish Biodiversity Information Facility',\n   'National Ecological Observatory Network',\n   'Marlin Metadata Catalogue'],\n  'DIF - Directory Interchange Format': ['Global Change Master Directory',\n   'Geoscience Data Exchange',\n   'NOAA National Centers for Environmental Information -  Paleoclimatology Data',\n   'NOAA National Centers for Environmental Information - formerly: National Coastal Data Development Center',\n   'INGV Open Data Registry',\n   'World Data Center for Climate',\n   'Atmospheric Science Data Center',\n   'UTM-CSIC Data Centre',\n   'Norwegian Polar Data Centre',\n   'Public Geodata Repository',\n   'GEOSS Portal',\n   'Research Data Archive at NCAR',\n   'U.S. Antarctic Program Data Center',\n   'NASA Distributed Active Archive Center at National Snow & Ice Data Center',\n   'Redape'],\n  'International Virtual Observatory Alliance Technical Specifications': ['RIN Data Repository',\n   'DataverseNO',\n   'Strasbourg Astronomical Data Center',\n   'RAVE database',\n   'University of Alberta Dataverse'],\n  'PROV': ['Jülich DATA',\n   'DesignSafe-CI Data Depot Repository',\n   'NSF Arctic Data Center',\n   'MorphoSource',\n   'TROLLing',\n   'DANDI',\n   'DataverseNO'],\n  'OAI-ORE - Open Archives Initiative Object Reuse and Exchange': ['McGill University Dataverse',\n   'Concordia University Dataverse',\n   'Dados Abertos De Pesquisas',\n   \"Dataverse de l'Institut national de la recherche scientifique\",\n   'RIN Data Repository',\n   'data.InDoRES',\n   'Mount Royal University Dataverse',\n   'Society of American Archivists Dataverse',\n   'Prospered Project',\n   'Arca Dados',\n   'ARP Research Data Repository',\n   'Jülich DATA',\n   'George Mason University Dataverse',\n   'DaRUS',\n   'University of Winnipeg Research Data Repository',\n   'Trent University Dataverse',\n   \"Dataverse de l'Université TÉLUQ\",\n   'DataRepositoriUM',\n   'Dataverse de Polytechnique Montréal',\n   'Université du Québec à Trois-Rivières - Borealis',\n   'Open Forest Data',\n   'HEC Montréal Dataverse',\n   'MacEwan University Data Repository',\n   'DUnAs',\n   'Vancouver Island University Dataverse',\n   'University of Northern British Columbia Dataverse',\n   'UQAM - Dataverse',\n   'eSHODHMANTHAN',\n   \"Dataverse de l'Université Laval\",\n   'RODBUK Cracow Open Research Data Repository',\n   'GlobeData',\n   'DRYAD',\n   'SISSA Open Data',\n   'University of Regina Dataverse',\n   'Addis Ababa University Research Data Repository',\n   \"Dataverse de l'Université du Québec à Chicoutimi\",\n   'PRISM Dataverse',\n   \"Saint Mary's University Dataverse\",\n   'University of Victoria Dataverse',\n   'Memorial University Dataverse',\n   'Redape',\n   'University of Alberta Dataverse',\n   'Environmental Data Initiative Repository'],\n  'CIM - Common Information Model': ['Earth System Grid Federation'],\n  'FITS - Flexible Image Transport System': ['Solar Dynamics Observatory',\n   'MorphoSource',\n   'Strasbourg Astronomical Data Center'],\n  'DDI - Data Documentation Initiative': [\"Queen's University Dataverse\",\n   'UCLA Dataverse',\n   'McGill University Dataverse',\n   'Concordia University Dataverse',\n   'Dados Abertos De Pesquisas',\n   'ASU Library Research Data Repository',\n   \"Dataverse de l'Institut national de la recherche scientifique\",\n   'RIN Data Repository',\n   'World Agroforestry Centre - ICRAF Dataverse',\n   'Université de Montréal – Dataverse',\n   'data.InDoRES',\n   'Mount Royal University Dataverse',\n   'McMaster University Dataverse',\n   'Brock University Dataverse',\n   'Society of American Archivists Dataverse',\n   'SAO/NASA Astrophysics Data System Dataverse',\n   'Prospered Project',\n   'Peking University Open Research Data',\n   'Arca Dados',\n   'ARP Research Data Repository',\n   'KWTRP Research Data Repository Dataverse',\n   'Jülich DATA',\n   'Wilfrid Laurier University Dataverse',\n   'George Mason University Dataverse',\n   'University of Waterloo Dataverse',\n   'University of Guelph Research Data Repository  Dataverse',\n   'DaRUS',\n   'University of Winnipeg Research Data Repository',\n   'Mindboggle-101',\n   'LibraData',\n   \"Dataverse de l'Université TÉLUQ\",\n   'Abacus Data Network',\n   'DesignSafe-CI Data Depot Repository',\n   'DataRepositoriUM',\n   'Dataverse de Polytechnique Montréal',\n   'Université du Québec à Trois-Rivières - Borealis',\n   'Open Forest Data',\n   'HEC Montréal Dataverse',\n   'MacEwan University Data Repository',\n   'DUnAs',\n   'Vancouver Island University Dataverse',\n   'University of Northern British Columbia Dataverse',\n   'UNC Dataverse',\n   'UQAM - Dataverse',\n   'Western University Dataverse',\n   'eSHODHMANTHAN',\n   'TROLLing',\n   \"Dataverse de l'Université Laval\",\n   'DOREL',\n   'CfA Dataverses',\n   'Better Access to Data for Global Interdisciplinary Research',\n   'RODBUK Cracow Open Research Data Repository',\n   'CIMMYT Research Data & Software Repository Network',\n   'CESSDA Data Catalogue',\n   'GlobeData',\n   'Borealis',\n   'Rigsarkivets surveydata',\n   'DataverseNL',\n   'Lakehead University Dataverse',\n   'DataverseNO',\n   'Cape Breton University Dataverse',\n   'U.S. National Archives and Records Administration Dataverse',\n   'Dalhousie University Dataverse @ Borealis',\n   'University of Windsor Dataverse',\n   'The Abdul Latif Jameel Poverty Action Lab',\n   'SISSA Open Data',\n   'UNB Libraries Dataverse Research Data Repository',\n   'University of Regina Dataverse',\n   'Addis Ababa University Research Data Repository',\n   \"Dataverse de l'Université du Québec à Chicoutimi\",\n   'PRISM Dataverse',\n   'University of Manitoba Dataverse',\n   'Harvard Numeric Data Services Dataverse',\n   'SPT Galaxy Cluster Followup Dataverse',\n   \"Saint Mary's University Dataverse\",\n   'University of Victoria Dataverse',\n   'Memorial University Dataverse',\n   'CIAT Dataverse',\n   'Data INRAE',\n   'University of Ottawa Dataverse',\n   'Washington State University Data Center Dataverse',\n   'SFU Radar',\n   'UCLA Social Science Data Archive',\n   'GEUS Dataverse',\n   '1.2 Meter CO Survey Dataverse',\n   'University of Alberta Dataverse',\n   'Repositorio de datos de investigación de la Universidad del Rosario',\n   'UCD Digital Library'],\n  'FGDC/CSDGM - Federal Geographic Data Committee Content Standard for Digital Geospatial Metadata': ['Global Change Master Directory',\n   'Northern California Earthquake Data Center',\n   'Quinte West Open GIS Data Portal',\n   'York Region Open Data',\n   'NOAA National Centers for Environmental Information -  Paleoclimatology Data',\n   'NOAA National Centers for Environmental Information - formerly: National Coastal Data Development Center',\n   'RIN Data Repository',\n   'Sunshine Coast Regional District Open Data',\n   'Surveillance Epidemiology and End Results',\n   'ARM Data Center',\n   'NAWI Water DAMS',\n   'RADAR Luke',\n   \"Burnaby's Open Data Portal\",\n   'Geoscience Data Repository for Geophysical Data',\n   'NC OneMap',\n   'Environmental Dataset Gateway',\n   'ERDDAP',\n   'Abacus Data Network',\n   'NSF Arctic Data Center',\n   'MHKDR',\n   'OEDI',\n   'UTM-CSIC Data Centre',\n   'Public Geodata Repository',\n   'District of Peachland Open Data',\n   'datacommons@psu',\n   'Borealis',\n   'Alberta Geological Survey Open Data Portal',\n   'Town of Ajax Open Data',\n   'Research Data Archive at NCAR',\n   'Lakehead University Dataverse',\n   'Digital Repository NM EPSCoR',\n   'Gulf of Mexico Research Initiative Information and Data Cooperative',\n   'Town of Oakville Open Data',\n   'The National Map',\n   'Geothermal Data Repository',\n   'Finnish Biodiversity Information Facility',\n   'U.S. Geological Survey',\n   'The USA National Phenology Network',\n   'GeoCommons Archive',\n   'Westbank First Nation Open Data']},\n 'FTP': {'': ['Goddard Earth Sciences Data and Information Services Center',\n   'UniSave',\n   'Cassavabase',\n   'ChEMBL',\n   'Climate Data Online',\n   'The Netlib',\n   'NCBI dbVar',\n   'Worldwide Protein Data Bank',\n   'Berkeley Drosophila Genome Project',\n   'SILVA',\n   'International Mouse Phenotyping Consortium',\n   'U.S. Census Bureau TIGER/Line Shapefiles and TIGER/Line® Files',\n   'Complex Portal',\n   'NAGRP Blast Center',\n   'Mass Spectrometry Interactive Virtual Environment',\n   'DataHub',\n   'BeetleBase',\n   'GDP Drifter Data',\n   'Evaluated Nuclear Data File',\n   'Gene Expression Omnibus',\n   '1000 Genomes',\n   'Global Precipitation Measurement',\n   'JPL OurOcean Portal',\n   'Expression Atlas',\n   'WormBase',\n   'Alberta Biodiversity Monitoring Institute Data & Analytics Portal',\n   'NERC Earth Observation Data Centre',\n   'NARSTO',\n   'iDog',\n   'PDBj',\n   'meereisportal.de',\n   \"Martha's Vineyard Coastal Observatory\",\n   'Astronomical Data Archives Center',\n   'International Satellite Cloud Climatology Project',\n   'HunCLARIN',\n   'National Center for Health Statistics',\n   'NASC',\n   'NCBI Gene',\n   'Information System and Data Center',\n   \"City of Burlington's Open Data Catalogue\",\n   'Earth Orientation Center',\n   'Canada-Nova Scotia Offshore Petroleum Board Data Management Centre',\n   'The Microbial Protein Interaction Database',\n   'The Taenia solium Genome Project',\n   'Cellosaurus',\n   'AmeriFlux',\n   'PRoteomics IDEntifications Database',\n   'National Center for Atmospheric Research',\n   'modENCODE',\n   'NCBI Third Party Annotation',\n   'BioModels',\n   'Bugwood Image Database System',\n   'AVISO+',\n   'WRMC-BSRN',\n   'World Data Centre for Precipitation Chemistry',\n   \"Physical mapping data at Canada's Michael Smith Genome Sciences Centre - Data\",\n   'Ensembl Metazoa',\n   'AlphaFold',\n   'SOL Genomics Network',\n   'NCBI Epigenomics',\n   'UniRef',\n   'DOE Joint Genome Institute Genome  Portal',\n   'Network for the Detection of Atmospheric Composition Change',\n   'International Laser Ranging Service',\n   'PhysioNet',\n   'Crustal Dynamics Data Information System',\n   'Aktuelle Wetter- und Klimawerte deutscher Stationen',\n   'NCEP/NCAR Reanalysis Project',\n   'NCBI Protein Clusters',\n   'ExPASy Bioinformatics Resource Portal',\n   'WHOI Ship Data-Grabber System',\n   'Immuno Polymorphism Database',\n   'Pfam Protein Families',\n   'GESDB',\n   'Bureau Central de Magnétisme Terrestre',\n   'Ensembl Plants',\n   'Berkeley Drosophila Genome Project insitu',\n   'Comprehensive R Archive Network',\n   'BigBrain Database',\n   'UniParc',\n   'GAPHYOR',\n   'UCSD Signaling gateway',\n   'Tropical Rainfall Measuring Mission',\n   'IntAct',\n   'GermOnline',\n   'BioImage Archive',\n   'Atlantic Oceanographic and Meteorological Laboratory',\n   'EMEP',\n   'GRACE ISDC',\n   'AceView',\n   'UCSC Genome Browser',\n   'UniProtKB/Swiss-Prot',\n   'IUBio-Archive',\n   'LEDAS',\n   'Plant Transcription Factor Database',\n   'The Arabidopsis Information Resource',\n   'SMOKA Science Archive',\n   'Jason Virtual Van',\n   'World Data Center for Cosmic Rays',\n   'World Data Center for Aerosols',\n   'United States Census Bureau',\n   'Bacterial and Viral Bioinformatics Resource Center',\n   'National Cryosphere Desert Data Center',\n   'HITRAN online',\n   'Comprehensive Large Array-data Stewardship System',\n   'Complete Genomics',\n   'European Nucleotide Archive',\n   'Chinese Astronomical Data Center',\n   'NCBI Probe',\n   'Geoscience Australia',\n   'database of Sequence Tagged Sites',\n   'Collaborative Research Centre 806 Database',\n   'EUREF Permanent Network',\n   'MEROPS',\n   'NCBI HomoloGene',\n   'Ensembl Bacteria',\n   'Ensembl',\n   'Rhea',\n   'Mouse Genome Informatics',\n   'Expressed Sequence Tags database',\n   'EMDataResource',\n   'ENCODE',\n   'Xenbase',\n   'Database of Genomic Variants',\n   'GNSS  - ISDC',\n   'Climate Hazards Center Data Archive',\n   'The Global Proteome Machine',\n   'Upper Ocean Processes Group',\n   'OAFlux',\n   'Ensembl Fungi',\n   'Ensembl Protists',\n   'MetaboLights',\n   'Bioinformatics.org',\n   'ClinVar',\n   'ESA Planetary Science Archive',\n   'Ensembl Genomes',\n   'NCBI PopSet',\n   'SIDER',\n   'NCBI Nucleotide',\n   'Genomic Expression Archive',\n   'NCBI Assembly',\n   'Protein Data Bank in Europe',\n   'Vienna Atomic Line Database',\n   'Russian-Ukrainian Geomagnetic Data Center',\n   'OMNIWeb',\n   'Coriolis',\n   'Comparative Mammalian Brain Collections',\n   'MERMeX',\n   'eartH2Observe',\n   'TOXNET',\n   'PubChem',\n   'Journal of applied econometrics Data Archive',\n   'EOL',\n   'FlyBase',\n   'RCSB Protein Data Bank',\n   'Nobeyama Radio Polarimeters',\n   'SoyBase',\n   'Japanese Genotype-phenotype Archive',\n   'RESID Database of Protein Modifications',\n   'REBASE',\n   'NCBI dbMHC',\n   'Peptidome',\n   'ALEXA',\n   'Tropical Cyclone Information System',\n   'NCBI dbGaP',\n   'Government of Alberta Open Datasets',\n   'NCBI Protein',\n   'UniGene',\n   'Pombase',\n   'IAU Minor Planet Center',\n   'Rat Genome Database',\n   'Woods Hole Oceanographic Institution Data Library and Archives',\n   'OASIS',\n   'Conserved Domain database',\n   'Mutopia Project',\n   'EMBL-EBI',\n   'Center for Remote Sensing of Ice Sheets',\n   'eHOMD',\n   'COSMIC Data Analysis and Archive Center',\n   'InterPro',\n   'TreeGenes',\n   'NCBI BioSystems Database',\n   'IDEAS',\n   'UCSD Metabolomics Workbench',\n   'Greenland Climate Network',\n   'NCBI GSS',\n   'Space Physics Data Facility',\n   'R. L. Kurucz atomic linelist',\n   'NCBI Trace Archive',\n   'Remote Sensing Systems',\n   'THEMIS',\n   'volare',\n   'Wellcome Trust Sanger Institute, Scientific resources',\n   'Savannah',\n   'CATH',\n   'SkyView',\n   'FANTOM',\n   'IMGT/HLA Database',\n   'ProteomeXchange',\n   'Center for Engineering Strong Motion Data',\n   'CancerData.org',\n   'Pediatric MRI Data Repository',\n   'Cellular Phenotype database',\n   'GeneDB',\n   'Incorporated Research Institutions for Seismology',\n   'NCBI Structure',\n   'NCBI Influenza Virus Resource',\n   'Mouse Tumor Biology Database',\n   'World Data Centre for Space Weather',\n   'SureChEMBL',\n   'Gramene',\n   'RENAG-DC',\n   'Barrow Atmospheric Baseline  Observatory',\n   'Integrated Relational Enzyme database',\n   'U.S. GLOBal Ocean ECosystems Dynamics',\n   'National Science Foundation Polar Programs UV Monitoring Network',\n   'Database of Genomic Variants Archive',\n   'Summit Station',\n   'DNA Data Bank of Japan',\n   'NCBI Reference Sequence Database',\n   'British Antarctic Survey',\n   'DTU Bioinformatics',\n   'Nucleic Acid Database',\n   'TwinsUK',\n   'Western Regional Climate Center',\n   'NCBI Taxonomy',\n   'GenBank',\n   'International GNSS Service',\n   'Greengenes',\n   'ExAC Browser',\n   'Biological Magnetic Resonance Data Bank',\n   'NCBI Clone DB',\n   'NCBI Genome',\n   'SURFRAD',\n   'NCBI Virus Variation',\n   'Historical hydrographic data from BSH'],\n  'MIBBI - Minimum Information for Biological and Biomedical Investigations': ['Database of Interacting Proteins'],\n  'DIF - Directory Interchange Format': ['NOAA National Centers for Environmental Information -  Paleoclimatology Data',\n   'NOAA National Centers for Environmental Information - formerly: National Geophysical Data Center',\n   'ChArMEx database',\n   'National Snow and Ice Data Center',\n   'World Data Center for Meteorology, Asheville',\n   'World Data Center for Solar-Terrestrial Physics, Moscow',\n   'Antarctic Glaciological Data Center at NSIDC',\n   'NOAA National Centers for Environmental Information - World Data Service  for Oceanography'],\n  'EML - Ecological Metadata Language': ['NOAA National Centers for Environmental Information - formerly: National Geophysical Data Center',\n   'World Data Center for Meteorology, Asheville',\n   'NOAA National Centers for Environmental Information - World Data Service  for Oceanography'],\n  'SPASE Data Model': ['Radiation Belt Storm Probes Ion Composition Experiment'],\n  'Dublin Core': ['SMU Research Data Repository',\n   'National Ecosystem Data Bank',\n   'Centre for Environmental Data Analysis',\n   'OPAL',\n   'Bavarian Archive for Speech Signals',\n   'Barbara A. Mikulski Archive for Space Telescopes',\n   'DNBLab',\n   'Strasbourg Astronomical Data Center'],\n  'International Virtual Observatory Alliance Technical Specifications': ['Barbara A. Mikulski Archive for Space Telescopes',\n   'Strasbourg Astronomical Data Center'],\n  'other': ['CDAWeb'],\n  'ABCD - Access to Biological Collection Data': ['datacommons@psu',\n   'National Weather Service, National Centers for Environmental Prediction'],\n  'CF (Climate and Forecast) Metadata Conventions': ['World Ocean Database',\n   'GHRC',\n   'USGODAE Argo GDAC Data Browser',\n   'HyMeX',\n   'Centre for Environmental Data Analysis',\n   'International Argo Project',\n   'World Ocean Atlas',\n   'Copernicus Marine Environment Monitoring Service',\n   'OceanSITES',\n   'Satellite Application Facility on Climate Monitoring',\n   'The CEDA Archive',\n   'National Weather Service, National Centers for Environmental Prediction'],\n  'ISA-Tab': ['China National GeneBank DataBase'],\n  'CIF - Crystallographic Information Framework': ['Reciprocal Net'],\n  'Genome Metadata': ['Open Archive for Miscellaneous Data', 'PATRIC'],\n  'ISO 19115': ['Global Precipitation Climatology Centre',\n   'World Ocean Database',\n   'CDC - Climate Data Center',\n   'National Geoscience Data Centre',\n   'NOAA National Centers for Environmental Information -  Paleoclimatology Data',\n   'UNAVCO',\n   'NOAA National Centers for Environmental Information - formerly: National Oceanographic Data Center',\n   'World Data Centre for Geomagnetism, Copenhagen',\n   'International Earth Rotation and Reference Systems Service',\n   'NOAA National Centers for Environmental Information - formerly: National Geophysical Data Center',\n   'ChArMEx database',\n   'World Data Centre for Geomagnetism, Edinburgh',\n   'Intermagnet',\n   'National Snow and Ice Data Center',\n   'World Data Center for Meteorology, Asheville',\n   'World Data Center for Solar-Terrestrial Physics, Moscow',\n   'Antarctic Glaciological Data Center at NSIDC',\n   'datacommons@psu',\n   'Norwegian Meteorological Institute, Free Meteorological Data',\n   'Integrated Marine Observing System Ocean Data Portal',\n   'The National Map',\n   'PSD Climate and Weather Data',\n   'NOAA National Centers for Environmental Information - World Data Service  for Oceanography'],\n  'DataCite Metadata Schema': ['Global Precipitation Climatology Centre',\n   'SMU Research Data Repository',\n   'China National GeneBank DataBase',\n   'OPAL',\n   'Community Data Portal',\n   'datacommons@psu'],\n  'FITS - Flexible Image Transport System': ['Solar Dynamics Observatory',\n   'The Infrared Space Observatory data archive',\n   'NASA Space Science Data Coordinated Archive',\n   'GOES Space Environment Monitor',\n   'Strasbourg Astronomical Data Center',\n   'High Energy Astrophysics Science Archive Research Center'],\n  'Repository-Developed Metadata Schemas': ['Earth System Research Laboratory - Global Monitoring Division',\n   'BioSample',\n   'Brain Image Library',\n   'Open Archive for Miscellaneous Data',\n   'MaizeGDB',\n   'GNPS: Global Natural Product Social Molecular Networking',\n   'The Universal Protein Resource',\n   'BioProject',\n   'GENCODE',\n   'Tropospheric Emission Spectrometer',\n   'Genome Warehouse',\n   'IMGT/LIGM-DBI',\n   'Chemical Effects in Biological Systems',\n   'Kyoto Encyclopedia of Genes and Genomes',\n   'UCI Machine Learning Repository',\n   'Sequence Read Archive',\n   'Integrated Climate Data Center',\n   'ArrayExpress',\n   'PeptideAtlas',\n   'Genome Sequence Archive',\n   'VectorBase',\n   'The Electron Microscopy Data Bank',\n   'ChEBI',\n   'dbSNP'],\n  'FGDC/CSDGM - Federal Geographic Data Committee Content Standard for Digital Geospatial Metadata': ['Northern California Earthquake Data Center',\n   'NOAA National Centers for Environmental Information -  Paleoclimatology Data',\n   'NOAA National Centers for Environmental Information - formerly: National Oceanographic Data Center',\n   'PRISM Climate Data',\n   'NOAA National Centers for Environmental Information - formerly: National Geophysical Data Center',\n   'American FactFinder',\n   'National Snow and Ice Data Center',\n   'Barrow Area Information Database',\n   'Shuttle Radar Topography Mission',\n   'POES Space Environment Monitor',\n   'World Data Center for Meteorology, Asheville',\n   'Antarctic Glaciological Data Center at NSIDC',\n   'datacommons@psu',\n   'Global Land Cover Facility',\n   'The National Map',\n   'NOAA National Centers for Environmental Information - World Data Service  for Oceanography',\n   'National Weather Service, National Centers for Environmental Prediction']},\n 'OpenDAP': {'': ['Goddard Earth Sciences Data and Information Services Center',\n   'Climate Data Online',\n   'IRI/LDEO Climate Data Library',\n   'Global Precipitation Measurement',\n   'Moderate Resolution Imaging Spectroradiometer',\n   'Center for Operational Oceanographic Products and Services',\n   'AVISO+',\n   'Ocean Science Information System',\n   'Land Processes Distributed Active Archive Center',\n   'Coriolis',\n   \"Clouds and the Earth's Radiant Energy System\",\n   'LAADS DAAC',\n   'NASA GEWEX Surface Radiation Budget',\n   'US JGOFS Data System',\n   'JPL Multi-angle Imaging SpectroRadiometer',\n   'Historical hydrographic data from BSH'],\n  'DIF - Directory Interchange Format': ['Earthdata powered by EOSDIS',\n   'ChArMEx database',\n   'Atmospheric Science Data Center',\n   'National Snow and Ice Data Center',\n   'MISTRALS database',\n   'Physical Oceanography Distributed Active Archive Center',\n   'NASA Distributed Active Archive Center at National Snow & Ice Data Center',\n   'Atmospheric Infrared Sounder'],\n  'EML - Ecological Metadata Language': ['TERN Data Discovery Portal'],\n  'Dublin Core': ['HydroShare',\n   'Centre for Environmental Data Analysis',\n   'MISTRALS database',\n   '4TU.ResearchData | science.engineering.design'],\n  'RDF Data Cube Vocabulary': ['Oak Ridge National Laboratory Distributed Active Archive Center for Biogeochemical Dynamics'],\n  'CF (Climate and Forecast) Metadata Conventions': ['climate4impact',\n   'GHRC',\n   'Oak Ridge National Laboratory Distributed Active Archive Center for Biogeochemical Dynamics',\n   'Earthdata powered by EOSDIS',\n   'The International Research Institute for Climate and Society',\n   'Centre for Environmental Data Analysis',\n   'OceanColor web',\n   'Copernicus Marine Environment Monitoring Service',\n   'Physical Oceanography Distributed Active Archive Center',\n   '4TU.ResearchData | science.engineering.design',\n   'TERN Data Discovery Portal',\n   'NASA Distributed Active Archive Center at National Snow & Ice Data Center',\n   'SAMD',\n   'The CEDA Archive',\n   'National Weather Service, National Centers for Environmental Prediction'],\n  'ABCD - Access to Biological Collection Data': ['National Weather Service, National Centers for Environmental Prediction'],\n  'Darwin Core': ['TERN Data Discovery Portal'],\n  'ISO 19115': ['Precipitation Processing System',\n   'Earthdata powered by EOSDIS',\n   'NCI Data Portal',\n   'ChArMEx database',\n   'Temperate Reef Base',\n   'ERDDAP',\n   'National Snow and Ice Data Center',\n   'OceanColor web',\n   'MISTRALS database',\n   'Norwegian Meteorological Institute, Free Meteorological Data',\n   'Integrated Marine Observing System Ocean Data Portal',\n   'Australian Ocean Data Network Portal',\n   'TERN Data Discovery Portal',\n   'ReefTEMPS',\n   'Atmospheric Infrared Sounder',\n   'PSD Climate and Weather Data',\n   'Coastal Data Information Program'],\n  'CIM - Common Information Model': ['climate4impact'],\n  'other': ['Precipitation Processing System'],\n  'DCAT - Data Catalog Vocabulary': ['TERN Data Discovery Portal'],\n  'Repository-Developed Metadata Schemas': ['Earthdata powered by EOSDIS',\n   'NASA Distributed Active Archive Center at National Snow & Ice Data Center'],\n  'DataCite Metadata Schema': ['Community Data Portal',\n   '4TU.ResearchData | science.engineering.design'],\n  'FGDC/CSDGM - Federal Geographic Data Committee Content Standard for Digital Geospatial Metadata': ['ERDDAP',\n   'National Snow and Ice Data Center',\n   'VENUS in the Salish Sea',\n   'Coastal Data Information Program',\n   'National Weather Service, National Centers for Environmental Prediction']},\n 'SPARQL': {'': ['ChEMBL',\n   'Chempound',\n   'BioModels',\n   'WikiPathways',\n   'Open Data Portal Russia',\n   'Linguistic Linked Open Data',\n   'DisGeNET',\n   'Rhea',\n   'Open Core Data',\n   'OpenEI',\n   'NetPath',\n   'AnimalGenome.ORG',\n   'FactGrid',\n   'BioPortal'],\n  'EML - Ecological Metadata Language': ['TERN Data Discovery Portal'],\n  'OAI-ORE - Open Archives Initiative Object Reuse and Exchange': ['Archaeology Data Service',\n   'mdw Repository'],\n  'Dublin Core': ['Archaeology Data Service',\n   'Europeana collections',\n   'Land Portal',\n   'International Food Policy Research Institute Dataverse',\n   'NAWI Water DAMS',\n   'CIARD Ring',\n   'European Union Open Data Portal',\n   'ISIDORE',\n   'ICOS Carbon Portal',\n   'MHKDR',\n   'OEDI',\n   'CoCoON',\n   'NAKALA',\n   'Geothermal Data Repository',\n   'mdw Repository'],\n  'other': ['Geothermal Data Repository'],\n  'RDF Data Cube Vocabulary': ['UniProtKB',\n   'Land Portal',\n   'CIARD Ring',\n   'GlyTouCan',\n   'DURAARK datasets',\n   'DBpedia'],\n  'CF (Climate and Forecast) Metadata Conventions': ['ICOS Carbon Portal',\n   'TERN Data Discovery Portal'],\n  'Darwin Core': ['TERN Data Discovery Portal'],\n  'ISO 19115': ['NAWI Water DAMS',\n   'ICOS Carbon Portal',\n   'OpenTopography',\n   'MHKDR',\n   'OEDI',\n   'Geothermal Data Repository',\n   'TERN Data Discovery Portal',\n   'SITES Data Portal'],\n  'SDMX - Statistical Data and Metadata Exchange': ['Land Portal'],\n  'DataCite Metadata Schema': ['Archaeology Data Service', 'CoCoON'],\n  'DCAT - Data Catalog Vocabulary': ['European Data Portal',\n   'European Union Open Data Portal',\n   'ICOS Carbon Portal',\n   'GOVDATA',\n   'Répertoire International des Sources Musicales (RISM)',\n   'TERN Data Discovery Portal'],\n  'Repository-Developed Metadata Schemas': ['Gene Ontology',\n   'Archaeology Data Service',\n   'Europeana collections',\n   'The Universal Protein Resource',\n   'Rolling Deck to Repository'],\n  'DDI - Data Documentation Initiative': ['International Food Policy Research Institute Dataverse'],\n  'FGDC/CSDGM - Federal Geographic Data Committee Content Standard for Digital Geospatial Metadata': ['NAWI Water DAMS',\n   'MHKDR',\n   'OEDI',\n   'Geothermal Data Repository']},\n 'SWORD': {'International Virtual Observatory Alliance Technical Specifications': ['RIN Data Repository',\n   'DataverseNO',\n   'University of Alberta Dataverse'],\n  '': ['Columbia University Academic Commons',\n   'DOE Joint Genome Institute Genome  Portal',\n   'IDEALS',\n   'The Dataweb Dataverse'],\n  'PROV': ['TROLLing', 'DataverseNO'],\n  'OAI-ORE - Open Archives Initiative Object Reuse and Exchange': ['McGill University Dataverse',\n   'Concordia University Dataverse',\n   'Dados Abertos De Pesquisas',\n   \"Dataverse de l'Institut national de la recherche scientifique\",\n   'RIN Data Repository',\n   'Mount Royal University Dataverse',\n   'Society of American Archivists Dataverse',\n   'Prospered Project',\n   'Arca Dados',\n   'ARP Research Data Repository',\n   'George Mason University Dataverse',\n   'Social Data Repository (RDS)',\n   'DaRUS',\n   'University of Winnipeg Research Data Repository',\n   'Trent University Dataverse',\n   \"Dataverse de l'Université TÉLUQ\",\n   'DataRepositoriUM',\n   'Dataverse de Polytechnique Montréal',\n   'Macromolecular Xtallography Raw Data Repository',\n   'Université du Québec à Trois-Rivières - Borealis',\n   'HEC Montréal Dataverse',\n   'MacEwan University Data Repository',\n   'DUnAs',\n   'Vancouver Island University Dataverse',\n   'University of Northern British Columbia Dataverse',\n   'UQAM - Dataverse',\n   'eSHODHMANTHAN',\n   \"Dataverse de l'Université Laval\",\n   'Repository for Open Data (RepOD)',\n   'RODBUK Cracow Open Research Data Repository',\n   'GlobeData',\n   'SISSA Open Data',\n   'University of Regina Dataverse',\n   \"Dataverse de l'Université du Québec à Chicoutimi\",\n   'PRISM Dataverse',\n   \"Saint Mary's University Dataverse\",\n   'University of Victoria Dataverse',\n   'Memorial University Dataverse',\n   'Redape',\n   'University of Alberta Dataverse'],\n  'DIF - Directory Interchange Format': ['Redape'],\n  'Dublin Core': [\"Queen's University Dataverse\",\n   'UCLA Dataverse',\n   'McGill University Dataverse',\n   'Concordia University Dataverse',\n   'Dados Abertos De Pesquisas',\n   'ASU Library Research Data Repository',\n   \"Dataverse de l'Institut national de la recherche scientifique\",\n   'RIN Data Repository',\n   'International Food Policy Research Institute Dataverse',\n   'Université de Montréal – Dataverse',\n   'Mount Royal University Dataverse',\n   'McMaster University Dataverse',\n   'Brock University Dataverse',\n   'Society of American Archivists Dataverse',\n   'SAO/NASA Astrophysics Data System Dataverse',\n   'Prospered Project',\n   'Arca Dados',\n   'ARP Research Data Repository',\n   'e-cienciaDatos',\n   'KWTRP Research Data Repository Dataverse',\n   'Wilfrid Laurier University Dataverse',\n   'George Mason University Dataverse',\n   'University of Waterloo Dataverse',\n   'University of Guelph Research Data Repository  Dataverse',\n   'Social Data Repository (RDS)',\n   'DaRUS',\n   'University of Winnipeg Research Data Repository',\n   'Agri-Environmental Research Data Repository Dataverse',\n   'LibraData',\n   \"Dataverse de l'Université TÉLUQ\",\n   'Abacus Data Network',\n   'DataRepositoriUM',\n   'Dataverse de Polytechnique Montréal',\n   'Macromolecular Xtallography Raw Data Repository',\n   'Université du Québec à Trois-Rivières - Borealis',\n   'HEC Montréal Dataverse',\n   'MacEwan University Data Repository',\n   'DUnAs',\n   'Vancouver Island University Dataverse',\n   'University of Northern British Columbia Dataverse',\n   'UNC Dataverse',\n   'UQAM - Dataverse',\n   'Western University Dataverse',\n   'eSHODHMANTHAN',\n   'TROLLing',\n   'Repository for Open Data (RepOD)',\n   'RODBUK Cracow Open Research Data Repository',\n   'Research Data Unipd',\n   'GlobeData',\n   'Borealis',\n   'DataverseNL',\n   'Lakehead University Dataverse',\n   'DataverseNO',\n   'Cape Breton University Dataverse',\n   'Dalhousie University Dataverse @ Borealis',\n   'University of Windsor Dataverse',\n   'SISSA Open Data',\n   'UNB Libraries Dataverse Research Data Repository',\n   \"Dataverse de l'Université du Québec à Chicoutimi\",\n   'PRISM Dataverse',\n   'University of Manitoba Dataverse',\n   'Harvard Numeric Data Services Dataverse',\n   \"Saint Mary's University Dataverse\",\n   'GEOROC Data Repository',\n   'University of Victoria Dataverse',\n   'Memorial University Dataverse',\n   'Data INRAE',\n   'University of Ottawa Dataverse',\n   'GEUS Dataverse',\n   'Toronto Metropolitan University Dataverse',\n   'Redape',\n   'University of Alberta Dataverse',\n   'York University Dataverse'],\n  'other': ['Abacus Data Network', 'Repository for Open Data (RepOD)'],\n  'ABCD - Access to Biological Collection Data': ['LibraData'],\n  'ISA-Tab': ['RIN Data Repository',\n   'LibraData',\n   'DataverseNO',\n   'Data INRAE',\n   'University of Alberta Dataverse'],\n  'Darwin Core': ['RIN Data Repository'],\n  'CIF - Crystallographic Information Framework': ['Macromolecular Xtallography Raw Data Repository'],\n  'ISO 19115': ['McGill University Dataverse'],\n  'SDMX - Statistical Data and Metadata Exchange': ['RIN Data Repository'],\n  'DataCite Metadata Schema': [\"Queen's University Dataverse\",\n   'UCLA Dataverse',\n   'McGill University Dataverse',\n   'Concordia University Dataverse',\n   'Dados Abertos De Pesquisas',\n   'ASU Library Research Data Repository',\n   \"Dataverse de l'Institut national de la recherche scientifique\",\n   'RIN Data Repository',\n   'Université de Montréal – Dataverse',\n   'Mount Royal University Dataverse',\n   'McMaster University Dataverse',\n   'Prospered Project',\n   'Arca Dados',\n   'ARP Research Data Repository',\n   'e-cienciaDatos',\n   'Wilfrid Laurier University Dataverse',\n   'George Mason University Dataverse',\n   'University of Waterloo Dataverse',\n   'Social Data Repository (RDS)',\n   'DaRUS',\n   'University of Winnipeg Research Data Repository',\n   'LibraData',\n   'Trent University Dataverse',\n   \"Dataverse de l'Université TÉLUQ\",\n   'DataRepositoriUM',\n   'Dataverse de Polytechnique Montréal',\n   'Macromolecular Xtallography Raw Data Repository',\n   'Université du Québec à Trois-Rivières - Borealis',\n   'HEC Montréal Dataverse',\n   'MacEwan University Data Repository',\n   'DUnAs',\n   'Vancouver Island University Dataverse',\n   'University of Northern British Columbia Dataverse',\n   'UQAM - Dataverse',\n   'Western University Dataverse',\n   'eSHODHMANTHAN',\n   \"Dataverse de l'Université Laval\",\n   'Repository for Open Data (RepOD)',\n   'GRO.data',\n   'RODBUK Cracow Open Research Data Repository',\n   'Research Data Unipd',\n   'GlobeData',\n   'Borealis',\n   'CIFOR Harvested Dataverse',\n   'DataverseNO',\n   'Cape Breton University Dataverse',\n   'University of Windsor Dataverse',\n   'SISSA Open Data',\n   'UNB Libraries Dataverse Research Data Repository',\n   'University of Regina Dataverse',\n   \"Dataverse de l'Université du Québec à Chicoutimi\",\n   'PRISM Dataverse',\n   'University of Manitoba Dataverse',\n   \"Saint Mary's University Dataverse\",\n   'GEOROC Data Repository',\n   'University of Victoria Dataverse',\n   'Memorial University Dataverse',\n   'Data INRAE',\n   'University of Ottawa Dataverse',\n   'GEUS Dataverse',\n   'Redape',\n   'University of Alberta Dataverse'],\n  'Repository-Developed Metadata Schemas': ['ASU Library Research Data Repository',\n   'DaRUS'],\n  'DDI - Data Documentation Initiative': [\"Queen's University Dataverse\",\n   'UCLA Dataverse',\n   'McGill University Dataverse',\n   'Concordia University Dataverse',\n   'Dados Abertos De Pesquisas',\n   'ASU Library Research Data Repository',\n   \"Dataverse de l'Institut national de la recherche scientifique\",\n   'RIN Data Repository',\n   'International Food Policy Research Institute Dataverse',\n   'World Agroforestry Centre - ICRAF Dataverse',\n   'Université de Montréal – Dataverse',\n   'Mount Royal University Dataverse',\n   'McMaster University Dataverse',\n   'Brock University Dataverse',\n   'Society of American Archivists Dataverse',\n   'SAO/NASA Astrophysics Data System Dataverse',\n   'Prospered Project',\n   'Peking University Open Research Data',\n   'Arca Dados',\n   'ARP Research Data Repository',\n   'e-cienciaDatos',\n   'KWTRP Research Data Repository Dataverse',\n   'ICRISAT Dataverse',\n   'Harvard Dataverse',\n   'Wilfrid Laurier University Dataverse',\n   'George Mason University Dataverse',\n   'University of Waterloo Dataverse',\n   'University of Guelph Research Data Repository  Dataverse',\n   'Social Data Repository (RDS)',\n   'DaRUS',\n   'University of Winnipeg Research Data Repository',\n   'Mindboggle-101',\n   'Agri-Environmental Research Data Repository Dataverse',\n   'LibraData',\n   \"Dataverse de l'Université TÉLUQ\",\n   'Abacus Data Network',\n   'DataRepositoriUM',\n   'Dataverse de Polytechnique Montréal',\n   'Macromolecular Xtallography Raw Data Repository',\n   'Université du Québec à Trois-Rivières - Borealis',\n   'HEC Montréal Dataverse',\n   'MacEwan University Data Repository',\n   'DUnAs',\n   'Vancouver Island University Dataverse',\n   'University of Northern British Columbia Dataverse',\n   'UNC Dataverse',\n   'UQAM - Dataverse',\n   'Western University Dataverse',\n   'eSHODHMANTHAN',\n   'Population Services International Dataverse',\n   'TROLLing',\n   \"Dataverse de l'Université Laval\",\n   'CfA Dataverses',\n   'Repository for Open Data (RepOD)',\n   'COMPLETE Dataverse',\n   'RODBUK Cracow Open Research Data Repository',\n   'CIMMYT Research Data & Software Repository Network',\n   'GlobeData',\n   'Borealis',\n   'CIFOR Harvested Dataverse',\n   'DataverseNL',\n   'Lakehead University Dataverse',\n   'DataverseNO',\n   'Cape Breton University Dataverse',\n   'U.S. National Archives and Records Administration Dataverse',\n   'Dalhousie University Dataverse @ Borealis',\n   'University of Windsor Dataverse',\n   'The Abdul Latif Jameel Poverty Action Lab',\n   'SISSA Open Data',\n   'UNB Libraries Dataverse Research Data Repository',\n   'University of Regina Dataverse',\n   \"Dataverse de l'Université du Québec à Chicoutimi\",\n   'PRISM Dataverse',\n   'University of Manitoba Dataverse',\n   'Harvard Numeric Data Services Dataverse',\n   'SPT Galaxy Cluster Followup Dataverse',\n   \"Saint Mary's University Dataverse\",\n   'GEOROC Data Repository',\n   'University of Victoria Dataverse',\n   'Memorial University Dataverse',\n   'AfricaRice Dataverse',\n   'CIAT Dataverse',\n   'Data INRAE',\n   'University of Ottawa Dataverse',\n   'Washington State University Data Center Dataverse',\n   'UCLA Social Science Data Archive',\n   'The Polinsky Language Sciences Lab Dataverse',\n   'GEUS Dataverse',\n   'Toronto Metropolitan University Dataverse',\n   '1.2 Meter CO Survey Dataverse',\n   'University of Alberta Dataverse',\n   'York University Dataverse',\n   'IBICT Cariniana Dataverse Network'],\n  'FGDC/CSDGM - Federal Geographic Data Committee Content Standard for Digital Geospatial Metadata': ['RIN Data Repository',\n   'Abacus Data Network',\n   'Borealis',\n   'Lakehead University Dataverse']},\n 'OAI-PMH': {'': ['Das Deutsche Referenzkorpus',\n   'National Science Digital Library',\n   'GAVO Data Centre',\n   'UWE Research Data Repository',\n   'Spectrum Research Repository',\n   'PORTULAN CLARIN repository',\n   'Griffith University Research Data Repository',\n   'Portal Zarządzania Wiedzą UJ CM',\n   'UPF Digital Repository',\n   'CLARIN INT Portal',\n   'Columbia University Academic Commons',\n   'Curtin University Research Data Collection',\n   'Wolfenbütteler Digital Library',\n   'MyTardis',\n   'OceanRep GEOMAR Repository',\n   'Catena',\n   'CLARINO Bergen  Center repository',\n   'ScholarWorks@UMassAmherst',\n   'Kinsources.net',\n   'Computational and Information Systems Laboratory Research Data Archive',\n   'MADATA - Mannheim research data repository',\n   'Oxford Brookes University: RADAR',\n   'eCrystals',\n   'LINDAT/CLARIAH-CZ repository',\n   'Digitale Bibliothek Thüringen',\n   'B2SHARE',\n   'IDEALS',\n   'Kujawsko-Pomorska Digital Library',\n   'PSI Open Data Provider',\n   'Social Scientific Research Documentation Centre Repository',\n   'University of Liverpool Research Data Catalogue',\n   'KU ScholarWorks',\n   'Digitale Historische Bibliothek Erfurt/Gotha',\n   'IIASA DARE',\n   'PUBLISSO-Fachrepositorium Lebenswissenschaften',\n   'Lincoln repository',\n   'CiteSeerX',\n   'CLARIN-ERIC',\n   'Chapman University Digital Commons Datasets',\n   'citaREA',\n   'ScholarWorks Boise State University',\n   'ROSA P',\n   'Spanish CLARIN K-Centre',\n   'IDEAS',\n   'ARACHNE IDAI.objects',\n   'B2SHARE Server Forschungszentrum Jülich',\n   'UQ eSpace, Research Data Collections',\n   'Regionaal Archief Alkmaar',\n   'CancerData.org',\n   'SPECTRa Project',\n   'Store.Synchrotron Data Store',\n   'PolMine',\n   'Deutsches Textarchiv'],\n  'SPASE Data Model': ['Paris Astronomical Data Centre'],\n  'ISA-Tab': ['heiDATA', 'DataverseNO', 'Data INRAE'],\n  'CIF - Crystallographic Information Framework': ['MIDAS',\n   'Macromolecular Xtallography Raw Data Repository'],\n  'ISO 19115': ['Geoscience Data Exchange',\n   'World Data Center for Climate',\n   'Research Data Australia',\n   'Temperate Reef Base',\n   'The World Atlas of Language Structures',\n   'International Ocean Discovery Program',\n   'Open Forest Data',\n   'GFZ Data Services',\n   'Research Data Archive at NCAR',\n   'ADS',\n   'TERN Data Discovery Portal',\n   'B2FIND',\n   'PANGAEA',\n   'NOAA National Centers for Environmental Information - World Data Service  for Oceanography',\n   'DEIMS-SDR',\n   'World Stress Map'],\n  'other': ['Multimodal Learning Corpus Exchange',\n   'Repository for Open Data (RepOD)',\n   'The Language Archive'],\n  'DataCite Metadata Schema': ['DTU Data',\n   'Open Data LMU',\n   'OEDataRep',\n   'opendata@uni-kiel',\n   'Archaeology Data Service',\n   'CU Scholar',\n   'Oxford University Research Archive',\n   'melbourne.figshare.com',\n   'data_UMR',\n   'WRAP',\n   'LiDA',\n   'UP Research Data Repository',\n   'DABAR',\n   '<intR>²Dok[§]',\n   'osnaData',\n   'Data@Lincoln',\n   'ScienceRepository',\n   'CaltechDATA',\n   'UK Data Service',\n   'e-cienciaDatos',\n   'Smithsonian figshare',\n   'World Data Center for Climate',\n   'CERIC Data Portal',\n   'Monash Bridges',\n   'Social Data Repository (RDS)',\n   'RosDok',\n   'RADAR4Chem',\n   'Dipòsit Digital de Documents de la UAB',\n   'Stockholm University Figshare Repository',\n   'heiDATA',\n   'Brunel figshare',\n   'ETH Zürich Research Collection',\n   'RODARE',\n   'Macromolecular Xtallography Raw Data Repository',\n   'Research Data Repository FDAT',\n   'Research Data at Essex',\n   'CIRAD Dataverse',\n   'DataHub Figshare',\n   'Yareta',\n   'University of Southampton Institutional Research Repository',\n   'TUdatalib',\n   'University of Adelaide figshare',\n   'FULIR Data',\n   'University of Bath Research Data Archive',\n   \"St. Edward's University  institutional repository\",\n   'Debreceni Egyetem Adattár',\n   'UPCommons - Research Data',\n   'Community Data Portal',\n   'Repositorio de Datos Académicos Universidad Nacional de Rosario',\n   'Project on Human Development in Chicago Neighborhoods',\n   'Loughborough Data Repository',\n   'CoCoON',\n   'Repository for Open Data (RepOD)',\n   'Open Data LMU - Physics',\n   'GRO.data',\n   'SURF Data Repository',\n   'PUB Data Publications',\n   'Research Data Unipd',\n   'Maenduar',\n   'GFZ Data Services',\n   'TU Graz Repository',\n   'Tethys',\n   'Research Data Archive at NCAR',\n   'DataverseNO',\n   'GESIS Data Archive',\n   'RADAR4Culture',\n   'DRYAD',\n   'Open Research Data Online',\n   'Apollo',\n   'CORA. Repositori de Dades de Recerca',\n   'chemotion',\n   'Aperta TÜBİTAK Open Archive',\n   '4TU.ResearchData | science.engineering.design',\n   'PTB-OAR',\n   'Yoda',\n   'mediaTUM',\n   'RiuNet',\n   'UCL Discovery',\n   'RADAR',\n   'OLOS',\n   'Data INRAE',\n   'Research Data Leeds Repository',\n   'Zenodo',\n   'UEL Research Repository',\n   'figshare',\n   'University of Reading Research Data Archive',\n   'UCD Digital Library',\n   'Bicocca Open Archive Research Data',\n   'World Stress Map',\n   'MUSE-Wide'],\n  'DCAT - Data Catalog Vocabulary': ['TERN Data Discovery Portal'],\n  'Repository-Developed Metadata Schemas': ['Archaeology Data Service',\n   'Europeana collections',\n   'DABAR',\n   'Digital Library for Earth System Education',\n   'World Data Center for Climate',\n   'CLARIN-DK-UCPH Repository',\n   'Research Data Australia',\n   'Digital Archive of the Archaeological Map of the Czech Republic',\n   'Research Data at Essex',\n   'RUresearch Data Portal',\n   'METIS',\n   'PHAIDRA - University of Padua',\n   'GESIS Data Archive',\n   'Apollo',\n   'ADS'],\n  'EML - Ecological Metadata Language': ['Australian SuperSite Network Data Portal',\n   'KNB Data Repository',\n   'UA Campus Repository',\n   'TERN Data Discovery Portal',\n   'NOAA National Centers for Environmental Information - World Data Service  for Oceanography',\n   'DEIMS-SDR'],\n  'AVM - Astronomy Visualization Metadata': ['Paris Astronomical Data Centre',\n   'UA Campus Repository'],\n  'Dublin Core': ['DTU Data',\n   'IZTECH GCRIS',\n   'UdS Fedora Commons Repository',\n   'DARIAH-DE Repository',\n   'Repositorio Abierto',\n   'Monash University Research Repository',\n   'SLUB Sammlungen',\n   'OEDataRep',\n   'opendata@uni-kiel',\n   'Archaeology Data Service',\n   'CU Scholar',\n   'Bibliothèques Virtuelles Humanistes',\n   'Oxford University Research Archive',\n   'CLARIN service center of the Zentrum Sprache at the BBAW',\n   'melbourne.figshare.com',\n   'data_UMR',\n   'UvaDOC - Fonda Antiguo',\n   'Europeana collections',\n   'Mediateca INAH',\n   'International Food Policy Research Institute Dataverse',\n   'DataDOI',\n   'WRAP',\n   'USU Institutional Repository',\n   'LiDA',\n   'UP Research Data Repository',\n   'Hamburger Zentrum für Sprachkorpora Korpus Repositorium',\n   'DABAR',\n   '<intR>²Dok[§]',\n   'osnaData',\n   'Producción Académica UCC',\n   'Data@Lincoln',\n   'ScienceRepository',\n   'Worldviews',\n   'UK Data Service',\n   'e-cienciaDatos',\n   'Smithsonian figshare',\n   'CIARD Ring',\n   'CERIC Data Portal',\n   'Polish Platform of Medical Research',\n   'ZVDD',\n   'Monash Bridges',\n   'Social Data Repository (RDS)',\n   'Digital Collections ULB Düsseldorf',\n   'CURATOR',\n   'Pacific and Regional Archive for Digital Sources in Endangered Cultures',\n   'RosDok',\n   'UBIRA eData',\n   'RADAR4Chem',\n   'Dipòsit Digital de Documents de la UAB',\n   'WorldWideMolecularMatrix',\n   'National Library of Norway | Språkbanken',\n   'National Library of the Netherlands  e-depot',\n   'IDS Repository',\n   'Stockholm University Figshare Repository',\n   'Digital Archive of the Archaeological Map of the Czech Republic',\n   'heiDATA',\n   'UdG Digital Repository',\n   'Brunel figshare',\n   'UCREA',\n   'Repositorio Institucional Universidad Nacional de Colombia',\n   'ETH Zürich Research Collection',\n   'OpenAgrar',\n   'MIDAS',\n   'Eurac Research CLARIN Centre',\n   'Repository of the Faculty of Science',\n   'Multimodal Learning Corpus Exchange',\n   'ISTA Research Explorer',\n   'RODARE',\n   'Repositorio Institucional de la Universidad de Burgos',\n   'Woods Hole Open Access Server',\n   'RADaR - Digital Repository of Archived Publications of the Institute for Biological Research “Siniša Stanković”',\n   'Macromolecular Xtallography Raw Data Repository',\n   'Digitale Sammlungen der GWLB Hannover',\n   'Open Forest Data',\n   'Bilkent University Institutional Repository',\n   'Kielipankki',\n   'CIRAD Dataverse',\n   'Repositorio Institucional UCASAL',\n   'BORIS Portal',\n   'Angewandte Repository',\n   'edoc-Server  - Forschungsdaten',\n   'DataHub Figshare',\n   'Unisa Institutional Repository',\n   'ioChem-BD',\n   'Humadoc repositorio',\n   'University of Southampton Institutional Research Repository',\n   'FHSTP Phaidra',\n   'KNB Data Repository',\n   'TUdatalib',\n   'Bavarian Archive for Speech Signals',\n   'Cranfield Online Research Data',\n   'DIGITAL.CSIC',\n   'University of Adelaide figshare',\n   'FULIR Data',\n   'University of Bath Research Data Archive',\n   'LeoPARD - TU Braunschweig Publications And Research Data',\n   \"St. Edward's University  institutional repository\",\n   'Debreceni Egyetem Adattár',\n   'Finnish Social Science Data Archive',\n   'UPCommons - Research Data',\n   'ARCHE',\n   'Repositori de la Universitat Jaume I',\n   'South African Centre for Digital Language Resources',\n   'IMS Universität Stuttgart Repository',\n   'Repository CLARIN-D Centre CEDIFOR',\n   'Repositorio de Datos Académicos Universidad Nacional de Rosario',\n   'Enlighten',\n   'Phaidra Universität Wien',\n   'Project on Human Development in Chicago Neighborhoods',\n   'TROLLing',\n   'Repositorio de Acceso Abierto BUAP',\n   'Repository CLARIN Centre Leipzig',\n   'Loughborough Data Repository',\n   'CLARIN-PL',\n   'CoCoON',\n   'Repository for Open Data (RepOD)',\n   'EASY',\n   'GEOSS Portal',\n   'SURF Data Repository',\n   'Collaborative Psychiatric Epidemiology Surveys 2001 - 2003',\n   'PUB Data Publications',\n   'Repositorio Institucional-Universidad Autónoma de Manizales',\n   'University of Auckland Data Repository',\n   'Repositorio Institucional del ITESO',\n   'Research Data Unipd',\n   'Koç University Digital Collections',\n   'ELRA Catalogue of Language Resources',\n   'Purdue University Research Repository',\n   'Maenduar',\n   'GFZ Data Services',\n   'Tethys',\n   'Repositorio Digital UTB',\n   'San Raffaele Open Research Data Repository',\n   'DHS Data Access',\n   'Materials Cloud Archive',\n   'Research Data Archive at NCAR',\n   'DataverseNL',\n   'UA Campus Repository',\n   'intellectum',\n   'DataverseNO',\n   'CLARIN repository at the University of Tübingen',\n   'LSE Research Online',\n   'PHAIDRA - University of Padua',\n   'Repositori Institucional de la URV',\n   'TreeBASE',\n   'Repositorio Institucional Universidad Santo Tomás',\n   'GESIS Data Archive',\n   'RADAR4Culture',\n   'DRYAD',\n   'edoc server der Berlin-Brandenburgischen Akademie der Wissenschaften',\n   'eData: the STFC Research Data Repository',\n   'Open Research Data Online',\n   'NAKALA',\n   'Apollo',\n   'University of Salford Data Repository',\n   'CORA. Repositori de Dades de Recerca',\n   'CEU Institutional Repository',\n   'Mountain Scholar',\n   'CLARIN-LT',\n   'eBiltegia',\n   'Aperta TÜBİTAK Open Archive',\n   '4TU.ResearchData | science.engineering.design',\n   'AMS Acta',\n   'Yoda',\n   'SEDICI',\n   'RiuNet',\n   'UCL Discovery',\n   'RADAR',\n   'The University of Oxford Text Archive',\n   'B2FIND',\n   'ORDA - The University of Sheffield Research Data Catalogue and Repository',\n   'CLARIN.SI repository',\n   'Repositorio Institucional de la Universidad Distrital Francisco José de Caldas',\n   'OLAC',\n   'RU-IIEc',\n   'Data INRAE',\n   'PANGAEA',\n   'DNBLab',\n   'Research Data Leeds Repository',\n   'mdw Repository',\n   'Zenodo',\n   'CLARIN-IS',\n   'GAMS',\n   'Base de Dados  Científicos da Universidade Federal do Paraná',\n   'eLaborate',\n   'UEL Research Repository',\n   'figshare',\n   'University of Reading Research Data Archive',\n   'DepositOnce',\n   'ZBW Digital Long-Term Archive',\n   'Sheffield Hallam University Research Data Archive',\n   'UCD Digital Library',\n   'Huygens ING',\n   'Bicocca Open Archive Research Data',\n   'e-codices',\n   'Meertens Instituut Collecties'],\n  'RDF Data Cube Vocabulary': ['CIARD Ring',\n   'University of Adelaide figshare',\n   'Enlighten',\n   'DRYAD'],\n  'CF (Climate and Forecast) Metadata Conventions': ['GEOSS Portal',\n   '4TU.ResearchData | science.engineering.design',\n   'TERN Data Discovery Portal',\n   'The CEDA Archive'],\n  'Darwin Core': ['Open Forest Data',\n   'UA Campus Repository',\n   'TreeBASE',\n   'TERN Data Discovery Portal',\n   'PANGAEA'],\n  'CSMD-CCLRC Core Scientific Metadata Model': ['Monash University Research Repository'],\n  'DIF - Directory Interchange Format': ['Geoscience Data Exchange',\n   'World Data Center for Climate',\n   'GEOSS Portal',\n   'GFZ Data Services',\n   'Research Data Archive at NCAR',\n   'ADS',\n   'PANGAEA',\n   'NOAA National Centers for Environmental Information - World Data Service  for Oceanography',\n   'World Stress Map'],\n  'International Virtual Observatory Alliance Technical Specifications': ['Paris Astronomical Data Centre',\n   'APPLAUSE',\n   'DataverseNO',\n   'Gaia@AIP',\n   'RAVE database',\n   'MUSE-Wide'],\n  'PROV': ['TROLLing', 'DataverseNO'],\n  'OAI-ORE - Open Archives Initiative Object Reuse and Exchange': ['Archaeology Data Service',\n   'LiDA',\n   'osnaData',\n   'Social Data Repository (RDS)',\n   'Repositorio Institucional de la Universidad de Burgos',\n   'Woods Hole Open Access Server',\n   'Macromolecular Xtallography Raw Data Repository',\n   'Open Forest Data',\n   'CIRAD Dataverse',\n   'Repositorio de Datos Académicos Universidad Nacional de Rosario',\n   'CLARIN-PL',\n   'Repository for Open Data (RepOD)',\n   'Repositorio Institucional del ITESO',\n   'DRYAD',\n   'RiuNet',\n   'CLARIN.SI repository',\n   'OLAC',\n   'mdw Repository'],\n  'QuDEx - Qualitative Data Exchange Format': ['UK Data Service'],\n  'FITS - Flexible Image Transport System': ['Paris Astronomical Data Centre',\n   'APPLAUSE'],\n  'DDI - Data Documentation Initiative': ['Monash University Research Repository',\n   'International Food Policy Research Institute Dataverse',\n   'LiDA',\n   'osnaData',\n   'UK Data Service',\n   'e-cienciaDatos',\n   'Social Data Repository (RDS)',\n   'heiDATA',\n   'Macromolecular Xtallography Raw Data Repository',\n   'Open Forest Data',\n   'Research Data at Essex',\n   'CIRAD Dataverse',\n   'University of Southampton Institutional Research Repository',\n   'UK Data Archive',\n   'Debreceni Egyetem Adattár',\n   'Finnish Social Science Data Archive',\n   'Repositorio de Datos Académicos Universidad Nacional de Rosario',\n   'Project on Human Development in Chicago Neighborhoods',\n   'TROLLing',\n   'Repository for Open Data (RepOD)',\n   'EASY',\n   'Better Access to Data for Global Interdisciplinary Research',\n   'Collaborative Psychiatric Epidemiology Surveys 2001 - 2003',\n   'IISH Dataverse',\n   'CESSDA Data Catalogue',\n   'DataverseNL',\n   'UA Campus Repository',\n   'DataverseNO',\n   'LSE Research Online',\n   'GESIS Data Archive',\n   'CORA. Repositori de Dades de Recerca',\n   'B2FIND',\n   'Data INRAE',\n   'SFU Radar',\n   'UCD Digital Library'],\n  'FGDC/CSDGM - Federal Geographic Data Committee Content Standard for Digital Geospatial Metadata': ['Research Data Archive at NCAR',\n   'NOAA National Centers for Environmental Information - World Data Service  for Oceanography']},\n 'NetCDF': {'': ['Goddard Earth Sciences Data and Information Services Center',\n   'Pacific Climate Impacts Consortium Data Portal',\n   'World Data Centre for Greenhouse Gases',\n   'IRI/LDEO Climate Data Library',\n   'NCAR Climate Analysis Section Data Catalog',\n   'Madrigal Database',\n   'NCAR UCAR Climate Data Guide',\n   'OzFlux',\n   'EURO-CORDEX 1989-2018 using TerrSysMP',\n   'AVISO+',\n   'DARECLIMED',\n   'NCEP/NCAR Reanalysis Project',\n   'WATCH',\n   'Atmospheric Chemistry Experiment',\n   'EMEP',\n   'TerMEx',\n   'MIPAS/Envisat Observations of Polar Stratospheric Clouds',\n   'Bolin Centre Database',\n   'EOS-EarthData',\n   'Coriolis',\n   'MERMeX',\n   'eartH2Observe',\n   'EOL',\n   'KNMI Climate Explorer',\n   'COSMIC Data Analysis and Archive Center',\n   'Remote Sensing Systems',\n   'AIRS/Aqua Observations of Gravity Waves',\n   'JPL Multi-angle Imaging SpectroRadiometer',\n   'TropFlux',\n   'EarthStat',\n   'Metlin'],\n  'DIF - Directory Interchange Format': ['Earthdata powered by EOSDIS',\n   'British Oceanographic Data Centre',\n   'Biological and Chemical Oceanography Data Management Office',\n   'ChArMEx database',\n   'MISTRALS database'],\n  'EML - Ecological Metadata Language': ['KNB Data Repository',\n   'TERN Data Discovery Portal'],\n  'Dublin Core': ['NAWI Water DAMS',\n   'British Oceanographic Data Centre',\n   'Biological and Chemical Oceanography Data Management Office',\n   'HydroShare',\n   'Centre for Environmental Data Analysis',\n   'MHKDR',\n   'OEDI',\n   'KNB Data Repository',\n   'MISTRALS database',\n   '4TU.ResearchData | science.engineering.design',\n   'Geothermal Data Repository'],\n  'RDF Data Cube Vocabulary': ['Oak Ridge National Laboratory Distributed Active Archive Center for Biogeochemical Dynamics'],\n  'CF (Climate and Forecast) Metadata Conventions': ['climate4impact',\n   'World Ocean Database',\n   'ECCAD - the GEIA database',\n   'GHRC',\n   'Oak Ridge National Laboratory Distributed Active Archive Center for Biogeochemical Dynamics',\n   'USGODAE Argo GDAC Data Browser',\n   'Earthdata powered by EOSDIS',\n   'The International Research Institute for Climate and Society',\n   'Ocean Observatories Initiative',\n   'ARM Data Center',\n   'HyMeX',\n   'Centre for Environmental Data Analysis',\n   'CESM Experiments',\n   'Boundary Layer Late Afternoon and Sunset Turbulence',\n   \"NOAA's climate data record program\",\n   'World Ocean Atlas',\n   'Copernicus Marine Environment Monitoring Service',\n   'Coupled Model Intercomparison Project',\n   'EBAS',\n   'OceanSITES',\n   '4TU.ResearchData | science.engineering.design',\n   'TERN Data Discovery Portal',\n   'IFREMER-SISMER Portail de données marines',\n   'SAMD',\n   'HALO database',\n   'ICTS SOCIB Data Repository',\n   'The CEDA Archive'],\n  'Darwin Core': ['TERN Data Discovery Portal'],\n  'ISO 19115': ['World Ocean Database',\n   'NOAA National Centers for Environmental Information - formerly: National Oceanographic Data Center',\n   'Precipitation Processing System',\n   'Earthdata powered by EOSDIS',\n   'NCI Data Portal',\n   'NAWI Water DAMS',\n   'Biological and Chemical Oceanography Data Management Office',\n   'IOWDB',\n   'ChArMEx database',\n   'Temperate Reef Base',\n   'SeaDataNet',\n   'MHKDR',\n   'e-Atlas',\n   'Global Terrestrial Network for Permafrost',\n   'OEDI',\n   'KNMI Data Platform',\n   'MISTRALS database',\n   'Australian Ocean Data Network Portal',\n   'Geothermal Data Repository',\n   'TERN Data Discovery Portal',\n   'ReefTEMPS',\n   'IFREMER-SISMER Portail de données marines',\n   'IOW Data Portal',\n   'PSD Climate and Weather Data',\n   'Coastal Data Information Program'],\n  'CIM - Common Information Model': ['climate4impact'],\n  'other': ['Precipitation Processing System', 'Geothermal Data Repository'],\n  'DCAT - Data Catalog Vocabulary': ['Biological and Chemical Oceanography Data Management Office',\n   'TERN Data Discovery Portal'],\n  'Repository-Developed Metadata Schemas': ['Earthdata powered by EOSDIS',\n   'Global Terrestrial Network for Permafrost',\n   'Cloud-Aerosol Lidar and Infrared Pathfinder Satellite Observations',\n   'CCHDO'],\n  'DataCite Metadata Schema': ['TCCON Data Archive',\n   'Community Data Portal',\n   '4TU.ResearchData | science.engineering.design',\n   'IFREMER-SISMER Portail de données marines',\n   'Climate Models'],\n  'FGDC/CSDGM - Federal Geographic Data Committee Content Standard for Digital Geospatial Metadata': ['NOAA National Centers for Environmental Information - formerly: National Oceanographic Data Center',\n   'ARM Data Center',\n   'NAWI Water DAMS',\n   'British Oceanographic Data Centre',\n   'CUAHSI',\n   'MHKDR',\n   'OEDI',\n   'Tropical Atmosphere Ocean Project',\n   'Geothermal Data Repository',\n   'Coastal Data Information Program']},\n 'other': {'': ['Jean Paul – Sämtliche Briefe digital',\n   'GLUES Geoportal',\n   'Southern California Earthquake Data Center',\n   'Saccharomyces Genome Database',\n   'IHEC Data Portal',\n   'Online Mendelian Inheritance in Man',\n   'CARMEN',\n   'SWISS-MODEL Repository',\n   'Allen Brain Atlas',\n   'Solar and Heliospheric Observatory',\n   'Das Deutsche Referenzkorpus',\n   'Mendeley Data',\n   'caArray',\n   'Citrination',\n   'FooDB',\n   'Worldwide Protein Data Bank',\n   'TROVE',\n   'National Agricultural Statistics Service',\n   'eKlima',\n   'PhysioBank',\n   'NCAR Climate Analysis Section Data Catalog',\n   'Edmonton Open Data',\n   'Madrigal Database',\n   'GAVO Data Centre',\n   'Moderate Resolution Imaging Spectroradiometer',\n   'EIDA',\n   'VirHostNet',\n   'CRAWDAD',\n   'Boola Boola Forest bird study',\n   'LinkedEarth Wiki',\n   'Database for Hydrological Time Series of Inland Waters',\n   'NASC',\n   'RADAM database portal',\n   'arrayMap',\n   \"City of Burlington's Open Data Catalogue\",\n   'EUROLAS Data Center',\n   'Center for Operational Oceanographic Products and Services',\n   'modENCODE',\n   'European Centre for Medium-Range Weather Forecasts',\n   'Malaria Atlas Project',\n   'United States Department of Agriculture, Economic Research Service, Data Products',\n   'Ensembl Metazoa',\n   'Niagara Open Data',\n   'The Adaptive Evolution Database',\n   'Open data and information Portal Canadian Space Agency',\n   'My Geo Hub',\n   'CDC WONDER',\n   'Junar',\n   'Image Data Resource',\n   'SIMBAD Astronomical Database',\n   'Ensembl Plants',\n   'Data.gov',\n   'Met office',\n   'BASS2000',\n   'IntAct',\n   'City of Toronto Open Data Portal',\n   'BioImage Archive',\n   'Canadian Watershed Information Network',\n   'DOE Data Explorer',\n   'Open Data Ottawa',\n   'Eumetsat',\n   'United States Census Bureau',\n   'Bacterial and Viral Bioinformatics Resource Center',\n   'HITRAN online',\n   'Avibase',\n   'Pitt Quantum Repository',\n   'Open Data Portal Russia',\n   'InnateDB',\n   'Open Science and Data Platform',\n   'Computational and Information Systems Laboratory Research Data Archive',\n   'The SuiteSparse Matrix Collection',\n   'Copernicus Space Component Data Access',\n   'NASA/IPAC InfraRed Science Archive',\n   'Emage',\n   'The Monarch Initiative',\n   'CosmoSim',\n   'HDAP',\n   'Ensembl Bacteria',\n   'Australian Urban Research Infrastructure Network',\n   'BrainMaps.org',\n   'Ensembl',\n   'Mouse Genome Informatics',\n   'ProteomicsDB',\n   'Software Heritage Archive',\n   'SeedMe',\n   'RADARSAT-1',\n   'Keck Observatory Archive',\n   'GNSS  - ISDC',\n   'Ensembl Fungi',\n   'Ensembl Protists',\n   'ClinVar',\n   'Ensembl Genomes',\n   'Facebook Data for Good',\n   'Genomic Data Commons',\n   'VIPERdb',\n   'Polar Geospatial Center',\n   'Kaggle',\n   'Progenetix',\n   'Registry of Open Data on AWS',\n   'Transparenzportal der Stadt Karlsruhe',\n   'Community Surface Dynamics Modeling System',\n   'Open Tree of Life',\n   'Systematic Review Data Repository',\n   'INTREPID bioinformatics',\n   'The Dataweb Dataverse',\n   'United States Health Information Knowledgebase',\n   'TheDataWeb',\n   'Canadian Astronomy Data Centre',\n   'Conserved Domain database',\n   'Alternative Fuels Data Center',\n   'US Department of Commerce, Bureau of Economic Analysis, Interactive Data',\n   'Internet Archive',\n   'TreeGenes',\n   'IDEAS',\n   'Access to Archival Databases',\n   'Regionaal Archief Tilburg',\n   'data.public.lu',\n   'NORPERM',\n   'National Data Repository',\n   'EarthChem Library',\n   'Toronto and Region Conservation Authority Open Data',\n   'NMDB',\n   'Remote Sensing Systems',\n   'TB Portals',\n   'Savannah',\n   'CATH',\n   'Center for Demography of Health and Aging',\n   \"Canada's Michael Smith Genome Sciences Centre\",\n   'SkyView',\n   'Regionaal Archief Alkmaar',\n   'ESTHER database',\n   'CancerData.org',\n   'HealthData.gov',\n   \"Concordia's Open Data\",\n   'AusGeochem',\n   'Biobanque québécoise de la COVID-19',\n   'City of Winnipeg Open Data Portal',\n   'BIRD',\n   'Virgo Millenium Database',\n   'Coronavirus Government Response Tracker',\n   'Weed Images',\n   'correspSearch - Search scholarly editions of letters',\n   'Open Data Portal - City of Kelowna',\n   \"Nasa's Data Portal\",\n   'eMaapõu',\n   'Phytozome',\n   'Old Bailey Proceedings Online',\n   'NASA Exoplanet Archive',\n   'iNaturalist.org',\n   'City of Barrie Data Portal',\n   'Deutsches Textarchiv',\n   'Plasma Physics Data Center',\n   'GERDA',\n   'TemplateFlow',\n   'National Geothermal Data System',\n   'The National Practitioner Data Bank',\n   'KIT Whole-Body Human Motion Database',\n   'Canadian Urban Data Repository',\n   'UNITE',\n   'DRA',\n   'Open Science Framework',\n   'The Lens',\n   'SinMin',\n   'GitHub',\n   'Historical hydrographic data from BSH'],\n  'MIBBI - Minimum Information for Biological and Biomedical Investigations': ['FlowRepository'],\n  'SPASE Data Model': ['Paris Astronomical Data Centre'],\n  'ABCD - Access to Biological Collection Data': ['ZFMK Biodiversity Data Center',\n   'National Weather Service, National Centers for Environmental Prediction'],\n  'ISA-Tab': ['RIN Data Repository', 'GigaDB'],\n  'CIF - Crystallographic Information Framework': ['Macromolecular Xtallography Raw Data Repository'],\n  'ISO 19115': ['Land Information New Zealand Data Service',\n   'Global Change Master Directory',\n   'World Ozone and Ultraviolet Radiation Data Centre',\n   'NOAA National Centers for Environmental Information - formerly: National Oceanographic Data Center',\n   'Ocean Biodiversity Information System',\n   'coastMap',\n   'ISRIC - World Soil Information',\n   'Environmental data explorer',\n   'MARGINS Data Portal',\n   'Land Resource Information Systems Portal',\n   'The World Atlas of Language Structures',\n   'Data.gov.au',\n   'Environmental Change Network',\n   'National Snow and Ice Data Center',\n   'NERC Data Catalogue Service',\n   'Research Computing and Data Services',\n   'Marine Geoscience Data System',\n   'EarthWorks',\n   'Ag Data Commons',\n   'Marine Data BC',\n   'AHEAD',\n   'Research Data Archive at NCAR',\n   'Collaborative Research Centre Transregio 32 Database',\n   'Environmental Information Data Centre',\n   'ICES data portal',\n   'Sextant',\n   'Open Government Canada - Open Data',\n   'IOW Data Portal',\n   'B2FIND',\n   'SHARE Geonetwork',\n   'Index to Marine & Lacustrine Geological Samples',\n   'NOAA National Centers for Environmental Information - World Data Service  for Oceanography',\n   'Coastal Data Information Program',\n   'DEIMS-SDR',\n   'Marlin Metadata Catalogue',\n   'BAW-Datenrepository'],\n  'SDMX - Statistical Data and Metadata Exchange': ['RIN Data Repository',\n   'Knoema'],\n  'other': ['ThermoML',\n   'MARGINS Data Portal',\n   'International Aid Transparency Initiative',\n   'German Federation for Biological Data',\n   'Leiden Open Variation Database',\n   'Repository for Open Data (RepOD)',\n   'CDAWeb',\n   'SHARE Geonetwork'],\n  'DataCite Metadata Schema': ['PetDB',\n   'OpenKIM',\n   'IIT Dataverse',\n   'Illinois Data Bank',\n   'ASU Library Research Data Repository',\n   'Astromaterials Data System',\n   'RIN Data Repository',\n   'Pandora',\n   'GIN',\n   'The Cambridge Structural Database',\n   'ZBW Journal Data Archive',\n   'Stanford Digital Repository',\n   'Social Data Repository (RDS)',\n   'University of Tasmania Research Data Portal',\n   'St. Francis Xavier University Dataverse',\n   'Macromolecular Xtallography Raw Data Repository',\n   'NREL Data Catalog',\n   'Plant Genomics and Phenomics Research Data Repository',\n   'INESC TEC Research Data Repository',\n   'GEOFON',\n   'IEDA',\n   'Ag Data Commons',\n   'Repository for Open Data (RepOD)',\n   'GigaDB',\n   'PUB Data Publications',\n   'AHEAD',\n   'Research Data Archive at NCAR',\n   'Collaborative Research Centre Transregio 32 Database',\n   'Résif Seismological Data Portal',\n   'Environmental Information Data Centre',\n   'DRYAD',\n   'ISRCTN Registry',\n   'PRISM Dataverse',\n   'FID move',\n   'Science Direct Repository Koszalin University of Technology',\n   'UCD Digital Library',\n   'Marine Scotland Data',\n   'DadosIPB',\n   'Oak Ridge Leadership Computing Facility Constellation Portal',\n   'MUSE-Wide'],\n  'DCAT - Data Catalog Vocabulary': ['European Union Open Data Portal',\n   'Data.gov.au',\n   'GOVDATA',\n   'Ag Data Commons',\n   'Health Data Research Innovation Gateway',\n   'Open Data by Socrata',\n   'Répertoire International des Sources Musicales (RISM)',\n   'depositar',\n   'Open Government Canada - Open Data',\n   'Marine Scotland Data',\n   'Arctic Permafrost Geospatial Centre'],\n  'Repository-Developed Metadata Schemas': ['eBird',\n   'World Glacier Monitoring Service',\n   'PDX Finder',\n   'Illinois Data Bank',\n   'ASU Library Research Data Repository',\n   'Europeana collections',\n   'Carbohydrate Structure Database',\n   'OCTOPUS database',\n   'Medienarchiv der Zürcher Hochschule der Künste',\n   'NeuroMorpho.Org',\n   'MaizeGDB',\n   'PDS',\n   'GNPS: Global Natural Product Social Molecular Networking',\n   'The Universal Protein Resource',\n   'MetPetDB',\n   'VAMDC Portal',\n   'Clinical Research Metadata Repository',\n   'GeneWeaver.org',\n   'Chemical Effects in Biological Systems',\n   'CCCA Data Server',\n   'Million Song Dataset',\n   'Canadian Database of Geochemical Surveys',\n   'Global Health Observatory Data Repository',\n   'FILER: Functional genomics repository',\n   'PHAIDRA - University of Padua',\n   'IUCN Red List of Threatened Species',\n   'Deep Carbon Observatory Data Portal',\n   'IMGT/GENE-DB',\n   'Bioconductor',\n   'dbSNP'],\n  'EML - Ecological Metadata Language': ['Ocean Biodiversity Information System',\n   'KNB Data Repository',\n   'German Federation for Biological Data',\n   'Research Computing and Data Services',\n   'Pôle National de Données de Biodiversité',\n   'Birdata',\n   'NOAA National Centers for Environmental Information - World Data Service  for Oceanography',\n   'DEIMS-SDR'],\n  'AVM - Astronomy Visualization Metadata': ['Paris Astronomical Data Centre'],\n  'Dublin Core': ['Land Information New Zealand Data Service',\n   'Global Change Master Directory',\n   'IIT Dataverse',\n   'ASU Library Research Data Repository',\n   'RIN Data Repository',\n   'Europeana collections',\n   'Brown Digital Repository',\n   'Hamburger Zentrum für Sprachkorpora Korpus Repositorium',\n   'ISRIC - World Soil Information',\n   'Stanford Digital Repository',\n   'Social Data Repository (RDS)',\n   'Pacific and Regional Archive for Digital Sources in Endangered Cultures',\n   'IPK Gatersleben',\n   'National Library of the Netherlands  e-depot',\n   'Agri-Environmental Research Data Repository Dataverse',\n   'Land Resource Information Systems Portal',\n   'European Union Open Data Portal',\n   'TIB Digital Long-Term Archive',\n   'St. Francis Xavier University Dataverse',\n   'Macromolecular Xtallography Raw Data Repository',\n   'Digitale Sammlungen der GWLB Hannover',\n   'Kielipankki',\n   'Wilson Center Digital Archive',\n   'Plant Genomics and Phenomics Research Data Repository',\n   'SFB 882 Forschungsdatenzentrum',\n   'KNB Data Repository',\n   'ScienceData',\n   'Bavarian Archive for Speech Signals',\n   'INESC TEC Research Data Repository',\n   'Barbara A. Mikulski Archive for Space Telescopes',\n   'Research Computing and Data Services',\n   'PAC - Archiving Platform CINES',\n   'ARCHE',\n   'e!DAL - electronic Data Archive Library',\n   'Marine Data BC',\n   'Repository for Open Data (RepOD)',\n   'GEOSS Portal',\n   'PUB Data Publications',\n   'AHEAD',\n   'Materials Cloud Archive',\n   'Research Data Archive at NCAR',\n   'Collaborative Research Centre Transregio 32 Database',\n   'Environmental Information Data Centre',\n   'PHAIDRA - University of Padua',\n   'TreeBASE',\n   'DRYAD',\n   'Deep Carbon Observatory Data Portal',\n   'PRISM Dataverse',\n   'B2FIND',\n   'CLARIN.SI repository',\n   'DNBLab',\n   'UCD Digital Library',\n   'York University Dataverse',\n   'DadosIPB'],\n  'RDF Data Cube Vocabulary': ['UniProtKB',\n   'Carbohydrate Structure Database',\n   'ICES data portal',\n   'DRYAD',\n   'OpenWorm'],\n  'CF (Climate and Forecast) Metadata Conventions': ['coastMap',\n   'Ocean Observatories Initiative',\n   'GEOSS Portal',\n   'Physical Oceanography Distributed Active Archive Center',\n   'EBAS',\n   'Satellite Application Facility on Climate Monitoring',\n   'National Weather Service, National Centers for Environmental Prediction'],\n  'Darwin Core': ['RIN Data Repository',\n   'Open Context',\n   'Ocean Biodiversity Information System',\n   'Atlas of Living Australia',\n   'VertNet',\n   'German Federation for Biological Data',\n   'Research Computing and Data Services',\n   'TreeBASE',\n   'Fishnet2',\n   'Marlin Metadata Catalogue'],\n  'DIF - Directory Interchange Format': ['Global Change Master Directory',\n   'National Snow and Ice Data Center',\n   'GEOSS Portal',\n   'Research Data Archive at NCAR',\n   'Physical Oceanography Distributed Active Archive Center',\n   'NOAA National Centers for Environmental Information - World Data Service  for Oceanography'],\n  'International Virtual Observatory Alliance Technical Specifications': ['RIN Data Repository',\n   'Paris Astronomical Data Centre',\n   'APPLAUSE',\n   'Barbara A. Mikulski Archive for Space Telescopes',\n   'Gaia@AIP',\n   'RAVE database',\n   'MUSE-Wide'],\n  'OAI-ORE - Open Archives Initiative Object Reuse and Exchange': ['IIT Dataverse',\n   'RIN Data Repository',\n   'Social Data Repository (RDS)',\n   'St. Francis Xavier University Dataverse',\n   'Macromolecular Xtallography Raw Data Repository',\n   'Repository for Open Data (RepOD)',\n   'DRYAD',\n   'PRISM Dataverse',\n   'CLARIN.SI repository'],\n  'CIM - Common Information Model': ['Earth System Grid Federation'],\n  'FITS - Flexible Image Transport System': ['Solar Dynamics Observatory',\n   'Paris Astronomical Data Centre',\n   'APPLAUSE'],\n  'DDI - Data Documentation Initiative': ['European Election Database',\n   'IIT Dataverse',\n   'ASU Library Research Data Repository',\n   'RIN Data Repository',\n   'Research Compendia',\n   'Harvard Dataverse',\n   'Social Data Repository (RDS)',\n   'Agri-Environmental Research Data Repository Dataverse',\n   'St. Francis Xavier University Dataverse',\n   'Macromolecular Xtallography Raw Data Repository',\n   'CfA Dataverses',\n   'Repository for Open Data (RepOD)',\n   'PRISM Dataverse',\n   'B2FIND',\n   'UCD Digital Library',\n   'York University Dataverse',\n   'DadosIPB',\n   'IBICT Cariniana Dataverse Network'],\n  'FGDC/CSDGM - Federal Geographic Data Committee Content Standard for Digital Geospatial Metadata': ['Land Information New Zealand Data Service',\n   'Global Change Master Directory',\n   'NOAA National Centers for Environmental Information - formerly: National Oceanographic Data Center',\n   'RIN Data Repository',\n   'Ocean Biodiversity Information System',\n   'ITIS',\n   'Land Resource Information Systems Portal',\n   'USGS Earthquake Hazards Program',\n   'National Snow and Ice Data Center',\n   'Research Computing and Data Services',\n   'Research Data Archive at NCAR',\n   'ICES data portal',\n   'VegBank',\n   'NOAA National Centers for Environmental Information - World Data Service  for Oceanography',\n   'Coastal Data Information Program',\n   'National Weather Service, National Centers for Environmental Prediction',\n   'Arctic Permafrost Geospatial Centre']},\n 'SOAP': {'': ['eKlima',\n   'FlyReactome',\n   'Expression Atlas',\n   'NASC',\n   'IndExs – Index of Exsiccatae',\n   'Center for Operational Oceanographic Products and Services',\n   'BioModels',\n   'Cell Centered Database',\n   'IPB MassBank',\n   'Junar',\n   'SIMBAD Astronomical Database',\n   'BRENDA',\n   'IntAct',\n   'The ACE Science Center',\n   'ConsensusPathDB',\n   'Autism Chromosome Rearrangement Database',\n   'PubChem',\n   'EMBL-EBI',\n   'Spanish CLARIN K-Centre',\n   'IRMA Portal',\n   'City of Regina Open Data',\n   'LAADS DAAC',\n   'NITRC',\n   'RDP',\n   'AnimalGenome.ORG',\n   'NOAA National Centers  for Environmental Information - formerly: National Climatic Data Center',\n   'Electron-Impact Excitation of Multicharged Ions using MEIBEL',\n   'European Chemical Biology Database',\n   'bii',\n   'BioVel',\n   'DNA Data Bank of Japan',\n   'DataFed',\n   'Electron-Impact Ionization of Multicharged Ions at ORNL',\n   'Space Physics Interactive Data Resource',\n   'UNdata',\n   'Golm Metabolome Database'],\n  'MIBBI - Minimum Information for Biological and Biomedical Investigations': ['MatrixDB'],\n  'International Virtual Observatory Alliance Technical Specifications': ['Barbara A. Mikulski Archive for Space Telescopes'],\n  'EML - Ecological Metadata Language': ['World Register of Marine Species',\n   'Biodiversity Exploratories Information System'],\n  'Dublin Core': ['TextGrid Repository',\n   'ClinicalTrials.gov',\n   'Barbara A. Mikulski Archive for Space Telescopes',\n   'World Register of Marine Species'],\n  'RDF Data Cube Vocabulary': ['Plant and Fungal Carbohydrate Structure Database',\n   'ICES data portal'],\n  'CF (Climate and Forecast) Metadata Conventions': ['World Register of Marine Species'],\n  'Darwin Core': ['World Register of Marine Species',\n   'Biodiversity Exploratories Information System'],\n  'ISO 19115': ['Environmental data explorer',\n   'International Earth Rotation and Reference Systems Service',\n   'SeaDataNet',\n   'ICES data portal',\n   'ReefTEMPS',\n   'Index to Marine & Lacustrine Geological Samples'],\n  'SDMX - Statistical Data and Metadata Exchange': ['Eurostat'],\n  'other': ['CDAWeb'],\n  'FITS - Flexible Image Transport System': ['Solar Dynamics Observatory'],\n  'Repository-Developed Metadata Schemas': ['NatureServe',\n   'Johns Hopkins Turbulence Databases',\n   'Biodiversity Exploratories Information System',\n   'ChEBI'],\n  'FGDC/CSDGM - Federal Geographic Data Committee Content Standard for Digital Geospatial Metadata': ['CUAHSI',\n   'ICES data portal']}}"
     },
     "execution_count": 136,
     "metadata": {},
     "output_type": "execute_result"
    }
   ],
   "source": [
    "node_edges"
   ],
   "metadata": {
    "collapsed": false,
    "ExecuteTime": {
     "end_time": "2023-08-18T09:29:11.820688096Z",
     "start_time": "2023-08-18T09:28:28.246935064Z"
    }
   }
  },
  {
   "cell_type": "code",
   "execution_count": 137,
   "outputs": [],
   "source": [
    "\n",
    "G = nx.Graph()\n",
    "\n",
    "# import igraph as ig\n",
    "G.add_nodes_from(list(repo_data[\"name\"].values))\n",
    "for i in [MD for MD in node_edges[\"OAI-PMH\"]]:\n",
    "    G.add_node(i, color=\"green\")\n",
    "G.add_edges_from(couple_node_data_analysis)"
   ],
   "metadata": {
    "collapsed": false,
    "ExecuteTime": {
     "end_time": "2023-08-18T09:29:11.820902824Z",
     "start_time": "2023-08-18T09:28:28.294780390Z"
    }
   }
  },
  {
   "cell_type": "code",
   "execution_count": 138,
   "outputs": [
    {
     "name": "stdout",
     "output_type": "stream",
     "text": [
      "3140 nodes / 133654 edges\n",
      "Duplicate edges are merged in an unique edge\n"
     ]
    }
   ],
   "source": [
    "print(str(len(G.nodes)) + \" nodes / \" + str(len(G.edges)) + \" edges\")\n",
    "print(\"Duplicate edges are merged in an unique edge\")"
   ],
   "metadata": {
    "collapsed": false,
    "ExecuteTime": {
     "end_time": "2023-08-18T09:29:11.822560218Z",
     "start_time": "2023-08-18T09:28:28.383994875Z"
    }
   }
  },
  {
   "cell_type": "markdown",
   "source": [
    "## Density of the graph : all nodes all edges"
   ],
   "metadata": {
    "collapsed": false
   }
  },
  {
   "cell_type": "code",
   "execution_count": 139,
   "outputs": [
    {
     "data": {
      "text/plain": "0.027120081652033286"
     },
     "execution_count": 139,
     "metadata": {},
     "output_type": "execute_result"
    }
   ],
   "source": [
    "nx.density(G)"
   ],
   "metadata": {
    "collapsed": false,
    "ExecuteTime": {
     "end_time": "2023-08-18T09:29:11.822887909Z",
     "start_time": "2023-08-18T09:28:28.384201842Z"
    }
   }
  },
  {
   "cell_type": "markdown",
   "source": [
    "## Mean degree in the graph : all nodes all edges"
   ],
   "metadata": {
    "collapsed": false
   }
  },
  {
   "cell_type": "code",
   "execution_count": 140,
   "outputs": [
    {
     "data": {
      "text/plain": "85.12993630573249"
     },
     "execution_count": 140,
     "metadata": {},
     "output_type": "execute_result"
    }
   ],
   "source": [
    "np.mean([d for _, d in G.degree()])"
   ],
   "metadata": {
    "collapsed": false,
    "ExecuteTime": {
     "end_time": "2023-08-18T09:29:11.823038842Z",
     "start_time": "2023-08-18T09:28:28.384352430Z"
    }
   }
  },
  {
   "cell_type": "code",
   "execution_count": 141,
   "outputs": [
    {
     "data": {
      "text/plain": "<Axes: ylabel='Frequency'>"
     },
     "execution_count": 141,
     "metadata": {},
     "output_type": "execute_result"
    },
    {
     "data": {
      "text/plain": "<Figure size 640x480 with 1 Axes>",
      "image/png": "[encoded data removed]"
     },
     "metadata": {},
     "output_type": "display_data"
    }
   ],
   "source": [
    "import matplotlib.pyplot as plt\n",
    "\n",
    "# plt.hist(pd.Series([d for _, d in G.degree()]), log=True)\n",
    "\n",
    "pd.Series([d for _, d in G.degree()]).plot(kind=\"hist\", logx=True, logy=True)\n"
   ],
   "metadata": {
    "collapsed": false,
    "ExecuteTime": {
     "end_time": "2023-08-18T09:29:11.823229609Z",
     "start_time": "2023-08-18T09:28:28.384484006Z"
    }
   }
  },
  {
   "cell_type": "markdown",
   "source": [
    "## Removing unconnected nodes"
   ],
   "metadata": {
    "collapsed": false
   }
  },
  {
   "cell_type": "code",
   "execution_count": 142,
   "outputs": [
    {
     "name": "stdout",
     "output_type": "stream",
     "text": [
      "1731\n"
     ]
    }
   ],
   "source": [
    "isolated_nodes = list(nx.isolates(G))\n",
    "print(len(isolated_nodes))"
   ],
   "metadata": {
    "collapsed": false,
    "ExecuteTime": {
     "end_time": "2023-08-18T09:29:11.823368366Z",
     "start_time": "2023-08-18T09:28:28.645774593Z"
    }
   }
  },
  {
   "cell_type": "code",
   "execution_count": 143,
   "outputs": [],
   "source": [
    "G.remove_nodes_from(isolated_nodes)\n"
   ],
   "metadata": {
    "collapsed": false,
    "ExecuteTime": {
     "end_time": "2023-08-18T09:29:11.823426601Z",
     "start_time": "2023-08-18T09:28:28.650684786Z"
    }
   }
  },
  {
   "cell_type": "code",
   "execution_count": 144,
   "outputs": [
    {
     "name": "stdout",
     "output_type": "stream",
     "text": [
      "1409 nodes / 133654 edges\n"
     ]
    }
   ],
   "source": [
    "print(str(len(G.nodes)) + \" nodes / \" + str(len(G.edges)) + \" edges\")\n"
   ],
   "metadata": {
    "collapsed": false,
    "ExecuteTime": {
     "end_time": "2023-08-18T09:29:11.823559655Z",
     "start_time": "2023-08-18T09:28:28.655076219Z"
    }
   }
  },
  {
   "cell_type": "markdown",
   "source": [
    "# Density without isolated nodes"
   ],
   "metadata": {
    "collapsed": false
   }
  },
  {
   "cell_type": "code",
   "execution_count": 145,
   "outputs": [
    {
     "data": {
      "text/plain": "0.13474054777727595"
     },
     "execution_count": 145,
     "metadata": {},
     "output_type": "execute_result"
    }
   ],
   "source": [
    "nx.density(G)"
   ],
   "metadata": {
    "collapsed": false,
    "ExecuteTime": {
     "end_time": "2023-08-18T09:29:11.823740289Z",
     "start_time": "2023-08-18T09:28:28.657480802Z"
    }
   }
  },
  {
   "cell_type": "markdown",
   "source": [
    "# Mean degree without isolated nodes"
   ],
   "metadata": {
    "collapsed": false
   }
  },
  {
   "cell_type": "code",
   "execution_count": 146,
   "outputs": [
    {
     "data": {
      "text/plain": "189.71469127040453"
     },
     "execution_count": 146,
     "metadata": {},
     "output_type": "execute_result"
    }
   ],
   "source": [
    "np.mean([d for _, d in G.degree()])"
   ],
   "metadata": {
    "collapsed": false,
    "ExecuteTime": {
     "end_time": "2023-08-18T09:29:11.823901810Z",
     "start_time": "2023-08-18T09:28:28.664344999Z"
    }
   }
  },
  {
   "cell_type": "markdown",
   "source": [
    "# Selecting data only on OAI-PMH : Knowledge sharing in Open Science"
   ],
   "metadata": {
    "collapsed": false
   }
  },
  {
   "cell_type": "code",
   "execution_count": 147,
   "outputs": [],
   "source": [
    "from itertools import combinations\n",
    "import random\n",
    "couple_node = []\n",
    "\n",
    "# for API in node_edges:\n",
    "for MD in node_edges[\"OAI-PMH\"]:\n",
    "    # if MD != \"Dublin Core\":\n",
    "        couple_node += list(set([tuple(sorted(x)) for x in combinations(node_edges[\"OAI-PMH\"][MD],2)]))\n",
    "    # for i in range(len(node_edges[\"OAI-PMH\"][MD])):\n",
    "        # couple_node.append((node_edges[\"OAI-PMH\"][MD][i], node_edges[\"OAI-PMH\"][MD][(i+1)%len(node_edges[\"OAI-PMH\"][MD])]))\n",
    "        # couple_node.append((node_edges[\"OAI-PMH\"][MD][i], node_edges[\"OAI-PMH\"][MD][(i+5)%len(node_edges[\"OAI-PMH\"][MD])] ))\n",
    "        # Exchange uncommented line with this one to get every edges\n",
    "        # couple_node.append((MD+\"-OAI-PMH\",node_edges[\"OAI-PMH\"][MD][i]))\n"
   ],
   "metadata": {
    "collapsed": false,
    "ExecuteTime": {
     "end_time": "2023-08-18T09:29:11.823987750Z",
     "start_time": "2023-08-18T09:28:28.667674439Z"
    }
   }
  },
  {
   "cell_type": "markdown",
   "source": [
    "# Graph creation : only on OAI-PMH"
   ],
   "metadata": {
    "collapsed": false
   }
  },
  {
   "cell_type": "code",
   "execution_count": 148,
   "outputs": [],
   "source": [
    "\n",
    "G_OAI = nx.Graph()\n",
    "\n",
    "# import igraph as ig\n",
    "G_OAI.add_nodes_from(list(repo_data[\"name\"].values))\n",
    "# Change color of node for OAI-PMH\n",
    "for i in [MD+\"-OAI-PMH\" for MD in node_edges[\"OAI-PMH\"]]:\n",
    "    G.add_node(i, color=\"green\")\n",
    "G_OAI.add_edges_from(couple_node)"
   ],
   "metadata": {
    "collapsed": false,
    "ExecuteTime": {
     "end_time": "2023-08-18T09:29:11.824057449Z",
     "start_time": "2023-08-18T09:28:28.679986260Z"
    }
   }
  },
  {
   "cell_type": "code",
   "execution_count": 149,
   "outputs": [
    {
     "name": "stdout",
     "output_type": "stream",
     "text": [
      "3116 nodes / 22179 edges\n"
     ]
    }
   ],
   "source": [
    "print(str(len(G_OAI.nodes)) + \" nodes / \" + str(len(G_OAI.edges)) + \" edges\")\n"
   ],
   "metadata": {
    "collapsed": false,
    "ExecuteTime": {
     "end_time": "2023-08-18T09:29:11.824181946Z",
     "start_time": "2023-08-18T09:28:28.724147361Z"
    }
   }
  },
  {
   "cell_type": "markdown",
   "source": [
    "# Graph density : only on OAI-PMH (knowledge sharing)"
   ],
   "metadata": {
    "collapsed": false
   }
  },
  {
   "cell_type": "code",
   "execution_count": 150,
   "outputs": [
    {
     "data": {
      "text/plain": "0.004570002699266665"
     },
     "execution_count": 150,
     "metadata": {},
     "output_type": "execute_result"
    }
   ],
   "source": [
    "nx.density(G_OAI)"
   ],
   "metadata": {
    "collapsed": false,
    "ExecuteTime": {
     "end_time": "2023-08-18T09:29:11.824400266Z",
     "start_time": "2023-08-18T09:28:28.724336098Z"
    }
   }
  },
  {
   "cell_type": "markdown",
   "source": [
    "# Mean degree :  only on OAI-PMH (knowledge sharing)"
   ],
   "metadata": {
    "collapsed": false
   }
  },
  {
   "cell_type": "code",
   "execution_count": 151,
   "outputs": [
    {
     "data": {
      "text/plain": "14.235558408215661"
     },
     "execution_count": 151,
     "metadata": {},
     "output_type": "execute_result"
    }
   ],
   "source": [
    "np.mean([d for _, d in G_OAI.degree()])"
   ],
   "metadata": {
    "collapsed": false,
    "ExecuteTime": {
     "end_time": "2023-08-18T09:29:11.824561750Z",
     "start_time": "2023-08-18T09:28:28.724428834Z"
    }
   }
  },
  {
   "cell_type": "markdown",
   "source": [
    "# Check if follow a power law"
   ],
   "metadata": {
    "collapsed": false
   }
  },
  {
   "cell_type": "code",
   "execution_count": 246,
   "outputs": [
    {
     "name": "stdout",
     "output_type": "stream",
     "text": [
      "            0\n",
      "count        \n",
      "0.016748    0\n",
      "0.004885    1\n",
      "0.000698    2\n",
      "0.002094    3\n",
      "0.002791    4\n",
      "...       ...\n",
      "0.002791  522\n",
      "0.000698  525\n",
      "0.000698  526\n",
      "0.005583  626\n",
      "0.000698  641\n",
      "\n",
      "[201 rows x 1 columns]\n"
     ]
    },
    {
     "data": {
      "text/plain": "<matplotlib.collections.PathCollection at 0x7f3bcf50e340>"
     },
     "execution_count": 246,
     "metadata": {},
     "output_type": "execute_result"
    },
    {
     "data": {
      "text/plain": "<Figure size 640x480 with 1 Axes>",
      "image/png": "[encoded data removed]"
     },
     "metadata": {},
     "output_type": "display_data"
    }
   ],
   "source": [
    "import powerlaw\n",
    "\n",
    "\n",
    "data = sorted([d for _, d in G.degree()])\n",
    "data = pd.Series(data)\n",
    "prob_degree = data.value_counts()/len(data)\n",
    "plot_df = pd.DataFrame(data.unique(),index=prob_degree.sort_index())\n",
    "print(plot_df)\n",
    "# results = powerlaw.Fit(data)\n",
    "# print(results.power_law.alpha)\n",
    "# print(results.power_law.xmin)\n",
    "# R, p = results.distribution_compare(\"power_law\",\"lognormal\")\n",
    "#\n",
    "plt.yscale(\"log\")\n",
    "plt.xscale(\"log\")\n",
    "plt.scatter(y=plot_df.index, x=plot_df)\n",
    "#\n",
    "#\n",
    "# print(prob_degree.sort_index())\n",
    "# print(data.unique())"
   ],
   "metadata": {
    "collapsed": false,
    "ExecuteTime": {
     "end_time": "2023-08-18T10:16:37.900492557Z",
     "start_time": "2023-08-18T10:16:37.586313441Z"
    }
   }
  },
  {
   "cell_type": "code",
   "execution_count": 225,
   "outputs": [
    {
     "name": "stderr",
     "output_type": "stream",
     "text": [
      "No artists with labels found to put in legend.  Note that artists whose label start with an underscore are ignored when legend() is called with no argument.\n"
     ]
    },
    {
     "data": {
      "text/plain": "<Figure size 1000x500 with 1 Axes>",
      "image/png": "[encoded data removed]"
     },
     "metadata": {},
     "output_type": "display_data"
    },
    {
     "data": {
      "text/plain": "<Figure size 1000x500 with 1 Axes>",
      "image/png": "[encoded data removed]"
     },
     "metadata": {},
     "output_type": "display_data"
    }
   ],
   "source": [
    "\n",
    "\n",
    "\n",
    "%matplotlib inline\n",
    "import numpy as np\n",
    "import pandas as pd\n",
    "import matplotlib.pyplot as plt\n",
    "from scipy.optimize import curve_fit\n",
    "data = sorted([d for _, d in G_OAI.degree()])\n",
    "data = pd.Series(data)\n",
    "prob_degree = data.value_counts()/len(data)\n",
    "\n",
    "df = pd.DataFrame({\n",
    "            'x': data.unique(),\n",
    "            'y': prob_degree.sort_index()\n",
    "        })\n",
    "df.plot(x='x', y='y', kind='line', style='--ro', figsize=(10, 5))\n",
    "\n",
    "def func_powerlaw(x, m, c, c0):\n",
    "    return c0 + x**m * c\n",
    "\n",
    "target_func = func_powerlaw\n",
    "\n",
    "X = df['x']\n",
    "y = df['y']\n",
    "\n",
    "popt, pcov = curve_fit(target_func, X, y)\n",
    "\n",
    "plt.figure(figsize=(10, 5))\n",
    "plt.plot(X, target_func(X, *popt), '--')\n",
    "plt.plot(X, y, 'ro')\n",
    "plt.yscale(\"log\")\n",
    "plt.xscale(\"log\")\n",
    "plt.legend()\n",
    "plt.show()\n",
    "\n",
    "\n",
    "\n",
    "x = np.asarray([ 1000, 3250, 5500, 10000, 32500, 55000, 77500, 100000, 200000 ])\n",
    "y = np.asarray([ 1100, 500, 288, 200, 113, 67, 52, 44, 5 ])\n",
    "\n",
    "sol1 = curve_fit(func_powerlaw, x, y, maxfev=2000 )\n",
    "sol2 = curve_fit(func_powerlaw, x, y, p0 = np.asarray([-1,10**5,0]))\n",
    "\n",
    "\n"
   ],
   "metadata": {
    "collapsed": false,
    "ExecuteTime": {
     "end_time": "2023-08-18T10:10:43.959672623Z",
     "start_time": "2023-08-18T10:10:43.459707725Z"
    }
   }
  },
  {
   "cell_type": "markdown",
   "source": [
    "## Removing isolated nodes : only on OAI-PMH (knowledge sharing)"
   ],
   "metadata": {
    "collapsed": false
   }
  },
  {
   "cell_type": "code",
   "execution_count": 117,
   "outputs": [
    {
     "name": "stdout",
     "output_type": "stream",
     "text": [
      "0\n"
     ]
    }
   ],
   "source": [
    "isolated_nodes = list(nx.isolates(G_OAI))\n",
    "print(len(isolated_nodes))"
   ],
   "metadata": {
    "collapsed": false,
    "ExecuteTime": {
     "end_time": "2023-08-02T13:18:48.635692708Z",
     "start_time": "2023-08-02T13:18:48.630225380Z"
    }
   }
  },
  {
   "cell_type": "code",
   "execution_count": 110,
   "outputs": [
    {
     "name": "stdout",
     "output_type": "stream",
     "text": [
      "290 nodes / 22179 edges\n"
     ]
    }
   ],
   "source": [
    "G_OAI.remove_nodes_from(isolated_nodes)\n",
    "print(str(len(G_OAI.nodes)) + \" nodes / \" + str(len(G_OAI.edges)) + \" edges\")\n"
   ],
   "metadata": {
    "collapsed": false,
    "ExecuteTime": {
     "end_time": "2023-08-02T12:46:48.037833902Z",
     "start_time": "2023-08-02T12:46:48.034838792Z"
    }
   }
  },
  {
   "cell_type": "markdown",
   "source": [
    "# Graph density without isolated nodes"
   ],
   "metadata": {
    "collapsed": false
   }
  },
  {
   "cell_type": "code",
   "execution_count": 113,
   "outputs": [
    {
     "data": {
      "text/plain": "0.529268583701229"
     },
     "execution_count": 113,
     "metadata": {},
     "output_type": "execute_result"
    }
   ],
   "source": [
    "nx.density(G_OAI)"
   ],
   "metadata": {
    "collapsed": false,
    "ExecuteTime": {
     "end_time": "2023-08-02T13:18:02.784339960Z",
     "start_time": "2023-08-02T13:18:02.742422784Z"
    }
   }
  },
  {
   "cell_type": "markdown",
   "source": [
    "# Mean degree without isolated nodes"
   ],
   "metadata": {
    "collapsed": false
   }
  },
  {
   "cell_type": "code",
   "execution_count": 121,
   "outputs": [
    {
     "data": {
      "text/plain": "152.95862068965516"
     },
     "execution_count": 121,
     "metadata": {},
     "output_type": "execute_result"
    }
   ],
   "source": [
    "np.mean([d for _, d in G_OAI.degree()])"
   ],
   "metadata": {
    "collapsed": false,
    "ExecuteTime": {
     "end_time": "2023-08-02T13:19:42.337491763Z",
     "start_time": "2023-08-02T13:19:42.334262711Z"
    }
   }
  },
  {
   "cell_type": "markdown",
   "source": [
    "# Degree distribution"
   ],
   "metadata": {
    "collapsed": false
   }
  },
  {
   "cell_type": "code",
   "execution_count": 123,
   "outputs": [
    {
     "data": {
      "text/plain": "<Axes: >"
     },
     "execution_count": 123,
     "metadata": {},
     "output_type": "execute_result"
    },
    {
     "data": {
      "text/plain": "<Figure size 640x480 with 1 Axes>",
      "image/png": "[encoded data removed]"
     },
     "metadata": {},
     "output_type": "display_data"
    }
   ],
   "source": [
    "\n",
    "\n",
    "pd.Series([d for _, d in G_OAI.degree()]).hist()"
   ],
   "metadata": {
    "collapsed": false,
    "ExecuteTime": {
     "end_time": "2023-08-02T13:20:13.575577333Z",
     "start_time": "2023-08-02T13:20:13.416043198Z"
    }
   }
  },
  {
   "cell_type": "markdown",
   "source": [
    "# Data viz\n",
    "## Selecting 2 edge"
   ],
   "metadata": {
    "collapsed": false
   }
  },
  {
   "cell_type": "code",
   "execution_count": null,
   "outputs": [],
   "source": [
    "from itertools import combinations\n",
    "import random\n",
    "couple_node = []\n",
    "\n",
    "for API in node_edges:\n",
    "    for MD in node_edges[API]:\n",
    "        # if MD != \"Dublin Core\":\n",
    "        #     couple_node += list(set([tuple(sorted(x)) for x in combinations(node_edges[API][MD],2)]))\n",
    "        for i in range(len(node_edges[API][MD])):\n",
    "            couple_node.append((node_edges[API][MD][i], node_edges[API][MD][(i+1)%len(node_edges[API][MD])]))\n",
    "            couple_node.append((node_edges[API][MD][i], node_edges[API][MD][(i+5)%len(node_edges[API][MD])] ))\n",
    "            # Exchange uncommented line with this one to get every edges\n",
    "            # couple_node.append((MD+\"-OAI-PMH\",node_edges[\"OAI-PMH\"][MD][i]))\n"
   ],
   "metadata": {
    "collapsed": false
   }
  },
  {
   "cell_type": "markdown",
   "source": [
    "## Plotting"
   ],
   "metadata": {
    "collapsed": false
   }
  },
  {
   "cell_type": "code",
   "execution_count": 110,
   "outputs": [],
   "source": [
    "\n",
    "G = nx.Graph()\n",
    "\n",
    "# import igraph as ig\n",
    "G.add_nodes_from(list(repo_data[\"name\"].values))\n",
    "for i in [MD+\"-OAI-PMH\" for MD in node_edges[\"OAI-PMH\"]]:\n",
    "    G.add_node(i, color=\"green\")\n",
    "G.add_edges_from(couple_node)\n",
    "# result_df = pd.read_csv(\"data_selection.csv\")\n",
    "# for repo in result_df.iloc:\n",
    "#     g_2.add_vertex(repo[\"name\"], color=\"blue\")\n",
    "# g_3.add_vertices(list(repo_data[\"name\"].values))\n",
    "# for i in [MD+\"-OAI-PMH\" for MD in node_edges[\"OAI-PMH\"]]:\n",
    "#     g_3.add_vertex(i)\n",
    "# g_3.add_edges(couple_node)\n",
    "\n",
    "print(nx.density(G))\n",
    "# installation easiest via pip:\n",
    "# pip install netgraph\n",
    "fig = plt.figure(figsize=(18,18))\n",
    "# create a modular graph\n",
    "partition_sizes = [10, 20, 30, 40]\n",
    "# g = nx.random_partition_graph(partition_sizes, 0.5, 0.1)\n",
    "g=G\n",
    "# since we created the graph, we know the best partition:\n",
    "# node_to_community = dict()\n",
    "# node = 0\n",
    "# for community_id, size in enumerate(partition_sizes):\n",
    "#     for _ in range(size):\n",
    "#         node_to_community[node] = community_id\n",
    "#         node += 1\n",
    "node_to_community = community_louvain.best_partition(G)\n",
    "\n",
    "# # alternatively, we can infer the best partition using Louvain:\n",
    "# from community import community_louvain\n",
    "# node_to_community = community_louvain.best_partition(g)\n",
    "res = {}\n",
    "for i in node_to_community:\n",
    "    if node_to_community[i] in res :\n",
    "        res[node_to_community[i]] += 1\n",
    "    else:\n",
    "        res[node_to_community[i]] = 1\n",
    "\n",
    "communities_unique = []\n",
    "for key in res :\n",
    "    if res[key]!=1:\n",
    "        communities_unique.append(key)\n",
    "\n",
    "\n",
    "for i in node_to_community:\n",
    "    if node_to_community[i] not in communities_unique:\n",
    "        node_to_community[i]=7\n",
    "\n",
    "# node_to_community\n",
    "# print(communities_unique)\n",
    "\n",
    "community_to_color = {\n",
    "    0 : 'tab:blue',\n",
    "    1 : 'tab:orange',\n",
    "    2 : 'tab:green',\n",
    "    3 : 'tab:red',\n",
    "    4 : 'tab:purple',\n",
    "    5 : 'tab:brown',\n",
    "    6 : 'tab:pink',\n",
    "    7 : 'tab:gray',\n",
    "    8 : 'tab:olive',\n",
    "    9 : 'tab:cyan'\n",
    "}\n",
    "aux = {key : index for index,key in enumerate(communities_unique) }\n",
    "node_color = { node :(community_to_color[aux[community_id]] if community_id in communities_unique else community_to_color[7]) for node, community_id in node_to_community.items() }\n",
    "# node_color = {node:    }\n",
    "\n",
    "#\n",
    "Graph(g,\n",
    "      node_color=node_color, node_edge_width=0, edge_alpha=0.1,\n",
    "        node_layout=\"community\", node_layout_kwargs=dict(node_to_community=node_to_community),\n",
    "      edge_layout='bundled', node_size=0.3\n",
    ")\n",
    "plt.savefig(\"community_allnode.pdf\")\n",
    "plt.show()"
   ],
   "metadata": {
    "collapsed": false,
    "ExecuteTime": {
     "end_time": "2023-08-02T12:20:30.735669466Z",
     "start_time": "2023-08-02T12:20:30.733203952Z"
    }
   }
  },
  {
   "cell_type": "code",
   "execution_count": 262,
   "outputs": [
    {
     "data": {
      "text/plain": "2                               641 results; 509 datasets\n6                                              3 datasets\n10                                         1.428 datasets\n11                                         1.246 datasets\n20               19 dataverses; 146 datasets: 4.512 files\n                              ...                        \n3063                        13 dataverses; 3.050 datasets\n3072                                          65 datasets\n3089    32.167 datasets; 15.142 maps; 1.146 galleries;...\n3098                           4.217 results; 55 datasets\n3115                                         217 datasets\nName: r3d:re3data.r3d:repository.r3d:size.#text, Length: 454, dtype: object"
     },
     "execution_count": 262,
     "metadata": {},
     "output_type": "execute_result"
    }
   ],
   "source": [
    "df_vol = pd.read_csv(\"results_repository_MD.csv\",header=0, low_memory=False)[\"r3d:re3data.r3d:repository.r3d:size.#text\"].dropna()\n",
    "\n",
    "df_vol[df_vol.map(lambda x : \"dataset\" in x )]"
   ],
   "metadata": {
    "collapsed": false,
    "ExecuteTime": {
     "end_time": "2023-08-18T10:29:23.779144116Z",
     "start_time": "2023-08-18T10:29:23.378838219Z"
    }
   }
  },
  {
   "cell_type": "code",
   "execution_count": 259,
   "outputs": [
    {
     "data": {
      "text/plain": "34      1.832 rokaryotic genomes; 996.747 16S/18S rRNA...\n42      9.641 human samples; 900 mouse samples; 828.35...\n100     over 20.000 meters of deep-sea core sediment a...\n252                             52000 samples, 50 species\n267     sample of more than 12,000 persons of the thre...\n347     8 Germplasm; 13 biological sample; 8 animal mo...\n361                                         2.155 samples\n448     8.534 Unoriented High Resolution Raman Spectra...\n676     33.543 studies; 53.160 biosamples; 235.292 seq...\n751                     1.250 samples; 2.418 measurements\n794     515 biobanks with over 60 million biological s...\n1046     3.692 studies; 215.970 samples; 280.606 analyses\n1121    69 standard, non-diseased samples as well as t...\n1201    4.901 projects; 735.895 samples submitted by 4...\n1439                               over 3 million samples\n1674                             more than 30.000 samples\n1730    2.183.180 analyses; 614.620 samples; 20.430 pa...\n1968    331.359 adult participant volunteers; 1.000.00...\n1997                        390 human whole brain samples\n2387    more than 14,000 archived marine geological sa...\n2472         2.599 samples; 908 reactions; 8.185 analyses\n2710    582.889 projects;  582.889 samples; 19.320.674...\n2802               1.208 samples of exome sequencing data\nName: r3d:re3data.r3d:repository.r3d:size.#text, dtype: object"
     },
     "execution_count": 259,
     "metadata": {},
     "output_type": "execute_result"
    }
   ],
   "source": [
    "\n",
    "df_vol[df_vol.map(lambda x : \"sample\" in x )]"
   ],
   "metadata": {
    "collapsed": false,
    "ExecuteTime": {
     "end_time": "2023-08-18T10:29:13.913178137Z",
     "start_time": "2023-08-18T10:29:13.867011635Z"
    }
   }
  },
  {
   "cell_type": "code",
   "execution_count": null,
   "outputs": [],
   "source": [],
   "metadata": {
    "collapsed": false
   }
  }
 ],
 "metadata": {
  "kernelspec": {
   "display_name": "Python 3",
   "language": "python",
   "name": "python3"
  },
  "language_info": {
   "codemirror_mode": {
    "name": "ipython",
    "version": 2
   },
   "file_extension": ".py",
   "mimetype": "text/x-python",
   "name": "python",
   "nbconvert_exporter": "python",
   "pygments_lexer": "ipython2",
   "version": "2.7.6"
  }
 },
 "nbformat": 4,
 "nbformat_minor": 0
}
